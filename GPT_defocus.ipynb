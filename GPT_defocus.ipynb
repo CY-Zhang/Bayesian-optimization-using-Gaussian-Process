{
 "cells": [
  {
   "cell_type": "markdown",
   "metadata": {},
   "source": [
    "# GP optimizer for Objective lens"
   ]
  },
  {
   "cell_type": "markdown",
   "metadata": {},
   "source": [
    "**Note**: In order to use it on a specific machine, you should build machine interface (setX and get_state functions).\n"
   ]
  },
  {
   "cell_type": "code",
   "execution_count": 1,
   "metadata": {},
   "outputs": [],
   "source": [
    "from __future__ import absolute_import\n",
    "from __future__ import division\n",
    "from __future__ import print_function\n",
    "import pickle\n",
    "import numpy as np\n",
    "from modules.bayes_optimization import BayesOpt, negUCB, negExpImprove\n",
    "from modules.OnlineGP import OGP\n",
    "import numpy as np\n",
    "import importlib\n",
    "import time\n",
    "import matplotlib.pyplot as plt\n",
    "from IPython.display import clear_output\n",
    "import sys\n",
    "import os\n",
    "sys.path.insert(1, '/home/chenyu/Desktop/Bayesian-optimization-using-Gaussian-Process/GPTrelated')\n",
    "saveResultsQ = False\n",
    "import scipy\n",
    "import tensorflow as tf"
   ]
  },
  {
   "cell_type": "code",
   "execution_count": 2,
   "metadata": {},
   "outputs": [],
   "source": [
    "gpus = tf.config.experimental.list_physical_devices('GPU')\n",
    "os.environ[\"CUDA_VISIBLE_DEVICES\"]=\"0\" # specify which GPU to use\n",
    "if gpus:\n",
    "  try:\n",
    "    for gpu in gpus:\n",
    "      tf.config.experimental.set_memory_growth(gpu, True)\n",
    "  except RuntimeError as e:\n",
    "    print(e)"
   ]
  },
  {
   "cell_type": "code",
   "execution_count": 32,
   "metadata": {},
   "outputs": [],
   "source": [
    "# free space from GPU device\n",
    "from numba import cuda\n",
    "cuda.select_device(0)\n",
    "cuda.close()"
   ]
  },
  {
   "cell_type": "markdown",
   "metadata": {},
   "source": [
    "### Creat the machine interface"
   ]
  },
  {
   "cell_type": "code",
   "execution_count": 11,
   "metadata": {},
   "outputs": [
    {
     "name": "stdout",
     "output_type": "stream",
     "text": [
      "Model loaded\n"
     ]
    }
   ],
   "source": [
    "ndim = 1 #input dimension, set to 2 for two hexapoles\n",
    "acquisition_delay = 0  #how long to wait between acquisitions- relevant for expriment, not for simulation\n",
    "\n",
    "dev_ids =  [str(x+1) for x in np.arange(ndim)] #creat device ids (just numbers)\n",
    "\n",
    "# Get the current for the other lenses\n",
    "x_low = np.asarray([1000, -20, 387000, -655000, -3.7515e6, 119000, 640000])\n",
    "x_high = np.asarray([2200, 20, 391000, -635000, -3.7495e6, 120300, 651000])\n",
    "start_point = [1.71752068e+03, 1.78770414e+01,  3.87928367e+05, -6.53798005e+05,-3.7505e6, 1.19847690e+05,  6.41397201e+05]\n",
    "lens = [(start_point - x_low)/(x_high - x_low)]\n",
    "\n",
    "start_point = [[0.5]]\n",
    "\n",
    "#creat machine interface\n",
    "mi_module = importlib.import_module('machine_interfaces.machine_interface_Defocus')\n",
    "# mi_module = importlib.import_module('multinormal')\n",
    "mi = mi_module.machine_interface(dev_ids = dev_ids, start_point = start_point, lens = lens)"
   ]
  },
  {
   "cell_type": "code",
   "execution_count": 13,
   "metadata": {},
   "outputs": [
    {
     "data": {
      "text/plain": [
       "array([0.5])"
      ]
     },
     "execution_count": 13,
     "metadata": {},
     "output_type": "execute_result"
    }
   ],
   "source": [
    "mi.setLens(lens)\n",
    "mi.x[0]"
   ]
  },
  {
   "cell_type": "code",
   "execution_count": 5,
   "metadata": {},
   "outputs": [
    {
     "name": "stdout",
     "output_type": "stream",
     "text": [
      "250000.0\n"
     ]
    },
    {
     "name": "stderr",
     "output_type": "stream",
     "text": [
      "/home/chenyu/anaconda3/lib/python3.7/site-packages/numpy/core/fromnumeric.py:3420: RuntimeWarning: Mean of empty slice.\n",
      "  out=out, **kwargs)\n",
      "/home/chenyu/anaconda3/lib/python3.7/site-packages/numpy/core/_methods.py:188: RuntimeWarning: invalid value encountered in double_scalars\n",
      "  ret = ret.dtype.type(ret / rcount)\n"
     ]
    },
    {
     "name": "stdout",
     "output_type": "stream",
     "text": [
      "Predicting defocus...\n",
      "saving ronchigram...\n"
     ]
    },
    {
     "data": {
      "text/plain": [
       "(array([[0.5]]), array([[0.08310765]]))"
      ]
     },
     "execution_count": 5,
     "metadata": {},
     "output_type": "execute_result"
    }
   ],
   "source": [
    "#check the reading objective is working\n",
    "mi.getState()"
   ]
  },
  {
   "cell_type": "markdown",
   "metadata": {},
   "source": [
    "### Create the gp"
   ]
  },
  {
   "cell_type": "code",
   "execution_count": 6,
   "metadata": {},
   "outputs": [],
   "source": [
    "# hyperparameters determined using GPy for emittance from CNN\n",
    "\n",
    "#TFGP\n",
    "gp_ls = np.array(np.ones(ndim)) * [0.317] \n",
    "gp_amp = 0.256\n",
    "gp_noise = 0.000253\n",
    "\n",
    "gp_precisionmat =  np.array(np.diag(1/(gp_ls**2)))\n",
    "ndim = len(dev_ids)\n",
    "hyperparams = {'precisionMatrix': gp_precisionmat, 'amplitude_covar': gp_amp, 'noise_variance': gp_noise} \n",
    "gp = OGP(ndim, hyperparams)"
   ]
  },
  {
   "cell_type": "markdown",
   "metadata": {},
   "source": [
    "### Create the BO"
   ]
  },
  {
   "cell_type": "code",
   "execution_count": 7,
   "metadata": {},
   "outputs": [
    {
     "name": "stdout",
     "output_type": "stream",
     "text": [
      "Supposed to be grabbing initial machine state...\n",
      "250000.0\n",
      "Predicting defocus...\n",
      "saving ronchigram...\n",
      "x_init [[0.5]]\n",
      "y_init [[0.08310765]]\n"
     ]
    }
   ],
   "source": [
    "#create the bayesian optimizer that will use the gp as the model to optimize the machine \n",
    "opt = BayesOpt(gp, mi, acq_func=\"UCB\", start_dev_vals = mi.x, dev_ids = dev_ids)\n",
    "opt.ucb_params = np.array([2, None])"
   ]
  },
  {
   "cell_type": "markdown",
   "metadata": {},
   "source": [
    "**Running BO**\n",
    "\n",
    "*run the gp search for some number of steps*"
   ]
  },
  {
   "cell_type": "code",
   "execution_count": 8,
   "metadata": {},
   "outputs": [
    {
     "name": "stdout",
     "output_type": "stream",
     "text": [
      "250000.0\n",
      "Predicting defocus...\n",
      "saving ronchigram...\n"
     ]
    }
   ],
   "source": [
    "Obj_state_s=[]\n",
    "Obj_state_s.append(mi.getState()[1][0]) # initialize Obj_state_s list with the initial objective value"
   ]
  },
  {
   "cell_type": "code",
   "execution_count": 9,
   "metadata": {
    "scrolled": false
   },
   "outputs": [
    {
     "name": "stderr",
     "output_type": "stream",
     "text": [
      "/home/chenyu/anaconda3/lib/python3.7/site-packages/numpy/core/_asarray.py:171: VisibleDeprecationWarning: Creating an ndarray from ragged nested sequences (which is a list-or-tuple of lists-or-tuples-or ndarrays with different lengths or shapes) is deprecated. If you meant to do this, you must specify 'dtype=object' when creating the ndarray.\n",
      "  return array(a, dtype, copy=False, order=order, subok=True)\n"
     ]
    },
    {
     "data": {
      "text/plain": [
       "<Figure size 288x288 with 0 Axes>"
      ]
     },
     "metadata": {},
     "output_type": "display_data"
    },
    {
     "data": {
      "image/png": "[encoded data removed]",
      "text/plain": [
       "<Figure size 1440x576 with 2 Axes>"
      ]
     },
     "metadata": {
      "needs_background": "light"
     },
     "output_type": "display_data"
    },
    {
     "name": "stderr",
     "output_type": "stream",
     "text": [
      "/home/chenyu/Desktop/Bayesian-optimization-using-Gaussian-Process/modules/OnlineGP.py:464: RuntimeWarning: invalid value encountered in add\n",
      "  K = K + x1_sum_sq + x2_sum_sq\n",
      "/home/chenyu/Desktop/Bayesian-optimization-using-Gaussian-Process/modules/OnlineGP.py:464: RuntimeWarning: invalid value encountered in add\n",
      "  K = K + x1_sum_sq + x2_sum_sq\n",
      "/home/chenyu/Desktop/Bayesian-optimization-using-Gaussian-Process/modules/OnlineGP.py:464: RuntimeWarning: invalid value encountered in add\n",
      "  K = K + x1_sum_sq + x2_sum_sq\n",
      "/home/chenyu/Desktop/Bayesian-optimization-using-Gaussian-Process/modules/OnlineGP.py:464: RuntimeWarning: invalid value encountered in add\n",
      "  K = K + x1_sum_sq + x2_sum_sq\n",
      "/home/chenyu/Desktop/Bayesian-optimization-using-Gaussian-Process/modules/OnlineGP.py:464: RuntimeWarning: invalid value encountered in add\n",
      "  K = K + x1_sum_sq + x2_sum_sq\n",
      "/home/chenyu/Desktop/Bayesian-optimization-using-Gaussian-Process/modules/parallelstuff.py:124: VisibleDeprecationWarning: Creating an ndarray from ragged nested sequences (which is a list-or-tuple of lists-or-tuples-or ndarrays with different lengths or shapes) is deprecated. If you meant to do this, you must specify 'dtype=object' when creating the ndarray.\n",
      "  res = np.array(res)\n"
     ]
    },
    {
     "name": "stdout",
     "output_type": "stream",
     "text": [
      "257507.67108662202\n"
     ]
    },
    {
     "name": "stderr",
     "output_type": "stream",
     "text": [
      "/home/chenyu/anaconda3/lib/python3.7/site-packages/numpy/core/fromnumeric.py:3420: RuntimeWarning: Mean of empty slice.\n",
      "  out=out, **kwargs)\n",
      "/home/chenyu/anaconda3/lib/python3.7/site-packages/numpy/core/_methods.py:188: RuntimeWarning: invalid value encountered in double_scalars\n",
      "  ret = ret.dtype.type(ret / rcount)\n"
     ]
    },
    {
     "name": "stdout",
     "output_type": "stream",
     "text": [
      "Predicting defocus...\n",
      "saving ronchigram...\n",
      "(array([1.75006274]), array([[0.89380275]]))\n"
     ]
    }
   ],
   "source": [
    "# Test over single starting point\n",
    "Niter = 20\n",
    "Status_array = np.zeros([Niter + 1])\n",
    "Status_array[0] = opt.current_x[0][0]\n",
    "\n",
    "Ronch_array = []\n",
    "\n",
    "for i in range(Niter):\n",
    "    \n",
    "    print ('iteration =', i)\n",
    "    fig = plt.figure(figsize=(4,4))\n",
    "    temp = np.load('ronchigram.npy')\n",
    "    Ronch_array.append(temp)\n",
    "    \n",
    "    clear_output(wait=True)\n",
    "\n",
    "    fig = plt.figure(figsize=[20,8])\n",
    "    plt.subplot(121)\n",
    "\n",
    "    plt.plot(Obj_state_s,'-',c='C0', label = 'Defocus')\n",
    "    plt.plot(Status_array,c='C1', label = 'Objective Lens')\n",
    "    plt.xticks(fontsize=16)\n",
    "    plt.yticks(fontsize=16)\n",
    "    plt.legend(fontsize=16)\n",
    "    plt.xlabel('Iteration #', fontsize = 16)\n",
    "    plt.ylabel('$\\epsilon_\\chi$ (pm\\u2022rad)', fontsize=16)\n",
    "\n",
    "    plt.subplot(122)\n",
    "    plt.imshow(temp)\n",
    "    plt.show()\n",
    "    \n",
    "    # Start of new iteration\n",
    "    temp = opt.OptIter() # save the new acquisition point and objective value\n",
    "    Obj_state_s.append(opt.best_seen()[1]) # save current best value\n",
    "    Status_array[i] = temp[0][0][0]\n",
    "    \n",
    "    print(opt.best_seen())"
   ]
  },
  {
   "cell_type": "code",
   "execution_count": 25,
   "metadata": {},
   "outputs": [
    {
     "data": {
      "text/plain": [
       "50"
      ]
     },
     "execution_count": 25,
     "metadata": {},
     "output_type": "execute_result"
    }
   ],
   "source": [
    "len(Obj_state_list)"
   ]
  },
  {
   "cell_type": "code",
   "execution_count": 24,
   "metadata": {},
   "outputs": [
    {
     "name": "stdout",
     "output_type": "stream",
     "text": [
      "Model loaded\n",
      "Supposed to be grabbing initial machine state...\n",
      "249561.17668146358\n",
      "Predicting defocus...\n",
      "saving ronchigram...\n",
      "x_init [[0.42686278]]\n",
      "y_init [[0.54549274]]\n"
     ]
    },
    {
     "name": "stderr",
     "output_type": "stream",
     "text": [
      "/home/chenyu/Desktop/Bayesian-optimization-using-Gaussian-Process/modules/OnlineGP.py:464: RuntimeWarning: invalid value encountered in add\n",
      "  K = K + x1_sum_sq + x2_sum_sq\n"
     ]
    },
    {
     "name": "stdout",
     "output_type": "stream",
     "text": [
      "248457.1551902283\n",
      "Predicting defocus...\n",
      "saving ronchigram...\n"
     ]
    },
    {
     "name": "stderr",
     "output_type": "stream",
     "text": [
      "/home/chenyu/Desktop/Bayesian-optimization-using-Gaussian-Process/modules/OnlineGP.py:464: RuntimeWarning: invalid value encountered in add\n",
      "  K = K + x1_sum_sq + x2_sum_sq\n",
      "/home/chenyu/Desktop/Bayesian-optimization-using-Gaussian-Process/modules/OnlineGP.py:464: RuntimeWarning: invalid value encountered in add\n",
      "  K = K + x1_sum_sq + x2_sum_sq\n"
     ]
    },
    {
     "name": "stdout",
     "output_type": "stream",
     "text": [
      "245873.35497987564\n",
      "Predicting defocus...\n",
      "saving ronchigram...\n"
     ]
    },
    {
     "name": "stderr",
     "output_type": "stream",
     "text": [
      "/home/chenyu/Desktop/Bayesian-optimization-using-Gaussian-Process/modules/OnlineGP.py:464: RuntimeWarning: invalid value encountered in add\n",
      "  K = K + x1_sum_sq + x2_sum_sq\n",
      "/home/chenyu/Desktop/Bayesian-optimization-using-Gaussian-Process/modules/OnlineGP.py:464: RuntimeWarning: invalid value encountered in add\n",
      "  K = K + x1_sum_sq + x2_sum_sq\n",
      "/home/chenyu/Desktop/Bayesian-optimization-using-Gaussian-Process/modules/OnlineGP.py:464: RuntimeWarning: invalid value encountered in add\n",
      "  K = K + x1_sum_sq + x2_sum_sq\n"
     ]
    },
    {
     "name": "stdout",
     "output_type": "stream",
     "text": [
      "251323.76287538125\n",
      "Predicting defocus...\n",
      "saving ronchigram...\n"
     ]
    },
    {
     "name": "stderr",
     "output_type": "stream",
     "text": [
      "/home/chenyu/Desktop/Bayesian-optimization-using-Gaussian-Process/modules/OnlineGP.py:464: RuntimeWarning: invalid value encountered in add\n",
      "  K = K + x1_sum_sq + x2_sum_sq\n",
      "/home/chenyu/Desktop/Bayesian-optimization-using-Gaussian-Process/modules/OnlineGP.py:464: RuntimeWarning: invalid value encountered in add\n",
      "  K = K + x1_sum_sq + x2_sum_sq\n",
      "/home/chenyu/Desktop/Bayesian-optimization-using-Gaussian-Process/modules/OnlineGP.py:464: RuntimeWarning: invalid value encountered in add\n",
      "  K = K + x1_sum_sq + x2_sum_sq\n"
     ]
    },
    {
     "name": "stdout",
     "output_type": "stream",
     "text": [
      "253231.79315057915\n",
      "Predicting defocus...\n",
      "saving ronchigram...\n"
     ]
    },
    {
     "name": "stderr",
     "output_type": "stream",
     "text": [
      "/home/chenyu/Desktop/Bayesian-optimization-using-Gaussian-Process/modules/OnlineGP.py:464: RuntimeWarning: invalid value encountered in add\n",
      "  K = K + x1_sum_sq + x2_sum_sq\n",
      "/home/chenyu/Desktop/Bayesian-optimization-using-Gaussian-Process/modules/OnlineGP.py:464: RuntimeWarning: invalid value encountered in add\n",
      "  K = K + x1_sum_sq + x2_sum_sq\n",
      "/home/chenyu/Desktop/Bayesian-optimization-using-Gaussian-Process/modules/OnlineGP.py:464: RuntimeWarning: invalid value encountered in add\n",
      "  K = K + x1_sum_sq + x2_sum_sq\n",
      "/home/chenyu/Desktop/Bayesian-optimization-using-Gaussian-Process/modules/OnlineGP.py:464: RuntimeWarning: invalid value encountered in add\n",
      "  K = K + x1_sum_sq + x2_sum_sq\n"
     ]
    },
    {
     "name": "stdout",
     "output_type": "stream",
     "text": [
      "255146.15743213415\n",
      "Predicting defocus...\n",
      "saving ronchigram...\n"
     ]
    },
    {
     "name": "stderr",
     "output_type": "stream",
     "text": [
      "/home/chenyu/Desktop/Bayesian-optimization-using-Gaussian-Process/modules/OnlineGP.py:464: RuntimeWarning: invalid value encountered in add\n",
      "  K = K + x1_sum_sq + x2_sum_sq\n",
      "/home/chenyu/Desktop/Bayesian-optimization-using-Gaussian-Process/modules/OnlineGP.py:464: RuntimeWarning: invalid value encountered in add\n",
      "  K = K + x1_sum_sq + x2_sum_sq\n",
      "/home/chenyu/Desktop/Bayesian-optimization-using-Gaussian-Process/modules/OnlineGP.py:464: RuntimeWarning: invalid value encountered in add\n",
      "  K = K + x1_sum_sq + x2_sum_sq\n",
      "/home/chenyu/Desktop/Bayesian-optimization-using-Gaussian-Process/modules/OnlineGP.py:464: RuntimeWarning: invalid value encountered in add\n",
      "  K = K + x1_sum_sq + x2_sum_sq\n"
     ]
    },
    {
     "name": "stdout",
     "output_type": "stream",
     "text": [
      "252431.70749111153\n",
      "Predicting defocus...\n",
      "saving ronchigram...\n"
     ]
    },
    {
     "name": "stderr",
     "output_type": "stream",
     "text": [
      "/home/chenyu/Desktop/Bayesian-optimization-using-Gaussian-Process/modules/OnlineGP.py:464: RuntimeWarning: invalid value encountered in add\n",
      "  K = K + x1_sum_sq + x2_sum_sq\n",
      "/home/chenyu/Desktop/Bayesian-optimization-using-Gaussian-Process/modules/OnlineGP.py:464: RuntimeWarning: invalid value encountered in add\n",
      "  K = K + x1_sum_sq + x2_sum_sq\n",
      "/home/chenyu/Desktop/Bayesian-optimization-using-Gaussian-Process/modules/OnlineGP.py:464: RuntimeWarning: invalid value encountered in add\n",
      "  K = K + x1_sum_sq + x2_sum_sq\n",
      "/home/chenyu/Desktop/Bayesian-optimization-using-Gaussian-Process/modules/OnlineGP.py:464: RuntimeWarning: invalid value encountered in add\n",
      "  K = K + x1_sum_sq + x2_sum_sq\n",
      "/home/chenyu/Desktop/Bayesian-optimization-using-Gaussian-Process/modules/OnlineGP.py:464: RuntimeWarning: invalid value encountered in add\n",
      "  K = K + x1_sum_sq + x2_sum_sq\n"
     ]
    },
    {
     "name": "stdout",
     "output_type": "stream",
     "text": [
      "252701.88254813474\n",
      "Predicting defocus...\n",
      "saving ronchigram...\n"
     ]
    },
    {
     "name": "stderr",
     "output_type": "stream",
     "text": [
      "/home/chenyu/Desktop/Bayesian-optimization-using-Gaussian-Process/modules/OnlineGP.py:464: RuntimeWarning: invalid value encountered in add\n",
      "  K = K + x1_sum_sq + x2_sum_sq\n",
      "/home/chenyu/Desktop/Bayesian-optimization-using-Gaussian-Process/modules/OnlineGP.py:464: RuntimeWarning: invalid value encountered in add\n",
      "  K = K + x1_sum_sq + x2_sum_sq\n",
      "/home/chenyu/Desktop/Bayesian-optimization-using-Gaussian-Process/modules/OnlineGP.py:464: RuntimeWarning: invalid value encountered in add\n",
      "  K = K + x1_sum_sq + x2_sum_sq\n",
      "/home/chenyu/Desktop/Bayesian-optimization-using-Gaussian-Process/modules/OnlineGP.py:464: RuntimeWarning: invalid value encountered in add\n",
      "  K = K + x1_sum_sq + x2_sum_sq\n",
      "/home/chenyu/Desktop/Bayesian-optimization-using-Gaussian-Process/modules/OnlineGP.py:464: RuntimeWarning: invalid value encountered in add\n",
      "  K = K + x1_sum_sq + x2_sum_sq\n"
     ]
    },
    {
     "name": "stdout",
     "output_type": "stream",
     "text": [
      "252735.5276230779\n",
      "Predicting defocus...\n",
      "saving ronchigram...\n"
     ]
    },
    {
     "name": "stderr",
     "output_type": "stream",
     "text": [
      "/home/chenyu/Desktop/Bayesian-optimization-using-Gaussian-Process/modules/OnlineGP.py:464: RuntimeWarning: invalid value encountered in add\n",
      "  K = K + x1_sum_sq + x2_sum_sq\n",
      "/home/chenyu/Desktop/Bayesian-optimization-using-Gaussian-Process/modules/OnlineGP.py:464: RuntimeWarning: invalid value encountered in add\n",
      "  K = K + x1_sum_sq + x2_sum_sq\n",
      "/home/chenyu/Desktop/Bayesian-optimization-using-Gaussian-Process/modules/OnlineGP.py:464: RuntimeWarning: invalid value encountered in add\n",
      "  K = K + x1_sum_sq + x2_sum_sq\n",
      "/home/chenyu/Desktop/Bayesian-optimization-using-Gaussian-Process/modules/OnlineGP.py:464: RuntimeWarning: invalid value encountered in add\n",
      "  K = K + x1_sum_sq + x2_sum_sq\n",
      "/home/chenyu/Desktop/Bayesian-optimization-using-Gaussian-Process/modules/OnlineGP.py:464: RuntimeWarning: invalid value encountered in add\n",
      "  K = K + x1_sum_sq + x2_sum_sq\n"
     ]
    },
    {
     "name": "stdout",
     "output_type": "stream",
     "text": [
      "252749.2498682747\n",
      "Predicting defocus...\n",
      "saving ronchigram...\n"
     ]
    },
    {
     "name": "stderr",
     "output_type": "stream",
     "text": [
      "/home/chenyu/Desktop/Bayesian-optimization-using-Gaussian-Process/modules/OnlineGP.py:464: RuntimeWarning: invalid value encountered in add\n",
      "  K = K + x1_sum_sq + x2_sum_sq\n",
      "/home/chenyu/Desktop/Bayesian-optimization-using-Gaussian-Process/modules/OnlineGP.py:464: RuntimeWarning: invalid value encountered in add\n",
      "  K = K + x1_sum_sq + x2_sum_sq\n",
      "/home/chenyu/Desktop/Bayesian-optimization-using-Gaussian-Process/modules/OnlineGP.py:464: RuntimeWarning: invalid value encountered in add\n",
      "  K = K + x1_sum_sq + x2_sum_sq\n",
      "/home/chenyu/Desktop/Bayesian-optimization-using-Gaussian-Process/modules/OnlineGP.py:464: RuntimeWarning: invalid value encountered in add\n",
      "  K = K + x1_sum_sq + x2_sum_sq\n",
      "/home/chenyu/Desktop/Bayesian-optimization-using-Gaussian-Process/modules/OnlineGP.py:464: RuntimeWarning: invalid value encountered in add\n",
      "  K = K + x1_sum_sq + x2_sum_sq\n"
     ]
    },
    {
     "name": "stdout",
     "output_type": "stream",
     "text": [
      "252752.38964122083\n",
      "Predicting defocus...\n",
      "saving ronchigram...\n",
      "8 Finished.\n",
      "Model loaded\n",
      "Supposed to be grabbing initial machine state...\n",
      "247597.99003781556\n",
      "Predicting defocus...\n",
      "saving ronchigram...\n",
      "x_init [[0.09966501]]\n",
      "y_init [[0.03453833]]\n"
     ]
    },
    {
     "name": "stderr",
     "output_type": "stream",
     "text": [
      "/home/chenyu/Desktop/Bayesian-optimization-using-Gaussian-Process/modules/OnlineGP.py:464: RuntimeWarning: invalid value encountered in add\n",
      "  K = K + x1_sum_sq + x2_sum_sq\n"
     ]
    },
    {
     "name": "stdout",
     "output_type": "stream",
     "text": [
      "246493.9685465803\n",
      "Predicting defocus...\n",
      "saving ronchigram...\n"
     ]
    },
    {
     "name": "stderr",
     "output_type": "stream",
     "text": [
      "/home/chenyu/Desktop/Bayesian-optimization-using-Gaussian-Process/modules/OnlineGP.py:464: RuntimeWarning: invalid value encountered in add\n",
      "  K = K + x1_sum_sq + x2_sum_sq\n",
      "/home/chenyu/Desktop/Bayesian-optimization-using-Gaussian-Process/modules/OnlineGP.py:464: RuntimeWarning: invalid value encountered in add\n",
      "  K = K + x1_sum_sq + x2_sum_sq\n"
     ]
    },
    {
     "name": "stdout",
     "output_type": "stream",
     "text": [
      "250717.3053466811\n",
      "Predicting defocus...\n",
      "saving ronchigram...\n"
     ]
    },
    {
     "name": "stderr",
     "output_type": "stream",
     "text": [
      "/home/chenyu/Desktop/Bayesian-optimization-using-Gaussian-Process/modules/OnlineGP.py:464: RuntimeWarning: invalid value encountered in add\n",
      "  K = K + x1_sum_sq + x2_sum_sq\n",
      "/home/chenyu/Desktop/Bayesian-optimization-using-Gaussian-Process/modules/OnlineGP.py:464: RuntimeWarning: invalid value encountered in add\n",
      "  K = K + x1_sum_sq + x2_sum_sq\n",
      "/home/chenyu/Desktop/Bayesian-optimization-using-Gaussian-Process/modules/OnlineGP.py:464: RuntimeWarning: invalid value encountered in add\n",
      "  K = K + x1_sum_sq + x2_sum_sq\n"
     ]
    },
    {
     "name": "stdout",
     "output_type": "stream",
     "text": [
      "254818.62471223308\n",
      "Predicting defocus...\n",
      "saving ronchigram...\n"
     ]
    },
    {
     "name": "stderr",
     "output_type": "stream",
     "text": [
      "/home/chenyu/Desktop/Bayesian-optimization-using-Gaussian-Process/modules/OnlineGP.py:464: RuntimeWarning: invalid value encountered in add\n",
      "  K = K + x1_sum_sq + x2_sum_sq\n",
      "/home/chenyu/Desktop/Bayesian-optimization-using-Gaussian-Process/modules/OnlineGP.py:464: RuntimeWarning: invalid value encountered in add\n",
      "  K = K + x1_sum_sq + x2_sum_sq\n",
      "/home/chenyu/Desktop/Bayesian-optimization-using-Gaussian-Process/modules/OnlineGP.py:464: RuntimeWarning: invalid value encountered in add\n",
      "  K = K + x1_sum_sq + x2_sum_sq\n",
      "/home/chenyu/Desktop/Bayesian-optimization-using-Gaussian-Process/modules/OnlineGP.py:464: RuntimeWarning: invalid value encountered in add\n",
      "  K = K + x1_sum_sq + x2_sum_sq\n"
     ]
    },
    {
     "name": "stdout",
     "output_type": "stream",
     "text": [
      "248611.66161469047\n",
      "Predicting defocus...\n",
      "saving ronchigram...\n"
     ]
    },
    {
     "name": "stderr",
     "output_type": "stream",
     "text": [
      "/home/chenyu/Desktop/Bayesian-optimization-using-Gaussian-Process/modules/OnlineGP.py:464: RuntimeWarning: invalid value encountered in add\n",
      "  K = K + x1_sum_sq + x2_sum_sq\n",
      "/home/chenyu/Desktop/Bayesian-optimization-using-Gaussian-Process/modules/OnlineGP.py:464: RuntimeWarning: invalid value encountered in add\n",
      "  K = K + x1_sum_sq + x2_sum_sq\n",
      "/home/chenyu/Desktop/Bayesian-optimization-using-Gaussian-Process/modules/OnlineGP.py:464: RuntimeWarning: invalid value encountered in add\n",
      "  K = K + x1_sum_sq + x2_sum_sq\n",
      "/home/chenyu/Desktop/Bayesian-optimization-using-Gaussian-Process/modules/OnlineGP.py:464: RuntimeWarning: invalid value encountered in add\n",
      "  K = K + x1_sum_sq + x2_sum_sq\n"
     ]
    },
    {
     "name": "stdout",
     "output_type": "stream",
     "text": [
      "256423.3053466811\n",
      "Predicting defocus...\n",
      "saving ronchigram...\n"
     ]
    },
    {
     "name": "stderr",
     "output_type": "stream",
     "text": [
      "/home/chenyu/Desktop/Bayesian-optimization-using-Gaussian-Process/modules/OnlineGP.py:464: RuntimeWarning: invalid value encountered in add\n",
      "  K = K + x1_sum_sq + x2_sum_sq\n",
      "/home/chenyu/Desktop/Bayesian-optimization-using-Gaussian-Process/modules/OnlineGP.py:464: RuntimeWarning: invalid value encountered in add\n",
      "  K = K + x1_sum_sq + x2_sum_sq\n",
      "/home/chenyu/Desktop/Bayesian-optimization-using-Gaussian-Process/modules/OnlineGP.py:464: RuntimeWarning: invalid value encountered in add\n",
      "  K = K + x1_sum_sq + x2_sum_sq\n",
      "/home/chenyu/Desktop/Bayesian-optimization-using-Gaussian-Process/modules/OnlineGP.py:464: RuntimeWarning: invalid value encountered in add\n",
      "  K = K + x1_sum_sq + x2_sum_sq\n"
     ]
    },
    {
     "name": "stdout",
     "output_type": "stream",
     "text": [
      "259853.70393997332\n",
      "Predicting defocus...\n",
      "saving ronchigram...\n"
     ]
    },
    {
     "name": "stderr",
     "output_type": "stream",
     "text": [
      "/home/chenyu/Desktop/Bayesian-optimization-using-Gaussian-Process/modules/OnlineGP.py:464: RuntimeWarning: invalid value encountered in add\n",
      "  K = K + x1_sum_sq + x2_sum_sq\n",
      "/home/chenyu/Desktop/Bayesian-optimization-using-Gaussian-Process/modules/OnlineGP.py:464: RuntimeWarning: invalid value encountered in add\n",
      "  K = K + x1_sum_sq + x2_sum_sq\n",
      "/home/chenyu/Desktop/Bayesian-optimization-using-Gaussian-Process/modules/OnlineGP.py:464: RuntimeWarning: invalid value encountered in add\n",
      "  K = K + x1_sum_sq + x2_sum_sq\n",
      "/home/chenyu/Desktop/Bayesian-optimization-using-Gaussian-Process/modules/OnlineGP.py:464: RuntimeWarning: invalid value encountered in add\n",
      "  K = K + x1_sum_sq + x2_sum_sq\n",
      "/home/chenyu/Desktop/Bayesian-optimization-using-Gaussian-Process/modules/OnlineGP.py:464: RuntimeWarning: invalid value encountered in add\n",
      "  K = K + x1_sum_sq + x2_sum_sq\n"
     ]
    },
    {
     "name": "stdout",
     "output_type": "stream",
     "text": [
      "261968.67386148399\n",
      "Predicting defocus...\n",
      "saving ronchigram...\n"
     ]
    },
    {
     "name": "stderr",
     "output_type": "stream",
     "text": [
      "/home/chenyu/Desktop/Bayesian-optimization-using-Gaussian-Process/modules/OnlineGP.py:464: RuntimeWarning: invalid value encountered in add\n",
      "  K = K + x1_sum_sq + x2_sum_sq\n",
      "/home/chenyu/Desktop/Bayesian-optimization-using-Gaussian-Process/modules/OnlineGP.py:464: RuntimeWarning: invalid value encountered in add\n",
      "  K = K + x1_sum_sq + x2_sum_sq\n",
      "/home/chenyu/Desktop/Bayesian-optimization-using-Gaussian-Process/modules/OnlineGP.py:464: RuntimeWarning: invalid value encountered in add\n",
      "  K = K + x1_sum_sq + x2_sum_sq\n",
      "/home/chenyu/Desktop/Bayesian-optimization-using-Gaussian-Process/modules/OnlineGP.py:464: RuntimeWarning: invalid value encountered in add\n",
      "  K = K + x1_sum_sq + x2_sum_sq\n",
      "/home/chenyu/Desktop/Bayesian-optimization-using-Gaussian-Process/modules/OnlineGP.py:464: RuntimeWarning: invalid value encountered in add\n",
      "  K = K + x1_sum_sq + x2_sum_sq\n"
     ]
    },
    {
     "name": "stdout",
     "output_type": "stream",
     "text": [
      "264248.89723240765\n",
      "Predicting defocus...\n",
      "saving ronchigram...\n"
     ]
    },
    {
     "name": "stderr",
     "output_type": "stream",
     "text": [
      "/home/chenyu/Desktop/Bayesian-optimization-using-Gaussian-Process/modules/OnlineGP.py:464: RuntimeWarning: invalid value encountered in add\n",
      "  K = K + x1_sum_sq + x2_sum_sq\n",
      "/home/chenyu/Desktop/Bayesian-optimization-using-Gaussian-Process/modules/OnlineGP.py:464: RuntimeWarning: invalid value encountered in add\n",
      "  K = K + x1_sum_sq + x2_sum_sq\n",
      "/home/chenyu/Desktop/Bayesian-optimization-using-Gaussian-Process/modules/OnlineGP.py:464: RuntimeWarning: invalid value encountered in add\n",
      "  K = K + x1_sum_sq + x2_sum_sq\n",
      "/home/chenyu/Desktop/Bayesian-optimization-using-Gaussian-Process/modules/OnlineGP.py:464: RuntimeWarning: invalid value encountered in add\n",
      "  K = K + x1_sum_sq + x2_sum_sq\n",
      "/home/chenyu/Desktop/Bayesian-optimization-using-Gaussian-Process/modules/OnlineGP.py:464: RuntimeWarning: invalid value encountered in add\n",
      "  K = K + x1_sum_sq + x2_sum_sq\n"
     ]
    },
    {
     "name": "stdout",
     "output_type": "stream",
     "text": [
      "260987.77658000248\n",
      "Predicting defocus...\n",
      "saving ronchigram...\n"
     ]
    },
    {
     "name": "stderr",
     "output_type": "stream",
     "text": [
      "/home/chenyu/Desktop/Bayesian-optimization-using-Gaussian-Process/modules/OnlineGP.py:464: RuntimeWarning: invalid value encountered in add\n",
      "  K = K + x1_sum_sq + x2_sum_sq\n",
      "/home/chenyu/Desktop/Bayesian-optimization-using-Gaussian-Process/modules/OnlineGP.py:464: RuntimeWarning: invalid value encountered in add\n",
      "  K = K + x1_sum_sq + x2_sum_sq\n",
      "/home/chenyu/Desktop/Bayesian-optimization-using-Gaussian-Process/modules/OnlineGP.py:464: RuntimeWarning: invalid value encountered in add\n",
      "  K = K + x1_sum_sq + x2_sum_sq\n",
      "/home/chenyu/Desktop/Bayesian-optimization-using-Gaussian-Process/modules/OnlineGP.py:464: RuntimeWarning: invalid value encountered in add\n",
      "  K = K + x1_sum_sq + x2_sum_sq\n",
      "/home/chenyu/Desktop/Bayesian-optimization-using-Gaussian-Process/modules/OnlineGP.py:464: RuntimeWarning: invalid value encountered in add\n",
      "  K = K + x1_sum_sq + x2_sum_sq\n"
     ]
    },
    {
     "name": "stdout",
     "output_type": "stream",
     "text": [
      "261035.16757163906\n",
      "Predicting defocus...\n",
      "saving ronchigram...\n",
      "9 Finished.\n",
      "Model loaded\n",
      "Supposed to be grabbing initial machine state...\n",
      "248322.9912937472\n",
      "Predicting defocus...\n",
      "saving ronchigram...\n",
      "x_init [[0.22049855]]\n",
      "y_init [[0.26938987]]\n"
     ]
    },
    {
     "name": "stderr",
     "output_type": "stream",
     "text": [
      "/home/chenyu/Desktop/Bayesian-optimization-using-Gaussian-Process/modules/OnlineGP.py:464: RuntimeWarning: invalid value encountered in add\n",
      "  K = K + x1_sum_sq + x2_sum_sq\n"
     ]
    },
    {
     "name": "stdout",
     "output_type": "stream",
     "text": [
      "247218.96980251197\n",
      "Predicting defocus...\n",
      "saving ronchigram...\n"
     ]
    },
    {
     "name": "stderr",
     "output_type": "stream",
     "text": [
      "/home/chenyu/Desktop/Bayesian-optimization-using-Gaussian-Process/modules/OnlineGP.py:464: RuntimeWarning: invalid value encountered in add\n",
      "  K = K + x1_sum_sq + x2_sum_sq\n",
      "/home/chenyu/Desktop/Bayesian-optimization-using-Gaussian-Process/modules/OnlineGP.py:464: RuntimeWarning: invalid value encountered in add\n",
      "  K = K + x1_sum_sq + x2_sum_sq\n"
     ]
    },
    {
     "name": "stdout",
     "output_type": "stream",
     "text": [
      "250326.2223285327\n",
      "Predicting defocus...\n",
      "saving ronchigram...\n"
     ]
    },
    {
     "name": "stderr",
     "output_type": "stream",
     "text": [
      "/home/chenyu/Desktop/Bayesian-optimization-using-Gaussian-Process/modules/OnlineGP.py:464: RuntimeWarning: invalid value encountered in add\n",
      "  K = K + x1_sum_sq + x2_sum_sq\n",
      "/home/chenyu/Desktop/Bayesian-optimization-using-Gaussian-Process/modules/OnlineGP.py:464: RuntimeWarning: invalid value encountered in add\n",
      "  K = K + x1_sum_sq + x2_sum_sq\n",
      "/home/chenyu/Desktop/Bayesian-optimization-using-Gaussian-Process/modules/OnlineGP.py:464: RuntimeWarning: invalid value encountered in add\n",
      "  K = K + x1_sum_sq + x2_sum_sq\n"
     ]
    },
    {
     "name": "stdout",
     "output_type": "stream",
     "text": [
      "252782.353714782\n",
      "Predicting defocus...\n",
      "saving ronchigram...\n"
     ]
    },
    {
     "name": "stderr",
     "output_type": "stream",
     "text": [
      "/home/chenyu/Desktop/Bayesian-optimization-using-Gaussian-Process/modules/OnlineGP.py:464: RuntimeWarning: invalid value encountered in add\n",
      "  K = K + x1_sum_sq + x2_sum_sq\n",
      "/home/chenyu/Desktop/Bayesian-optimization-using-Gaussian-Process/modules/OnlineGP.py:464: RuntimeWarning: invalid value encountered in add\n",
      "  K = K + x1_sum_sq + x2_sum_sq\n",
      "/home/chenyu/Desktop/Bayesian-optimization-using-Gaussian-Process/modules/OnlineGP.py:464: RuntimeWarning: invalid value encountered in add\n",
      "  K = K + x1_sum_sq + x2_sum_sq\n",
      "/home/chenyu/Desktop/Bayesian-optimization-using-Gaussian-Process/modules/OnlineGP.py:464: RuntimeWarning: invalid value encountered in add\n",
      "  K = K + x1_sum_sq + x2_sum_sq\n"
     ]
    },
    {
     "name": "stdout",
     "output_type": "stream",
     "text": [
      "254585.5365292214\n",
      "Predicting defocus...\n",
      "saving ronchigram...\n"
     ]
    },
    {
     "name": "stderr",
     "output_type": "stream",
     "text": [
      "/home/chenyu/Desktop/Bayesian-optimization-using-Gaussian-Process/modules/OnlineGP.py:464: RuntimeWarning: invalid value encountered in add\n",
      "  K = K + x1_sum_sq + x2_sum_sq\n",
      "/home/chenyu/Desktop/Bayesian-optimization-using-Gaussian-Process/modules/OnlineGP.py:464: RuntimeWarning: invalid value encountered in add\n",
      "  K = K + x1_sum_sq + x2_sum_sq\n",
      "/home/chenyu/Desktop/Bayesian-optimization-using-Gaussian-Process/modules/OnlineGP.py:464: RuntimeWarning: invalid value encountered in add\n",
      "  K = K + x1_sum_sq + x2_sum_sq\n",
      "/home/chenyu/Desktop/Bayesian-optimization-using-Gaussian-Process/modules/OnlineGP.py:464: RuntimeWarning: invalid value encountered in add\n",
      "  K = K + x1_sum_sq + x2_sum_sq\n",
      "/home/chenyu/Desktop/Bayesian-optimization-using-Gaussian-Process/modules/OnlineGP.py:464: RuntimeWarning: invalid value encountered in add\n",
      "  K = K + x1_sum_sq + x2_sum_sq\n"
     ]
    },
    {
     "name": "stdout",
     "output_type": "stream",
     "text": [
      "256612.54077233828\n",
      "Predicting defocus...\n",
      "saving ronchigram...\n"
     ]
    },
    {
     "name": "stderr",
     "output_type": "stream",
     "text": [
      "/home/chenyu/Desktop/Bayesian-optimization-using-Gaussian-Process/modules/OnlineGP.py:464: RuntimeWarning: invalid value encountered in add\n",
      "  K = K + x1_sum_sq + x2_sum_sq\n",
      "/home/chenyu/Desktop/Bayesian-optimization-using-Gaussian-Process/modules/OnlineGP.py:464: RuntimeWarning: invalid value encountered in add\n",
      "  K = K + x1_sum_sq + x2_sum_sq\n",
      "/home/chenyu/Desktop/Bayesian-optimization-using-Gaussian-Process/modules/OnlineGP.py:464: RuntimeWarning: invalid value encountered in add\n",
      "  K = K + x1_sum_sq + x2_sum_sq\n",
      "/home/chenyu/Desktop/Bayesian-optimization-using-Gaussian-Process/modules/OnlineGP.py:464: RuntimeWarning: invalid value encountered in add\n",
      "  K = K + x1_sum_sq + x2_sum_sq\n",
      "/home/chenyu/Desktop/Bayesian-optimization-using-Gaussian-Process/modules/OnlineGP.py:464: RuntimeWarning: invalid value encountered in add\n",
      "  K = K + x1_sum_sq + x2_sum_sq\n"
     ]
    },
    {
     "name": "stdout",
     "output_type": "stream",
     "text": [
      "253696.38127236132\n",
      "Predicting defocus...\n",
      "saving ronchigram...\n"
     ]
    },
    {
     "name": "stderr",
     "output_type": "stream",
     "text": [
      "/home/chenyu/Desktop/Bayesian-optimization-using-Gaussian-Process/modules/OnlineGP.py:464: RuntimeWarning: invalid value encountered in add\n",
      "  K = K + x1_sum_sq + x2_sum_sq\n",
      "/home/chenyu/Desktop/Bayesian-optimization-using-Gaussian-Process/modules/OnlineGP.py:464: RuntimeWarning: invalid value encountered in add\n",
      "  K = K + x1_sum_sq + x2_sum_sq\n",
      "/home/chenyu/Desktop/Bayesian-optimization-using-Gaussian-Process/modules/OnlineGP.py:464: RuntimeWarning: invalid value encountered in add\n",
      "  K = K + x1_sum_sq + x2_sum_sq\n",
      "/home/chenyu/Desktop/Bayesian-optimization-using-Gaussian-Process/modules/OnlineGP.py:464: RuntimeWarning: invalid value encountered in add\n",
      "  K = K + x1_sum_sq + x2_sum_sq\n",
      "/home/chenyu/Desktop/Bayesian-optimization-using-Gaussian-Process/modules/OnlineGP.py:464: RuntimeWarning: invalid value encountered in add\n",
      "  K = K + x1_sum_sq + x2_sum_sq\n"
     ]
    },
    {
     "name": "stdout",
     "output_type": "stream",
     "text": [
      "255332.41899794954\n",
      "Predicting defocus...\n",
      "saving ronchigram...\n"
     ]
    },
    {
     "name": "stderr",
     "output_type": "stream",
     "text": [
      "/home/chenyu/Desktop/Bayesian-optimization-using-Gaussian-Process/modules/OnlineGP.py:464: RuntimeWarning: invalid value encountered in add\n",
      "  K = K + x1_sum_sq + x2_sum_sq\n",
      "/home/chenyu/Desktop/Bayesian-optimization-using-Gaussian-Process/modules/OnlineGP.py:464: RuntimeWarning: invalid value encountered in add\n",
      "  K = K + x1_sum_sq + x2_sum_sq\n",
      "/home/chenyu/Desktop/Bayesian-optimization-using-Gaussian-Process/modules/OnlineGP.py:464: RuntimeWarning: invalid value encountered in add\n",
      "  K = K + x1_sum_sq + x2_sum_sq\n",
      "/home/chenyu/Desktop/Bayesian-optimization-using-Gaussian-Process/modules/OnlineGP.py:464: RuntimeWarning: invalid value encountered in add\n",
      "  K = K + x1_sum_sq + x2_sum_sq\n",
      "/home/chenyu/Desktop/Bayesian-optimization-using-Gaussian-Process/modules/OnlineGP.py:464: RuntimeWarning: invalid value encountered in add\n",
      "  K = K + x1_sum_sq + x2_sum_sq\n"
     ]
    },
    {
     "name": "stdout",
     "output_type": "stream",
     "text": [
      "254064.06342684894\n",
      "Predicting defocus...\n",
      "saving ronchigram...\n"
     ]
    },
    {
     "name": "stderr",
     "output_type": "stream",
     "text": [
      "/home/chenyu/Desktop/Bayesian-optimization-using-Gaussian-Process/modules/OnlineGP.py:464: RuntimeWarning: invalid value encountered in add\n",
      "  K = K + x1_sum_sq + x2_sum_sq\n",
      "/home/chenyu/Desktop/Bayesian-optimization-using-Gaussian-Process/modules/OnlineGP.py:464: RuntimeWarning: invalid value encountered in add\n",
      "  K = K + x1_sum_sq + x2_sum_sq\n",
      "/home/chenyu/Desktop/Bayesian-optimization-using-Gaussian-Process/modules/OnlineGP.py:464: RuntimeWarning: invalid value encountered in add\n",
      "  K = K + x1_sum_sq + x2_sum_sq\n",
      "/home/chenyu/Desktop/Bayesian-optimization-using-Gaussian-Process/modules/OnlineGP.py:464: RuntimeWarning: invalid value encountered in add\n",
      "  K = K + x1_sum_sq + x2_sum_sq\n",
      "/home/chenyu/Desktop/Bayesian-optimization-using-Gaussian-Process/modules/OnlineGP.py:464: RuntimeWarning: invalid value encountered in add\n",
      "  K = K + x1_sum_sq + x2_sum_sq\n"
     ]
    },
    {
     "name": "stdout",
     "output_type": "stream",
     "text": [
      "255033.22155196583\n",
      "Predicting defocus...\n",
      "saving ronchigram...\n"
     ]
    },
    {
     "name": "stderr",
     "output_type": "stream",
     "text": [
      "/home/chenyu/Desktop/Bayesian-optimization-using-Gaussian-Process/modules/OnlineGP.py:464: RuntimeWarning: invalid value encountered in add\n",
      "  K = K + x1_sum_sq + x2_sum_sq\n",
      "/home/chenyu/Desktop/Bayesian-optimization-using-Gaussian-Process/modules/OnlineGP.py:464: RuntimeWarning: invalid value encountered in add\n",
      "  K = K + x1_sum_sq + x2_sum_sq\n",
      "/home/chenyu/Desktop/Bayesian-optimization-using-Gaussian-Process/modules/OnlineGP.py:464: RuntimeWarning: invalid value encountered in add\n",
      "  K = K + x1_sum_sq + x2_sum_sq\n",
      "/home/chenyu/Desktop/Bayesian-optimization-using-Gaussian-Process/modules/OnlineGP.py:464: RuntimeWarning: invalid value encountered in add\n",
      "  K = K + x1_sum_sq + x2_sum_sq\n",
      "/home/chenyu/Desktop/Bayesian-optimization-using-Gaussian-Process/modules/OnlineGP.py:464: RuntimeWarning: invalid value encountered in add\n",
      "  K = K + x1_sum_sq + x2_sum_sq\n"
     ]
    },
    {
     "name": "stdout",
     "output_type": "stream",
     "text": [
      "254980.0200829697\n",
      "Predicting defocus...\n",
      "saving ronchigram...\n",
      "10 Finished.\n",
      "Model loaded\n",
      "Supposed to be grabbing initial machine state...\n",
      "252749.62933624053\n",
      "Predicting defocus...\n",
      "saving ronchigram...\n",
      "x_init [[0.95827156]]\n",
      "y_init [[0.03048044]]\n"
     ]
    },
    {
     "name": "stderr",
     "output_type": "stream",
     "text": [
      "/home/chenyu/Desktop/Bayesian-optimization-using-Gaussian-Process/modules/OnlineGP.py:464: RuntimeWarning: invalid value encountered in add\n",
      "  K = K + x1_sum_sq + x2_sum_sq\n"
     ]
    },
    {
     "name": "stdout",
     "output_type": "stream",
     "text": [
      "251645.60784500526\n",
      "Predicting defocus...\n",
      "saving ronchigram...\n"
     ]
    },
    {
     "name": "stderr",
     "output_type": "stream",
     "text": [
      "/home/chenyu/Desktop/Bayesian-optimization-using-Gaussian-Process/modules/OnlineGP.py:464: RuntimeWarning: invalid value encountered in add\n",
      "  K = K + x1_sum_sq + x2_sum_sq\n",
      "/home/chenyu/Desktop/Bayesian-optimization-using-Gaussian-Process/modules/OnlineGP.py:464: RuntimeWarning: invalid value encountered in add\n",
      "  K = K + x1_sum_sq + x2_sum_sq\n"
     ]
    },
    {
     "name": "stdout",
     "output_type": "stream",
     "text": [
      "247202.84564568094\n",
      "Predicting defocus...\n",
      "saving ronchigram...\n"
     ]
    },
    {
     "name": "stderr",
     "output_type": "stream",
     "text": [
      "/home/chenyu/Desktop/Bayesian-optimization-using-Gaussian-Process/modules/OnlineGP.py:464: RuntimeWarning: invalid value encountered in add\n",
      "  K = K + x1_sum_sq + x2_sum_sq\n",
      "/home/chenyu/Desktop/Bayesian-optimization-using-Gaussian-Process/modules/OnlineGP.py:464: RuntimeWarning: invalid value encountered in add\n",
      "  K = K + x1_sum_sq + x2_sum_sq\n",
      "/home/chenyu/Desktop/Bayesian-optimization-using-Gaussian-Process/modules/OnlineGP.py:464: RuntimeWarning: invalid value encountered in add\n",
      "  K = K + x1_sum_sq + x2_sum_sq\n"
     ]
    },
    {
     "name": "stdout",
     "output_type": "stream",
     "text": [
      "256119.01855893154\n",
      "Predicting defocus...\n",
      "saving ronchigram...\n"
     ]
    },
    {
     "name": "stderr",
     "output_type": "stream",
     "text": [
      "/home/chenyu/Desktop/Bayesian-optimization-using-Gaussian-Process/modules/OnlineGP.py:464: RuntimeWarning: invalid value encountered in add\n",
      "  K = K + x1_sum_sq + x2_sum_sq\n",
      "/home/chenyu/Desktop/Bayesian-optimization-using-Gaussian-Process/modules/OnlineGP.py:464: RuntimeWarning: invalid value encountered in add\n",
      "  K = K + x1_sum_sq + x2_sum_sq\n",
      "/home/chenyu/Desktop/Bayesian-optimization-using-Gaussian-Process/modules/OnlineGP.py:464: RuntimeWarning: invalid value encountered in add\n",
      "  K = K + x1_sum_sq + x2_sum_sq\n",
      "/home/chenyu/Desktop/Bayesian-optimization-using-Gaussian-Process/modules/OnlineGP.py:464: RuntimeWarning: invalid value encountered in add\n",
      "  K = K + x1_sum_sq + x2_sum_sq\n"
     ]
    },
    {
     "name": "stdout",
     "output_type": "stream",
     "text": [
      "259730.64030099552\n",
      "Predicting defocus...\n",
      "saving ronchigram...\n"
     ]
    },
    {
     "name": "stderr",
     "output_type": "stream",
     "text": [
      "/home/chenyu/Desktop/Bayesian-optimization-using-Gaussian-Process/modules/OnlineGP.py:464: RuntimeWarning: invalid value encountered in add\n",
      "  K = K + x1_sum_sq + x2_sum_sq\n",
      "/home/chenyu/Desktop/Bayesian-optimization-using-Gaussian-Process/modules/OnlineGP.py:464: RuntimeWarning: invalid value encountered in add\n",
      "  K = K + x1_sum_sq + x2_sum_sq\n",
      "/home/chenyu/Desktop/Bayesian-optimization-using-Gaussian-Process/modules/OnlineGP.py:464: RuntimeWarning: invalid value encountered in add\n",
      "  K = K + x1_sum_sq + x2_sum_sq\n",
      "/home/chenyu/Desktop/Bayesian-optimization-using-Gaussian-Process/modules/OnlineGP.py:464: RuntimeWarning: invalid value encountered in add\n",
      "  K = K + x1_sum_sq + x2_sum_sq\n"
     ]
    },
    {
     "name": "stdout",
     "output_type": "stream",
     "text": [
      "262022.50634349382\n",
      "Predicting defocus...\n",
      "saving ronchigram...\n"
     ]
    },
    {
     "name": "stderr",
     "output_type": "stream",
     "text": [
      "/home/chenyu/Desktop/Bayesian-optimization-using-Gaussian-Process/modules/OnlineGP.py:464: RuntimeWarning: invalid value encountered in add\n",
      "  K = K + x1_sum_sq + x2_sum_sq\n",
      "/home/chenyu/Desktop/Bayesian-optimization-using-Gaussian-Process/modules/OnlineGP.py:464: RuntimeWarning: invalid value encountered in add\n",
      "  K = K + x1_sum_sq + x2_sum_sq\n",
      "/home/chenyu/Desktop/Bayesian-optimization-using-Gaussian-Process/modules/OnlineGP.py:464: RuntimeWarning: invalid value encountered in add\n",
      "  K = K + x1_sum_sq + x2_sum_sq\n",
      "/home/chenyu/Desktop/Bayesian-optimization-using-Gaussian-Process/modules/OnlineGP.py:464: RuntimeWarning: invalid value encountered in add\n",
      "  K = K + x1_sum_sq + x2_sum_sq\n",
      "/home/chenyu/Desktop/Bayesian-optimization-using-Gaussian-Process/modules/OnlineGP.py:464: RuntimeWarning: invalid value encountered in add\n",
      "  K = K + x1_sum_sq + x2_sum_sq\n"
     ]
    },
    {
     "name": "stdout",
     "output_type": "stream",
     "text": [
      "264752.25237874576\n",
      "Predicting defocus...\n",
      "saving ronchigram...\n"
     ]
    },
    {
     "name": "stderr",
     "output_type": "stream",
     "text": [
      "/home/chenyu/Desktop/Bayesian-optimization-using-Gaussian-Process/modules/OnlineGP.py:464: RuntimeWarning: invalid value encountered in add\n",
      "  K = K + x1_sum_sq + x2_sum_sq\n",
      "/home/chenyu/Desktop/Bayesian-optimization-using-Gaussian-Process/modules/OnlineGP.py:464: RuntimeWarning: invalid value encountered in add\n",
      "  K = K + x1_sum_sq + x2_sum_sq\n",
      "/home/chenyu/Desktop/Bayesian-optimization-using-Gaussian-Process/modules/OnlineGP.py:464: RuntimeWarning: invalid value encountered in add\n",
      "  K = K + x1_sum_sq + x2_sum_sq\n",
      "/home/chenyu/Desktop/Bayesian-optimization-using-Gaussian-Process/modules/OnlineGP.py:464: RuntimeWarning: invalid value encountered in add\n",
      "  K = K + x1_sum_sq + x2_sum_sq\n",
      "/home/chenyu/Desktop/Bayesian-optimization-using-Gaussian-Process/modules/OnlineGP.py:464: RuntimeWarning: invalid value encountered in add\n",
      "  K = K + x1_sum_sq + x2_sum_sq\n"
     ]
    },
    {
     "name": "stdout",
     "output_type": "stream",
     "text": [
      "260850.1736345325\n",
      "Predicting defocus...\n",
      "saving ronchigram...\n"
     ]
    },
    {
     "name": "stderr",
     "output_type": "stream",
     "text": [
      "/home/chenyu/Desktop/Bayesian-optimization-using-Gaussian-Process/modules/OnlineGP.py:464: RuntimeWarning: invalid value encountered in add\n",
      "  K = K + x1_sum_sq + x2_sum_sq\n",
      "/home/chenyu/Desktop/Bayesian-optimization-using-Gaussian-Process/modules/OnlineGP.py:464: RuntimeWarning: invalid value encountered in add\n",
      "  K = K + x1_sum_sq + x2_sum_sq\n",
      "/home/chenyu/Desktop/Bayesian-optimization-using-Gaussian-Process/modules/OnlineGP.py:464: RuntimeWarning: invalid value encountered in add\n",
      "  K = K + x1_sum_sq + x2_sum_sq\n",
      "/home/chenyu/Desktop/Bayesian-optimization-using-Gaussian-Process/modules/OnlineGP.py:464: RuntimeWarning: invalid value encountered in add\n",
      "  K = K + x1_sum_sq + x2_sum_sq\n",
      "/home/chenyu/Desktop/Bayesian-optimization-using-Gaussian-Process/modules/OnlineGP.py:464: RuntimeWarning: invalid value encountered in add\n",
      "  K = K + x1_sum_sq + x2_sum_sq\n"
     ]
    },
    {
     "name": "stdout",
     "output_type": "stream",
     "text": [
      "260850.24194458514\n",
      "Predicting defocus...\n",
      "saving ronchigram...\n"
     ]
    },
    {
     "name": "stderr",
     "output_type": "stream",
     "text": [
      "/home/chenyu/Desktop/Bayesian-optimization-using-Gaussian-Process/modules/OnlineGP.py:464: RuntimeWarning: invalid value encountered in add\n",
      "  K = K + x1_sum_sq + x2_sum_sq\n",
      "/home/chenyu/Desktop/Bayesian-optimization-using-Gaussian-Process/modules/OnlineGP.py:464: RuntimeWarning: invalid value encountered in add\n",
      "  K = K + x1_sum_sq + x2_sum_sq\n",
      "/home/chenyu/Desktop/Bayesian-optimization-using-Gaussian-Process/modules/OnlineGP.py:464: RuntimeWarning: invalid value encountered in add\n",
      "  K = K + x1_sum_sq + x2_sum_sq\n",
      "/home/chenyu/Desktop/Bayesian-optimization-using-Gaussian-Process/modules/OnlineGP.py:464: RuntimeWarning: invalid value encountered in add\n",
      "  K = K + x1_sum_sq + x2_sum_sq\n",
      "/home/chenyu/Desktop/Bayesian-optimization-using-Gaussian-Process/modules/OnlineGP.py:464: RuntimeWarning: invalid value encountered in add\n",
      "  K = K + x1_sum_sq + x2_sum_sq\n"
     ]
    },
    {
     "name": "stdout",
     "output_type": "stream",
     "text": [
      "260850.24988428282\n",
      "Predicting defocus...\n",
      "saving ronchigram...\n"
     ]
    },
    {
     "name": "stderr",
     "output_type": "stream",
     "text": [
      "/home/chenyu/Desktop/Bayesian-optimization-using-Gaussian-Process/modules/OnlineGP.py:464: RuntimeWarning: invalid value encountered in add\n",
      "  K = K + x1_sum_sq + x2_sum_sq\n",
      "/home/chenyu/Desktop/Bayesian-optimization-using-Gaussian-Process/modules/OnlineGP.py:464: RuntimeWarning: invalid value encountered in add\n",
      "  K = K + x1_sum_sq + x2_sum_sq\n",
      "/home/chenyu/Desktop/Bayesian-optimization-using-Gaussian-Process/modules/OnlineGP.py:464: RuntimeWarning: invalid value encountered in add\n",
      "  K = K + x1_sum_sq + x2_sum_sq\n",
      "/home/chenyu/Desktop/Bayesian-optimization-using-Gaussian-Process/modules/OnlineGP.py:464: RuntimeWarning: invalid value encountered in add\n",
      "  K = K + x1_sum_sq + x2_sum_sq\n",
      "/home/chenyu/Desktop/Bayesian-optimization-using-Gaussian-Process/modules/OnlineGP.py:464: RuntimeWarning: invalid value encountered in add\n",
      "  K = K + x1_sum_sq + x2_sum_sq\n"
     ]
    },
    {
     "name": "stdout",
     "output_type": "stream",
     "text": [
      "253853.6508274758\n",
      "Predicting defocus...\n",
      "saving ronchigram...\n",
      "11 Finished.\n",
      "Model loaded\n",
      "Supposed to be grabbing initial machine state...\n",
      "252475.72996645418\n",
      "Predicting defocus...\n",
      "saving ronchigram...\n",
      "x_init [[0.91262166]]\n",
      "y_init [[0.05081087]]\n"
     ]
    },
    {
     "name": "stderr",
     "output_type": "stream",
     "text": [
      "/home/chenyu/Desktop/Bayesian-optimization-using-Gaussian-Process/modules/OnlineGP.py:464: RuntimeWarning: invalid value encountered in add\n",
      "  K = K + x1_sum_sq + x2_sum_sq\n"
     ]
    },
    {
     "name": "stdout",
     "output_type": "stream",
     "text": [
      "251371.7084752189\n",
      "Predicting defocus...\n",
      "saving ronchigram...\n"
     ]
    },
    {
     "name": "stderr",
     "output_type": "stream",
     "text": [
      "/home/chenyu/Desktop/Bayesian-optimization-using-Gaussian-Process/modules/OnlineGP.py:464: RuntimeWarning: invalid value encountered in add\n",
      "  K = K + x1_sum_sq + x2_sum_sq\n",
      "/home/chenyu/Desktop/Bayesian-optimization-using-Gaussian-Process/modules/OnlineGP.py:464: RuntimeWarning: invalid value encountered in add\n",
      "  K = K + x1_sum_sq + x2_sum_sq\n"
     ]
    },
    {
     "name": "stdout",
     "output_type": "stream",
     "text": [
      "247319.24508612376\n",
      "Predicting defocus...\n",
      "saving ronchigram...\n"
     ]
    },
    {
     "name": "stderr",
     "output_type": "stream",
     "text": [
      "/home/chenyu/Desktop/Bayesian-optimization-using-Gaussian-Process/modules/OnlineGP.py:464: RuntimeWarning: invalid value encountered in add\n",
      "  K = K + x1_sum_sq + x2_sum_sq\n",
      "/home/chenyu/Desktop/Bayesian-optimization-using-Gaussian-Process/modules/OnlineGP.py:464: RuntimeWarning: invalid value encountered in add\n",
      "  K = K + x1_sum_sq + x2_sum_sq\n",
      "/home/chenyu/Desktop/Bayesian-optimization-using-Gaussian-Process/modules/OnlineGP.py:464: RuntimeWarning: invalid value encountered in add\n",
      "  K = K + x1_sum_sq + x2_sum_sq\n"
     ]
    },
    {
     "name": "stdout",
     "output_type": "stream",
     "text": [
      "255488.30915970032\n",
      "Predicting defocus...\n",
      "saving ronchigram...\n"
     ]
    },
    {
     "name": "stderr",
     "output_type": "stream",
     "text": [
      "/home/chenyu/Desktop/Bayesian-optimization-using-Gaussian-Process/modules/OnlineGP.py:464: RuntimeWarning: invalid value encountered in add\n",
      "  K = K + x1_sum_sq + x2_sum_sq\n",
      "/home/chenyu/Desktop/Bayesian-optimization-using-Gaussian-Process/modules/OnlineGP.py:464: RuntimeWarning: invalid value encountered in add\n",
      "  K = K + x1_sum_sq + x2_sum_sq\n",
      "/home/chenyu/Desktop/Bayesian-optimization-using-Gaussian-Process/modules/OnlineGP.py:464: RuntimeWarning: invalid value encountered in add\n",
      "  K = K + x1_sum_sq + x2_sum_sq\n",
      "/home/chenyu/Desktop/Bayesian-optimization-using-Gaussian-Process/modules/OnlineGP.py:464: RuntimeWarning: invalid value encountered in add\n",
      "  K = K + x1_sum_sq + x2_sum_sq\n"
     ]
    },
    {
     "name": "stdout",
     "output_type": "stream",
     "text": [
      "259003.77898619958\n",
      "Predicting defocus...\n",
      "saving ronchigram...\n"
     ]
    },
    {
     "name": "stderr",
     "output_type": "stream",
     "text": [
      "/home/chenyu/Desktop/Bayesian-optimization-using-Gaussian-Process/modules/OnlineGP.py:464: RuntimeWarning: invalid value encountered in add\n",
      "  K = K + x1_sum_sq + x2_sum_sq\n",
      "/home/chenyu/Desktop/Bayesian-optimization-using-Gaussian-Process/modules/OnlineGP.py:464: RuntimeWarning: invalid value encountered in add\n",
      "  K = K + x1_sum_sq + x2_sum_sq\n",
      "/home/chenyu/Desktop/Bayesian-optimization-using-Gaussian-Process/modules/OnlineGP.py:464: RuntimeWarning: invalid value encountered in add\n",
      "  K = K + x1_sum_sq + x2_sum_sq\n",
      "/home/chenyu/Desktop/Bayesian-optimization-using-Gaussian-Process/modules/OnlineGP.py:464: RuntimeWarning: invalid value encountered in add\n",
      "  K = K + x1_sum_sq + x2_sum_sq\n"
     ]
    },
    {
     "name": "stdout",
     "output_type": "stream",
     "text": [
      "261123.52529774528\n",
      "Predicting defocus...\n",
      "saving ronchigram...\n"
     ]
    },
    {
     "name": "stderr",
     "output_type": "stream",
     "text": [
      "/home/chenyu/Desktop/Bayesian-optimization-using-Gaussian-Process/modules/OnlineGP.py:464: RuntimeWarning: invalid value encountered in add\n",
      "  K = K + x1_sum_sq + x2_sum_sq\n",
      "/home/chenyu/Desktop/Bayesian-optimization-using-Gaussian-Process/modules/OnlineGP.py:464: RuntimeWarning: invalid value encountered in add\n",
      "  K = K + x1_sum_sq + x2_sum_sq\n",
      "/home/chenyu/Desktop/Bayesian-optimization-using-Gaussian-Process/modules/OnlineGP.py:464: RuntimeWarning: invalid value encountered in add\n",
      "  K = K + x1_sum_sq + x2_sum_sq\n",
      "/home/chenyu/Desktop/Bayesian-optimization-using-Gaussian-Process/modules/OnlineGP.py:464: RuntimeWarning: invalid value encountered in add\n",
      "  K = K + x1_sum_sq + x2_sum_sq\n",
      "/home/chenyu/Desktop/Bayesian-optimization-using-Gaussian-Process/modules/OnlineGP.py:464: RuntimeWarning: invalid value encountered in add\n",
      "  K = K + x1_sum_sq + x2_sum_sq\n"
     ]
    },
    {
     "name": "stdout",
     "output_type": "stream",
     "text": [
      "257602.59803007025\n",
      "Predicting defocus...\n",
      "saving ronchigram...\n"
     ]
    },
    {
     "name": "stderr",
     "output_type": "stream",
     "text": [
      "/home/chenyu/Desktop/Bayesian-optimization-using-Gaussian-Process/modules/OnlineGP.py:464: RuntimeWarning: invalid value encountered in add\n",
      "  K = K + x1_sum_sq + x2_sum_sq\n",
      "/home/chenyu/Desktop/Bayesian-optimization-using-Gaussian-Process/modules/OnlineGP.py:464: RuntimeWarning: invalid value encountered in add\n",
      "  K = K + x1_sum_sq + x2_sum_sq\n",
      "/home/chenyu/Desktop/Bayesian-optimization-using-Gaussian-Process/modules/OnlineGP.py:464: RuntimeWarning: invalid value encountered in add\n",
      "  K = K + x1_sum_sq + x2_sum_sq\n",
      "/home/chenyu/Desktop/Bayesian-optimization-using-Gaussian-Process/modules/OnlineGP.py:464: RuntimeWarning: invalid value encountered in add\n",
      "  K = K + x1_sum_sq + x2_sum_sq\n",
      "/home/chenyu/Desktop/Bayesian-optimization-using-Gaussian-Process/modules/OnlineGP.py:464: RuntimeWarning: invalid value encountered in add\n",
      "  K = K + x1_sum_sq + x2_sum_sq\n"
     ]
    },
    {
     "name": "stdout",
     "output_type": "stream",
     "text": [
      "259807.1347013694\n",
      "Predicting defocus...\n",
      "saving ronchigram...\n"
     ]
    },
    {
     "name": "stderr",
     "output_type": "stream",
     "text": [
      "/home/chenyu/Desktop/Bayesian-optimization-using-Gaussian-Process/modules/OnlineGP.py:464: RuntimeWarning: invalid value encountered in add\n",
      "  K = K + x1_sum_sq + x2_sum_sq\n",
      "/home/chenyu/Desktop/Bayesian-optimization-using-Gaussian-Process/modules/OnlineGP.py:464: RuntimeWarning: invalid value encountered in add\n",
      "  K = K + x1_sum_sq + x2_sum_sq\n",
      "/home/chenyu/Desktop/Bayesian-optimization-using-Gaussian-Process/modules/OnlineGP.py:464: RuntimeWarning: invalid value encountered in add\n",
      "  K = K + x1_sum_sq + x2_sum_sq\n",
      "/home/chenyu/Desktop/Bayesian-optimization-using-Gaussian-Process/modules/OnlineGP.py:464: RuntimeWarning: invalid value encountered in add\n",
      "  K = K + x1_sum_sq + x2_sum_sq\n",
      "/home/chenyu/Desktop/Bayesian-optimization-using-Gaussian-Process/modules/OnlineGP.py:464: RuntimeWarning: invalid value encountered in add\n",
      "  K = K + x1_sum_sq + x2_sum_sq\n"
     ]
    },
    {
     "name": "stdout",
     "output_type": "stream",
     "text": [
      "259806.18321673814\n",
      "Predicting defocus...\n",
      "saving ronchigram...\n"
     ]
    },
    {
     "name": "stderr",
     "output_type": "stream",
     "text": [
      "/home/chenyu/Desktop/Bayesian-optimization-using-Gaussian-Process/modules/OnlineGP.py:464: RuntimeWarning: invalid value encountered in add\n",
      "  K = K + x1_sum_sq + x2_sum_sq\n",
      "/home/chenyu/Desktop/Bayesian-optimization-using-Gaussian-Process/modules/OnlineGP.py:464: RuntimeWarning: invalid value encountered in add\n",
      "  K = K + x1_sum_sq + x2_sum_sq\n",
      "/home/chenyu/Desktop/Bayesian-optimization-using-Gaussian-Process/modules/OnlineGP.py:464: RuntimeWarning: invalid value encountered in add\n",
      "  K = K + x1_sum_sq + x2_sum_sq\n",
      "/home/chenyu/Desktop/Bayesian-optimization-using-Gaussian-Process/modules/OnlineGP.py:464: RuntimeWarning: invalid value encountered in add\n",
      "  K = K + x1_sum_sq + x2_sum_sq\n",
      "/home/chenyu/Desktop/Bayesian-optimization-using-Gaussian-Process/modules/OnlineGP.py:464: RuntimeWarning: invalid value encountered in add\n",
      "  K = K + x1_sum_sq + x2_sum_sq\n"
     ]
    },
    {
     "name": "stdout",
     "output_type": "stream",
     "text": [
      "265512.1832167381\n",
      "Predicting defocus...\n",
      "saving ronchigram...\n"
     ]
    },
    {
     "name": "stderr",
     "output_type": "stream",
     "text": [
      "/home/chenyu/Desktop/Bayesian-optimization-using-Gaussian-Process/modules/OnlineGP.py:464: RuntimeWarning: invalid value encountered in add\n",
      "  K = K + x1_sum_sq + x2_sum_sq\n",
      "/home/chenyu/Desktop/Bayesian-optimization-using-Gaussian-Process/modules/OnlineGP.py:464: RuntimeWarning: invalid value encountered in add\n",
      "  K = K + x1_sum_sq + x2_sum_sq\n",
      "/home/chenyu/Desktop/Bayesian-optimization-using-Gaussian-Process/modules/OnlineGP.py:464: RuntimeWarning: invalid value encountered in add\n",
      "  K = K + x1_sum_sq + x2_sum_sq\n",
      "/home/chenyu/Desktop/Bayesian-optimization-using-Gaussian-Process/modules/OnlineGP.py:464: RuntimeWarning: invalid value encountered in add\n",
      "  K = K + x1_sum_sq + x2_sum_sq\n",
      "/home/chenyu/Desktop/Bayesian-optimization-using-Gaussian-Process/modules/OnlineGP.py:464: RuntimeWarning: invalid value encountered in add\n",
      "  K = K + x1_sum_sq + x2_sum_sq\n"
     ]
    },
    {
     "name": "stdout",
     "output_type": "stream",
     "text": [
      "259787.3873743139\n",
      "Predicting defocus...\n",
      "saving ronchigram...\n",
      "12 Finished.\n",
      "Model loaded\n",
      "Supposed to be grabbing initial machine state...\n",
      "250082.87034249824\n",
      "Predicting defocus...\n",
      "saving ronchigram...\n",
      "x_init [[0.51381172]]\n",
      "y_init [[0.12810385]]\n"
     ]
    },
    {
     "name": "stderr",
     "output_type": "stream",
     "text": [
      "/home/chenyu/Desktop/Bayesian-optimization-using-Gaussian-Process/modules/OnlineGP.py:464: RuntimeWarning: invalid value encountered in add\n",
      "  K = K + x1_sum_sq + x2_sum_sq\n"
     ]
    },
    {
     "name": "stdout",
     "output_type": "stream",
     "text": [
      "248978.84885126297\n",
      "Predicting defocus...\n",
      "saving ronchigram...\n"
     ]
    },
    {
     "name": "stderr",
     "output_type": "stream",
     "text": [
      "/home/chenyu/Desktop/Bayesian-optimization-using-Gaussian-Process/modules/OnlineGP.py:464: RuntimeWarning: invalid value encountered in add\n",
      "  K = K + x1_sum_sq + x2_sum_sq\n",
      "/home/chenyu/Desktop/Bayesian-optimization-using-Gaussian-Process/modules/OnlineGP.py:464: RuntimeWarning: invalid value encountered in add\n",
      "  K = K + x1_sum_sq + x2_sum_sq\n"
     ]
    },
    {
     "name": "stdout",
     "output_type": "stream",
     "text": [
      "253249.60825442738\n",
      "Predicting defocus...\n",
      "saving ronchigram...\n"
     ]
    },
    {
     "name": "stderr",
     "output_type": "stream",
     "text": [
      "/home/chenyu/Desktop/Bayesian-optimization-using-Gaussian-Process/modules/OnlineGP.py:464: RuntimeWarning: invalid value encountered in add\n",
      "  K = K + x1_sum_sq + x2_sum_sq\n",
      "/home/chenyu/Desktop/Bayesian-optimization-using-Gaussian-Process/modules/OnlineGP.py:464: RuntimeWarning: invalid value encountered in add\n",
      "  K = K + x1_sum_sq + x2_sum_sq\n",
      "/home/chenyu/Desktop/Bayesian-optimization-using-Gaussian-Process/modules/OnlineGP.py:464: RuntimeWarning: invalid value encountered in add\n",
      "  K = K + x1_sum_sq + x2_sum_sq\n"
     ]
    },
    {
     "name": "stdout",
     "output_type": "stream",
     "text": [
      "256974.37655098934\n",
      "Predicting defocus...\n",
      "saving ronchigram...\n"
     ]
    },
    {
     "name": "stderr",
     "output_type": "stream",
     "text": [
      "/home/chenyu/Desktop/Bayesian-optimization-using-Gaussian-Process/modules/OnlineGP.py:464: RuntimeWarning: invalid value encountered in add\n",
      "  K = K + x1_sum_sq + x2_sum_sq\n",
      "/home/chenyu/Desktop/Bayesian-optimization-using-Gaussian-Process/modules/OnlineGP.py:464: RuntimeWarning: invalid value encountered in add\n",
      "  K = K + x1_sum_sq + x2_sum_sq\n",
      "/home/chenyu/Desktop/Bayesian-optimization-using-Gaussian-Process/modules/OnlineGP.py:464: RuntimeWarning: invalid value encountered in add\n",
      "  K = K + x1_sum_sq + x2_sum_sq\n",
      "/home/chenyu/Desktop/Bayesian-optimization-using-Gaussian-Process/modules/OnlineGP.py:464: RuntimeWarning: invalid value encountered in add\n",
      "  K = K + x1_sum_sq + x2_sum_sq\n"
     ]
    },
    {
     "name": "stdout",
     "output_type": "stream",
     "text": [
      "259131.15512845883\n",
      "Predicting defocus...\n",
      "saving ronchigram...\n"
     ]
    },
    {
     "name": "stderr",
     "output_type": "stream",
     "text": [
      "/home/chenyu/Desktop/Bayesian-optimization-using-Gaussian-Process/modules/OnlineGP.py:464: RuntimeWarning: invalid value encountered in add\n",
      "  K = K + x1_sum_sq + x2_sum_sq\n",
      "/home/chenyu/Desktop/Bayesian-optimization-using-Gaussian-Process/modules/OnlineGP.py:464: RuntimeWarning: invalid value encountered in add\n",
      "  K = K + x1_sum_sq + x2_sum_sq\n",
      "/home/chenyu/Desktop/Bayesian-optimization-using-Gaussian-Process/modules/OnlineGP.py:464: RuntimeWarning: invalid value encountered in add\n",
      "  K = K + x1_sum_sq + x2_sum_sq\n",
      "/home/chenyu/Desktop/Bayesian-optimization-using-Gaussian-Process/modules/OnlineGP.py:464: RuntimeWarning: invalid value encountered in add\n",
      "  K = K + x1_sum_sq + x2_sum_sq\n",
      "/home/chenyu/Desktop/Bayesian-optimization-using-Gaussian-Process/modules/OnlineGP.py:464: RuntimeWarning: invalid value encountered in add\n",
      "  K = K + x1_sum_sq + x2_sum_sq\n"
     ]
    },
    {
     "name": "stdout",
     "output_type": "stream",
     "text": [
      "260980.99852420087\n",
      "Predicting defocus...\n",
      "saving ronchigram...\n"
     ]
    },
    {
     "name": "stderr",
     "output_type": "stream",
     "text": [
      "/home/chenyu/Desktop/Bayesian-optimization-using-Gaussian-Process/modules/OnlineGP.py:464: RuntimeWarning: invalid value encountered in add\n",
      "  K = K + x1_sum_sq + x2_sum_sq\n",
      "/home/chenyu/Desktop/Bayesian-optimization-using-Gaussian-Process/modules/OnlineGP.py:464: RuntimeWarning: invalid value encountered in add\n",
      "  K = K + x1_sum_sq + x2_sum_sq\n",
      "/home/chenyu/Desktop/Bayesian-optimization-using-Gaussian-Process/modules/OnlineGP.py:464: RuntimeWarning: invalid value encountered in add\n",
      "  K = K + x1_sum_sq + x2_sum_sq\n",
      "/home/chenyu/Desktop/Bayesian-optimization-using-Gaussian-Process/modules/OnlineGP.py:464: RuntimeWarning: invalid value encountered in add\n",
      "  K = K + x1_sum_sq + x2_sum_sq\n",
      "/home/chenyu/Desktop/Bayesian-optimization-using-Gaussian-Process/modules/OnlineGP.py:464: RuntimeWarning: invalid value encountered in add\n",
      "  K = K + x1_sum_sq + x2_sum_sq\n"
     ]
    },
    {
     "name": "stdout",
     "output_type": "stream",
     "text": [
      "258348.65405071303\n",
      "Predicting defocus...\n",
      "saving ronchigram...\n"
     ]
    },
    {
     "name": "stderr",
     "output_type": "stream",
     "text": [
      "/home/chenyu/Desktop/Bayesian-optimization-using-Gaussian-Process/modules/OnlineGP.py:464: RuntimeWarning: invalid value encountered in add\n",
      "  K = K + x1_sum_sq + x2_sum_sq\n",
      "/home/chenyu/Desktop/Bayesian-optimization-using-Gaussian-Process/modules/OnlineGP.py:464: RuntimeWarning: invalid value encountered in add\n",
      "  K = K + x1_sum_sq + x2_sum_sq\n",
      "/home/chenyu/Desktop/Bayesian-optimization-using-Gaussian-Process/modules/OnlineGP.py:464: RuntimeWarning: invalid value encountered in add\n",
      "  K = K + x1_sum_sq + x2_sum_sq\n",
      "/home/chenyu/Desktop/Bayesian-optimization-using-Gaussian-Process/modules/OnlineGP.py:464: RuntimeWarning: invalid value encountered in add\n",
      "  K = K + x1_sum_sq + x2_sum_sq\n",
      "/home/chenyu/Desktop/Bayesian-optimization-using-Gaussian-Process/modules/OnlineGP.py:464: RuntimeWarning: invalid value encountered in add\n",
      "  K = K + x1_sum_sq + x2_sum_sq\n"
     ]
    },
    {
     "name": "stdout",
     "output_type": "stream",
     "text": [
      "258626.7382357903\n",
      "Predicting defocus...\n",
      "saving ronchigram...\n"
     ]
    },
    {
     "name": "stderr",
     "output_type": "stream",
     "text": [
      "/home/chenyu/Desktop/Bayesian-optimization-using-Gaussian-Process/modules/OnlineGP.py:464: RuntimeWarning: invalid value encountered in add\n",
      "  K = K + x1_sum_sq + x2_sum_sq\n",
      "/home/chenyu/Desktop/Bayesian-optimization-using-Gaussian-Process/modules/OnlineGP.py:464: RuntimeWarning: invalid value encountered in add\n",
      "  K = K + x1_sum_sq + x2_sum_sq\n",
      "/home/chenyu/Desktop/Bayesian-optimization-using-Gaussian-Process/modules/OnlineGP.py:464: RuntimeWarning: invalid value encountered in add\n",
      "  K = K + x1_sum_sq + x2_sum_sq\n",
      "/home/chenyu/Desktop/Bayesian-optimization-using-Gaussian-Process/modules/OnlineGP.py:464: RuntimeWarning: invalid value encountered in add\n",
      "  K = K + x1_sum_sq + x2_sum_sq\n",
      "/home/chenyu/Desktop/Bayesian-optimization-using-Gaussian-Process/modules/OnlineGP.py:464: RuntimeWarning: invalid value encountered in add\n",
      "  K = K + x1_sum_sq + x2_sum_sq\n"
     ]
    },
    {
     "name": "stdout",
     "output_type": "stream",
     "text": [
      "258676.20383795598\n",
      "Predicting defocus...\n",
      "saving ronchigram...\n"
     ]
    },
    {
     "name": "stderr",
     "output_type": "stream",
     "text": [
      "/home/chenyu/Desktop/Bayesian-optimization-using-Gaussian-Process/modules/OnlineGP.py:464: RuntimeWarning: invalid value encountered in add\n",
      "  K = K + x1_sum_sq + x2_sum_sq\n",
      "/home/chenyu/Desktop/Bayesian-optimization-using-Gaussian-Process/modules/OnlineGP.py:464: RuntimeWarning: invalid value encountered in add\n",
      "  K = K + x1_sum_sq + x2_sum_sq\n",
      "/home/chenyu/Desktop/Bayesian-optimization-using-Gaussian-Process/modules/OnlineGP.py:464: RuntimeWarning: invalid value encountered in add\n",
      "  K = K + x1_sum_sq + x2_sum_sq\n",
      "/home/chenyu/Desktop/Bayesian-optimization-using-Gaussian-Process/modules/OnlineGP.py:464: RuntimeWarning: invalid value encountered in add\n",
      "  K = K + x1_sum_sq + x2_sum_sq\n",
      "/home/chenyu/Desktop/Bayesian-optimization-using-Gaussian-Process/modules/OnlineGP.py:464: RuntimeWarning: invalid value encountered in add\n",
      "  K = K + x1_sum_sq + x2_sum_sq\n"
     ]
    },
    {
     "name": "stdout",
     "output_type": "stream",
     "text": [
      "258681.91034084736\n",
      "Predicting defocus...\n",
      "saving ronchigram...\n"
     ]
    },
    {
     "name": "stderr",
     "output_type": "stream",
     "text": [
      "/home/chenyu/Desktop/Bayesian-optimization-using-Gaussian-Process/modules/OnlineGP.py:464: RuntimeWarning: invalid value encountered in add\n",
      "  K = K + x1_sum_sq + x2_sum_sq\n",
      "/home/chenyu/Desktop/Bayesian-optimization-using-Gaussian-Process/modules/OnlineGP.py:464: RuntimeWarning: invalid value encountered in add\n",
      "  K = K + x1_sum_sq + x2_sum_sq\n",
      "/home/chenyu/Desktop/Bayesian-optimization-using-Gaussian-Process/modules/OnlineGP.py:464: RuntimeWarning: invalid value encountered in add\n",
      "  K = K + x1_sum_sq + x2_sum_sq\n",
      "/home/chenyu/Desktop/Bayesian-optimization-using-Gaussian-Process/modules/OnlineGP.py:464: RuntimeWarning: invalid value encountered in add\n",
      "  K = K + x1_sum_sq + x2_sum_sq\n",
      "/home/chenyu/Desktop/Bayesian-optimization-using-Gaussian-Process/modules/OnlineGP.py:464: RuntimeWarning: invalid value encountered in add\n",
      "  K = K + x1_sum_sq + x2_sum_sq\n"
     ]
    },
    {
     "name": "stdout",
     "output_type": "stream",
     "text": [
      "258684.2643605257\n",
      "Predicting defocus...\n",
      "saving ronchigram...\n",
      "13 Finished.\n",
      "Model loaded\n",
      "Supposed to be grabbing initial machine state...\n",
      "251468.76125678702\n",
      "Predicting defocus...\n",
      "saving ronchigram...\n",
      "x_init [[0.74479354]]\n",
      "y_init [[0.26634425]]\n"
     ]
    },
    {
     "name": "stderr",
     "output_type": "stream",
     "text": [
      "/home/chenyu/Desktop/Bayesian-optimization-using-Gaussian-Process/modules/OnlineGP.py:464: RuntimeWarning: invalid value encountered in add\n",
      "  K = K + x1_sum_sq + x2_sum_sq\n"
     ]
    },
    {
     "name": "stdout",
     "output_type": "stream",
     "text": [
      "250364.73976555176\n",
      "Predicting defocus...\n",
      "saving ronchigram...\n"
     ]
    },
    {
     "name": "stderr",
     "output_type": "stream",
     "text": [
      "/home/chenyu/Desktop/Bayesian-optimization-using-Gaussian-Process/modules/OnlineGP.py:464: RuntimeWarning: invalid value encountered in add\n",
      "  K = K + x1_sum_sq + x2_sum_sq\n",
      "/home/chenyu/Desktop/Bayesian-optimization-using-Gaussian-Process/modules/OnlineGP.py:464: RuntimeWarning: invalid value encountered in add\n",
      "  K = K + x1_sum_sq + x2_sum_sq\n"
     ]
    },
    {
     "name": "stdout",
     "output_type": "stream",
     "text": [
      "247083.76934510394\n",
      "Predicting defocus...\n",
      "saving ronchigram...\n"
     ]
    },
    {
     "name": "stderr",
     "output_type": "stream",
     "text": [
      "/home/chenyu/Desktop/Bayesian-optimization-using-Gaussian-Process/modules/OnlineGP.py:464: RuntimeWarning: invalid value encountered in add\n",
      "  K = K + x1_sum_sq + x2_sum_sq\n",
      "/home/chenyu/Desktop/Bayesian-optimization-using-Gaussian-Process/modules/OnlineGP.py:464: RuntimeWarning: invalid value encountered in add\n",
      "  K = K + x1_sum_sq + x2_sum_sq\n",
      "/home/chenyu/Desktop/Bayesian-optimization-using-Gaussian-Process/modules/OnlineGP.py:464: RuntimeWarning: invalid value encountered in add\n",
      "  K = K + x1_sum_sq + x2_sum_sq\n"
     ]
    },
    {
     "name": "stdout",
     "output_type": "stream",
     "text": [
      "253882.87340526376\n",
      "Predicting defocus...\n",
      "saving ronchigram...\n"
     ]
    },
    {
     "name": "stderr",
     "output_type": "stream",
     "text": [
      "/home/chenyu/Desktop/Bayesian-optimization-using-Gaussian-Process/modules/OnlineGP.py:464: RuntimeWarning: invalid value encountered in add\n",
      "  K = K + x1_sum_sq + x2_sum_sq\n",
      "/home/chenyu/Desktop/Bayesian-optimization-using-Gaussian-Process/modules/OnlineGP.py:464: RuntimeWarning: invalid value encountered in add\n",
      "  K = K + x1_sum_sq + x2_sum_sq\n",
      "/home/chenyu/Desktop/Bayesian-optimization-using-Gaussian-Process/modules/OnlineGP.py:464: RuntimeWarning: invalid value encountered in add\n",
      "  K = K + x1_sum_sq + x2_sum_sq\n"
     ]
    },
    {
     "name": "stdout",
     "output_type": "stream",
     "text": [
      "256211.72446145155\n",
      "Predicting defocus...\n",
      "saving ronchigram...\n"
     ]
    },
    {
     "name": "stderr",
     "output_type": "stream",
     "text": [
      "/home/chenyu/Desktop/Bayesian-optimization-using-Gaussian-Process/modules/OnlineGP.py:464: RuntimeWarning: invalid value encountered in add\n",
      "  K = K + x1_sum_sq + x2_sum_sq\n",
      "/home/chenyu/Desktop/Bayesian-optimization-using-Gaussian-Process/modules/OnlineGP.py:464: RuntimeWarning: invalid value encountered in add\n",
      "  K = K + x1_sum_sq + x2_sum_sq\n",
      "/home/chenyu/Desktop/Bayesian-optimization-using-Gaussian-Process/modules/OnlineGP.py:464: RuntimeWarning: invalid value encountered in add\n",
      "  K = K + x1_sum_sq + x2_sum_sq\n",
      "/home/chenyu/Desktop/Bayesian-optimization-using-Gaussian-Process/modules/OnlineGP.py:464: RuntimeWarning: invalid value encountered in add\n",
      "  K = K + x1_sum_sq + x2_sum_sq\n"
     ]
    },
    {
     "name": "stdout",
     "output_type": "stream",
     "text": [
      "257948.28715742932\n",
      "Predicting defocus...\n",
      "saving ronchigram...\n"
     ]
    },
    {
     "name": "stderr",
     "output_type": "stream",
     "text": [
      "/home/chenyu/Desktop/Bayesian-optimization-using-Gaussian-Process/modules/OnlineGP.py:464: RuntimeWarning: invalid value encountered in add\n",
      "  K = K + x1_sum_sq + x2_sum_sq\n",
      "/home/chenyu/Desktop/Bayesian-optimization-using-Gaussian-Process/modules/OnlineGP.py:464: RuntimeWarning: invalid value encountered in add\n",
      "  K = K + x1_sum_sq + x2_sum_sq\n",
      "/home/chenyu/Desktop/Bayesian-optimization-using-Gaussian-Process/modules/OnlineGP.py:464: RuntimeWarning: invalid value encountered in add\n",
      "  K = K + x1_sum_sq + x2_sum_sq\n",
      "/home/chenyu/Desktop/Bayesian-optimization-using-Gaussian-Process/modules/OnlineGP.py:464: RuntimeWarning: invalid value encountered in add\n",
      "  K = K + x1_sum_sq + x2_sum_sq\n"
     ]
    },
    {
     "name": "stdout",
     "output_type": "stream",
     "text": [
      "255380.41236785578\n",
      "Predicting defocus...\n",
      "saving ronchigram...\n"
     ]
    },
    {
     "name": "stderr",
     "output_type": "stream",
     "text": [
      "/home/chenyu/Desktop/Bayesian-optimization-using-Gaussian-Process/modules/OnlineGP.py:464: RuntimeWarning: invalid value encountered in add\n",
      "  K = K + x1_sum_sq + x2_sum_sq\n",
      "/home/chenyu/Desktop/Bayesian-optimization-using-Gaussian-Process/modules/OnlineGP.py:464: RuntimeWarning: invalid value encountered in add\n",
      "  K = K + x1_sum_sq + x2_sum_sq\n",
      "/home/chenyu/Desktop/Bayesian-optimization-using-Gaussian-Process/modules/OnlineGP.py:464: RuntimeWarning: invalid value encountered in add\n",
      "  K = K + x1_sum_sq + x2_sum_sq\n",
      "/home/chenyu/Desktop/Bayesian-optimization-using-Gaussian-Process/modules/OnlineGP.py:464: RuntimeWarning: invalid value encountered in add\n",
      "  K = K + x1_sum_sq + x2_sum_sq\n",
      "/home/chenyu/Desktop/Bayesian-optimization-using-Gaussian-Process/modules/OnlineGP.py:464: RuntimeWarning: invalid value encountered in add\n",
      "  K = K + x1_sum_sq + x2_sum_sq\n"
     ]
    },
    {
     "name": "stdout",
     "output_type": "stream",
     "text": [
      "256089.8750478922\n",
      "Predicting defocus...\n",
      "saving ronchigram...\n"
     ]
    },
    {
     "name": "stderr",
     "output_type": "stream",
     "text": [
      "/home/chenyu/Desktop/Bayesian-optimization-using-Gaussian-Process/modules/OnlineGP.py:464: RuntimeWarning: invalid value encountered in add\n",
      "  K = K + x1_sum_sq + x2_sum_sq\n",
      "/home/chenyu/Desktop/Bayesian-optimization-using-Gaussian-Process/modules/OnlineGP.py:464: RuntimeWarning: invalid value encountered in add\n",
      "  K = K + x1_sum_sq + x2_sum_sq\n",
      "/home/chenyu/Desktop/Bayesian-optimization-using-Gaussian-Process/modules/OnlineGP.py:464: RuntimeWarning: invalid value encountered in add\n",
      "  K = K + x1_sum_sq + x2_sum_sq\n",
      "/home/chenyu/Desktop/Bayesian-optimization-using-Gaussian-Process/modules/OnlineGP.py:464: RuntimeWarning: invalid value encountered in add\n",
      "  K = K + x1_sum_sq + x2_sum_sq\n",
      "/home/chenyu/Desktop/Bayesian-optimization-using-Gaussian-Process/modules/OnlineGP.py:464: RuntimeWarning: invalid value encountered in add\n",
      "  K = K + x1_sum_sq + x2_sum_sq\n"
     ]
    },
    {
     "name": "stdout",
     "output_type": "stream",
     "text": [
      "256004.30447739427\n",
      "Predicting defocus...\n",
      "saving ronchigram...\n"
     ]
    },
    {
     "name": "stderr",
     "output_type": "stream",
     "text": [
      "/home/chenyu/Desktop/Bayesian-optimization-using-Gaussian-Process/modules/OnlineGP.py:464: RuntimeWarning: invalid value encountered in add\n",
      "  K = K + x1_sum_sq + x2_sum_sq\n",
      "/home/chenyu/Desktop/Bayesian-optimization-using-Gaussian-Process/modules/OnlineGP.py:464: RuntimeWarning: invalid value encountered in add\n",
      "  K = K + x1_sum_sq + x2_sum_sq\n",
      "/home/chenyu/Desktop/Bayesian-optimization-using-Gaussian-Process/modules/OnlineGP.py:464: RuntimeWarning: invalid value encountered in add\n",
      "  K = K + x1_sum_sq + x2_sum_sq\n",
      "/home/chenyu/Desktop/Bayesian-optimization-using-Gaussian-Process/modules/OnlineGP.py:464: RuntimeWarning: invalid value encountered in add\n",
      "  K = K + x1_sum_sq + x2_sum_sq\n",
      "/home/chenyu/Desktop/Bayesian-optimization-using-Gaussian-Process/modules/OnlineGP.py:464: RuntimeWarning: invalid value encountered in add\n",
      "  K = K + x1_sum_sq + x2_sum_sq\n"
     ]
    },
    {
     "name": "stdout",
     "output_type": "stream",
     "text": [
      "255993.1892898424\n",
      "Predicting defocus...\n",
      "saving ronchigram...\n"
     ]
    },
    {
     "name": "stderr",
     "output_type": "stream",
     "text": [
      "/home/chenyu/Desktop/Bayesian-optimization-using-Gaussian-Process/modules/OnlineGP.py:464: RuntimeWarning: invalid value encountered in add\n",
      "  K = K + x1_sum_sq + x2_sum_sq\n",
      "/home/chenyu/Desktop/Bayesian-optimization-using-Gaussian-Process/modules/OnlineGP.py:464: RuntimeWarning: invalid value encountered in add\n",
      "  K = K + x1_sum_sq + x2_sum_sq\n",
      "/home/chenyu/Desktop/Bayesian-optimization-using-Gaussian-Process/modules/OnlineGP.py:464: RuntimeWarning: invalid value encountered in add\n",
      "  K = K + x1_sum_sq + x2_sum_sq\n",
      "/home/chenyu/Desktop/Bayesian-optimization-using-Gaussian-Process/modules/OnlineGP.py:464: RuntimeWarning: invalid value encountered in add\n",
      "  K = K + x1_sum_sq + x2_sum_sq\n",
      "/home/chenyu/Desktop/Bayesian-optimization-using-Gaussian-Process/modules/OnlineGP.py:464: RuntimeWarning: invalid value encountered in add\n",
      "  K = K + x1_sum_sq + x2_sum_sq\n"
     ]
    },
    {
     "name": "stdout",
     "output_type": "stream",
     "text": [
      "255989.01080441455\n",
      "Predicting defocus...\n",
      "saving ronchigram...\n",
      "14 Finished.\n",
      "Model loaded\n",
      "Supposed to be grabbing initial machine state...\n",
      "252716.71302009173\n",
      "Predicting defocus...\n",
      "saving ronchigram...\n",
      "x_init [[0.9527855]]\n",
      "y_init [[0.1123445]]\n"
     ]
    },
    {
     "name": "stderr",
     "output_type": "stream",
     "text": [
      "/home/chenyu/Desktop/Bayesian-optimization-using-Gaussian-Process/modules/OnlineGP.py:464: RuntimeWarning: invalid value encountered in add\n",
      "  K = K + x1_sum_sq + x2_sum_sq\n"
     ]
    },
    {
     "name": "stdout",
     "output_type": "stream",
     "text": [
      "251612.69152885646\n",
      "Predicting defocus...\n",
      "saving ronchigram...\n"
     ]
    },
    {
     "name": "stderr",
     "output_type": "stream",
     "text": [
      "/home/chenyu/Desktop/Bayesian-optimization-using-Gaussian-Process/modules/OnlineGP.py:464: RuntimeWarning: invalid value encountered in add\n",
      "  K = K + x1_sum_sq + x2_sum_sq\n",
      "/home/chenyu/Desktop/Bayesian-optimization-using-Gaussian-Process/modules/OnlineGP.py:464: RuntimeWarning: invalid value encountered in add\n",
      "  K = K + x1_sum_sq + x2_sum_sq\n"
     ]
    },
    {
     "name": "stdout",
     "output_type": "stream",
     "text": [
      "255745.04495642672\n",
      "Predicting defocus...\n",
      "saving ronchigram...\n"
     ]
    },
    {
     "name": "stderr",
     "output_type": "stream",
     "text": [
      "/home/chenyu/Desktop/Bayesian-optimization-using-Gaussian-Process/modules/OnlineGP.py:464: RuntimeWarning: invalid value encountered in add\n",
      "  K = K + x1_sum_sq + x2_sum_sq\n",
      "/home/chenyu/Desktop/Bayesian-optimization-using-Gaussian-Process/modules/OnlineGP.py:464: RuntimeWarning: invalid value encountered in add\n",
      "  K = K + x1_sum_sq + x2_sum_sq\n",
      "/home/chenyu/Desktop/Bayesian-optimization-using-Gaussian-Process/modules/OnlineGP.py:464: RuntimeWarning: invalid value encountered in add\n",
      "  K = K + x1_sum_sq + x2_sum_sq\n"
     ]
    },
    {
     "name": "stdout",
     "output_type": "stream",
     "text": [
      "258818.7265773896\n",
      "Predicting defocus...\n",
      "saving ronchigram...\n"
     ]
    },
    {
     "name": "stderr",
     "output_type": "stream",
     "text": [
      "/home/chenyu/Desktop/Bayesian-optimization-using-Gaussian-Process/modules/OnlineGP.py:464: RuntimeWarning: invalid value encountered in add\n",
      "  K = K + x1_sum_sq + x2_sum_sq\n",
      "/home/chenyu/Desktop/Bayesian-optimization-using-Gaussian-Process/modules/OnlineGP.py:464: RuntimeWarning: invalid value encountered in add\n",
      "  K = K + x1_sum_sq + x2_sum_sq\n",
      "/home/chenyu/Desktop/Bayesian-optimization-using-Gaussian-Process/modules/OnlineGP.py:464: RuntimeWarning: invalid value encountered in add\n",
      "  K = K + x1_sum_sq + x2_sum_sq\n",
      "/home/chenyu/Desktop/Bayesian-optimization-using-Gaussian-Process/modules/OnlineGP.py:464: RuntimeWarning: invalid value encountered in add\n",
      "  K = K + x1_sum_sq + x2_sum_sq\n"
     ]
    },
    {
     "name": "stdout",
     "output_type": "stream",
     "text": [
      "260953.16550517431\n",
      "Predicting defocus...\n",
      "saving ronchigram...\n"
     ]
    },
    {
     "name": "stderr",
     "output_type": "stream",
     "text": [
      "/home/chenyu/Desktop/Bayesian-optimization-using-Gaussian-Process/modules/OnlineGP.py:464: RuntimeWarning: invalid value encountered in add\n",
      "  K = K + x1_sum_sq + x2_sum_sq\n",
      "/home/chenyu/Desktop/Bayesian-optimization-using-Gaussian-Process/modules/OnlineGP.py:464: RuntimeWarning: invalid value encountered in add\n",
      "  K = K + x1_sum_sq + x2_sum_sq\n",
      "/home/chenyu/Desktop/Bayesian-optimization-using-Gaussian-Process/modules/OnlineGP.py:464: RuntimeWarning: invalid value encountered in add\n",
      "  K = K + x1_sum_sq + x2_sum_sq\n",
      "/home/chenyu/Desktop/Bayesian-optimization-using-Gaussian-Process/modules/OnlineGP.py:464: RuntimeWarning: invalid value encountered in add\n",
      "  K = K + x1_sum_sq + x2_sum_sq\n",
      "/home/chenyu/Desktop/Bayesian-optimization-using-Gaussian-Process/modules/OnlineGP.py:464: RuntimeWarning: invalid value encountered in add\n",
      "  K = K + x1_sum_sq + x2_sum_sq\n"
     ]
    },
    {
     "name": "stdout",
     "output_type": "stream",
     "text": [
      "262870.24565964966\n",
      "Predicting defocus...\n",
      "saving ronchigram...\n"
     ]
    },
    {
     "name": "stderr",
     "output_type": "stream",
     "text": [
      "/home/chenyu/Desktop/Bayesian-optimization-using-Gaussian-Process/modules/OnlineGP.py:464: RuntimeWarning: invalid value encountered in add\n",
      "  K = K + x1_sum_sq + x2_sum_sq\n",
      "/home/chenyu/Desktop/Bayesian-optimization-using-Gaussian-Process/modules/OnlineGP.py:464: RuntimeWarning: invalid value encountered in add\n",
      "  K = K + x1_sum_sq + x2_sum_sq\n",
      "/home/chenyu/Desktop/Bayesian-optimization-using-Gaussian-Process/modules/OnlineGP.py:464: RuntimeWarning: invalid value encountered in add\n",
      "  K = K + x1_sum_sq + x2_sum_sq\n",
      "/home/chenyu/Desktop/Bayesian-optimization-using-Gaussian-Process/modules/OnlineGP.py:464: RuntimeWarning: invalid value encountered in add\n",
      "  K = K + x1_sum_sq + x2_sum_sq\n",
      "/home/chenyu/Desktop/Bayesian-optimization-using-Gaussian-Process/modules/OnlineGP.py:464: RuntimeWarning: invalid value encountered in add\n",
      "  K = K + x1_sum_sq + x2_sum_sq\n"
     ]
    },
    {
     "name": "stdout",
     "output_type": "stream",
     "text": [
      "260113.95044567058\n",
      "Predicting defocus...\n",
      "saving ronchigram...\n"
     ]
    },
    {
     "name": "stderr",
     "output_type": "stream",
     "text": [
      "/home/chenyu/Desktop/Bayesian-optimization-using-Gaussian-Process/modules/OnlineGP.py:464: RuntimeWarning: invalid value encountered in add\n",
      "  K = K + x1_sum_sq + x2_sum_sq\n",
      "/home/chenyu/Desktop/Bayesian-optimization-using-Gaussian-Process/modules/OnlineGP.py:464: RuntimeWarning: invalid value encountered in add\n",
      "  K = K + x1_sum_sq + x2_sum_sq\n",
      "/home/chenyu/Desktop/Bayesian-optimization-using-Gaussian-Process/modules/OnlineGP.py:464: RuntimeWarning: invalid value encountered in add\n",
      "  K = K + x1_sum_sq + x2_sum_sq\n",
      "/home/chenyu/Desktop/Bayesian-optimization-using-Gaussian-Process/modules/OnlineGP.py:464: RuntimeWarning: invalid value encountered in add\n",
      "  K = K + x1_sum_sq + x2_sum_sq\n",
      "/home/chenyu/Desktop/Bayesian-optimization-using-Gaussian-Process/modules/OnlineGP.py:464: RuntimeWarning: invalid value encountered in add\n",
      "  K = K + x1_sum_sq + x2_sum_sq\n"
     ]
    },
    {
     "name": "stdout",
     "output_type": "stream",
     "text": [
      "260791.12897904692\n",
      "Predicting defocus...\n",
      "saving ronchigram...\n"
     ]
    },
    {
     "name": "stderr",
     "output_type": "stream",
     "text": [
      "/home/chenyu/Desktop/Bayesian-optimization-using-Gaussian-Process/modules/OnlineGP.py:464: RuntimeWarning: invalid value encountered in add\n",
      "  K = K + x1_sum_sq + x2_sum_sq\n",
      "/home/chenyu/Desktop/Bayesian-optimization-using-Gaussian-Process/modules/OnlineGP.py:464: RuntimeWarning: invalid value encountered in add\n",
      "  K = K + x1_sum_sq + x2_sum_sq\n",
      "/home/chenyu/Desktop/Bayesian-optimization-using-Gaussian-Process/modules/OnlineGP.py:464: RuntimeWarning: invalid value encountered in add\n",
      "  K = K + x1_sum_sq + x2_sum_sq\n",
      "/home/chenyu/Desktop/Bayesian-optimization-using-Gaussian-Process/modules/OnlineGP.py:464: RuntimeWarning: invalid value encountered in add\n",
      "  K = K + x1_sum_sq + x2_sum_sq\n",
      "/home/chenyu/Desktop/Bayesian-optimization-using-Gaussian-Process/modules/OnlineGP.py:464: RuntimeWarning: invalid value encountered in add\n",
      "  K = K + x1_sum_sq + x2_sum_sq\n"
     ]
    },
    {
     "name": "stdout",
     "output_type": "stream",
     "text": [
      "260832.30485217515\n",
      "Predicting defocus...\n",
      "saving ronchigram...\n"
     ]
    },
    {
     "name": "stderr",
     "output_type": "stream",
     "text": [
      "/home/chenyu/Desktop/Bayesian-optimization-using-Gaussian-Process/modules/OnlineGP.py:464: RuntimeWarning: invalid value encountered in add\n",
      "  K = K + x1_sum_sq + x2_sum_sq\n",
      "/home/chenyu/Desktop/Bayesian-optimization-using-Gaussian-Process/modules/OnlineGP.py:464: RuntimeWarning: invalid value encountered in add\n",
      "  K = K + x1_sum_sq + x2_sum_sq\n",
      "/home/chenyu/Desktop/Bayesian-optimization-using-Gaussian-Process/modules/OnlineGP.py:464: RuntimeWarning: invalid value encountered in add\n",
      "  K = K + x1_sum_sq + x2_sum_sq\n",
      "/home/chenyu/Desktop/Bayesian-optimization-using-Gaussian-Process/modules/OnlineGP.py:464: RuntimeWarning: invalid value encountered in add\n",
      "  K = K + x1_sum_sq + x2_sum_sq\n",
      "/home/chenyu/Desktop/Bayesian-optimization-using-Gaussian-Process/modules/OnlineGP.py:464: RuntimeWarning: invalid value encountered in add\n",
      "  K = K + x1_sum_sq + x2_sum_sq\n"
     ]
    },
    {
     "name": "stdout",
     "output_type": "stream",
     "text": [
      "260832.06270819035\n",
      "Predicting defocus...\n",
      "saving ronchigram...\n"
     ]
    },
    {
     "name": "stderr",
     "output_type": "stream",
     "text": [
      "/home/chenyu/Desktop/Bayesian-optimization-using-Gaussian-Process/modules/OnlineGP.py:464: RuntimeWarning: invalid value encountered in add\n",
      "  K = K + x1_sum_sq + x2_sum_sq\n",
      "/home/chenyu/Desktop/Bayesian-optimization-using-Gaussian-Process/modules/OnlineGP.py:464: RuntimeWarning: invalid value encountered in add\n",
      "  K = K + x1_sum_sq + x2_sum_sq\n",
      "/home/chenyu/Desktop/Bayesian-optimization-using-Gaussian-Process/modules/OnlineGP.py:464: RuntimeWarning: invalid value encountered in add\n",
      "  K = K + x1_sum_sq + x2_sum_sq\n",
      "/home/chenyu/Desktop/Bayesian-optimization-using-Gaussian-Process/modules/OnlineGP.py:464: RuntimeWarning: invalid value encountered in add\n",
      "  K = K + x1_sum_sq + x2_sum_sq\n",
      "/home/chenyu/Desktop/Bayesian-optimization-using-Gaussian-Process/modules/OnlineGP.py:464: RuntimeWarning: invalid value encountered in add\n",
      "  K = K + x1_sum_sq + x2_sum_sq\n"
     ]
    },
    {
     "name": "stdout",
     "output_type": "stream",
     "text": [
      "260828.16459922458\n",
      "Predicting defocus...\n",
      "saving ronchigram...\n",
      "15 Finished.\n",
      "Model loaded\n",
      "Supposed to be grabbing initial machine state...\n",
      "252682.0074703927\n",
      "Predicting defocus...\n",
      "saving ronchigram...\n",
      "x_init [[0.94700125]]\n",
      "y_init [[0.12783176]]\n"
     ]
    },
    {
     "name": "stderr",
     "output_type": "stream",
     "text": [
      "/home/chenyu/Desktop/Bayesian-optimization-using-Gaussian-Process/modules/OnlineGP.py:464: RuntimeWarning: invalid value encountered in add\n",
      "  K = K + x1_sum_sq + x2_sum_sq\n"
     ]
    },
    {
     "name": "stdout",
     "output_type": "stream",
     "text": [
      "251577.98597915744\n",
      "Predicting defocus...\n",
      "saving ronchigram...\n"
     ]
    },
    {
     "name": "stderr",
     "output_type": "stream",
     "text": [
      "/home/chenyu/Desktop/Bayesian-optimization-using-Gaussian-Process/modules/OnlineGP.py:464: RuntimeWarning: invalid value encountered in add\n",
      "  K = K + x1_sum_sq + x2_sum_sq\n",
      "/home/chenyu/Desktop/Bayesian-optimization-using-Gaussian-Process/modules/OnlineGP.py:464: RuntimeWarning: invalid value encountered in add\n",
      "  K = K + x1_sum_sq + x2_sum_sq\n"
     ]
    },
    {
     "name": "stdout",
     "output_type": "stream",
     "text": [
      "247802.0597378846\n",
      "Predicting defocus...\n",
      "saving ronchigram...\n"
     ]
    },
    {
     "name": "stderr",
     "output_type": "stream",
     "text": [
      "/home/chenyu/Desktop/Bayesian-optimization-using-Gaussian-Process/modules/OnlineGP.py:464: RuntimeWarning: invalid value encountered in add\n",
      "  K = K + x1_sum_sq + x2_sum_sq\n",
      "/home/chenyu/Desktop/Bayesian-optimization-using-Gaussian-Process/modules/OnlineGP.py:464: RuntimeWarning: invalid value encountered in add\n",
      "  K = K + x1_sum_sq + x2_sum_sq\n",
      "/home/chenyu/Desktop/Bayesian-optimization-using-Gaussian-Process/modules/OnlineGP.py:464: RuntimeWarning: invalid value encountered in add\n",
      "  K = K + x1_sum_sq + x2_sum_sq\n"
     ]
    },
    {
     "name": "stdout",
     "output_type": "stream",
     "text": [
      "255401.6146784498\n",
      "Predicting defocus...\n",
      "saving ronchigram...\n"
     ]
    },
    {
     "name": "stderr",
     "output_type": "stream",
     "text": [
      "/home/chenyu/Desktop/Bayesian-optimization-using-Gaussian-Process/modules/OnlineGP.py:464: RuntimeWarning: invalid value encountered in add\n",
      "  K = K + x1_sum_sq + x2_sum_sq\n",
      "/home/chenyu/Desktop/Bayesian-optimization-using-Gaussian-Process/modules/OnlineGP.py:464: RuntimeWarning: invalid value encountered in add\n",
      "  K = K + x1_sum_sq + x2_sum_sq\n",
      "/home/chenyu/Desktop/Bayesian-optimization-using-Gaussian-Process/modules/OnlineGP.py:464: RuntimeWarning: invalid value encountered in add\n",
      "  K = K + x1_sum_sq + x2_sum_sq\n"
     ]
    },
    {
     "name": "stdout",
     "output_type": "stream",
     "text": [
      "258729.24978976644\n",
      "Predicting defocus...\n",
      "saving ronchigram...\n"
     ]
    },
    {
     "name": "stderr",
     "output_type": "stream",
     "text": [
      "/home/chenyu/Desktop/Bayesian-optimization-using-Gaussian-Process/modules/OnlineGP.py:464: RuntimeWarning: invalid value encountered in add\n",
      "  K = K + x1_sum_sq + x2_sum_sq\n",
      "/home/chenyu/Desktop/Bayesian-optimization-using-Gaussian-Process/modules/OnlineGP.py:464: RuntimeWarning: invalid value encountered in add\n",
      "  K = K + x1_sum_sq + x2_sum_sq\n",
      "/home/chenyu/Desktop/Bayesian-optimization-using-Gaussian-Process/modules/OnlineGP.py:464: RuntimeWarning: invalid value encountered in add\n",
      "  K = K + x1_sum_sq + x2_sum_sq\n",
      "/home/chenyu/Desktop/Bayesian-optimization-using-Gaussian-Process/modules/OnlineGP.py:464: RuntimeWarning: invalid value encountered in add\n",
      "  K = K + x1_sum_sq + x2_sum_sq\n"
     ]
    },
    {
     "name": "stdout",
     "output_type": "stream",
     "text": [
      "260760.96094686296\n",
      "Predicting defocus...\n",
      "saving ronchigram...\n"
     ]
    },
    {
     "name": "stderr",
     "output_type": "stream",
     "text": [
      "/home/chenyu/Desktop/Bayesian-optimization-using-Gaussian-Process/modules/OnlineGP.py:464: RuntimeWarning: invalid value encountered in add\n",
      "  K = K + x1_sum_sq + x2_sum_sq\n",
      "/home/chenyu/Desktop/Bayesian-optimization-using-Gaussian-Process/modules/OnlineGP.py:464: RuntimeWarning: invalid value encountered in add\n",
      "  K = K + x1_sum_sq + x2_sum_sq\n",
      "/home/chenyu/Desktop/Bayesian-optimization-using-Gaussian-Process/modules/OnlineGP.py:464: RuntimeWarning: invalid value encountered in add\n",
      "  K = K + x1_sum_sq + x2_sum_sq\n",
      "/home/chenyu/Desktop/Bayesian-optimization-using-Gaussian-Process/modules/OnlineGP.py:464: RuntimeWarning: invalid value encountered in add\n",
      "  K = K + x1_sum_sq + x2_sum_sq\n",
      "/home/chenyu/Desktop/Bayesian-optimization-using-Gaussian-Process/modules/OnlineGP.py:464: RuntimeWarning: invalid value encountered in add\n",
      "  K = K + x1_sum_sq + x2_sum_sq\n"
     ]
    },
    {
     "name": "stdout",
     "output_type": "stream",
     "text": [
      "262640.7262347043\n",
      "Predicting defocus...\n",
      "saving ronchigram...\n"
     ]
    },
    {
     "name": "stderr",
     "output_type": "stream",
     "text": [
      "/home/chenyu/Desktop/Bayesian-optimization-using-Gaussian-Process/modules/OnlineGP.py:464: RuntimeWarning: invalid value encountered in add\n",
      "  K = K + x1_sum_sq + x2_sum_sq\n",
      "/home/chenyu/Desktop/Bayesian-optimization-using-Gaussian-Process/modules/OnlineGP.py:464: RuntimeWarning: invalid value encountered in add\n",
      "  K = K + x1_sum_sq + x2_sum_sq\n",
      "/home/chenyu/Desktop/Bayesian-optimization-using-Gaussian-Process/modules/OnlineGP.py:464: RuntimeWarning: invalid value encountered in add\n",
      "  K = K + x1_sum_sq + x2_sum_sq\n",
      "/home/chenyu/Desktop/Bayesian-optimization-using-Gaussian-Process/modules/OnlineGP.py:464: RuntimeWarning: invalid value encountered in add\n",
      "  K = K + x1_sum_sq + x2_sum_sq\n",
      "/home/chenyu/Desktop/Bayesian-optimization-using-Gaussian-Process/modules/OnlineGP.py:464: RuntimeWarning: invalid value encountered in add\n",
      "  K = K + x1_sum_sq + x2_sum_sq\n"
     ]
    },
    {
     "name": "stdout",
     "output_type": "stream",
     "text": [
      "261575.6819146181\n",
      "Predicting defocus...\n",
      "saving ronchigram...\n"
     ]
    },
    {
     "name": "stderr",
     "output_type": "stream",
     "text": [
      "/home/chenyu/Desktop/Bayesian-optimization-using-Gaussian-Process/modules/OnlineGP.py:464: RuntimeWarning: invalid value encountered in add\n",
      "  K = K + x1_sum_sq + x2_sum_sq\n",
      "/home/chenyu/Desktop/Bayesian-optimization-using-Gaussian-Process/modules/OnlineGP.py:464: RuntimeWarning: invalid value encountered in add\n",
      "  K = K + x1_sum_sq + x2_sum_sq\n",
      "/home/chenyu/Desktop/Bayesian-optimization-using-Gaussian-Process/modules/OnlineGP.py:464: RuntimeWarning: invalid value encountered in add\n",
      "  K = K + x1_sum_sq + x2_sum_sq\n",
      "/home/chenyu/Desktop/Bayesian-optimization-using-Gaussian-Process/modules/OnlineGP.py:464: RuntimeWarning: invalid value encountered in add\n",
      "  K = K + x1_sum_sq + x2_sum_sq\n",
      "/home/chenyu/Desktop/Bayesian-optimization-using-Gaussian-Process/modules/OnlineGP.py:464: RuntimeWarning: invalid value encountered in add\n",
      "  K = K + x1_sum_sq + x2_sum_sq\n"
     ]
    },
    {
     "name": "stdout",
     "output_type": "stream",
     "text": [
      "261349.29432617992\n",
      "Predicting defocus...\n",
      "saving ronchigram...\n"
     ]
    },
    {
     "name": "stderr",
     "output_type": "stream",
     "text": [
      "/home/chenyu/Desktop/Bayesian-optimization-using-Gaussian-Process/modules/OnlineGP.py:464: RuntimeWarning: invalid value encountered in add\n",
      "  K = K + x1_sum_sq + x2_sum_sq\n",
      "/home/chenyu/Desktop/Bayesian-optimization-using-Gaussian-Process/modules/OnlineGP.py:464: RuntimeWarning: invalid value encountered in add\n",
      "  K = K + x1_sum_sq + x2_sum_sq\n",
      "/home/chenyu/Desktop/Bayesian-optimization-using-Gaussian-Process/modules/OnlineGP.py:464: RuntimeWarning: invalid value encountered in add\n",
      "  K = K + x1_sum_sq + x2_sum_sq\n",
      "/home/chenyu/Desktop/Bayesian-optimization-using-Gaussian-Process/modules/OnlineGP.py:464: RuntimeWarning: invalid value encountered in add\n",
      "  K = K + x1_sum_sq + x2_sum_sq\n",
      "/home/chenyu/Desktop/Bayesian-optimization-using-Gaussian-Process/modules/OnlineGP.py:464: RuntimeWarning: invalid value encountered in add\n",
      "  K = K + x1_sum_sq + x2_sum_sq\n"
     ]
    },
    {
     "name": "stdout",
     "output_type": "stream",
     "text": [
      "261252.74190184876\n",
      "Predicting defocus...\n",
      "saving ronchigram...\n"
     ]
    },
    {
     "name": "stderr",
     "output_type": "stream",
     "text": [
      "/home/chenyu/Desktop/Bayesian-optimization-using-Gaussian-Process/modules/OnlineGP.py:464: RuntimeWarning: invalid value encountered in add\n",
      "  K = K + x1_sum_sq + x2_sum_sq\n",
      "/home/chenyu/Desktop/Bayesian-optimization-using-Gaussian-Process/modules/OnlineGP.py:464: RuntimeWarning: invalid value encountered in add\n",
      "  K = K + x1_sum_sq + x2_sum_sq\n",
      "/home/chenyu/Desktop/Bayesian-optimization-using-Gaussian-Process/modules/OnlineGP.py:464: RuntimeWarning: invalid value encountered in add\n",
      "  K = K + x1_sum_sq + x2_sum_sq\n",
      "/home/chenyu/Desktop/Bayesian-optimization-using-Gaussian-Process/modules/OnlineGP.py:464: RuntimeWarning: invalid value encountered in add\n",
      "  K = K + x1_sum_sq + x2_sum_sq\n",
      "/home/chenyu/Desktop/Bayesian-optimization-using-Gaussian-Process/modules/OnlineGP.py:464: RuntimeWarning: invalid value encountered in add\n",
      "  K = K + x1_sum_sq + x2_sum_sq\n"
     ]
    },
    {
     "name": "stdout",
     "output_type": "stream",
     "text": [
      "261231.29068324403\n",
      "Predicting defocus...\n",
      "saving ronchigram...\n",
      "16 Finished.\n",
      "Model loaded\n",
      "Supposed to be grabbing initial machine state...\n",
      "252173.96038055528\n",
      "Predicting defocus...\n",
      "saving ronchigram...\n",
      "x_init [[0.86232673]]\n",
      "y_init [[0.14457166]]\n"
     ]
    },
    {
     "name": "stderr",
     "output_type": "stream",
     "text": [
      "/home/chenyu/Desktop/Bayesian-optimization-using-Gaussian-Process/modules/OnlineGP.py:464: RuntimeWarning: invalid value encountered in add\n",
      "  K = K + x1_sum_sq + x2_sum_sq\n"
     ]
    },
    {
     "name": "stdout",
     "output_type": "stream",
     "text": [
      "251069.93888932\n",
      "Predicting defocus...\n",
      "saving ronchigram...\n"
     ]
    },
    {
     "name": "stderr",
     "output_type": "stream",
     "text": [
      "/home/chenyu/Desktop/Bayesian-optimization-using-Gaussian-Process/modules/OnlineGP.py:464: RuntimeWarning: invalid value encountered in add\n",
      "  K = K + x1_sum_sq + x2_sum_sq\n",
      "/home/chenyu/Desktop/Bayesian-optimization-using-Gaussian-Process/modules/OnlineGP.py:464: RuntimeWarning: invalid value encountered in add\n",
      "  K = K + x1_sum_sq + x2_sum_sq\n"
     ]
    },
    {
     "name": "stdout",
     "output_type": "stream",
     "text": [
      "254979.04060773813\n",
      "Predicting defocus...\n",
      "saving ronchigram...\n"
     ]
    },
    {
     "name": "stderr",
     "output_type": "stream",
     "text": [
      "/home/chenyu/Desktop/Bayesian-optimization-using-Gaussian-Process/modules/OnlineGP.py:464: RuntimeWarning: invalid value encountered in add\n",
      "  K = K + x1_sum_sq + x2_sum_sq\n",
      "/home/chenyu/Desktop/Bayesian-optimization-using-Gaussian-Process/modules/OnlineGP.py:464: RuntimeWarning: invalid value encountered in add\n",
      "  K = K + x1_sum_sq + x2_sum_sq\n",
      "/home/chenyu/Desktop/Bayesian-optimization-using-Gaussian-Process/modules/OnlineGP.py:464: RuntimeWarning: invalid value encountered in add\n",
      "  K = K + x1_sum_sq + x2_sum_sq\n"
     ]
    },
    {
     "name": "stdout",
     "output_type": "stream",
     "text": [
      "258000.11367545443\n",
      "Predicting defocus...\n",
      "saving ronchigram...\n"
     ]
    },
    {
     "name": "stderr",
     "output_type": "stream",
     "text": [
      "/home/chenyu/Desktop/Bayesian-optimization-using-Gaussian-Process/modules/OnlineGP.py:464: RuntimeWarning: invalid value encountered in add\n",
      "  K = K + x1_sum_sq + x2_sum_sq\n",
      "/home/chenyu/Desktop/Bayesian-optimization-using-Gaussian-Process/modules/OnlineGP.py:464: RuntimeWarning: invalid value encountered in add\n",
      "  K = K + x1_sum_sq + x2_sum_sq\n",
      "/home/chenyu/Desktop/Bayesian-optimization-using-Gaussian-Process/modules/OnlineGP.py:464: RuntimeWarning: invalid value encountered in add\n",
      "  K = K + x1_sum_sq + x2_sum_sq\n",
      "/home/chenyu/Desktop/Bayesian-optimization-using-Gaussian-Process/modules/OnlineGP.py:464: RuntimeWarning: invalid value encountered in add\n",
      "  K = K + x1_sum_sq + x2_sum_sq\n"
     ]
    },
    {
     "name": "stdout",
     "output_type": "stream",
     "text": [
      "259939.72276898095\n",
      "Predicting defocus...\n",
      "saving ronchigram...\n"
     ]
    },
    {
     "name": "stderr",
     "output_type": "stream",
     "text": [
      "/home/chenyu/Desktop/Bayesian-optimization-using-Gaussian-Process/modules/OnlineGP.py:464: RuntimeWarning: invalid value encountered in add\n",
      "  K = K + x1_sum_sq + x2_sum_sq\n",
      "/home/chenyu/Desktop/Bayesian-optimization-using-Gaussian-Process/modules/OnlineGP.py:464: RuntimeWarning: invalid value encountered in add\n",
      "  K = K + x1_sum_sq + x2_sum_sq\n",
      "/home/chenyu/Desktop/Bayesian-optimization-using-Gaussian-Process/modules/OnlineGP.py:464: RuntimeWarning: invalid value encountered in add\n",
      "  K = K + x1_sum_sq + x2_sum_sq\n",
      "/home/chenyu/Desktop/Bayesian-optimization-using-Gaussian-Process/modules/OnlineGP.py:464: RuntimeWarning: invalid value encountered in add\n",
      "  K = K + x1_sum_sq + x2_sum_sq\n",
      "/home/chenyu/Desktop/Bayesian-optimization-using-Gaussian-Process/modules/OnlineGP.py:464: RuntimeWarning: invalid value encountered in add\n",
      "  K = K + x1_sum_sq + x2_sum_sq\n"
     ]
    },
    {
     "name": "stdout",
     "output_type": "stream",
     "text": [
      "256885.5496720897\n",
      "Predicting defocus...\n",
      "saving ronchigram...\n"
     ]
    },
    {
     "name": "stderr",
     "output_type": "stream",
     "text": [
      "/home/chenyu/Desktop/Bayesian-optimization-using-Gaussian-Process/modules/OnlineGP.py:464: RuntimeWarning: invalid value encountered in add\n",
      "  K = K + x1_sum_sq + x2_sum_sq\n",
      "/home/chenyu/Desktop/Bayesian-optimization-using-Gaussian-Process/modules/OnlineGP.py:464: RuntimeWarning: invalid value encountered in add\n",
      "  K = K + x1_sum_sq + x2_sum_sq\n",
      "/home/chenyu/Desktop/Bayesian-optimization-using-Gaussian-Process/modules/OnlineGP.py:464: RuntimeWarning: invalid value encountered in add\n",
      "  K = K + x1_sum_sq + x2_sum_sq\n",
      "/home/chenyu/Desktop/Bayesian-optimization-using-Gaussian-Process/modules/OnlineGP.py:464: RuntimeWarning: invalid value encountered in add\n",
      "  K = K + x1_sum_sq + x2_sum_sq\n",
      "/home/chenyu/Desktop/Bayesian-optimization-using-Gaussian-Process/modules/OnlineGP.py:464: RuntimeWarning: invalid value encountered in add\n",
      "  K = K + x1_sum_sq + x2_sum_sq\n"
     ]
    },
    {
     "name": "stdout",
     "output_type": "stream",
     "text": [
      "262591.5496720897\n",
      "Predicting defocus...\n",
      "saving ronchigram...\n"
     ]
    },
    {
     "name": "stderr",
     "output_type": "stream",
     "text": [
      "/home/chenyu/Desktop/Bayesian-optimization-using-Gaussian-Process/modules/OnlineGP.py:464: RuntimeWarning: invalid value encountered in add\n",
      "  K = K + x1_sum_sq + x2_sum_sq\n",
      "/home/chenyu/Desktop/Bayesian-optimization-using-Gaussian-Process/modules/OnlineGP.py:464: RuntimeWarning: invalid value encountered in add\n",
      "  K = K + x1_sum_sq + x2_sum_sq\n",
      "/home/chenyu/Desktop/Bayesian-optimization-using-Gaussian-Process/modules/OnlineGP.py:464: RuntimeWarning: invalid value encountered in add\n",
      "  K = K + x1_sum_sq + x2_sum_sq\n",
      "/home/chenyu/Desktop/Bayesian-optimization-using-Gaussian-Process/modules/OnlineGP.py:464: RuntimeWarning: invalid value encountered in add\n",
      "  K = K + x1_sum_sq + x2_sum_sq\n",
      "/home/chenyu/Desktop/Bayesian-optimization-using-Gaussian-Process/modules/OnlineGP.py:464: RuntimeWarning: invalid value encountered in add\n",
      "  K = K + x1_sum_sq + x2_sum_sq\n"
     ]
    },
    {
     "name": "stdout",
     "output_type": "stream",
     "text": [
      "256916.2306021026\n",
      "Predicting defocus...\n",
      "saving ronchigram...\n"
     ]
    },
    {
     "name": "stderr",
     "output_type": "stream",
     "text": [
      "/home/chenyu/Desktop/Bayesian-optimization-using-Gaussian-Process/modules/OnlineGP.py:464: RuntimeWarning: invalid value encountered in add\n",
      "  K = K + x1_sum_sq + x2_sum_sq\n",
      "/home/chenyu/Desktop/Bayesian-optimization-using-Gaussian-Process/modules/OnlineGP.py:464: RuntimeWarning: invalid value encountered in add\n",
      "  K = K + x1_sum_sq + x2_sum_sq\n",
      "/home/chenyu/Desktop/Bayesian-optimization-using-Gaussian-Process/modules/OnlineGP.py:464: RuntimeWarning: invalid value encountered in add\n",
      "  K = K + x1_sum_sq + x2_sum_sq\n",
      "/home/chenyu/Desktop/Bayesian-optimization-using-Gaussian-Process/modules/OnlineGP.py:464: RuntimeWarning: invalid value encountered in add\n",
      "  K = K + x1_sum_sq + x2_sum_sq\n",
      "/home/chenyu/Desktop/Bayesian-optimization-using-Gaussian-Process/modules/OnlineGP.py:464: RuntimeWarning: invalid value encountered in add\n",
      "  K = K + x1_sum_sq + x2_sum_sq\n"
     ]
    },
    {
     "name": "stdout",
     "output_type": "stream",
     "text": [
      "256961.87889251765\n",
      "Predicting defocus...\n",
      "saving ronchigram...\n"
     ]
    },
    {
     "name": "stderr",
     "output_type": "stream",
     "text": [
      "/home/chenyu/Desktop/Bayesian-optimization-using-Gaussian-Process/modules/OnlineGP.py:464: RuntimeWarning: invalid value encountered in add\n",
      "  K = K + x1_sum_sq + x2_sum_sq\n",
      "/home/chenyu/Desktop/Bayesian-optimization-using-Gaussian-Process/modules/OnlineGP.py:464: RuntimeWarning: invalid value encountered in add\n",
      "  K = K + x1_sum_sq + x2_sum_sq\n",
      "/home/chenyu/Desktop/Bayesian-optimization-using-Gaussian-Process/modules/OnlineGP.py:464: RuntimeWarning: invalid value encountered in add\n",
      "  K = K + x1_sum_sq + x2_sum_sq\n",
      "/home/chenyu/Desktop/Bayesian-optimization-using-Gaussian-Process/modules/OnlineGP.py:464: RuntimeWarning: invalid value encountered in add\n",
      "  K = K + x1_sum_sq + x2_sum_sq\n",
      "/home/chenyu/Desktop/Bayesian-optimization-using-Gaussian-Process/modules/OnlineGP.py:464: RuntimeWarning: invalid value encountered in add\n",
      "  K = K + x1_sum_sq + x2_sum_sq\n"
     ]
    },
    {
     "name": "stdout",
     "output_type": "stream",
     "text": [
      "256979.33265542786\n",
      "Predicting defocus...\n",
      "saving ronchigram...\n"
     ]
    },
    {
     "name": "stderr",
     "output_type": "stream",
     "text": [
      "/home/chenyu/Desktop/Bayesian-optimization-using-Gaussian-Process/modules/OnlineGP.py:464: RuntimeWarning: invalid value encountered in add\n",
      "  K = K + x1_sum_sq + x2_sum_sq\n",
      "/home/chenyu/Desktop/Bayesian-optimization-using-Gaussian-Process/modules/OnlineGP.py:464: RuntimeWarning: invalid value encountered in add\n",
      "  K = K + x1_sum_sq + x2_sum_sq\n",
      "/home/chenyu/Desktop/Bayesian-optimization-using-Gaussian-Process/modules/OnlineGP.py:464: RuntimeWarning: invalid value encountered in add\n",
      "  K = K + x1_sum_sq + x2_sum_sq\n",
      "/home/chenyu/Desktop/Bayesian-optimization-using-Gaussian-Process/modules/OnlineGP.py:464: RuntimeWarning: invalid value encountered in add\n",
      "  K = K + x1_sum_sq + x2_sum_sq\n",
      "/home/chenyu/Desktop/Bayesian-optimization-using-Gaussian-Process/modules/OnlineGP.py:464: RuntimeWarning: invalid value encountered in add\n",
      "  K = K + x1_sum_sq + x2_sum_sq\n"
     ]
    },
    {
     "name": "stdout",
     "output_type": "stream",
     "text": [
      "256972.55890976012\n",
      "Predicting defocus...\n",
      "saving ronchigram...\n",
      "17 Finished.\n",
      "Model loaded\n",
      "Supposed to be grabbing initial machine state...\n",
      "247286.54687578883\n",
      "Predicting defocus...\n",
      "saving ronchigram...\n",
      "x_init [[0.04775781]]\n",
      "y_init [[0.15438724]]\n"
     ]
    },
    {
     "name": "stderr",
     "output_type": "stream",
     "text": [
      "/home/chenyu/Desktop/Bayesian-optimization-using-Gaussian-Process/modules/OnlineGP.py:464: RuntimeWarning: invalid value encountered in add\n",
      "  K = K + x1_sum_sq + x2_sum_sq\n"
     ]
    },
    {
     "name": "stdout",
     "output_type": "stream",
     "text": [
      "246182.52538455356\n",
      "Predicting defocus...\n",
      "saving ronchigram...\n"
     ]
    },
    {
     "name": "stderr",
     "output_type": "stream",
     "text": [
      "/home/chenyu/Desktop/Bayesian-optimization-using-Gaussian-Process/modules/OnlineGP.py:464: RuntimeWarning: invalid value encountered in add\n",
      "  K = K + x1_sum_sq + x2_sum_sq\n",
      "/home/chenyu/Desktop/Bayesian-optimization-using-Gaussian-Process/modules/OnlineGP.py:464: RuntimeWarning: invalid value encountered in add\n",
      "  K = K + x1_sum_sq + x2_sum_sq\n"
     ]
    },
    {
     "name": "stdout",
     "output_type": "stream",
     "text": [
      "250958.17437663482\n",
      "Predicting defocus...\n",
      "saving ronchigram...\n"
     ]
    },
    {
     "name": "stderr",
     "output_type": "stream",
     "text": [
      "/home/chenyu/Desktop/Bayesian-optimization-using-Gaussian-Process/modules/OnlineGP.py:464: RuntimeWarning: invalid value encountered in add\n",
      "  K = K + x1_sum_sq + x2_sum_sq\n",
      "/home/chenyu/Desktop/Bayesian-optimization-using-Gaussian-Process/modules/OnlineGP.py:464: RuntimeWarning: invalid value encountered in add\n",
      "  K = K + x1_sum_sq + x2_sum_sq\n",
      "/home/chenyu/Desktop/Bayesian-optimization-using-Gaussian-Process/modules/OnlineGP.py:464: RuntimeWarning: invalid value encountered in add\n",
      "  K = K + x1_sum_sq + x2_sum_sq\n"
     ]
    },
    {
     "name": "stdout",
     "output_type": "stream",
     "text": [
      "254331.989116333\n",
      "Predicting defocus...\n",
      "saving ronchigram...\n"
     ]
    },
    {
     "name": "stderr",
     "output_type": "stream",
     "text": [
      "/home/chenyu/Desktop/Bayesian-optimization-using-Gaussian-Process/modules/OnlineGP.py:464: RuntimeWarning: invalid value encountered in add\n",
      "  K = K + x1_sum_sq + x2_sum_sq\n",
      "/home/chenyu/Desktop/Bayesian-optimization-using-Gaussian-Process/modules/OnlineGP.py:464: RuntimeWarning: invalid value encountered in add\n",
      "  K = K + x1_sum_sq + x2_sum_sq\n",
      "/home/chenyu/Desktop/Bayesian-optimization-using-Gaussian-Process/modules/OnlineGP.py:464: RuntimeWarning: invalid value encountered in add\n",
      "  K = K + x1_sum_sq + x2_sum_sq\n",
      "/home/chenyu/Desktop/Bayesian-optimization-using-Gaussian-Process/modules/OnlineGP.py:464: RuntimeWarning: invalid value encountered in add\n",
      "  K = K + x1_sum_sq + x2_sum_sq\n"
     ]
    },
    {
     "name": "stdout",
     "output_type": "stream",
     "text": [
      "256942.9471439924\n",
      "Predicting defocus...\n",
      "saving ronchigram...\n"
     ]
    },
    {
     "name": "stderr",
     "output_type": "stream",
     "text": [
      "/home/chenyu/Desktop/Bayesian-optimization-using-Gaussian-Process/modules/OnlineGP.py:464: RuntimeWarning: invalid value encountered in add\n",
      "  K = K + x1_sum_sq + x2_sum_sq\n",
      "/home/chenyu/Desktop/Bayesian-optimization-using-Gaussian-Process/modules/OnlineGP.py:464: RuntimeWarning: invalid value encountered in add\n",
      "  K = K + x1_sum_sq + x2_sum_sq\n",
      "/home/chenyu/Desktop/Bayesian-optimization-using-Gaussian-Process/modules/OnlineGP.py:464: RuntimeWarning: invalid value encountered in add\n",
      "  K = K + x1_sum_sq + x2_sum_sq\n",
      "/home/chenyu/Desktop/Bayesian-optimization-using-Gaussian-Process/modules/OnlineGP.py:464: RuntimeWarning: invalid value encountered in add\n",
      "  K = K + x1_sum_sq + x2_sum_sq\n",
      "/home/chenyu/Desktop/Bayesian-optimization-using-Gaussian-Process/modules/OnlineGP.py:464: RuntimeWarning: invalid value encountered in add\n",
      "  K = K + x1_sum_sq + x2_sum_sq\n"
     ]
    },
    {
     "name": "stdout",
     "output_type": "stream",
     "text": [
      "258859.18068327988\n",
      "Predicting defocus...\n",
      "saving ronchigram...\n"
     ]
    },
    {
     "name": "stderr",
     "output_type": "stream",
     "text": [
      "/home/chenyu/Desktop/Bayesian-optimization-using-Gaussian-Process/modules/OnlineGP.py:464: RuntimeWarning: invalid value encountered in add\n",
      "  K = K + x1_sum_sq + x2_sum_sq\n",
      "/home/chenyu/Desktop/Bayesian-optimization-using-Gaussian-Process/modules/OnlineGP.py:464: RuntimeWarning: invalid value encountered in add\n",
      "  K = K + x1_sum_sq + x2_sum_sq\n",
      "/home/chenyu/Desktop/Bayesian-optimization-using-Gaussian-Process/modules/OnlineGP.py:464: RuntimeWarning: invalid value encountered in add\n",
      "  K = K + x1_sum_sq + x2_sum_sq\n",
      "/home/chenyu/Desktop/Bayesian-optimization-using-Gaussian-Process/modules/OnlineGP.py:464: RuntimeWarning: invalid value encountered in add\n",
      "  K = K + x1_sum_sq + x2_sum_sq\n",
      "/home/chenyu/Desktop/Bayesian-optimization-using-Gaussian-Process/modules/OnlineGP.py:464: RuntimeWarning: invalid value encountered in add\n",
      "  K = K + x1_sum_sq + x2_sum_sq\n"
     ]
    },
    {
     "name": "stdout",
     "output_type": "stream",
     "text": [
      "255974.0078084806\n",
      "Predicting defocus...\n",
      "saving ronchigram...\n"
     ]
    },
    {
     "name": "stderr",
     "output_type": "stream",
     "text": [
      "/home/chenyu/Desktop/Bayesian-optimization-using-Gaussian-Process/modules/OnlineGP.py:464: RuntimeWarning: invalid value encountered in add\n",
      "  K = K + x1_sum_sq + x2_sum_sq\n",
      "/home/chenyu/Desktop/Bayesian-optimization-using-Gaussian-Process/modules/OnlineGP.py:464: RuntimeWarning: invalid value encountered in add\n",
      "  K = K + x1_sum_sq + x2_sum_sq\n",
      "/home/chenyu/Desktop/Bayesian-optimization-using-Gaussian-Process/modules/OnlineGP.py:464: RuntimeWarning: invalid value encountered in add\n",
      "  K = K + x1_sum_sq + x2_sum_sq\n",
      "/home/chenyu/Desktop/Bayesian-optimization-using-Gaussian-Process/modules/OnlineGP.py:464: RuntimeWarning: invalid value encountered in add\n",
      "  K = K + x1_sum_sq + x2_sum_sq\n",
      "/home/chenyu/Desktop/Bayesian-optimization-using-Gaussian-Process/modules/OnlineGP.py:464: RuntimeWarning: invalid value encountered in add\n",
      "  K = K + x1_sum_sq + x2_sum_sq\n"
     ]
    },
    {
     "name": "stdout",
     "output_type": "stream",
     "text": [
      "262648.9471439924\n",
      "Predicting defocus...\n",
      "saving ronchigram...\n"
     ]
    },
    {
     "name": "stderr",
     "output_type": "stream",
     "text": [
      "/home/chenyu/Desktop/Bayesian-optimization-using-Gaussian-Process/modules/OnlineGP.py:464: RuntimeWarning: invalid value encountered in add\n",
      "  K = K + x1_sum_sq + x2_sum_sq\n",
      "/home/chenyu/Desktop/Bayesian-optimization-using-Gaussian-Process/modules/OnlineGP.py:464: RuntimeWarning: invalid value encountered in add\n",
      "  K = K + x1_sum_sq + x2_sum_sq\n",
      "/home/chenyu/Desktop/Bayesian-optimization-using-Gaussian-Process/modules/OnlineGP.py:464: RuntimeWarning: invalid value encountered in add\n",
      "  K = K + x1_sum_sq + x2_sum_sq\n",
      "/home/chenyu/Desktop/Bayesian-optimization-using-Gaussian-Process/modules/OnlineGP.py:464: RuntimeWarning: invalid value encountered in add\n",
      "  K = K + x1_sum_sq + x2_sum_sq\n",
      "/home/chenyu/Desktop/Bayesian-optimization-using-Gaussian-Process/modules/OnlineGP.py:464: RuntimeWarning: invalid value encountered in add\n",
      "  K = K + x1_sum_sq + x2_sum_sq\n"
     ]
    },
    {
     "name": "stdout",
     "output_type": "stream",
     "text": [
      "256890.38062696668\n",
      "Predicting defocus...\n",
      "saving ronchigram...\n"
     ]
    },
    {
     "name": "stderr",
     "output_type": "stream",
     "text": [
      "/home/chenyu/Desktop/Bayesian-optimization-using-Gaussian-Process/modules/OnlineGP.py:464: RuntimeWarning: invalid value encountered in add\n",
      "  K = K + x1_sum_sq + x2_sum_sq\n",
      "/home/chenyu/Desktop/Bayesian-optimization-using-Gaussian-Process/modules/OnlineGP.py:464: RuntimeWarning: invalid value encountered in add\n",
      "  K = K + x1_sum_sq + x2_sum_sq\n",
      "/home/chenyu/Desktop/Bayesian-optimization-using-Gaussian-Process/modules/OnlineGP.py:464: RuntimeWarning: invalid value encountered in add\n",
      "  K = K + x1_sum_sq + x2_sum_sq\n",
      "/home/chenyu/Desktop/Bayesian-optimization-using-Gaussian-Process/modules/OnlineGP.py:464: RuntimeWarning: invalid value encountered in add\n",
      "  K = K + x1_sum_sq + x2_sum_sq\n",
      "/home/chenyu/Desktop/Bayesian-optimization-using-Gaussian-Process/modules/OnlineGP.py:464: RuntimeWarning: invalid value encountered in add\n",
      "  K = K + x1_sum_sq + x2_sum_sq\n"
     ]
    },
    {
     "name": "stdout",
     "output_type": "stream",
     "text": [
      "256823.00308226573\n",
      "Predicting defocus...\n",
      "saving ronchigram...\n"
     ]
    },
    {
     "name": "stderr",
     "output_type": "stream",
     "text": [
      "/home/chenyu/Desktop/Bayesian-optimization-using-Gaussian-Process/modules/OnlineGP.py:464: RuntimeWarning: invalid value encountered in add\n",
      "  K = K + x1_sum_sq + x2_sum_sq\n",
      "/home/chenyu/Desktop/Bayesian-optimization-using-Gaussian-Process/modules/OnlineGP.py:464: RuntimeWarning: invalid value encountered in add\n",
      "  K = K + x1_sum_sq + x2_sum_sq\n",
      "/home/chenyu/Desktop/Bayesian-optimization-using-Gaussian-Process/modules/OnlineGP.py:464: RuntimeWarning: invalid value encountered in add\n",
      "  K = K + x1_sum_sq + x2_sum_sq\n",
      "/home/chenyu/Desktop/Bayesian-optimization-using-Gaussian-Process/modules/OnlineGP.py:464: RuntimeWarning: invalid value encountered in add\n",
      "  K = K + x1_sum_sq + x2_sum_sq\n",
      "/home/chenyu/Desktop/Bayesian-optimization-using-Gaussian-Process/modules/OnlineGP.py:464: RuntimeWarning: invalid value encountered in add\n",
      "  K = K + x1_sum_sq + x2_sum_sq\n"
     ]
    },
    {
     "name": "stdout",
     "output_type": "stream",
     "text": [
      "256809.35497518152\n",
      "Predicting defocus...\n",
      "saving ronchigram...\n",
      "18 Finished.\n",
      "Model loaded\n",
      "Supposed to be grabbing initial machine state...\n",
      "251347.20616251684\n",
      "Predicting defocus...\n",
      "saving ronchigram...\n",
      "x_init [[0.72453436]]\n",
      "y_init [[0.10488808]]\n"
     ]
    },
    {
     "name": "stderr",
     "output_type": "stream",
     "text": [
      "/home/chenyu/Desktop/Bayesian-optimization-using-Gaussian-Process/modules/OnlineGP.py:464: RuntimeWarning: invalid value encountered in add\n",
      "  K = K + x1_sum_sq + x2_sum_sq\n"
     ]
    },
    {
     "name": "stdout",
     "output_type": "stream",
     "text": [
      "250243.18467128157\n",
      "Predicting defocus...\n",
      "saving ronchigram...\n"
     ]
    },
    {
     "name": "stderr",
     "output_type": "stream",
     "text": [
      "/home/chenyu/Desktop/Bayesian-optimization-using-Gaussian-Process/modules/OnlineGP.py:464: RuntimeWarning: invalid value encountered in add\n",
      "  K = K + x1_sum_sq + x2_sum_sq\n",
      "/home/chenyu/Desktop/Bayesian-optimization-using-Gaussian-Process/modules/OnlineGP.py:464: RuntimeWarning: invalid value encountered in add\n",
      "  K = K + x1_sum_sq + x2_sum_sq\n"
     ]
    },
    {
     "name": "stdout",
     "output_type": "stream",
     "text": [
      "246500.70168774299\n",
      "Predicting defocus...\n",
      "saving ronchigram...\n"
     ]
    },
    {
     "name": "stderr",
     "output_type": "stream",
     "text": [
      "/home/chenyu/Desktop/Bayesian-optimization-using-Gaussian-Process/modules/OnlineGP.py:464: RuntimeWarning: invalid value encountered in add\n",
      "  K = K + x1_sum_sq + x2_sum_sq\n",
      "/home/chenyu/Desktop/Bayesian-optimization-using-Gaussian-Process/modules/OnlineGP.py:464: RuntimeWarning: invalid value encountered in add\n",
      "  K = K + x1_sum_sq + x2_sum_sq\n",
      "/home/chenyu/Desktop/Bayesian-optimization-using-Gaussian-Process/modules/OnlineGP.py:464: RuntimeWarning: invalid value encountered in add\n",
      "  K = K + x1_sum_sq + x2_sum_sq\n"
     ]
    },
    {
     "name": "stdout",
     "output_type": "stream",
     "text": [
      "254081.455821648\n",
      "Predicting defocus...\n",
      "saving ronchigram...\n"
     ]
    },
    {
     "name": "stderr",
     "output_type": "stream",
     "text": [
      "/home/chenyu/Desktop/Bayesian-optimization-using-Gaussian-Process/modules/OnlineGP.py:464: RuntimeWarning: invalid value encountered in add\n",
      "  K = K + x1_sum_sq + x2_sum_sq\n",
      "/home/chenyu/Desktop/Bayesian-optimization-using-Gaussian-Process/modules/OnlineGP.py:464: RuntimeWarning: invalid value encountered in add\n",
      "  K = K + x1_sum_sq + x2_sum_sq\n",
      "/home/chenyu/Desktop/Bayesian-optimization-using-Gaussian-Process/modules/OnlineGP.py:464: RuntimeWarning: invalid value encountered in add\n",
      "  K = K + x1_sum_sq + x2_sum_sq\n"
     ]
    },
    {
     "name": "stdout",
     "output_type": "stream",
     "text": [
      "257185.79945690662\n",
      "Predicting defocus...\n",
      "saving ronchigram...\n"
     ]
    },
    {
     "name": "stderr",
     "output_type": "stream",
     "text": [
      "/home/chenyu/Desktop/Bayesian-optimization-using-Gaussian-Process/modules/OnlineGP.py:464: RuntimeWarning: invalid value encountered in add\n",
      "  K = K + x1_sum_sq + x2_sum_sq\n",
      "/home/chenyu/Desktop/Bayesian-optimization-using-Gaussian-Process/modules/OnlineGP.py:464: RuntimeWarning: invalid value encountered in add\n",
      "  K = K + x1_sum_sq + x2_sum_sq\n",
      "/home/chenyu/Desktop/Bayesian-optimization-using-Gaussian-Process/modules/OnlineGP.py:464: RuntimeWarning: invalid value encountered in add\n",
      "  K = K + x1_sum_sq + x2_sum_sq\n",
      "/home/chenyu/Desktop/Bayesian-optimization-using-Gaussian-Process/modules/OnlineGP.py:464: RuntimeWarning: invalid value encountered in add\n",
      "  K = K + x1_sum_sq + x2_sum_sq\n"
     ]
    },
    {
     "name": "stdout",
     "output_type": "stream",
     "text": [
      "258844.95273458736\n",
      "Predicting defocus...\n",
      "saving ronchigram...\n"
     ]
    },
    {
     "name": "stderr",
     "output_type": "stream",
     "text": [
      "/home/chenyu/Desktop/Bayesian-optimization-using-Gaussian-Process/modules/OnlineGP.py:464: RuntimeWarning: invalid value encountered in add\n",
      "  K = K + x1_sum_sq + x2_sum_sq\n",
      "/home/chenyu/Desktop/Bayesian-optimization-using-Gaussian-Process/modules/OnlineGP.py:464: RuntimeWarning: invalid value encountered in add\n",
      "  K = K + x1_sum_sq + x2_sum_sq\n",
      "/home/chenyu/Desktop/Bayesian-optimization-using-Gaussian-Process/modules/OnlineGP.py:464: RuntimeWarning: invalid value encountered in add\n",
      "  K = K + x1_sum_sq + x2_sum_sq\n",
      "/home/chenyu/Desktop/Bayesian-optimization-using-Gaussian-Process/modules/OnlineGP.py:464: RuntimeWarning: invalid value encountered in add\n",
      "  K = K + x1_sum_sq + x2_sum_sq\n",
      "/home/chenyu/Desktop/Bayesian-optimization-using-Gaussian-Process/modules/OnlineGP.py:464: RuntimeWarning: invalid value encountered in add\n",
      "  K = K + x1_sum_sq + x2_sum_sq\n"
     ]
    },
    {
     "name": "stdout",
     "output_type": "stream",
     "text": [
      "256231.235626287\n",
      "Predicting defocus...\n",
      "saving ronchigram...\n"
     ]
    },
    {
     "name": "stderr",
     "output_type": "stream",
     "text": [
      "/home/chenyu/Desktop/Bayesian-optimization-using-Gaussian-Process/modules/OnlineGP.py:464: RuntimeWarning: invalid value encountered in add\n",
      "  K = K + x1_sum_sq + x2_sum_sq\n",
      "/home/chenyu/Desktop/Bayesian-optimization-using-Gaussian-Process/modules/OnlineGP.py:464: RuntimeWarning: invalid value encountered in add\n",
      "  K = K + x1_sum_sq + x2_sum_sq\n",
      "/home/chenyu/Desktop/Bayesian-optimization-using-Gaussian-Process/modules/OnlineGP.py:464: RuntimeWarning: invalid value encountered in add\n",
      "  K = K + x1_sum_sq + x2_sum_sq\n",
      "/home/chenyu/Desktop/Bayesian-optimization-using-Gaussian-Process/modules/OnlineGP.py:464: RuntimeWarning: invalid value encountered in add\n",
      "  K = K + x1_sum_sq + x2_sum_sq\n",
      "/home/chenyu/Desktop/Bayesian-optimization-using-Gaussian-Process/modules/OnlineGP.py:464: RuntimeWarning: invalid value encountered in add\n",
      "  K = K + x1_sum_sq + x2_sum_sq\n"
     ]
    },
    {
     "name": "stdout",
     "output_type": "stream",
     "text": [
      "257734.8592522167\n",
      "Predicting defocus...\n",
      "saving ronchigram...\n"
     ]
    },
    {
     "name": "stderr",
     "output_type": "stream",
     "text": [
      "/home/chenyu/Desktop/Bayesian-optimization-using-Gaussian-Process/modules/OnlineGP.py:464: RuntimeWarning: invalid value encountered in add\n",
      "  K = K + x1_sum_sq + x2_sum_sq\n",
      "/home/chenyu/Desktop/Bayesian-optimization-using-Gaussian-Process/modules/OnlineGP.py:464: RuntimeWarning: invalid value encountered in add\n",
      "  K = K + x1_sum_sq + x2_sum_sq\n",
      "/home/chenyu/Desktop/Bayesian-optimization-using-Gaussian-Process/modules/OnlineGP.py:464: RuntimeWarning: invalid value encountered in add\n",
      "  K = K + x1_sum_sq + x2_sum_sq\n",
      "/home/chenyu/Desktop/Bayesian-optimization-using-Gaussian-Process/modules/OnlineGP.py:464: RuntimeWarning: invalid value encountered in add\n",
      "  K = K + x1_sum_sq + x2_sum_sq\n",
      "/home/chenyu/Desktop/Bayesian-optimization-using-Gaussian-Process/modules/OnlineGP.py:464: RuntimeWarning: invalid value encountered in add\n",
      "  K = K + x1_sum_sq + x2_sum_sq\n"
     ]
    },
    {
     "name": "stdout",
     "output_type": "stream",
     "text": [
      "257589.7463809706\n",
      "Predicting defocus...\n",
      "saving ronchigram...\n"
     ]
    },
    {
     "name": "stderr",
     "output_type": "stream",
     "text": [
      "/home/chenyu/Desktop/Bayesian-optimization-using-Gaussian-Process/modules/OnlineGP.py:464: RuntimeWarning: invalid value encountered in add\n",
      "  K = K + x1_sum_sq + x2_sum_sq\n",
      "/home/chenyu/Desktop/Bayesian-optimization-using-Gaussian-Process/modules/OnlineGP.py:464: RuntimeWarning: invalid value encountered in add\n",
      "  K = K + x1_sum_sq + x2_sum_sq\n",
      "/home/chenyu/Desktop/Bayesian-optimization-using-Gaussian-Process/modules/OnlineGP.py:464: RuntimeWarning: invalid value encountered in add\n",
      "  K = K + x1_sum_sq + x2_sum_sq\n",
      "/home/chenyu/Desktop/Bayesian-optimization-using-Gaussian-Process/modules/OnlineGP.py:464: RuntimeWarning: invalid value encountered in add\n",
      "  K = K + x1_sum_sq + x2_sum_sq\n",
      "/home/chenyu/Desktop/Bayesian-optimization-using-Gaussian-Process/modules/OnlineGP.py:464: RuntimeWarning: invalid value encountered in add\n",
      "  K = K + x1_sum_sq + x2_sum_sq\n"
     ]
    },
    {
     "name": "stdout",
     "output_type": "stream",
     "text": [
      "262548.8568314747\n",
      "Predicting defocus...\n",
      "saving ronchigram...\n"
     ]
    },
    {
     "name": "stderr",
     "output_type": "stream",
     "text": [
      "/home/chenyu/Desktop/Bayesian-optimization-using-Gaussian-Process/modules/OnlineGP.py:464: RuntimeWarning: invalid value encountered in add\n",
      "  K = K + x1_sum_sq + x2_sum_sq\n",
      "/home/chenyu/Desktop/Bayesian-optimization-using-Gaussian-Process/modules/OnlineGP.py:464: RuntimeWarning: invalid value encountered in add\n",
      "  K = K + x1_sum_sq + x2_sum_sq\n",
      "/home/chenyu/Desktop/Bayesian-optimization-using-Gaussian-Process/modules/OnlineGP.py:464: RuntimeWarning: invalid value encountered in add\n",
      "  K = K + x1_sum_sq + x2_sum_sq\n",
      "/home/chenyu/Desktop/Bayesian-optimization-using-Gaussian-Process/modules/OnlineGP.py:464: RuntimeWarning: invalid value encountered in add\n",
      "  K = K + x1_sum_sq + x2_sum_sq\n",
      "/home/chenyu/Desktop/Bayesian-optimization-using-Gaussian-Process/modules/OnlineGP.py:464: RuntimeWarning: invalid value encountered in add\n",
      "  K = K + x1_sum_sq + x2_sum_sq\n"
     ]
    },
    {
     "name": "stdout",
     "output_type": "stream",
     "text": [
      "257556.4466070608\n",
      "Predicting defocus...\n",
      "saving ronchigram...\n",
      "19 Finished.\n",
      "Model loaded\n",
      "Supposed to be grabbing initial machine state...\n",
      "249574.90935530953\n",
      "Predicting defocus...\n",
      "saving ronchigram...\n",
      "x_init [[0.42915156]]\n",
      "y_init [[0.28313625]]\n"
     ]
    },
    {
     "name": "stderr",
     "output_type": "stream",
     "text": [
      "/home/chenyu/Desktop/Bayesian-optimization-using-Gaussian-Process/modules/OnlineGP.py:464: RuntimeWarning: invalid value encountered in add\n",
      "  K = K + x1_sum_sq + x2_sum_sq\n"
     ]
    },
    {
     "name": "stdout",
     "output_type": "stream",
     "text": [
      "248470.88786407426\n",
      "Predicting defocus...\n",
      "saving ronchigram...\n"
     ]
    },
    {
     "name": "stderr",
     "output_type": "stream",
     "text": [
      "/home/chenyu/Desktop/Bayesian-optimization-using-Gaussian-Process/modules/OnlineGP.py:464: RuntimeWarning: invalid value encountered in add\n",
      "  K = K + x1_sum_sq + x2_sum_sq\n",
      "/home/chenyu/Desktop/Bayesian-optimization-using-Gaussian-Process/modules/OnlineGP.py:464: RuntimeWarning: invalid value encountered in add\n",
      "  K = K + x1_sum_sq + x2_sum_sq\n"
     ]
    },
    {
     "name": "stdout",
     "output_type": "stream",
     "text": [
      "251933.1943406159\n",
      "Predicting defocus...\n",
      "saving ronchigram...\n"
     ]
    },
    {
     "name": "stderr",
     "output_type": "stream",
     "text": [
      "/home/chenyu/Desktop/Bayesian-optimization-using-Gaussian-Process/modules/OnlineGP.py:464: RuntimeWarning: invalid value encountered in add\n",
      "  K = K + x1_sum_sq + x2_sum_sq\n",
      "/home/chenyu/Desktop/Bayesian-optimization-using-Gaussian-Process/modules/OnlineGP.py:464: RuntimeWarning: invalid value encountered in add\n",
      "  K = K + x1_sum_sq + x2_sum_sq\n",
      "/home/chenyu/Desktop/Bayesian-optimization-using-Gaussian-Process/modules/OnlineGP.py:464: RuntimeWarning: invalid value encountered in add\n",
      "  K = K + x1_sum_sq + x2_sum_sq\n"
     ]
    },
    {
     "name": "stdout",
     "output_type": "stream",
     "text": [
      "254568.34785395357\n",
      "Predicting defocus...\n",
      "saving ronchigram...\n"
     ]
    },
    {
     "name": "stderr",
     "output_type": "stream",
     "text": [
      "/home/chenyu/Desktop/Bayesian-optimization-using-Gaussian-Process/modules/OnlineGP.py:464: RuntimeWarning: invalid value encountered in add\n",
      "  K = K + x1_sum_sq + x2_sum_sq\n",
      "/home/chenyu/Desktop/Bayesian-optimization-using-Gaussian-Process/modules/OnlineGP.py:464: RuntimeWarning: invalid value encountered in add\n",
      "  K = K + x1_sum_sq + x2_sum_sq\n",
      "/home/chenyu/Desktop/Bayesian-optimization-using-Gaussian-Process/modules/OnlineGP.py:464: RuntimeWarning: invalid value encountered in add\n",
      "  K = K + x1_sum_sq + x2_sum_sq\n",
      "/home/chenyu/Desktop/Bayesian-optimization-using-Gaussian-Process/modules/OnlineGP.py:464: RuntimeWarning: invalid value encountered in add\n",
      "  K = K + x1_sum_sq + x2_sum_sq\n"
     ]
    },
    {
     "name": "stdout",
     "output_type": "stream",
     "text": [
      "256260.54549805648\n",
      "Predicting defocus...\n",
      "saving ronchigram...\n"
     ]
    },
    {
     "name": "stderr",
     "output_type": "stream",
     "text": [
      "/home/chenyu/Desktop/Bayesian-optimization-using-Gaussian-Process/modules/OnlineGP.py:464: RuntimeWarning: invalid value encountered in add\n",
      "  K = K + x1_sum_sq + x2_sum_sq\n",
      "/home/chenyu/Desktop/Bayesian-optimization-using-Gaussian-Process/modules/OnlineGP.py:464: RuntimeWarning: invalid value encountered in add\n",
      "  K = K + x1_sum_sq + x2_sum_sq\n",
      "/home/chenyu/Desktop/Bayesian-optimization-using-Gaussian-Process/modules/OnlineGP.py:464: RuntimeWarning: invalid value encountered in add\n",
      "  K = K + x1_sum_sq + x2_sum_sq\n",
      "/home/chenyu/Desktop/Bayesian-optimization-using-Gaussian-Process/modules/OnlineGP.py:464: RuntimeWarning: invalid value encountered in add\n",
      "  K = K + x1_sum_sq + x2_sum_sq\n"
     ]
    },
    {
     "name": "stdout",
     "output_type": "stream",
     "text": [
      "253642.91668438606\n",
      "Predicting defocus...\n",
      "saving ronchigram...\n"
     ]
    },
    {
     "name": "stderr",
     "output_type": "stream",
     "text": [
      "/home/chenyu/Desktop/Bayesian-optimization-using-Gaussian-Process/modules/OnlineGP.py:464: RuntimeWarning: invalid value encountered in add\n",
      "  K = K + x1_sum_sq + x2_sum_sq\n",
      "/home/chenyu/Desktop/Bayesian-optimization-using-Gaussian-Process/modules/OnlineGP.py:464: RuntimeWarning: invalid value encountered in add\n",
      "  K = K + x1_sum_sq + x2_sum_sq\n",
      "/home/chenyu/Desktop/Bayesian-optimization-using-Gaussian-Process/modules/OnlineGP.py:464: RuntimeWarning: invalid value encountered in add\n",
      "  K = K + x1_sum_sq + x2_sum_sq\n",
      "/home/chenyu/Desktop/Bayesian-optimization-using-Gaussian-Process/modules/OnlineGP.py:464: RuntimeWarning: invalid value encountered in add\n",
      "  K = K + x1_sum_sq + x2_sum_sq\n",
      "/home/chenyu/Desktop/Bayesian-optimization-using-Gaussian-Process/modules/OnlineGP.py:464: RuntimeWarning: invalid value encountered in add\n",
      "  K = K + x1_sum_sq + x2_sum_sq\n"
     ]
    },
    {
     "name": "stdout",
     "output_type": "stream",
     "text": [
      "254274.28951858942\n",
      "Predicting defocus...\n",
      "saving ronchigram...\n"
     ]
    },
    {
     "name": "stderr",
     "output_type": "stream",
     "text": [
      "/home/chenyu/Desktop/Bayesian-optimization-using-Gaussian-Process/modules/OnlineGP.py:464: RuntimeWarning: invalid value encountered in add\n",
      "  K = K + x1_sum_sq + x2_sum_sq\n",
      "/home/chenyu/Desktop/Bayesian-optimization-using-Gaussian-Process/modules/OnlineGP.py:464: RuntimeWarning: invalid value encountered in add\n",
      "  K = K + x1_sum_sq + x2_sum_sq\n",
      "/home/chenyu/Desktop/Bayesian-optimization-using-Gaussian-Process/modules/OnlineGP.py:464: RuntimeWarning: invalid value encountered in add\n",
      "  K = K + x1_sum_sq + x2_sum_sq\n",
      "/home/chenyu/Desktop/Bayesian-optimization-using-Gaussian-Process/modules/OnlineGP.py:464: RuntimeWarning: invalid value encountered in add\n",
      "  K = K + x1_sum_sq + x2_sum_sq\n",
      "/home/chenyu/Desktop/Bayesian-optimization-using-Gaussian-Process/modules/OnlineGP.py:464: RuntimeWarning: invalid value encountered in add\n",
      "  K = K + x1_sum_sq + x2_sum_sq\n"
     ]
    },
    {
     "name": "stdout",
     "output_type": "stream",
     "text": [
      "254259.4393685211\n",
      "Predicting defocus...\n",
      "saving ronchigram...\n"
     ]
    },
    {
     "name": "stderr",
     "output_type": "stream",
     "text": [
      "/home/chenyu/Desktop/Bayesian-optimization-using-Gaussian-Process/modules/OnlineGP.py:464: RuntimeWarning: invalid value encountered in add\n",
      "  K = K + x1_sum_sq + x2_sum_sq\n",
      "/home/chenyu/Desktop/Bayesian-optimization-using-Gaussian-Process/modules/OnlineGP.py:464: RuntimeWarning: invalid value encountered in add\n",
      "  K = K + x1_sum_sq + x2_sum_sq\n",
      "/home/chenyu/Desktop/Bayesian-optimization-using-Gaussian-Process/modules/OnlineGP.py:464: RuntimeWarning: invalid value encountered in add\n",
      "  K = K + x1_sum_sq + x2_sum_sq\n",
      "/home/chenyu/Desktop/Bayesian-optimization-using-Gaussian-Process/modules/OnlineGP.py:464: RuntimeWarning: invalid value encountered in add\n",
      "  K = K + x1_sum_sq + x2_sum_sq\n",
      "/home/chenyu/Desktop/Bayesian-optimization-using-Gaussian-Process/modules/OnlineGP.py:464: RuntimeWarning: invalid value encountered in add\n",
      "  K = K + x1_sum_sq + x2_sum_sq\n"
     ]
    },
    {
     "name": "stdout",
     "output_type": "stream",
     "text": [
      "254254.0577460435\n",
      "Predicting defocus...\n",
      "saving ronchigram...\n"
     ]
    },
    {
     "name": "stderr",
     "output_type": "stream",
     "text": [
      "/home/chenyu/Desktop/Bayesian-optimization-using-Gaussian-Process/modules/OnlineGP.py:464: RuntimeWarning: invalid value encountered in add\n",
      "  K = K + x1_sum_sq + x2_sum_sq\n",
      "/home/chenyu/Desktop/Bayesian-optimization-using-Gaussian-Process/modules/OnlineGP.py:464: RuntimeWarning: invalid value encountered in add\n",
      "  K = K + x1_sum_sq + x2_sum_sq\n",
      "/home/chenyu/Desktop/Bayesian-optimization-using-Gaussian-Process/modules/OnlineGP.py:464: RuntimeWarning: invalid value encountered in add\n",
      "  K = K + x1_sum_sq + x2_sum_sq\n",
      "/home/chenyu/Desktop/Bayesian-optimization-using-Gaussian-Process/modules/OnlineGP.py:464: RuntimeWarning: invalid value encountered in add\n",
      "  K = K + x1_sum_sq + x2_sum_sq\n",
      "/home/chenyu/Desktop/Bayesian-optimization-using-Gaussian-Process/modules/OnlineGP.py:464: RuntimeWarning: invalid value encountered in add\n",
      "  K = K + x1_sum_sq + x2_sum_sq\n"
     ]
    },
    {
     "name": "stdout",
     "output_type": "stream",
     "text": [
      "254251.57550506268\n",
      "Predicting defocus...\n",
      "saving ronchigram...\n"
     ]
    },
    {
     "name": "stderr",
     "output_type": "stream",
     "text": [
      "/home/chenyu/Desktop/Bayesian-optimization-using-Gaussian-Process/modules/OnlineGP.py:464: RuntimeWarning: invalid value encountered in add\n",
      "  K = K + x1_sum_sq + x2_sum_sq\n",
      "/home/chenyu/Desktop/Bayesian-optimization-using-Gaussian-Process/modules/OnlineGP.py:464: RuntimeWarning: invalid value encountered in add\n",
      "  K = K + x1_sum_sq + x2_sum_sq\n",
      "/home/chenyu/Desktop/Bayesian-optimization-using-Gaussian-Process/modules/OnlineGP.py:464: RuntimeWarning: invalid value encountered in add\n",
      "  K = K + x1_sum_sq + x2_sum_sq\n",
      "/home/chenyu/Desktop/Bayesian-optimization-using-Gaussian-Process/modules/OnlineGP.py:464: RuntimeWarning: invalid value encountered in add\n",
      "  K = K + x1_sum_sq + x2_sum_sq\n",
      "/home/chenyu/Desktop/Bayesian-optimization-using-Gaussian-Process/modules/OnlineGP.py:464: RuntimeWarning: invalid value encountered in add\n",
      "  K = K + x1_sum_sq + x2_sum_sq\n"
     ]
    },
    {
     "name": "stdout",
     "output_type": "stream",
     "text": [
      "254249.97665379007\n",
      "Predicting defocus...\n",
      "saving ronchigram...\n",
      "20 Finished.\n",
      "Model loaded\n",
      "Supposed to be grabbing initial machine state...\n",
      "249523.39760033975\n",
      "Predicting defocus...\n",
      "saving ronchigram...\n",
      "x_init [[0.42056627]]\n",
      "y_init [[0.07624221]]\n"
     ]
    },
    {
     "name": "stderr",
     "output_type": "stream",
     "text": [
      "/home/chenyu/Desktop/Bayesian-optimization-using-Gaussian-Process/modules/OnlineGP.py:464: RuntimeWarning: invalid value encountered in add\n",
      "  K = K + x1_sum_sq + x2_sum_sq\n"
     ]
    },
    {
     "name": "stdout",
     "output_type": "stream",
     "text": [
      "248419.3761091045\n",
      "Predicting defocus...\n",
      "saving ronchigram...\n"
     ]
    },
    {
     "name": "stderr",
     "output_type": "stream",
     "text": [
      "/home/chenyu/Desktop/Bayesian-optimization-using-Gaussian-Process/modules/OnlineGP.py:464: RuntimeWarning: invalid value encountered in add\n",
      "  K = K + x1_sum_sq + x2_sum_sq\n",
      "/home/chenyu/Desktop/Bayesian-optimization-using-Gaussian-Process/modules/OnlineGP.py:464: RuntimeWarning: invalid value encountered in add\n",
      "  K = K + x1_sum_sq + x2_sum_sq\n"
     ]
    },
    {
     "name": "stdout",
     "output_type": "stream",
     "text": [
      "253193.08588148095\n",
      "Predicting defocus...\n",
      "saving ronchigram...\n"
     ]
    },
    {
     "name": "stderr",
     "output_type": "stream",
     "text": [
      "/home/chenyu/Desktop/Bayesian-optimization-using-Gaussian-Process/modules/OnlineGP.py:464: RuntimeWarning: invalid value encountered in add\n",
      "  K = K + x1_sum_sq + x2_sum_sq\n",
      "/home/chenyu/Desktop/Bayesian-optimization-using-Gaussian-Process/modules/OnlineGP.py:464: RuntimeWarning: invalid value encountered in add\n",
      "  K = K + x1_sum_sq + x2_sum_sq\n",
      "/home/chenyu/Desktop/Bayesian-optimization-using-Gaussian-Process/modules/OnlineGP.py:464: RuntimeWarning: invalid value encountered in add\n",
      "  K = K + x1_sum_sq + x2_sum_sq\n"
     ]
    },
    {
     "name": "stdout",
     "output_type": "stream",
     "text": [
      "256646.9552111361\n",
      "Predicting defocus...\n",
      "saving ronchigram...\n"
     ]
    },
    {
     "name": "stderr",
     "output_type": "stream",
     "text": [
      "/home/chenyu/Desktop/Bayesian-optimization-using-Gaussian-Process/modules/OnlineGP.py:464: RuntimeWarning: invalid value encountered in add\n",
      "  K = K + x1_sum_sq + x2_sum_sq\n",
      "/home/chenyu/Desktop/Bayesian-optimization-using-Gaussian-Process/modules/OnlineGP.py:464: RuntimeWarning: invalid value encountered in add\n",
      "  K = K + x1_sum_sq + x2_sum_sq\n",
      "/home/chenyu/Desktop/Bayesian-optimization-using-Gaussian-Process/modules/OnlineGP.py:464: RuntimeWarning: invalid value encountered in add\n",
      "  K = K + x1_sum_sq + x2_sum_sq\n",
      "/home/chenyu/Desktop/Bayesian-optimization-using-Gaussian-Process/modules/OnlineGP.py:464: RuntimeWarning: invalid value encountered in add\n",
      "  K = K + x1_sum_sq + x2_sum_sq\n"
     ]
    },
    {
     "name": "stdout",
     "output_type": "stream",
     "text": [
      "259700.4072784709\n",
      "Predicting defocus...\n",
      "saving ronchigram...\n"
     ]
    },
    {
     "name": "stderr",
     "output_type": "stream",
     "text": [
      "/home/chenyu/Desktop/Bayesian-optimization-using-Gaussian-Process/modules/OnlineGP.py:464: RuntimeWarning: invalid value encountered in add\n",
      "  K = K + x1_sum_sq + x2_sum_sq\n",
      "/home/chenyu/Desktop/Bayesian-optimization-using-Gaussian-Process/modules/OnlineGP.py:464: RuntimeWarning: invalid value encountered in add\n",
      "  K = K + x1_sum_sq + x2_sum_sq\n",
      "/home/chenyu/Desktop/Bayesian-optimization-using-Gaussian-Process/modules/OnlineGP.py:464: RuntimeWarning: invalid value encountered in add\n",
      "  K = K + x1_sum_sq + x2_sum_sq\n",
      "/home/chenyu/Desktop/Bayesian-optimization-using-Gaussian-Process/modules/OnlineGP.py:464: RuntimeWarning: invalid value encountered in add\n",
      "  K = K + x1_sum_sq + x2_sum_sq\n",
      "/home/chenyu/Desktop/Bayesian-optimization-using-Gaussian-Process/modules/OnlineGP.py:464: RuntimeWarning: invalid value encountered in add\n",
      "  K = K + x1_sum_sq + x2_sum_sq\n"
     ]
    },
    {
     "name": "stdout",
     "output_type": "stream",
     "text": [
      "261752.41859798276\n",
      "Predicting defocus...\n",
      "saving ronchigram...\n"
     ]
    },
    {
     "name": "stderr",
     "output_type": "stream",
     "text": [
      "/home/chenyu/Desktop/Bayesian-optimization-using-Gaussian-Process/modules/OnlineGP.py:464: RuntimeWarning: invalid value encountered in add\n",
      "  K = K + x1_sum_sq + x2_sum_sq\n",
      "/home/chenyu/Desktop/Bayesian-optimization-using-Gaussian-Process/modules/OnlineGP.py:464: RuntimeWarning: invalid value encountered in add\n",
      "  K = K + x1_sum_sq + x2_sum_sq\n",
      "/home/chenyu/Desktop/Bayesian-optimization-using-Gaussian-Process/modules/OnlineGP.py:464: RuntimeWarning: invalid value encountered in add\n",
      "  K = K + x1_sum_sq + x2_sum_sq\n",
      "/home/chenyu/Desktop/Bayesian-optimization-using-Gaussian-Process/modules/OnlineGP.py:464: RuntimeWarning: invalid value encountered in add\n",
      "  K = K + x1_sum_sq + x2_sum_sq\n",
      "/home/chenyu/Desktop/Bayesian-optimization-using-Gaussian-Process/modules/OnlineGP.py:464: RuntimeWarning: invalid value encountered in add\n",
      "  K = K + x1_sum_sq + x2_sum_sq\n"
     ]
    },
    {
     "name": "stdout",
     "output_type": "stream",
     "text": [
      "258511.6746721892\n",
      "Predicting defocus...\n",
      "saving ronchigram...\n"
     ]
    },
    {
     "name": "stderr",
     "output_type": "stream",
     "text": [
      "/home/chenyu/Desktop/Bayesian-optimization-using-Gaussian-Process/modules/OnlineGP.py:464: RuntimeWarning: invalid value encountered in add\n",
      "  K = K + x1_sum_sq + x2_sum_sq\n",
      "/home/chenyu/Desktop/Bayesian-optimization-using-Gaussian-Process/modules/OnlineGP.py:464: RuntimeWarning: invalid value encountered in add\n",
      "  K = K + x1_sum_sq + x2_sum_sq\n",
      "/home/chenyu/Desktop/Bayesian-optimization-using-Gaussian-Process/modules/OnlineGP.py:464: RuntimeWarning: invalid value encountered in add\n",
      "  K = K + x1_sum_sq + x2_sum_sq\n",
      "/home/chenyu/Desktop/Bayesian-optimization-using-Gaussian-Process/modules/OnlineGP.py:464: RuntimeWarning: invalid value encountered in add\n",
      "  K = K + x1_sum_sq + x2_sum_sq\n",
      "/home/chenyu/Desktop/Bayesian-optimization-using-Gaussian-Process/modules/OnlineGP.py:464: RuntimeWarning: invalid value encountered in add\n",
      "  K = K + x1_sum_sq + x2_sum_sq\n"
     ]
    },
    {
     "name": "stdout",
     "output_type": "stream",
     "text": [
      "258581.32790637852\n",
      "Predicting defocus...\n",
      "saving ronchigram...\n"
     ]
    },
    {
     "name": "stderr",
     "output_type": "stream",
     "text": [
      "/home/chenyu/Desktop/Bayesian-optimization-using-Gaussian-Process/modules/OnlineGP.py:464: RuntimeWarning: invalid value encountered in add\n",
      "  K = K + x1_sum_sq + x2_sum_sq\n",
      "/home/chenyu/Desktop/Bayesian-optimization-using-Gaussian-Process/modules/OnlineGP.py:464: RuntimeWarning: invalid value encountered in add\n",
      "  K = K + x1_sum_sq + x2_sum_sq\n",
      "/home/chenyu/Desktop/Bayesian-optimization-using-Gaussian-Process/modules/OnlineGP.py:464: RuntimeWarning: invalid value encountered in add\n",
      "  K = K + x1_sum_sq + x2_sum_sq\n",
      "/home/chenyu/Desktop/Bayesian-optimization-using-Gaussian-Process/modules/OnlineGP.py:464: RuntimeWarning: invalid value encountered in add\n",
      "  K = K + x1_sum_sq + x2_sum_sq\n",
      "/home/chenyu/Desktop/Bayesian-optimization-using-Gaussian-Process/modules/OnlineGP.py:464: RuntimeWarning: invalid value encountered in add\n",
      "  K = K + x1_sum_sq + x2_sum_sq\n"
     ]
    },
    {
     "name": "stdout",
     "output_type": "stream",
     "text": [
      "258603.75743569635\n",
      "Predicting defocus...\n",
      "saving ronchigram...\n"
     ]
    },
    {
     "name": "stderr",
     "output_type": "stream",
     "text": [
      "/home/chenyu/Desktop/Bayesian-optimization-using-Gaussian-Process/modules/OnlineGP.py:464: RuntimeWarning: invalid value encountered in add\n",
      "  K = K + x1_sum_sq + x2_sum_sq\n",
      "/home/chenyu/Desktop/Bayesian-optimization-using-Gaussian-Process/modules/OnlineGP.py:464: RuntimeWarning: invalid value encountered in add\n",
      "  K = K + x1_sum_sq + x2_sum_sq\n",
      "/home/chenyu/Desktop/Bayesian-optimization-using-Gaussian-Process/modules/OnlineGP.py:464: RuntimeWarning: invalid value encountered in add\n",
      "  K = K + x1_sum_sq + x2_sum_sq\n",
      "/home/chenyu/Desktop/Bayesian-optimization-using-Gaussian-Process/modules/OnlineGP.py:464: RuntimeWarning: invalid value encountered in add\n",
      "  K = K + x1_sum_sq + x2_sum_sq\n",
      "/home/chenyu/Desktop/Bayesian-optimization-using-Gaussian-Process/modules/OnlineGP.py:464: RuntimeWarning: invalid value encountered in add\n",
      "  K = K + x1_sum_sq + x2_sum_sq\n"
     ]
    },
    {
     "name": "stdout",
     "output_type": "stream",
     "text": [
      "258608.71516305415\n",
      "Predicting defocus...\n",
      "saving ronchigram...\n"
     ]
    },
    {
     "name": "stderr",
     "output_type": "stream",
     "text": [
      "/home/chenyu/Desktop/Bayesian-optimization-using-Gaussian-Process/modules/OnlineGP.py:464: RuntimeWarning: invalid value encountered in add\n",
      "  K = K + x1_sum_sq + x2_sum_sq\n",
      "/home/chenyu/Desktop/Bayesian-optimization-using-Gaussian-Process/modules/OnlineGP.py:464: RuntimeWarning: invalid value encountered in add\n",
      "  K = K + x1_sum_sq + x2_sum_sq\n",
      "/home/chenyu/Desktop/Bayesian-optimization-using-Gaussian-Process/modules/OnlineGP.py:464: RuntimeWarning: invalid value encountered in add\n",
      "  K = K + x1_sum_sq + x2_sum_sq\n",
      "/home/chenyu/Desktop/Bayesian-optimization-using-Gaussian-Process/modules/OnlineGP.py:464: RuntimeWarning: invalid value encountered in add\n",
      "  K = K + x1_sum_sq + x2_sum_sq\n",
      "/home/chenyu/Desktop/Bayesian-optimization-using-Gaussian-Process/modules/OnlineGP.py:464: RuntimeWarning: invalid value encountered in add\n",
      "  K = K + x1_sum_sq + x2_sum_sq\n"
     ]
    },
    {
     "name": "stdout",
     "output_type": "stream",
     "text": [
      "258591.5098195304\n",
      "Predicting defocus...\n",
      "saving ronchigram...\n",
      "21 Finished.\n",
      "Model loaded\n",
      "Supposed to be grabbing initial machine state...\n",
      "252915.69468305993\n",
      "Predicting defocus...\n",
      "saving ronchigram...\n",
      "x_init [[0.98594911]]\n",
      "y_init [[0.70698363]]\n"
     ]
    },
    {
     "name": "stderr",
     "output_type": "stream",
     "text": [
      "/home/chenyu/Desktop/Bayesian-optimization-using-Gaussian-Process/modules/OnlineGP.py:464: RuntimeWarning: invalid value encountered in add\n",
      "  K = K + x1_sum_sq + x2_sum_sq\n"
     ]
    },
    {
     "name": "stdout",
     "output_type": "stream",
     "text": [
      "251811.67319182467\n",
      "Predicting defocus...\n",
      "saving ronchigram...\n"
     ]
    },
    {
     "name": "stderr",
     "output_type": "stream",
     "text": [
      "/home/chenyu/Desktop/Bayesian-optimization-using-Gaussian-Process/modules/OnlineGP.py:464: RuntimeWarning: invalid value encountered in add\n",
      "  K = K + x1_sum_sq + x2_sum_sq\n",
      "/home/chenyu/Desktop/Bayesian-optimization-using-Gaussian-Process/modules/OnlineGP.py:464: RuntimeWarning: invalid value encountered in add\n",
      "  K = K + x1_sum_sq + x2_sum_sq\n"
     ]
    },
    {
     "name": "stdout",
     "output_type": "stream",
     "text": [
      "249144.14913122114\n",
      "Predicting defocus...\n",
      "saving ronchigram...\n"
     ]
    },
    {
     "name": "stderr",
     "output_type": "stream",
     "text": [
      "/home/chenyu/Desktop/Bayesian-optimization-using-Gaussian-Process/modules/OnlineGP.py:464: RuntimeWarning: invalid value encountered in add\n",
      "  K = K + x1_sum_sq + x2_sum_sq\n",
      "/home/chenyu/Desktop/Bayesian-optimization-using-Gaussian-Process/modules/OnlineGP.py:464: RuntimeWarning: invalid value encountered in add\n",
      "  K = K + x1_sum_sq + x2_sum_sq\n",
      "/home/chenyu/Desktop/Bayesian-optimization-using-Gaussian-Process/modules/OnlineGP.py:464: RuntimeWarning: invalid value encountered in add\n",
      "  K = K + x1_sum_sq + x2_sum_sq\n"
     ]
    },
    {
     "name": "stdout",
     "output_type": "stream",
     "text": [
      "254607.99193078413\n",
      "Predicting defocus...\n",
      "saving ronchigram...\n"
     ]
    },
    {
     "name": "stderr",
     "output_type": "stream",
     "text": [
      "/home/chenyu/Desktop/Bayesian-optimization-using-Gaussian-Process/modules/OnlineGP.py:464: RuntimeWarning: invalid value encountered in add\n",
      "  K = K + x1_sum_sq + x2_sum_sq\n",
      "/home/chenyu/Desktop/Bayesian-optimization-using-Gaussian-Process/modules/OnlineGP.py:464: RuntimeWarning: invalid value encountered in add\n",
      "  K = K + x1_sum_sq + x2_sum_sq\n",
      "/home/chenyu/Desktop/Bayesian-optimization-using-Gaussian-Process/modules/OnlineGP.py:464: RuntimeWarning: invalid value encountered in add\n",
      "  K = K + x1_sum_sq + x2_sum_sq\n"
     ]
    },
    {
     "name": "stdout",
     "output_type": "stream",
     "text": [
      "256358.31205614196\n",
      "Predicting defocus...\n",
      "saving ronchigram...\n"
     ]
    },
    {
     "name": "stderr",
     "output_type": "stream",
     "text": [
      "/home/chenyu/Desktop/Bayesian-optimization-using-Gaussian-Process/modules/OnlineGP.py:464: RuntimeWarning: invalid value encountered in add\n",
      "  K = K + x1_sum_sq + x2_sum_sq\n",
      "/home/chenyu/Desktop/Bayesian-optimization-using-Gaussian-Process/modules/OnlineGP.py:464: RuntimeWarning: invalid value encountered in add\n",
      "  K = K + x1_sum_sq + x2_sum_sq\n",
      "/home/chenyu/Desktop/Bayesian-optimization-using-Gaussian-Process/modules/OnlineGP.py:464: RuntimeWarning: invalid value encountered in add\n",
      "  K = K + x1_sum_sq + x2_sum_sq\n",
      "/home/chenyu/Desktop/Bayesian-optimization-using-Gaussian-Process/modules/OnlineGP.py:464: RuntimeWarning: invalid value encountered in add\n",
      "  K = K + x1_sum_sq + x2_sum_sq\n"
     ]
    },
    {
     "name": "stdout",
     "output_type": "stream",
     "text": [
      "253682.05265189652\n",
      "Predicting defocus...\n",
      "saving ronchigram...\n"
     ]
    },
    {
     "name": "stderr",
     "output_type": "stream",
     "text": [
      "/home/chenyu/Desktop/Bayesian-optimization-using-Gaussian-Process/modules/OnlineGP.py:464: RuntimeWarning: invalid value encountered in add\n",
      "  K = K + x1_sum_sq + x2_sum_sq\n",
      "/home/chenyu/Desktop/Bayesian-optimization-using-Gaussian-Process/modules/OnlineGP.py:464: RuntimeWarning: invalid value encountered in add\n",
      "  K = K + x1_sum_sq + x2_sum_sq\n",
      "/home/chenyu/Desktop/Bayesian-optimization-using-Gaussian-Process/modules/OnlineGP.py:464: RuntimeWarning: invalid value encountered in add\n",
      "  K = K + x1_sum_sq + x2_sum_sq\n",
      "/home/chenyu/Desktop/Bayesian-optimization-using-Gaussian-Process/modules/OnlineGP.py:464: RuntimeWarning: invalid value encountered in add\n",
      "  K = K + x1_sum_sq + x2_sum_sq\n"
     ]
    },
    {
     "name": "stdout",
     "output_type": "stream",
     "text": [
      "254336.57933121573\n",
      "Predicting defocus...\n",
      "saving ronchigram...\n"
     ]
    },
    {
     "name": "stderr",
     "output_type": "stream",
     "text": [
      "/home/chenyu/Desktop/Bayesian-optimization-using-Gaussian-Process/modules/OnlineGP.py:464: RuntimeWarning: invalid value encountered in add\n",
      "  K = K + x1_sum_sq + x2_sum_sq\n",
      "/home/chenyu/Desktop/Bayesian-optimization-using-Gaussian-Process/modules/OnlineGP.py:464: RuntimeWarning: invalid value encountered in add\n",
      "  K = K + x1_sum_sq + x2_sum_sq\n",
      "/home/chenyu/Desktop/Bayesian-optimization-using-Gaussian-Process/modules/OnlineGP.py:464: RuntimeWarning: invalid value encountered in add\n",
      "  K = K + x1_sum_sq + x2_sum_sq\n",
      "/home/chenyu/Desktop/Bayesian-optimization-using-Gaussian-Process/modules/OnlineGP.py:464: RuntimeWarning: invalid value encountered in add\n",
      "  K = K + x1_sum_sq + x2_sum_sq\n",
      "/home/chenyu/Desktop/Bayesian-optimization-using-Gaussian-Process/modules/OnlineGP.py:464: RuntimeWarning: invalid value encountered in add\n",
      "  K = K + x1_sum_sq + x2_sum_sq\n"
     ]
    },
    {
     "name": "stdout",
     "output_type": "stream",
     "text": [
      "254341.76468648858\n",
      "Predicting defocus...\n",
      "saving ronchigram...\n"
     ]
    },
    {
     "name": "stderr",
     "output_type": "stream",
     "text": [
      "/home/chenyu/Desktop/Bayesian-optimization-using-Gaussian-Process/modules/OnlineGP.py:464: RuntimeWarning: invalid value encountered in add\n",
      "  K = K + x1_sum_sq + x2_sum_sq\n",
      "/home/chenyu/Desktop/Bayesian-optimization-using-Gaussian-Process/modules/OnlineGP.py:464: RuntimeWarning: invalid value encountered in add\n",
      "  K = K + x1_sum_sq + x2_sum_sq\n",
      "/home/chenyu/Desktop/Bayesian-optimization-using-Gaussian-Process/modules/OnlineGP.py:464: RuntimeWarning: invalid value encountered in add\n",
      "  K = K + x1_sum_sq + x2_sum_sq\n",
      "/home/chenyu/Desktop/Bayesian-optimization-using-Gaussian-Process/modules/OnlineGP.py:464: RuntimeWarning: invalid value encountered in add\n",
      "  K = K + x1_sum_sq + x2_sum_sq\n",
      "/home/chenyu/Desktop/Bayesian-optimization-using-Gaussian-Process/modules/OnlineGP.py:464: RuntimeWarning: invalid value encountered in add\n",
      "  K = K + x1_sum_sq + x2_sum_sq\n"
     ]
    },
    {
     "name": "stdout",
     "output_type": "stream",
     "text": [
      "254343.10571419288\n",
      "Predicting defocus...\n",
      "saving ronchigram...\n"
     ]
    },
    {
     "name": "stderr",
     "output_type": "stream",
     "text": [
      "/home/chenyu/Desktop/Bayesian-optimization-using-Gaussian-Process/modules/OnlineGP.py:464: RuntimeWarning: invalid value encountered in add\n",
      "  K = K + x1_sum_sq + x2_sum_sq\n",
      "/home/chenyu/Desktop/Bayesian-optimization-using-Gaussian-Process/modules/OnlineGP.py:464: RuntimeWarning: invalid value encountered in add\n",
      "  K = K + x1_sum_sq + x2_sum_sq\n",
      "/home/chenyu/Desktop/Bayesian-optimization-using-Gaussian-Process/modules/OnlineGP.py:464: RuntimeWarning: invalid value encountered in add\n",
      "  K = K + x1_sum_sq + x2_sum_sq\n",
      "/home/chenyu/Desktop/Bayesian-optimization-using-Gaussian-Process/modules/OnlineGP.py:464: RuntimeWarning: invalid value encountered in add\n",
      "  K = K + x1_sum_sq + x2_sum_sq\n",
      "/home/chenyu/Desktop/Bayesian-optimization-using-Gaussian-Process/modules/OnlineGP.py:464: RuntimeWarning: invalid value encountered in add\n",
      "  K = K + x1_sum_sq + x2_sum_sq\n"
     ]
    },
    {
     "name": "stdout",
     "output_type": "stream",
     "text": [
      "254343.44912576454\n",
      "Predicting defocus...\n",
      "saving ronchigram...\n"
     ]
    },
    {
     "name": "stderr",
     "output_type": "stream",
     "text": [
      "/home/chenyu/Desktop/Bayesian-optimization-using-Gaussian-Process/modules/OnlineGP.py:464: RuntimeWarning: invalid value encountered in add\n",
      "  K = K + x1_sum_sq + x2_sum_sq\n",
      "/home/chenyu/Desktop/Bayesian-optimization-using-Gaussian-Process/modules/OnlineGP.py:464: RuntimeWarning: invalid value encountered in add\n",
      "  K = K + x1_sum_sq + x2_sum_sq\n",
      "/home/chenyu/Desktop/Bayesian-optimization-using-Gaussian-Process/modules/OnlineGP.py:464: RuntimeWarning: invalid value encountered in add\n",
      "  K = K + x1_sum_sq + x2_sum_sq\n",
      "/home/chenyu/Desktop/Bayesian-optimization-using-Gaussian-Process/modules/OnlineGP.py:464: RuntimeWarning: invalid value encountered in add\n",
      "  K = K + x1_sum_sq + x2_sum_sq\n",
      "/home/chenyu/Desktop/Bayesian-optimization-using-Gaussian-Process/modules/OnlineGP.py:464: RuntimeWarning: invalid value encountered in add\n",
      "  K = K + x1_sum_sq + x2_sum_sq\n"
     ]
    },
    {
     "name": "stdout",
     "output_type": "stream",
     "text": [
      "254343.41174200783\n",
      "Predicting defocus...\n",
      "saving ronchigram...\n",
      "22 Finished.\n",
      "Model loaded\n",
      "Supposed to be grabbing initial machine state...\n",
      "249884.37107794062\n",
      "Predicting defocus...\n",
      "saving ronchigram...\n",
      "x_init [[0.48072851]]\n",
      "y_init [[0.11325282]]\n"
     ]
    },
    {
     "name": "stderr",
     "output_type": "stream",
     "text": [
      "/home/chenyu/Desktop/Bayesian-optimization-using-Gaussian-Process/modules/OnlineGP.py:464: RuntimeWarning: invalid value encountered in add\n",
      "  K = K + x1_sum_sq + x2_sum_sq\n"
     ]
    },
    {
     "name": "stdout",
     "output_type": "stream",
     "text": [
      "248780.3495867054\n",
      "Predicting defocus...\n",
      "saving ronchigram...\n"
     ]
    },
    {
     "name": "stderr",
     "output_type": "stream",
     "text": [
      "/home/chenyu/Desktop/Bayesian-optimization-using-Gaussian-Process/modules/OnlineGP.py:464: RuntimeWarning: invalid value encountered in add\n",
      "  K = K + x1_sum_sq + x2_sum_sq\n",
      "/home/chenyu/Desktop/Bayesian-optimization-using-Gaussian-Process/modules/OnlineGP.py:464: RuntimeWarning: invalid value encountered in add\n",
      "  K = K + x1_sum_sq + x2_sum_sq\n"
     ]
    },
    {
     "name": "stdout",
     "output_type": "stream",
     "text": [
      "244983.38574347532\n",
      "Predicting defocus...\n",
      "saving ronchigram...\n"
     ]
    },
    {
     "name": "stderr",
     "output_type": "stream",
     "text": [
      "/home/chenyu/Desktop/Bayesian-optimization-using-Gaussian-Process/modules/OnlineGP.py:464: RuntimeWarning: invalid value encountered in add\n",
      "  K = K + x1_sum_sq + x2_sum_sq\n",
      "/home/chenyu/Desktop/Bayesian-optimization-using-Gaussian-Process/modules/OnlineGP.py:464: RuntimeWarning: invalid value encountered in add\n",
      "  K = K + x1_sum_sq + x2_sum_sq\n",
      "/home/chenyu/Desktop/Bayesian-optimization-using-Gaussian-Process/modules/OnlineGP.py:464: RuntimeWarning: invalid value encountered in add\n",
      "  K = K + x1_sum_sq + x2_sum_sq\n"
     ]
    },
    {
     "name": "stdout",
     "output_type": "stream",
     "text": [
      "252657.7976114145\n",
      "Predicting defocus...\n",
      "saving ronchigram...\n"
     ]
    },
    {
     "name": "stderr",
     "output_type": "stream",
     "text": [
      "/home/chenyu/Desktop/Bayesian-optimization-using-Gaussian-Process/modules/OnlineGP.py:464: RuntimeWarning: invalid value encountered in add\n",
      "  K = K + x1_sum_sq + x2_sum_sq\n",
      "/home/chenyu/Desktop/Bayesian-optimization-using-Gaussian-Process/modules/OnlineGP.py:464: RuntimeWarning: invalid value encountered in add\n",
      "  K = K + x1_sum_sq + x2_sum_sq\n",
      "/home/chenyu/Desktop/Bayesian-optimization-using-Gaussian-Process/modules/OnlineGP.py:464: RuntimeWarning: invalid value encountered in add\n",
      "  K = K + x1_sum_sq + x2_sum_sq\n"
     ]
    },
    {
     "name": "stdout",
     "output_type": "stream",
     "text": [
      "256270.74032005467\n",
      "Predicting defocus...\n",
      "saving ronchigram...\n"
     ]
    },
    {
     "name": "stderr",
     "output_type": "stream",
     "text": [
      "/home/chenyu/Desktop/Bayesian-optimization-using-Gaussian-Process/modules/OnlineGP.py:464: RuntimeWarning: invalid value encountered in add\n",
      "  K = K + x1_sum_sq + x2_sum_sq\n",
      "/home/chenyu/Desktop/Bayesian-optimization-using-Gaussian-Process/modules/OnlineGP.py:464: RuntimeWarning: invalid value encountered in add\n",
      "  K = K + x1_sum_sq + x2_sum_sq\n",
      "/home/chenyu/Desktop/Bayesian-optimization-using-Gaussian-Process/modules/OnlineGP.py:464: RuntimeWarning: invalid value encountered in add\n",
      "  K = K + x1_sum_sq + x2_sum_sq\n",
      "/home/chenyu/Desktop/Bayesian-optimization-using-Gaussian-Process/modules/OnlineGP.py:464: RuntimeWarning: invalid value encountered in add\n",
      "  K = K + x1_sum_sq + x2_sum_sq\n"
     ]
    },
    {
     "name": "stdout",
     "output_type": "stream",
     "text": [
      "257972.22144795264\n",
      "Predicting defocus...\n",
      "saving ronchigram...\n"
     ]
    },
    {
     "name": "stderr",
     "output_type": "stream",
     "text": [
      "/home/chenyu/Desktop/Bayesian-optimization-using-Gaussian-Process/modules/OnlineGP.py:464: RuntimeWarning: invalid value encountered in add\n",
      "  K = K + x1_sum_sq + x2_sum_sq\n",
      "/home/chenyu/Desktop/Bayesian-optimization-using-Gaussian-Process/modules/OnlineGP.py:464: RuntimeWarning: invalid value encountered in add\n",
      "  K = K + x1_sum_sq + x2_sum_sq\n",
      "/home/chenyu/Desktop/Bayesian-optimization-using-Gaussian-Process/modules/OnlineGP.py:464: RuntimeWarning: invalid value encountered in add\n",
      "  K = K + x1_sum_sq + x2_sum_sq\n",
      "/home/chenyu/Desktop/Bayesian-optimization-using-Gaussian-Process/modules/OnlineGP.py:464: RuntimeWarning: invalid value encountered in add\n",
      "  K = K + x1_sum_sq + x2_sum_sq\n",
      "/home/chenyu/Desktop/Bayesian-optimization-using-Gaussian-Process/modules/OnlineGP.py:464: RuntimeWarning: invalid value encountered in add\n",
      "  K = K + x1_sum_sq + x2_sum_sq\n"
     ]
    },
    {
     "name": "stdout",
     "output_type": "stream",
     "text": [
      "255084.5778914109\n",
      "Predicting defocus...\n",
      "saving ronchigram...\n"
     ]
    },
    {
     "name": "stderr",
     "output_type": "stream",
     "text": [
      "/home/chenyu/Desktop/Bayesian-optimization-using-Gaussian-Process/modules/OnlineGP.py:464: RuntimeWarning: invalid value encountered in add\n",
      "  K = K + x1_sum_sq + x2_sum_sq\n",
      "/home/chenyu/Desktop/Bayesian-optimization-using-Gaussian-Process/modules/OnlineGP.py:464: RuntimeWarning: invalid value encountered in add\n",
      "  K = K + x1_sum_sq + x2_sum_sq\n",
      "/home/chenyu/Desktop/Bayesian-optimization-using-Gaussian-Process/modules/OnlineGP.py:464: RuntimeWarning: invalid value encountered in add\n",
      "  K = K + x1_sum_sq + x2_sum_sq\n",
      "/home/chenyu/Desktop/Bayesian-optimization-using-Gaussian-Process/modules/OnlineGP.py:464: RuntimeWarning: invalid value encountered in add\n",
      "  K = K + x1_sum_sq + x2_sum_sq\n",
      "/home/chenyu/Desktop/Bayesian-optimization-using-Gaussian-Process/modules/OnlineGP.py:464: RuntimeWarning: invalid value encountered in add\n",
      "  K = K + x1_sum_sq + x2_sum_sq\n"
     ]
    },
    {
     "name": "stdout",
     "output_type": "stream",
     "text": [
      "256963.1158321634\n",
      "Predicting defocus...\n",
      "saving ronchigram...\n"
     ]
    },
    {
     "name": "stderr",
     "output_type": "stream",
     "text": [
      "/home/chenyu/Desktop/Bayesian-optimization-using-Gaussian-Process/modules/OnlineGP.py:464: RuntimeWarning: invalid value encountered in add\n",
      "  K = K + x1_sum_sq + x2_sum_sq\n",
      "/home/chenyu/Desktop/Bayesian-optimization-using-Gaussian-Process/modules/OnlineGP.py:464: RuntimeWarning: invalid value encountered in add\n",
      "  K = K + x1_sum_sq + x2_sum_sq\n",
      "/home/chenyu/Desktop/Bayesian-optimization-using-Gaussian-Process/modules/OnlineGP.py:464: RuntimeWarning: invalid value encountered in add\n",
      "  K = K + x1_sum_sq + x2_sum_sq\n",
      "/home/chenyu/Desktop/Bayesian-optimization-using-Gaussian-Process/modules/OnlineGP.py:464: RuntimeWarning: invalid value encountered in add\n",
      "  K = K + x1_sum_sq + x2_sum_sq\n",
      "/home/chenyu/Desktop/Bayesian-optimization-using-Gaussian-Process/modules/OnlineGP.py:464: RuntimeWarning: invalid value encountered in add\n",
      "  K = K + x1_sum_sq + x2_sum_sq\n"
     ]
    },
    {
     "name": "stdout",
     "output_type": "stream",
     "text": [
      "256857.64374755014\n",
      "Predicting defocus...\n",
      "saving ronchigram...\n"
     ]
    },
    {
     "name": "stderr",
     "output_type": "stream",
     "text": [
      "/home/chenyu/Desktop/Bayesian-optimization-using-Gaussian-Process/modules/OnlineGP.py:464: RuntimeWarning: invalid value encountered in add\n",
      "  K = K + x1_sum_sq + x2_sum_sq\n",
      "/home/chenyu/Desktop/Bayesian-optimization-using-Gaussian-Process/modules/OnlineGP.py:464: RuntimeWarning: invalid value encountered in add\n",
      "  K = K + x1_sum_sq + x2_sum_sq\n",
      "/home/chenyu/Desktop/Bayesian-optimization-using-Gaussian-Process/modules/OnlineGP.py:464: RuntimeWarning: invalid value encountered in add\n",
      "  K = K + x1_sum_sq + x2_sum_sq\n",
      "/home/chenyu/Desktop/Bayesian-optimization-using-Gaussian-Process/modules/OnlineGP.py:464: RuntimeWarning: invalid value encountered in add\n",
      "  K = K + x1_sum_sq + x2_sum_sq\n",
      "/home/chenyu/Desktop/Bayesian-optimization-using-Gaussian-Process/modules/OnlineGP.py:464: RuntimeWarning: invalid value encountered in add\n",
      "  K = K + x1_sum_sq + x2_sum_sq\n"
     ]
    },
    {
     "name": "stdout",
     "output_type": "stream",
     "text": [
      "262533.4367825849\n",
      "Predicting defocus...\n",
      "saving ronchigram...\n"
     ]
    },
    {
     "name": "stderr",
     "output_type": "stream",
     "text": [
      "/home/chenyu/Desktop/Bayesian-optimization-using-Gaussian-Process/modules/OnlineGP.py:464: RuntimeWarning: invalid value encountered in add\n",
      "  K = K + x1_sum_sq + x2_sum_sq\n",
      "/home/chenyu/Desktop/Bayesian-optimization-using-Gaussian-Process/modules/OnlineGP.py:464: RuntimeWarning: invalid value encountered in add\n",
      "  K = K + x1_sum_sq + x2_sum_sq\n",
      "/home/chenyu/Desktop/Bayesian-optimization-using-Gaussian-Process/modules/OnlineGP.py:464: RuntimeWarning: invalid value encountered in add\n",
      "  K = K + x1_sum_sq + x2_sum_sq\n",
      "/home/chenyu/Desktop/Bayesian-optimization-using-Gaussian-Process/modules/OnlineGP.py:464: RuntimeWarning: invalid value encountered in add\n",
      "  K = K + x1_sum_sq + x2_sum_sq\n",
      "/home/chenyu/Desktop/Bayesian-optimization-using-Gaussian-Process/modules/OnlineGP.py:464: RuntimeWarning: invalid value encountered in add\n",
      "  K = K + x1_sum_sq + x2_sum_sq\n"
     ]
    },
    {
     "name": "stdout",
     "output_type": "stream",
     "text": [
      "256836.3043397126\n",
      "Predicting defocus...\n",
      "saving ronchigram...\n",
      "23 Finished.\n",
      "Model loaded\n",
      "Supposed to be grabbing initial machine state...\n",
      "251807.90772861845\n",
      "Predicting defocus...\n",
      "saving ronchigram...\n",
      "x_init [[0.80131795]]\n",
      "y_init [[0.4522965]]\n"
     ]
    },
    {
     "name": "stderr",
     "output_type": "stream",
     "text": [
      "/home/chenyu/Desktop/Bayesian-optimization-using-Gaussian-Process/modules/OnlineGP.py:464: RuntimeWarning: invalid value encountered in add\n",
      "  K = K + x1_sum_sq + x2_sum_sq\n"
     ]
    },
    {
     "name": "stdout",
     "output_type": "stream",
     "text": [
      "250703.88623738318\n",
      "Predicting defocus...\n",
      "saving ronchigram...\n"
     ]
    },
    {
     "name": "stderr",
     "output_type": "stream",
     "text": [
      "/home/chenyu/Desktop/Bayesian-optimization-using-Gaussian-Process/modules/OnlineGP.py:464: RuntimeWarning: invalid value encountered in add\n",
      "  K = K + x1_sum_sq + x2_sum_sq\n",
      "/home/chenyu/Desktop/Bayesian-optimization-using-Gaussian-Process/modules/OnlineGP.py:464: RuntimeWarning: invalid value encountered in add\n",
      "  K = K + x1_sum_sq + x2_sum_sq\n"
     ]
    },
    {
     "name": "stdout",
     "output_type": "stream",
     "text": [
      "247890.55643121173\n",
      "Predicting defocus...\n",
      "saving ronchigram...\n"
     ]
    },
    {
     "name": "stderr",
     "output_type": "stream",
     "text": [
      "/home/chenyu/Desktop/Bayesian-optimization-using-Gaussian-Process/modules/OnlineGP.py:464: RuntimeWarning: invalid value encountered in add\n",
      "  K = K + x1_sum_sq + x2_sum_sq\n",
      "/home/chenyu/Desktop/Bayesian-optimization-using-Gaussian-Process/modules/OnlineGP.py:464: RuntimeWarning: invalid value encountered in add\n",
      "  K = K + x1_sum_sq + x2_sum_sq\n",
      "/home/chenyu/Desktop/Bayesian-optimization-using-Gaussian-Process/modules/OnlineGP.py:464: RuntimeWarning: invalid value encountered in add\n",
      "  K = K + x1_sum_sq + x2_sum_sq\n"
     ]
    },
    {
     "name": "stdout",
     "output_type": "stream",
     "text": [
      "253685.40483476274\n",
      "Predicting defocus...\n",
      "saving ronchigram...\n"
     ]
    },
    {
     "name": "stderr",
     "output_type": "stream",
     "text": [
      "/home/chenyu/Desktop/Bayesian-optimization-using-Gaussian-Process/modules/OnlineGP.py:464: RuntimeWarning: invalid value encountered in add\n",
      "  K = K + x1_sum_sq + x2_sum_sq\n",
      "/home/chenyu/Desktop/Bayesian-optimization-using-Gaussian-Process/modules/OnlineGP.py:464: RuntimeWarning: invalid value encountered in add\n",
      "  K = K + x1_sum_sq + x2_sum_sq\n",
      "/home/chenyu/Desktop/Bayesian-optimization-using-Gaussian-Process/modules/OnlineGP.py:464: RuntimeWarning: invalid value encountered in add\n",
      "  K = K + x1_sum_sq + x2_sum_sq\n"
     ]
    },
    {
     "name": "stdout",
     "output_type": "stream",
     "text": [
      "255419.55324125246\n",
      "Predicting defocus...\n",
      "saving ronchigram...\n"
     ]
    },
    {
     "name": "stderr",
     "output_type": "stream",
     "text": [
      "/home/chenyu/Desktop/Bayesian-optimization-using-Gaussian-Process/modules/OnlineGP.py:464: RuntimeWarning: invalid value encountered in add\n",
      "  K = K + x1_sum_sq + x2_sum_sq\n",
      "/home/chenyu/Desktop/Bayesian-optimization-using-Gaussian-Process/modules/OnlineGP.py:464: RuntimeWarning: invalid value encountered in add\n",
      "  K = K + x1_sum_sq + x2_sum_sq\n",
      "/home/chenyu/Desktop/Bayesian-optimization-using-Gaussian-Process/modules/OnlineGP.py:464: RuntimeWarning: invalid value encountered in add\n",
      "  K = K + x1_sum_sq + x2_sum_sq\n",
      "/home/chenyu/Desktop/Bayesian-optimization-using-Gaussian-Process/modules/OnlineGP.py:464: RuntimeWarning: invalid value encountered in add\n",
      "  K = K + x1_sum_sq + x2_sum_sq\n"
     ]
    },
    {
     "name": "stdout",
     "output_type": "stream",
     "text": [
      "254574.72424050418\n",
      "Predicting defocus...\n",
      "saving ronchigram...\n"
     ]
    },
    {
     "name": "stderr",
     "output_type": "stream",
     "text": [
      "/home/chenyu/Desktop/Bayesian-optimization-using-Gaussian-Process/modules/OnlineGP.py:464: RuntimeWarning: invalid value encountered in add\n",
      "  K = K + x1_sum_sq + x2_sum_sq\n",
      "/home/chenyu/Desktop/Bayesian-optimization-using-Gaussian-Process/modules/OnlineGP.py:464: RuntimeWarning: invalid value encountered in add\n",
      "  K = K + x1_sum_sq + x2_sum_sq\n",
      "/home/chenyu/Desktop/Bayesian-optimization-using-Gaussian-Process/modules/OnlineGP.py:464: RuntimeWarning: invalid value encountered in add\n",
      "  K = K + x1_sum_sq + x2_sum_sq\n",
      "/home/chenyu/Desktop/Bayesian-optimization-using-Gaussian-Process/modules/OnlineGP.py:464: RuntimeWarning: invalid value encountered in add\n",
      "  K = K + x1_sum_sq + x2_sum_sq\n",
      "/home/chenyu/Desktop/Bayesian-optimization-using-Gaussian-Process/modules/OnlineGP.py:464: RuntimeWarning: invalid value encountered in add\n",
      "  K = K + x1_sum_sq + x2_sum_sq\n"
     ]
    },
    {
     "name": "stdout",
     "output_type": "stream",
     "text": [
      "258059.1487333522\n",
      "Predicting defocus...\n",
      "saving ronchigram...\n"
     ]
    },
    {
     "name": "stderr",
     "output_type": "stream",
     "text": [
      "/home/chenyu/Desktop/Bayesian-optimization-using-Gaussian-Process/modules/OnlineGP.py:464: RuntimeWarning: invalid value encountered in add\n",
      "  K = K + x1_sum_sq + x2_sum_sq\n",
      "/home/chenyu/Desktop/Bayesian-optimization-using-Gaussian-Process/modules/OnlineGP.py:464: RuntimeWarning: invalid value encountered in add\n",
      "  K = K + x1_sum_sq + x2_sum_sq\n",
      "/home/chenyu/Desktop/Bayesian-optimization-using-Gaussian-Process/modules/OnlineGP.py:464: RuntimeWarning: invalid value encountered in add\n",
      "  K = K + x1_sum_sq + x2_sum_sq\n",
      "/home/chenyu/Desktop/Bayesian-optimization-using-Gaussian-Process/modules/OnlineGP.py:464: RuntimeWarning: invalid value encountered in add\n",
      "  K = K + x1_sum_sq + x2_sum_sq\n",
      "/home/chenyu/Desktop/Bayesian-optimization-using-Gaussian-Process/modules/OnlineGP.py:464: RuntimeWarning: invalid value encountered in add\n",
      "  K = K + x1_sum_sq + x2_sum_sq\n"
     ]
    },
    {
     "name": "stdout",
     "output_type": "stream",
     "text": [
      "254596.35291079787\n",
      "Predicting defocus...\n",
      "saving ronchigram...\n"
     ]
    },
    {
     "name": "stderr",
     "output_type": "stream",
     "text": [
      "/home/chenyu/Desktop/Bayesian-optimization-using-Gaussian-Process/modules/OnlineGP.py:464: RuntimeWarning: invalid value encountered in add\n",
      "  K = K + x1_sum_sq + x2_sum_sq\n",
      "/home/chenyu/Desktop/Bayesian-optimization-using-Gaussian-Process/modules/OnlineGP.py:464: RuntimeWarning: invalid value encountered in add\n",
      "  K = K + x1_sum_sq + x2_sum_sq\n",
      "/home/chenyu/Desktop/Bayesian-optimization-using-Gaussian-Process/modules/OnlineGP.py:464: RuntimeWarning: invalid value encountered in add\n",
      "  K = K + x1_sum_sq + x2_sum_sq\n",
      "/home/chenyu/Desktop/Bayesian-optimization-using-Gaussian-Process/modules/OnlineGP.py:464: RuntimeWarning: invalid value encountered in add\n",
      "  K = K + x1_sum_sq + x2_sum_sq\n",
      "/home/chenyu/Desktop/Bayesian-optimization-using-Gaussian-Process/modules/OnlineGP.py:464: RuntimeWarning: invalid value encountered in add\n",
      "  K = K + x1_sum_sq + x2_sum_sq\n"
     ]
    },
    {
     "name": "stdout",
     "output_type": "stream",
     "text": [
      "254613.45238327116\n",
      "Predicting defocus...\n",
      "saving ronchigram...\n"
     ]
    },
    {
     "name": "stderr",
     "output_type": "stream",
     "text": [
      "/home/chenyu/Desktop/Bayesian-optimization-using-Gaussian-Process/modules/OnlineGP.py:464: RuntimeWarning: invalid value encountered in add\n",
      "  K = K + x1_sum_sq + x2_sum_sq\n",
      "/home/chenyu/Desktop/Bayesian-optimization-using-Gaussian-Process/modules/OnlineGP.py:464: RuntimeWarning: invalid value encountered in add\n",
      "  K = K + x1_sum_sq + x2_sum_sq\n",
      "/home/chenyu/Desktop/Bayesian-optimization-using-Gaussian-Process/modules/OnlineGP.py:464: RuntimeWarning: invalid value encountered in add\n",
      "  K = K + x1_sum_sq + x2_sum_sq\n",
      "/home/chenyu/Desktop/Bayesian-optimization-using-Gaussian-Process/modules/OnlineGP.py:464: RuntimeWarning: invalid value encountered in add\n",
      "  K = K + x1_sum_sq + x2_sum_sq\n",
      "/home/chenyu/Desktop/Bayesian-optimization-using-Gaussian-Process/modules/OnlineGP.py:464: RuntimeWarning: invalid value encountered in add\n",
      "  K = K + x1_sum_sq + x2_sum_sq\n"
     ]
    },
    {
     "name": "stdout",
     "output_type": "stream",
     "text": [
      "254619.51731272537\n",
      "Predicting defocus...\n",
      "saving ronchigram...\n"
     ]
    },
    {
     "name": "stderr",
     "output_type": "stream",
     "text": [
      "/home/chenyu/Desktop/Bayesian-optimization-using-Gaussian-Process/modules/OnlineGP.py:464: RuntimeWarning: invalid value encountered in add\n",
      "  K = K + x1_sum_sq + x2_sum_sq\n",
      "/home/chenyu/Desktop/Bayesian-optimization-using-Gaussian-Process/modules/OnlineGP.py:464: RuntimeWarning: invalid value encountered in add\n",
      "  K = K + x1_sum_sq + x2_sum_sq\n",
      "/home/chenyu/Desktop/Bayesian-optimization-using-Gaussian-Process/modules/OnlineGP.py:464: RuntimeWarning: invalid value encountered in add\n",
      "  K = K + x1_sum_sq + x2_sum_sq\n",
      "/home/chenyu/Desktop/Bayesian-optimization-using-Gaussian-Process/modules/OnlineGP.py:464: RuntimeWarning: invalid value encountered in add\n",
      "  K = K + x1_sum_sq + x2_sum_sq\n",
      "/home/chenyu/Desktop/Bayesian-optimization-using-Gaussian-Process/modules/OnlineGP.py:464: RuntimeWarning: invalid value encountered in add\n",
      "  K = K + x1_sum_sq + x2_sum_sq\n"
     ]
    },
    {
     "name": "stdout",
     "output_type": "stream",
     "text": [
      "254623.73512126497\n",
      "Predicting defocus...\n",
      "saving ronchigram...\n",
      "24 Finished.\n",
      "Model loaded\n",
      "Supposed to be grabbing initial machine state...\n",
      "252004.7484455706\n",
      "Predicting defocus...\n",
      "saving ronchigram...\n",
      "x_init [[0.83412474]]\n",
      "y_init [[0.9032333]]\n"
     ]
    },
    {
     "name": "stderr",
     "output_type": "stream",
     "text": [
      "/home/chenyu/Desktop/Bayesian-optimization-using-Gaussian-Process/modules/OnlineGP.py:464: RuntimeWarning: invalid value encountered in add\n",
      "  K = K + x1_sum_sq + x2_sum_sq\n"
     ]
    },
    {
     "name": "stdout",
     "output_type": "stream",
     "text": [
      "250900.72695433535\n",
      "Predicting defocus...\n",
      "saving ronchigram...\n"
     ]
    },
    {
     "name": "stderr",
     "output_type": "stream",
     "text": [
      "/home/chenyu/Desktop/Bayesian-optimization-using-Gaussian-Process/modules/OnlineGP.py:464: RuntimeWarning: invalid value encountered in add\n",
      "  K = K + x1_sum_sq + x2_sum_sq\n",
      "/home/chenyu/Desktop/Bayesian-optimization-using-Gaussian-Process/modules/OnlineGP.py:464: RuntimeWarning: invalid value encountered in add\n",
      "  K = K + x1_sum_sq + x2_sum_sq\n"
     ]
    },
    {
     "name": "stdout",
     "output_type": "stream",
     "text": [
      "248576.62593562\n",
      "Predicting defocus...\n",
      "saving ronchigram...\n"
     ]
    },
    {
     "name": "stderr",
     "output_type": "stream",
     "text": [
      "/home/chenyu/Desktop/Bayesian-optimization-using-Gaussian-Process/modules/OnlineGP.py:464: RuntimeWarning: invalid value encountered in add\n",
      "  K = K + x1_sum_sq + x2_sum_sq\n",
      "/home/chenyu/Desktop/Bayesian-optimization-using-Gaussian-Process/modules/OnlineGP.py:464: RuntimeWarning: invalid value encountered in add\n",
      "  K = K + x1_sum_sq + x2_sum_sq\n",
      "/home/chenyu/Desktop/Bayesian-optimization-using-Gaussian-Process/modules/OnlineGP.py:464: RuntimeWarning: invalid value encountered in add\n",
      "  K = K + x1_sum_sq + x2_sum_sq\n"
     ]
    },
    {
     "name": "stdout",
     "output_type": "stream",
     "text": [
      "253451.23948392138\n",
      "Predicting defocus...\n",
      "saving ronchigram...\n"
     ]
    },
    {
     "name": "stderr",
     "output_type": "stream",
     "text": [
      "/home/chenyu/Desktop/Bayesian-optimization-using-Gaussian-Process/modules/OnlineGP.py:464: RuntimeWarning: invalid value encountered in add\n",
      "  K = K + x1_sum_sq + x2_sum_sq\n",
      "/home/chenyu/Desktop/Bayesian-optimization-using-Gaussian-Process/modules/OnlineGP.py:464: RuntimeWarning: invalid value encountered in add\n",
      "  K = K + x1_sum_sq + x2_sum_sq\n",
      "/home/chenyu/Desktop/Bayesian-optimization-using-Gaussian-Process/modules/OnlineGP.py:464: RuntimeWarning: invalid value encountered in add\n",
      "  K = K + x1_sum_sq + x2_sum_sq\n"
     ]
    },
    {
     "name": "stdout",
     "output_type": "stream",
     "text": [
      "255155.91513817932\n",
      "Predicting defocus...\n",
      "saving ronchigram...\n"
     ]
    },
    {
     "name": "stderr",
     "output_type": "stream",
     "text": [
      "/home/chenyu/Desktop/Bayesian-optimization-using-Gaussian-Process/modules/OnlineGP.py:464: RuntimeWarning: invalid value encountered in add\n",
      "  K = K + x1_sum_sq + x2_sum_sq\n",
      "/home/chenyu/Desktop/Bayesian-optimization-using-Gaussian-Process/modules/OnlineGP.py:464: RuntimeWarning: invalid value encountered in add\n",
      "  K = K + x1_sum_sq + x2_sum_sq\n",
      "/home/chenyu/Desktop/Bayesian-optimization-using-Gaussian-Process/modules/OnlineGP.py:464: RuntimeWarning: invalid value encountered in add\n",
      "  K = K + x1_sum_sq + x2_sum_sq\n"
     ]
    },
    {
     "name": "stdout",
     "output_type": "stream",
     "text": [
      "252577.9139665398\n",
      "Predicting defocus...\n",
      "saving ronchigram...\n"
     ]
    },
    {
     "name": "stderr",
     "output_type": "stream",
     "text": [
      "/home/chenyu/Desktop/Bayesian-optimization-using-Gaussian-Process/modules/OnlineGP.py:464: RuntimeWarning: invalid value encountered in add\n",
      "  K = K + x1_sum_sq + x2_sum_sq\n",
      "/home/chenyu/Desktop/Bayesian-optimization-using-Gaussian-Process/modules/OnlineGP.py:464: RuntimeWarning: invalid value encountered in add\n",
      "  K = K + x1_sum_sq + x2_sum_sq\n",
      "/home/chenyu/Desktop/Bayesian-optimization-using-Gaussian-Process/modules/OnlineGP.py:464: RuntimeWarning: invalid value encountered in add\n",
      "  K = K + x1_sum_sq + x2_sum_sq\n",
      "/home/chenyu/Desktop/Bayesian-optimization-using-Gaussian-Process/modules/OnlineGP.py:464: RuntimeWarning: invalid value encountered in add\n",
      "  K = K + x1_sum_sq + x2_sum_sq\n"
     ]
    },
    {
     "name": "stdout",
     "output_type": "stream",
     "text": [
      "253168.52445846598\n",
      "Predicting defocus...\n",
      "saving ronchigram...\n"
     ]
    },
    {
     "name": "stderr",
     "output_type": "stream",
     "text": [
      "/home/chenyu/Desktop/Bayesian-optimization-using-Gaussian-Process/modules/OnlineGP.py:464: RuntimeWarning: invalid value encountered in add\n",
      "  K = K + x1_sum_sq + x2_sum_sq\n",
      "/home/chenyu/Desktop/Bayesian-optimization-using-Gaussian-Process/modules/OnlineGP.py:464: RuntimeWarning: invalid value encountered in add\n",
      "  K = K + x1_sum_sq + x2_sum_sq\n",
      "/home/chenyu/Desktop/Bayesian-optimization-using-Gaussian-Process/modules/OnlineGP.py:464: RuntimeWarning: invalid value encountered in add\n",
      "  K = K + x1_sum_sq + x2_sum_sq\n",
      "/home/chenyu/Desktop/Bayesian-optimization-using-Gaussian-Process/modules/OnlineGP.py:464: RuntimeWarning: invalid value encountered in add\n",
      "  K = K + x1_sum_sq + x2_sum_sq\n",
      "/home/chenyu/Desktop/Bayesian-optimization-using-Gaussian-Process/modules/OnlineGP.py:464: RuntimeWarning: invalid value encountered in add\n",
      "  K = K + x1_sum_sq + x2_sum_sq\n"
     ]
    },
    {
     "name": "stdout",
     "output_type": "stream",
     "text": [
      "253143.39130910696\n",
      "Predicting defocus...\n",
      "saving ronchigram...\n"
     ]
    },
    {
     "name": "stderr",
     "output_type": "stream",
     "text": [
      "/home/chenyu/Desktop/Bayesian-optimization-using-Gaussian-Process/modules/OnlineGP.py:464: RuntimeWarning: invalid value encountered in add\n",
      "  K = K + x1_sum_sq + x2_sum_sq\n",
      "/home/chenyu/Desktop/Bayesian-optimization-using-Gaussian-Process/modules/OnlineGP.py:464: RuntimeWarning: invalid value encountered in add\n",
      "  K = K + x1_sum_sq + x2_sum_sq\n",
      "/home/chenyu/Desktop/Bayesian-optimization-using-Gaussian-Process/modules/OnlineGP.py:464: RuntimeWarning: invalid value encountered in add\n",
      "  K = K + x1_sum_sq + x2_sum_sq\n",
      "/home/chenyu/Desktop/Bayesian-optimization-using-Gaussian-Process/modules/OnlineGP.py:464: RuntimeWarning: invalid value encountered in add\n",
      "  K = K + x1_sum_sq + x2_sum_sq\n",
      "/home/chenyu/Desktop/Bayesian-optimization-using-Gaussian-Process/modules/OnlineGP.py:464: RuntimeWarning: invalid value encountered in add\n",
      "  K = K + x1_sum_sq + x2_sum_sq\n"
     ]
    },
    {
     "name": "stdout",
     "output_type": "stream",
     "text": [
      "253136.72626257138\n",
      "Predicting defocus...\n",
      "saving ronchigram...\n"
     ]
    },
    {
     "name": "stderr",
     "output_type": "stream",
     "text": [
      "/home/chenyu/Desktop/Bayesian-optimization-using-Gaussian-Process/modules/OnlineGP.py:464: RuntimeWarning: invalid value encountered in add\n",
      "  K = K + x1_sum_sq + x2_sum_sq\n",
      "/home/chenyu/Desktop/Bayesian-optimization-using-Gaussian-Process/modules/OnlineGP.py:464: RuntimeWarning: invalid value encountered in add\n",
      "  K = K + x1_sum_sq + x2_sum_sq\n",
      "/home/chenyu/Desktop/Bayesian-optimization-using-Gaussian-Process/modules/OnlineGP.py:464: RuntimeWarning: invalid value encountered in add\n",
      "  K = K + x1_sum_sq + x2_sum_sq\n",
      "/home/chenyu/Desktop/Bayesian-optimization-using-Gaussian-Process/modules/OnlineGP.py:464: RuntimeWarning: invalid value encountered in add\n",
      "  K = K + x1_sum_sq + x2_sum_sq\n",
      "/home/chenyu/Desktop/Bayesian-optimization-using-Gaussian-Process/modules/OnlineGP.py:464: RuntimeWarning: invalid value encountered in add\n",
      "  K = K + x1_sum_sq + x2_sum_sq\n"
     ]
    },
    {
     "name": "stdout",
     "output_type": "stream",
     "text": [
      "253133.98306734403\n",
      "Predicting defocus...\n",
      "saving ronchigram...\n"
     ]
    },
    {
     "name": "stderr",
     "output_type": "stream",
     "text": [
      "/home/chenyu/Desktop/Bayesian-optimization-using-Gaussian-Process/modules/OnlineGP.py:464: RuntimeWarning: invalid value encountered in add\n",
      "  K = K + x1_sum_sq + x2_sum_sq\n",
      "/home/chenyu/Desktop/Bayesian-optimization-using-Gaussian-Process/modules/OnlineGP.py:464: RuntimeWarning: invalid value encountered in add\n",
      "  K = K + x1_sum_sq + x2_sum_sq\n",
      "/home/chenyu/Desktop/Bayesian-optimization-using-Gaussian-Process/modules/OnlineGP.py:464: RuntimeWarning: invalid value encountered in add\n",
      "  K = K + x1_sum_sq + x2_sum_sq\n",
      "/home/chenyu/Desktop/Bayesian-optimization-using-Gaussian-Process/modules/OnlineGP.py:464: RuntimeWarning: invalid value encountered in add\n",
      "  K = K + x1_sum_sq + x2_sum_sq\n",
      "/home/chenyu/Desktop/Bayesian-optimization-using-Gaussian-Process/modules/OnlineGP.py:464: RuntimeWarning: invalid value encountered in add\n",
      "  K = K + x1_sum_sq + x2_sum_sq\n"
     ]
    },
    {
     "name": "stdout",
     "output_type": "stream",
     "text": [
      "253132.2655841055\n",
      "Predicting defocus...\n",
      "saving ronchigram...\n",
      "25 Finished.\n",
      "Model loaded\n",
      "Supposed to be grabbing initial machine state...\n",
      "247809.92224757848\n",
      "Predicting defocus...\n",
      "saving ronchigram...\n",
      "x_init [[0.13498704]]\n",
      "y_init [[0.21023488]]\n"
     ]
    },
    {
     "name": "stderr",
     "output_type": "stream",
     "text": [
      "/home/chenyu/Desktop/Bayesian-optimization-using-Gaussian-Process/modules/OnlineGP.py:464: RuntimeWarning: invalid value encountered in add\n",
      "  K = K + x1_sum_sq + x2_sum_sq\n"
     ]
    },
    {
     "name": "stdout",
     "output_type": "stream",
     "text": [
      "246705.9007563432\n",
      "Predicting defocus...\n",
      "saving ronchigram...\n"
     ]
    },
    {
     "name": "stderr",
     "output_type": "stream",
     "text": [
      "/home/chenyu/Desktop/Bayesian-optimization-using-Gaussian-Process/modules/OnlineGP.py:464: RuntimeWarning: invalid value encountered in add\n",
      "  K = K + x1_sum_sq + x2_sum_sq\n",
      "/home/chenyu/Desktop/Bayesian-optimization-using-Gaussian-Process/modules/OnlineGP.py:464: RuntimeWarning: invalid value encountered in add\n",
      "  K = K + x1_sum_sq + x2_sum_sq\n"
     ]
    },
    {
     "name": "stdout",
     "output_type": "stream",
     "text": [
      "250275.9710401229\n",
      "Predicting defocus...\n",
      "saving ronchigram...\n"
     ]
    },
    {
     "name": "stderr",
     "output_type": "stream",
     "text": [
      "/home/chenyu/Desktop/Bayesian-optimization-using-Gaussian-Process/modules/OnlineGP.py:464: RuntimeWarning: invalid value encountered in add\n",
      "  K = K + x1_sum_sq + x2_sum_sq\n",
      "/home/chenyu/Desktop/Bayesian-optimization-using-Gaussian-Process/modules/OnlineGP.py:464: RuntimeWarning: invalid value encountered in add\n",
      "  K = K + x1_sum_sq + x2_sum_sq\n",
      "/home/chenyu/Desktop/Bayesian-optimization-using-Gaussian-Process/modules/OnlineGP.py:464: RuntimeWarning: invalid value encountered in add\n",
      "  K = K + x1_sum_sq + x2_sum_sq\n"
     ]
    },
    {
     "name": "stdout",
     "output_type": "stream",
     "text": [
      "253624.28130667735\n",
      "Predicting defocus...\n",
      "saving ronchigram...\n"
     ]
    },
    {
     "name": "stderr",
     "output_type": "stream",
     "text": [
      "/home/chenyu/Desktop/Bayesian-optimization-using-Gaussian-Process/modules/OnlineGP.py:464: RuntimeWarning: invalid value encountered in add\n",
      "  K = K + x1_sum_sq + x2_sum_sq\n",
      "/home/chenyu/Desktop/Bayesian-optimization-using-Gaussian-Process/modules/OnlineGP.py:464: RuntimeWarning: invalid value encountered in add\n",
      "  K = K + x1_sum_sq + x2_sum_sq\n",
      "/home/chenyu/Desktop/Bayesian-optimization-using-Gaussian-Process/modules/OnlineGP.py:464: RuntimeWarning: invalid value encountered in add\n",
      "  K = K + x1_sum_sq + x2_sum_sq\n",
      "/home/chenyu/Desktop/Bayesian-optimization-using-Gaussian-Process/modules/OnlineGP.py:464: RuntimeWarning: invalid value encountered in add\n",
      "  K = K + x1_sum_sq + x2_sum_sq\n"
     ]
    },
    {
     "name": "stdout",
     "output_type": "stream",
     "text": [
      "256104.3731045475\n",
      "Predicting defocus...\n",
      "saving ronchigram...\n"
     ]
    },
    {
     "name": "stderr",
     "output_type": "stream",
     "text": [
      "/home/chenyu/Desktop/Bayesian-optimization-using-Gaussian-Process/modules/OnlineGP.py:464: RuntimeWarning: invalid value encountered in add\n",
      "  K = K + x1_sum_sq + x2_sum_sq\n",
      "/home/chenyu/Desktop/Bayesian-optimization-using-Gaussian-Process/modules/OnlineGP.py:464: RuntimeWarning: invalid value encountered in add\n",
      "  K = K + x1_sum_sq + x2_sum_sq\n",
      "/home/chenyu/Desktop/Bayesian-optimization-using-Gaussian-Process/modules/OnlineGP.py:464: RuntimeWarning: invalid value encountered in add\n",
      "  K = K + x1_sum_sq + x2_sum_sq\n",
      "/home/chenyu/Desktop/Bayesian-optimization-using-Gaussian-Process/modules/OnlineGP.py:464: RuntimeWarning: invalid value encountered in add\n",
      "  K = K + x1_sum_sq + x2_sum_sq\n",
      "/home/chenyu/Desktop/Bayesian-optimization-using-Gaussian-Process/modules/OnlineGP.py:464: RuntimeWarning: invalid value encountered in add\n",
      "  K = K + x1_sum_sq + x2_sum_sq\n"
     ]
    },
    {
     "name": "stdout",
     "output_type": "stream",
     "text": [
      "257909.4641020315\n",
      "Predicting defocus...\n",
      "saving ronchigram...\n"
     ]
    },
    {
     "name": "stderr",
     "output_type": "stream",
     "text": [
      "/home/chenyu/Desktop/Bayesian-optimization-using-Gaussian-Process/modules/OnlineGP.py:464: RuntimeWarning: invalid value encountered in add\n",
      "  K = K + x1_sum_sq + x2_sum_sq\n",
      "/home/chenyu/Desktop/Bayesian-optimization-using-Gaussian-Process/modules/OnlineGP.py:464: RuntimeWarning: invalid value encountered in add\n",
      "  K = K + x1_sum_sq + x2_sum_sq\n",
      "/home/chenyu/Desktop/Bayesian-optimization-using-Gaussian-Process/modules/OnlineGP.py:464: RuntimeWarning: invalid value encountered in add\n",
      "  K = K + x1_sum_sq + x2_sum_sq\n",
      "/home/chenyu/Desktop/Bayesian-optimization-using-Gaussian-Process/modules/OnlineGP.py:464: RuntimeWarning: invalid value encountered in add\n",
      "  K = K + x1_sum_sq + x2_sum_sq\n",
      "/home/chenyu/Desktop/Bayesian-optimization-using-Gaussian-Process/modules/OnlineGP.py:464: RuntimeWarning: invalid value encountered in add\n",
      "  K = K + x1_sum_sq + x2_sum_sq\n"
     ]
    },
    {
     "name": "stdout",
     "output_type": "stream",
     "text": [
      "259962.7418656526\n",
      "Predicting defocus...\n",
      "saving ronchigram...\n"
     ]
    },
    {
     "name": "stderr",
     "output_type": "stream",
     "text": [
      "/home/chenyu/Desktop/Bayesian-optimization-using-Gaussian-Process/modules/OnlineGP.py:464: RuntimeWarning: invalid value encountered in add\n",
      "  K = K + x1_sum_sq + x2_sum_sq\n",
      "/home/chenyu/Desktop/Bayesian-optimization-using-Gaussian-Process/modules/OnlineGP.py:464: RuntimeWarning: invalid value encountered in add\n",
      "  K = K + x1_sum_sq + x2_sum_sq\n",
      "/home/chenyu/Desktop/Bayesian-optimization-using-Gaussian-Process/modules/OnlineGP.py:464: RuntimeWarning: invalid value encountered in add\n",
      "  K = K + x1_sum_sq + x2_sum_sq\n",
      "/home/chenyu/Desktop/Bayesian-optimization-using-Gaussian-Process/modules/OnlineGP.py:464: RuntimeWarning: invalid value encountered in add\n",
      "  K = K + x1_sum_sq + x2_sum_sq\n",
      "/home/chenyu/Desktop/Bayesian-optimization-using-Gaussian-Process/modules/OnlineGP.py:464: RuntimeWarning: invalid value encountered in add\n",
      "  K = K + x1_sum_sq + x2_sum_sq\n"
     ]
    },
    {
     "name": "stdout",
     "output_type": "stream",
     "text": [
      "257053.50676263505\n",
      "Predicting defocus...\n",
      "saving ronchigram...\n"
     ]
    },
    {
     "name": "stderr",
     "output_type": "stream",
     "text": [
      "/home/chenyu/Desktop/Bayesian-optimization-using-Gaussian-Process/modules/OnlineGP.py:464: RuntimeWarning: invalid value encountered in add\n",
      "  K = K + x1_sum_sq + x2_sum_sq\n",
      "/home/chenyu/Desktop/Bayesian-optimization-using-Gaussian-Process/modules/OnlineGP.py:464: RuntimeWarning: invalid value encountered in add\n",
      "  K = K + x1_sum_sq + x2_sum_sq\n",
      "/home/chenyu/Desktop/Bayesian-optimization-using-Gaussian-Process/modules/OnlineGP.py:464: RuntimeWarning: invalid value encountered in add\n",
      "  K = K + x1_sum_sq + x2_sum_sq\n",
      "/home/chenyu/Desktop/Bayesian-optimization-using-Gaussian-Process/modules/OnlineGP.py:464: RuntimeWarning: invalid value encountered in add\n",
      "  K = K + x1_sum_sq + x2_sum_sq\n",
      "/home/chenyu/Desktop/Bayesian-optimization-using-Gaussian-Process/modules/OnlineGP.py:464: RuntimeWarning: invalid value encountered in add\n",
      "  K = K + x1_sum_sq + x2_sum_sq\n"
     ]
    },
    {
     "name": "stdout",
     "output_type": "stream",
     "text": [
      "257159.21291204414\n",
      "Predicting defocus...\n",
      "saving ronchigram...\n"
     ]
    },
    {
     "name": "stderr",
     "output_type": "stream",
     "text": [
      "/home/chenyu/Desktop/Bayesian-optimization-using-Gaussian-Process/modules/OnlineGP.py:464: RuntimeWarning: invalid value encountered in add\n",
      "  K = K + x1_sum_sq + x2_sum_sq\n",
      "/home/chenyu/Desktop/Bayesian-optimization-using-Gaussian-Process/modules/OnlineGP.py:464: RuntimeWarning: invalid value encountered in add\n",
      "  K = K + x1_sum_sq + x2_sum_sq\n",
      "/home/chenyu/Desktop/Bayesian-optimization-using-Gaussian-Process/modules/OnlineGP.py:464: RuntimeWarning: invalid value encountered in add\n",
      "  K = K + x1_sum_sq + x2_sum_sq\n",
      "/home/chenyu/Desktop/Bayesian-optimization-using-Gaussian-Process/modules/OnlineGP.py:464: RuntimeWarning: invalid value encountered in add\n",
      "  K = K + x1_sum_sq + x2_sum_sq\n",
      "/home/chenyu/Desktop/Bayesian-optimization-using-Gaussian-Process/modules/OnlineGP.py:464: RuntimeWarning: invalid value encountered in add\n",
      "  K = K + x1_sum_sq + x2_sum_sq\n"
     ]
    },
    {
     "name": "stdout",
     "output_type": "stream",
     "text": [
      "257186.9394264305\n",
      "Predicting defocus...\n",
      "saving ronchigram...\n"
     ]
    },
    {
     "name": "stderr",
     "output_type": "stream",
     "text": [
      "/home/chenyu/Desktop/Bayesian-optimization-using-Gaussian-Process/modules/OnlineGP.py:464: RuntimeWarning: invalid value encountered in add\n",
      "  K = K + x1_sum_sq + x2_sum_sq\n",
      "/home/chenyu/Desktop/Bayesian-optimization-using-Gaussian-Process/modules/OnlineGP.py:464: RuntimeWarning: invalid value encountered in add\n",
      "  K = K + x1_sum_sq + x2_sum_sq\n",
      "/home/chenyu/Desktop/Bayesian-optimization-using-Gaussian-Process/modules/OnlineGP.py:464: RuntimeWarning: invalid value encountered in add\n",
      "  K = K + x1_sum_sq + x2_sum_sq\n",
      "/home/chenyu/Desktop/Bayesian-optimization-using-Gaussian-Process/modules/OnlineGP.py:464: RuntimeWarning: invalid value encountered in add\n",
      "  K = K + x1_sum_sq + x2_sum_sq\n",
      "/home/chenyu/Desktop/Bayesian-optimization-using-Gaussian-Process/modules/OnlineGP.py:464: RuntimeWarning: invalid value encountered in add\n",
      "  K = K + x1_sum_sq + x2_sum_sq\n"
     ]
    },
    {
     "name": "stdout",
     "output_type": "stream",
     "text": [
      "257204.346549985\n",
      "Predicting defocus...\n",
      "saving ronchigram...\n",
      "26 Finished.\n",
      "Model loaded\n",
      "Supposed to be grabbing initial machine state...\n",
      "252774.73220556404\n",
      "Predicting defocus...\n",
      "saving ronchigram...\n",
      "x_init [[0.96245537]]\n",
      "y_init [[0.31890798]]\n"
     ]
    },
    {
     "name": "stderr",
     "output_type": "stream",
     "text": [
      "/home/chenyu/Desktop/Bayesian-optimization-using-Gaussian-Process/modules/OnlineGP.py:464: RuntimeWarning: invalid value encountered in add\n",
      "  K = K + x1_sum_sq + x2_sum_sq\n"
     ]
    },
    {
     "name": "stdout",
     "output_type": "stream",
     "text": [
      "251670.71071432877\n",
      "Predicting defocus...\n",
      "saving ronchigram...\n"
     ]
    },
    {
     "name": "stderr",
     "output_type": "stream",
     "text": [
      "/home/chenyu/Desktop/Bayesian-optimization-using-Gaussian-Process/modules/OnlineGP.py:464: RuntimeWarning: invalid value encountered in add\n",
      "  K = K + x1_sum_sq + x2_sum_sq\n",
      "/home/chenyu/Desktop/Bayesian-optimization-using-Gaussian-Process/modules/OnlineGP.py:464: RuntimeWarning: invalid value encountered in add\n",
      "  K = K + x1_sum_sq + x2_sum_sq\n"
     ]
    },
    {
     "name": "stdout",
     "output_type": "stream",
     "text": [
      "248376.88617072566\n",
      "Predicting defocus...\n",
      "saving ronchigram...\n"
     ]
    },
    {
     "name": "stderr",
     "output_type": "stream",
     "text": [
      "/home/chenyu/Desktop/Bayesian-optimization-using-Gaussian-Process/modules/OnlineGP.py:464: RuntimeWarning: invalid value encountered in add\n",
      "  K = K + x1_sum_sq + x2_sum_sq\n",
      "/home/chenyu/Desktop/Bayesian-optimization-using-Gaussian-Process/modules/OnlineGP.py:464: RuntimeWarning: invalid value encountered in add\n",
      "  K = K + x1_sum_sq + x2_sum_sq\n",
      "/home/chenyu/Desktop/Bayesian-optimization-using-Gaussian-Process/modules/OnlineGP.py:464: RuntimeWarning: invalid value encountered in add\n",
      "  K = K + x1_sum_sq + x2_sum_sq\n"
     ]
    },
    {
     "name": "stdout",
     "output_type": "stream",
     "text": [
      "255045.2282027332\n",
      "Predicting defocus...\n",
      "saving ronchigram...\n"
     ]
    },
    {
     "name": "stderr",
     "output_type": "stream",
     "text": [
      "/home/chenyu/Desktop/Bayesian-optimization-using-Gaussian-Process/modules/OnlineGP.py:464: RuntimeWarning: invalid value encountered in add\n",
      "  K = K + x1_sum_sq + x2_sum_sq\n",
      "/home/chenyu/Desktop/Bayesian-optimization-using-Gaussian-Process/modules/OnlineGP.py:464: RuntimeWarning: invalid value encountered in add\n",
      "  K = K + x1_sum_sq + x2_sum_sq\n",
      "/home/chenyu/Desktop/Bayesian-optimization-using-Gaussian-Process/modules/OnlineGP.py:464: RuntimeWarning: invalid value encountered in add\n",
      "  K = K + x1_sum_sq + x2_sum_sq\n"
     ]
    },
    {
     "name": "stdout",
     "output_type": "stream",
     "text": [
      "257203.5323557328\n",
      "Predicting defocus...\n",
      "saving ronchigram...\n"
     ]
    },
    {
     "name": "stderr",
     "output_type": "stream",
     "text": [
      "/home/chenyu/Desktop/Bayesian-optimization-using-Gaussian-Process/modules/OnlineGP.py:464: RuntimeWarning: invalid value encountered in add\n",
      "  K = K + x1_sum_sq + x2_sum_sq\n",
      "/home/chenyu/Desktop/Bayesian-optimization-using-Gaussian-Process/modules/OnlineGP.py:464: RuntimeWarning: invalid value encountered in add\n",
      "  K = K + x1_sum_sq + x2_sum_sq\n",
      "/home/chenyu/Desktop/Bayesian-optimization-using-Gaussian-Process/modules/OnlineGP.py:464: RuntimeWarning: invalid value encountered in add\n",
      "  K = K + x1_sum_sq + x2_sum_sq\n",
      "/home/chenyu/Desktop/Bayesian-optimization-using-Gaussian-Process/modules/OnlineGP.py:464: RuntimeWarning: invalid value encountered in add\n",
      "  K = K + x1_sum_sq + x2_sum_sq\n"
     ]
    },
    {
     "name": "stdout",
     "output_type": "stream",
     "text": [
      "259100.97914358974\n",
      "Predicting defocus...\n",
      "saving ronchigram...\n"
     ]
    },
    {
     "name": "stderr",
     "output_type": "stream",
     "text": [
      "/home/chenyu/Desktop/Bayesian-optimization-using-Gaussian-Process/modules/OnlineGP.py:464: RuntimeWarning: invalid value encountered in add\n",
      "  K = K + x1_sum_sq + x2_sum_sq\n",
      "/home/chenyu/Desktop/Bayesian-optimization-using-Gaussian-Process/modules/OnlineGP.py:464: RuntimeWarning: invalid value encountered in add\n",
      "  K = K + x1_sum_sq + x2_sum_sq\n",
      "/home/chenyu/Desktop/Bayesian-optimization-using-Gaussian-Process/modules/OnlineGP.py:464: RuntimeWarning: invalid value encountered in add\n",
      "  K = K + x1_sum_sq + x2_sum_sq\n",
      "/home/chenyu/Desktop/Bayesian-optimization-using-Gaussian-Process/modules/OnlineGP.py:464: RuntimeWarning: invalid value encountered in add\n",
      "  K = K + x1_sum_sq + x2_sum_sq\n",
      "/home/chenyu/Desktop/Bayesian-optimization-using-Gaussian-Process/modules/OnlineGP.py:464: RuntimeWarning: invalid value encountered in add\n",
      "  K = K + x1_sum_sq + x2_sum_sq\n"
     ]
    },
    {
     "name": "stdout",
     "output_type": "stream",
     "text": [
      "256383.8456244221\n",
      "Predicting defocus...\n",
      "saving ronchigram...\n"
     ]
    },
    {
     "name": "stderr",
     "output_type": "stream",
     "text": [
      "/home/chenyu/Desktop/Bayesian-optimization-using-Gaussian-Process/modules/OnlineGP.py:464: RuntimeWarning: invalid value encountered in add\n",
      "  K = K + x1_sum_sq + x2_sum_sq\n",
      "/home/chenyu/Desktop/Bayesian-optimization-using-Gaussian-Process/modules/OnlineGP.py:464: RuntimeWarning: invalid value encountered in add\n",
      "  K = K + x1_sum_sq + x2_sum_sq\n",
      "/home/chenyu/Desktop/Bayesian-optimization-using-Gaussian-Process/modules/OnlineGP.py:464: RuntimeWarning: invalid value encountered in add\n",
      "  K = K + x1_sum_sq + x2_sum_sq\n",
      "/home/chenyu/Desktop/Bayesian-optimization-using-Gaussian-Process/modules/OnlineGP.py:464: RuntimeWarning: invalid value encountered in add\n",
      "  K = K + x1_sum_sq + x2_sum_sq\n",
      "/home/chenyu/Desktop/Bayesian-optimization-using-Gaussian-Process/modules/OnlineGP.py:464: RuntimeWarning: invalid value encountered in add\n",
      "  K = K + x1_sum_sq + x2_sum_sq\n"
     ]
    },
    {
     "name": "stdout",
     "output_type": "stream",
     "text": [
      "256519.3295579678\n",
      "Predicting defocus...\n",
      "saving ronchigram...\n"
     ]
    },
    {
     "name": "stderr",
     "output_type": "stream",
     "text": [
      "/home/chenyu/Desktop/Bayesian-optimization-using-Gaussian-Process/modules/OnlineGP.py:464: RuntimeWarning: invalid value encountered in add\n",
      "  K = K + x1_sum_sq + x2_sum_sq\n",
      "/home/chenyu/Desktop/Bayesian-optimization-using-Gaussian-Process/modules/OnlineGP.py:464: RuntimeWarning: invalid value encountered in add\n",
      "  K = K + x1_sum_sq + x2_sum_sq\n",
      "/home/chenyu/Desktop/Bayesian-optimization-using-Gaussian-Process/modules/OnlineGP.py:464: RuntimeWarning: invalid value encountered in add\n",
      "  K = K + x1_sum_sq + x2_sum_sq\n",
      "/home/chenyu/Desktop/Bayesian-optimization-using-Gaussian-Process/modules/OnlineGP.py:464: RuntimeWarning: invalid value encountered in add\n",
      "  K = K + x1_sum_sq + x2_sum_sq\n",
      "/home/chenyu/Desktop/Bayesian-optimization-using-Gaussian-Process/modules/OnlineGP.py:464: RuntimeWarning: invalid value encountered in add\n",
      "  K = K + x1_sum_sq + x2_sum_sq\n"
     ]
    },
    {
     "name": "stdout",
     "output_type": "stream",
     "text": [
      "256577.5327295763\n",
      "Predicting defocus...\n",
      "saving ronchigram...\n"
     ]
    },
    {
     "name": "stderr",
     "output_type": "stream",
     "text": [
      "/home/chenyu/Desktop/Bayesian-optimization-using-Gaussian-Process/modules/OnlineGP.py:464: RuntimeWarning: invalid value encountered in add\n",
      "  K = K + x1_sum_sq + x2_sum_sq\n",
      "/home/chenyu/Desktop/Bayesian-optimization-using-Gaussian-Process/modules/OnlineGP.py:464: RuntimeWarning: invalid value encountered in add\n",
      "  K = K + x1_sum_sq + x2_sum_sq\n",
      "/home/chenyu/Desktop/Bayesian-optimization-using-Gaussian-Process/modules/OnlineGP.py:464: RuntimeWarning: invalid value encountered in add\n",
      "  K = K + x1_sum_sq + x2_sum_sq\n",
      "/home/chenyu/Desktop/Bayesian-optimization-using-Gaussian-Process/modules/OnlineGP.py:464: RuntimeWarning: invalid value encountered in add\n",
      "  K = K + x1_sum_sq + x2_sum_sq\n",
      "/home/chenyu/Desktop/Bayesian-optimization-using-Gaussian-Process/modules/OnlineGP.py:464: RuntimeWarning: invalid value encountered in add\n",
      "  K = K + x1_sum_sq + x2_sum_sq\n"
     ]
    },
    {
     "name": "stdout",
     "output_type": "stream",
     "text": [
      "256594.53941382281\n",
      "Predicting defocus...\n",
      "saving ronchigram...\n"
     ]
    },
    {
     "name": "stderr",
     "output_type": "stream",
     "text": [
      "/home/chenyu/Desktop/Bayesian-optimization-using-Gaussian-Process/modules/OnlineGP.py:464: RuntimeWarning: invalid value encountered in add\n",
      "  K = K + x1_sum_sq + x2_sum_sq\n",
      "/home/chenyu/Desktop/Bayesian-optimization-using-Gaussian-Process/modules/OnlineGP.py:464: RuntimeWarning: invalid value encountered in add\n",
      "  K = K + x1_sum_sq + x2_sum_sq\n",
      "/home/chenyu/Desktop/Bayesian-optimization-using-Gaussian-Process/modules/OnlineGP.py:464: RuntimeWarning: invalid value encountered in add\n",
      "  K = K + x1_sum_sq + x2_sum_sq\n",
      "/home/chenyu/Desktop/Bayesian-optimization-using-Gaussian-Process/modules/OnlineGP.py:464: RuntimeWarning: invalid value encountered in add\n",
      "  K = K + x1_sum_sq + x2_sum_sq\n",
      "/home/chenyu/Desktop/Bayesian-optimization-using-Gaussian-Process/modules/OnlineGP.py:464: RuntimeWarning: invalid value encountered in add\n",
      "  K = K + x1_sum_sq + x2_sum_sq\n"
     ]
    },
    {
     "name": "stdout",
     "output_type": "stream",
     "text": [
      "256599.77989818162\n",
      "Predicting defocus...\n",
      "saving ronchigram...\n",
      "27 Finished.\n",
      "Model loaded\n",
      "Supposed to be grabbing initial machine state...\n",
      "249976.93763208477\n",
      "Predicting defocus...\n",
      "saving ronchigram...\n",
      "x_init [[0.49615627]]\n",
      "y_init [[0.12840414]]\n"
     ]
    },
    {
     "name": "stderr",
     "output_type": "stream",
     "text": [
      "/home/chenyu/Desktop/Bayesian-optimization-using-Gaussian-Process/modules/OnlineGP.py:464: RuntimeWarning: invalid value encountered in add\n",
      "  K = K + x1_sum_sq + x2_sum_sq\n"
     ]
    },
    {
     "name": "stdout",
     "output_type": "stream",
     "text": [
      "248872.9161408495\n",
      "Predicting defocus...\n",
      "saving ronchigram...\n"
     ]
    },
    {
     "name": "stderr",
     "output_type": "stream",
     "text": [
      "/home/chenyu/Desktop/Bayesian-optimization-using-Gaussian-Process/modules/OnlineGP.py:464: RuntimeWarning: invalid value encountered in add\n",
      "  K = K + x1_sum_sq + x2_sum_sq\n",
      "/home/chenyu/Desktop/Bayesian-optimization-using-Gaussian-Process/modules/OnlineGP.py:464: RuntimeWarning: invalid value encountered in add\n",
      "  K = K + x1_sum_sq + x2_sum_sq\n"
     ]
    },
    {
     "name": "stdout",
     "output_type": "stream",
     "text": [
      "252870.3481064069\n",
      "Predicting defocus...\n",
      "saving ronchigram...\n"
     ]
    },
    {
     "name": "stderr",
     "output_type": "stream",
     "text": [
      "/home/chenyu/Desktop/Bayesian-optimization-using-Gaussian-Process/modules/OnlineGP.py:464: RuntimeWarning: invalid value encountered in add\n",
      "  K = K + x1_sum_sq + x2_sum_sq\n",
      "/home/chenyu/Desktop/Bayesian-optimization-using-Gaussian-Process/modules/OnlineGP.py:464: RuntimeWarning: invalid value encountered in add\n",
      "  K = K + x1_sum_sq + x2_sum_sq\n",
      "/home/chenyu/Desktop/Bayesian-optimization-using-Gaussian-Process/modules/OnlineGP.py:464: RuntimeWarning: invalid value encountered in add\n",
      "  K = K + x1_sum_sq + x2_sum_sq\n"
     ]
    },
    {
     "name": "stdout",
     "output_type": "stream",
     "text": [
      "244839.8838539382\n",
      "Predicting defocus...\n",
      "saving ronchigram...\n"
     ]
    },
    {
     "name": "stderr",
     "output_type": "stream",
     "text": [
      "/home/chenyu/Desktop/Bayesian-optimization-using-Gaussian-Process/modules/OnlineGP.py:464: RuntimeWarning: invalid value encountered in add\n",
      "  K = K + x1_sum_sq + x2_sum_sq\n",
      "/home/chenyu/Desktop/Bayesian-optimization-using-Gaussian-Process/modules/OnlineGP.py:464: RuntimeWarning: invalid value encountered in add\n",
      "  K = K + x1_sum_sq + x2_sum_sq\n",
      "/home/chenyu/Desktop/Bayesian-optimization-using-Gaussian-Process/modules/OnlineGP.py:464: RuntimeWarning: invalid value encountered in add\n",
      "  K = K + x1_sum_sq + x2_sum_sq\n"
     ]
    },
    {
     "name": "stdout",
     "output_type": "stream",
     "text": [
      "255682.93763208477\n",
      "Predicting defocus...\n",
      "saving ronchigram...\n"
     ]
    },
    {
     "name": "stderr",
     "output_type": "stream",
     "text": [
      "/home/chenyu/Desktop/Bayesian-optimization-using-Gaussian-Process/modules/OnlineGP.py:464: RuntimeWarning: invalid value encountered in add\n",
      "  K = K + x1_sum_sq + x2_sum_sq\n",
      "/home/chenyu/Desktop/Bayesian-optimization-using-Gaussian-Process/modules/OnlineGP.py:464: RuntimeWarning: invalid value encountered in add\n",
      "  K = K + x1_sum_sq + x2_sum_sq\n",
      "/home/chenyu/Desktop/Bayesian-optimization-using-Gaussian-Process/modules/OnlineGP.py:464: RuntimeWarning: invalid value encountered in add\n",
      "  K = K + x1_sum_sq + x2_sum_sq\n"
     ]
    },
    {
     "name": "stdout",
     "output_type": "stream",
     "text": [
      "258619.96707057825\n",
      "Predicting defocus...\n",
      "saving ronchigram...\n"
     ]
    },
    {
     "name": "stderr",
     "output_type": "stream",
     "text": [
      "/home/chenyu/Desktop/Bayesian-optimization-using-Gaussian-Process/modules/OnlineGP.py:464: RuntimeWarning: invalid value encountered in add\n",
      "  K = K + x1_sum_sq + x2_sum_sq\n",
      "/home/chenyu/Desktop/Bayesian-optimization-using-Gaussian-Process/modules/OnlineGP.py:464: RuntimeWarning: invalid value encountered in add\n",
      "  K = K + x1_sum_sq + x2_sum_sq\n",
      "/home/chenyu/Desktop/Bayesian-optimization-using-Gaussian-Process/modules/OnlineGP.py:464: RuntimeWarning: invalid value encountered in add\n",
      "  K = K + x1_sum_sq + x2_sum_sq\n",
      "/home/chenyu/Desktop/Bayesian-optimization-using-Gaussian-Process/modules/OnlineGP.py:464: RuntimeWarning: invalid value encountered in add\n",
      "  K = K + x1_sum_sq + x2_sum_sq\n"
     ]
    },
    {
     "name": "stdout",
     "output_type": "stream",
     "text": [
      "261388.93763208477\n",
      "Predicting defocus...\n",
      "saving ronchigram...\n"
     ]
    },
    {
     "name": "stderr",
     "output_type": "stream",
     "text": [
      "/home/chenyu/Desktop/Bayesian-optimization-using-Gaussian-Process/modules/OnlineGP.py:464: RuntimeWarning: invalid value encountered in add\n",
      "  K = K + x1_sum_sq + x2_sum_sq\n",
      "/home/chenyu/Desktop/Bayesian-optimization-using-Gaussian-Process/modules/OnlineGP.py:464: RuntimeWarning: invalid value encountered in add\n",
      "  K = K + x1_sum_sq + x2_sum_sq\n",
      "/home/chenyu/Desktop/Bayesian-optimization-using-Gaussian-Process/modules/OnlineGP.py:464: RuntimeWarning: invalid value encountered in add\n",
      "  K = K + x1_sum_sq + x2_sum_sq\n",
      "/home/chenyu/Desktop/Bayesian-optimization-using-Gaussian-Process/modules/OnlineGP.py:464: RuntimeWarning: invalid value encountered in add\n",
      "  K = K + x1_sum_sq + x2_sum_sq\n"
     ]
    },
    {
     "name": "stdout",
     "output_type": "stream",
     "text": [
      "257102.9575401527\n",
      "Predicting defocus...\n",
      "saving ronchigram...\n"
     ]
    },
    {
     "name": "stderr",
     "output_type": "stream",
     "text": [
      "/home/chenyu/Desktop/Bayesian-optimization-using-Gaussian-Process/modules/OnlineGP.py:464: RuntimeWarning: invalid value encountered in add\n",
      "  K = K + x1_sum_sq + x2_sum_sq\n",
      "/home/chenyu/Desktop/Bayesian-optimization-using-Gaussian-Process/modules/OnlineGP.py:464: RuntimeWarning: invalid value encountered in add\n",
      "  K = K + x1_sum_sq + x2_sum_sq\n",
      "/home/chenyu/Desktop/Bayesian-optimization-using-Gaussian-Process/modules/OnlineGP.py:464: RuntimeWarning: invalid value encountered in add\n",
      "  K = K + x1_sum_sq + x2_sum_sq\n",
      "/home/chenyu/Desktop/Bayesian-optimization-using-Gaussian-Process/modules/OnlineGP.py:464: RuntimeWarning: invalid value encountered in add\n",
      "  K = K + x1_sum_sq + x2_sum_sq\n",
      "/home/chenyu/Desktop/Bayesian-optimization-using-Gaussian-Process/modules/OnlineGP.py:464: RuntimeWarning: invalid value encountered in add\n",
      "  K = K + x1_sum_sq + x2_sum_sq\n"
     ]
    },
    {
     "name": "stdout",
     "output_type": "stream",
     "text": [
      "251080.95912332003\n",
      "Predicting defocus...\n",
      "saving ronchigram...\n"
     ]
    },
    {
     "name": "stderr",
     "output_type": "stream",
     "text": [
      "/home/chenyu/Desktop/Bayesian-optimization-using-Gaussian-Process/modules/OnlineGP.py:464: RuntimeWarning: invalid value encountered in add\n",
      "  K = K + x1_sum_sq + x2_sum_sq\n",
      "/home/chenyu/Desktop/Bayesian-optimization-using-Gaussian-Process/modules/OnlineGP.py:464: RuntimeWarning: invalid value encountered in add\n",
      "  K = K + x1_sum_sq + x2_sum_sq\n",
      "/home/chenyu/Desktop/Bayesian-optimization-using-Gaussian-Process/modules/OnlineGP.py:464: RuntimeWarning: invalid value encountered in add\n",
      "  K = K + x1_sum_sq + x2_sum_sq\n",
      "/home/chenyu/Desktop/Bayesian-optimization-using-Gaussian-Process/modules/OnlineGP.py:464: RuntimeWarning: invalid value encountered in add\n",
      "  K = K + x1_sum_sq + x2_sum_sq\n",
      "/home/chenyu/Desktop/Bayesian-optimization-using-Gaussian-Process/modules/OnlineGP.py:464: RuntimeWarning: invalid value encountered in add\n",
      "  K = K + x1_sum_sq + x2_sum_sq\n"
     ]
    },
    {
     "name": "stdout",
     "output_type": "stream",
     "text": [
      "257097.7756454703\n",
      "Predicting defocus...\n",
      "saving ronchigram...\n"
     ]
    },
    {
     "name": "stderr",
     "output_type": "stream",
     "text": [
      "/home/chenyu/Desktop/Bayesian-optimization-using-Gaussian-Process/modules/OnlineGP.py:464: RuntimeWarning: invalid value encountered in add\n",
      "  K = K + x1_sum_sq + x2_sum_sq\n",
      "/home/chenyu/Desktop/Bayesian-optimization-using-Gaussian-Process/modules/OnlineGP.py:464: RuntimeWarning: invalid value encountered in add\n",
      "  K = K + x1_sum_sq + x2_sum_sq\n",
      "/home/chenyu/Desktop/Bayesian-optimization-using-Gaussian-Process/modules/OnlineGP.py:464: RuntimeWarning: invalid value encountered in add\n",
      "  K = K + x1_sum_sq + x2_sum_sq\n",
      "/home/chenyu/Desktop/Bayesian-optimization-using-Gaussian-Process/modules/OnlineGP.py:464: RuntimeWarning: invalid value encountered in add\n",
      "  K = K + x1_sum_sq + x2_sum_sq\n",
      "/home/chenyu/Desktop/Bayesian-optimization-using-Gaussian-Process/modules/OnlineGP.py:464: RuntimeWarning: invalid value encountered in add\n",
      "  K = K + x1_sum_sq + x2_sum_sq\n"
     ]
    },
    {
     "name": "stdout",
     "output_type": "stream",
     "text": [
      "262803.7756454703\n",
      "Predicting defocus...\n",
      "saving ronchigram...\n",
      "28 Finished.\n",
      "Model loaded\n",
      "Supposed to be grabbing initial machine state...\n",
      "249784.18903812376\n",
      "Predicting defocus...\n",
      "saving ronchigram...\n",
      "x_init [[0.46403151]]\n",
      "y_init [[0.23012364]]\n"
     ]
    },
    {
     "name": "stderr",
     "output_type": "stream",
     "text": [
      "/home/chenyu/Desktop/Bayesian-optimization-using-Gaussian-Process/modules/OnlineGP.py:464: RuntimeWarning: invalid value encountered in add\n",
      "  K = K + x1_sum_sq + x2_sum_sq\n"
     ]
    },
    {
     "name": "stdout",
     "output_type": "stream",
     "text": [
      "248680.1675468885\n",
      "Predicting defocus...\n",
      "saving ronchigram...\n"
     ]
    },
    {
     "name": "stderr",
     "output_type": "stream",
     "text": [
      "/home/chenyu/Desktop/Bayesian-optimization-using-Gaussian-Process/modules/OnlineGP.py:464: RuntimeWarning: invalid value encountered in add\n",
      "  K = K + x1_sum_sq + x2_sum_sq\n",
      "/home/chenyu/Desktop/Bayesian-optimization-using-Gaussian-Process/modules/OnlineGP.py:464: RuntimeWarning: invalid value encountered in add\n",
      "  K = K + x1_sum_sq + x2_sum_sq\n"
     ]
    },
    {
     "name": "stdout",
     "output_type": "stream",
     "text": [
      "252376.5567414836\n",
      "Predicting defocus...\n",
      "saving ronchigram...\n"
     ]
    },
    {
     "name": "stderr",
     "output_type": "stream",
     "text": [
      "/home/chenyu/Desktop/Bayesian-optimization-using-Gaussian-Process/modules/OnlineGP.py:464: RuntimeWarning: invalid value encountered in add\n",
      "  K = K + x1_sum_sq + x2_sum_sq\n",
      "/home/chenyu/Desktop/Bayesian-optimization-using-Gaussian-Process/modules/OnlineGP.py:464: RuntimeWarning: invalid value encountered in add\n",
      "  K = K + x1_sum_sq + x2_sum_sq\n",
      "/home/chenyu/Desktop/Bayesian-optimization-using-Gaussian-Process/modules/OnlineGP.py:464: RuntimeWarning: invalid value encountered in add\n",
      "  K = K + x1_sum_sq + x2_sum_sq\n"
     ]
    },
    {
     "name": "stdout",
     "output_type": "stream",
     "text": [
      "255375.1761295656\n",
      "Predicting defocus...\n",
      "saving ronchigram...\n"
     ]
    },
    {
     "name": "stderr",
     "output_type": "stream",
     "text": [
      "/home/chenyu/Desktop/Bayesian-optimization-using-Gaussian-Process/modules/OnlineGP.py:464: RuntimeWarning: invalid value encountered in add\n",
      "  K = K + x1_sum_sq + x2_sum_sq\n",
      "/home/chenyu/Desktop/Bayesian-optimization-using-Gaussian-Process/modules/OnlineGP.py:464: RuntimeWarning: invalid value encountered in add\n",
      "  K = K + x1_sum_sq + x2_sum_sq\n",
      "/home/chenyu/Desktop/Bayesian-optimization-using-Gaussian-Process/modules/OnlineGP.py:464: RuntimeWarning: invalid value encountered in add\n",
      "  K = K + x1_sum_sq + x2_sum_sq\n",
      "/home/chenyu/Desktop/Bayesian-optimization-using-Gaussian-Process/modules/OnlineGP.py:464: RuntimeWarning: invalid value encountered in add\n",
      "  K = K + x1_sum_sq + x2_sum_sq\n"
     ]
    },
    {
     "name": "stdout",
     "output_type": "stream",
     "text": [
      "257161.86211366052\n",
      "Predicting defocus...\n",
      "saving ronchigram...\n"
     ]
    },
    {
     "name": "stderr",
     "output_type": "stream",
     "text": [
      "/home/chenyu/Desktop/Bayesian-optimization-using-Gaussian-Process/modules/OnlineGP.py:464: RuntimeWarning: invalid value encountered in add\n",
      "  K = K + x1_sum_sq + x2_sum_sq\n",
      "/home/chenyu/Desktop/Bayesian-optimization-using-Gaussian-Process/modules/OnlineGP.py:464: RuntimeWarning: invalid value encountered in add\n",
      "  K = K + x1_sum_sq + x2_sum_sq\n",
      "/home/chenyu/Desktop/Bayesian-optimization-using-Gaussian-Process/modules/OnlineGP.py:464: RuntimeWarning: invalid value encountered in add\n",
      "  K = K + x1_sum_sq + x2_sum_sq\n",
      "/home/chenyu/Desktop/Bayesian-optimization-using-Gaussian-Process/modules/OnlineGP.py:464: RuntimeWarning: invalid value encountered in add\n",
      "  K = K + x1_sum_sq + x2_sum_sq\n",
      "/home/chenyu/Desktop/Bayesian-optimization-using-Gaussian-Process/modules/OnlineGP.py:464: RuntimeWarning: invalid value encountered in add\n",
      "  K = K + x1_sum_sq + x2_sum_sq\n"
     ]
    },
    {
     "name": "stdout",
     "output_type": "stream",
     "text": [
      "254335.7132451738\n",
      "Predicting defocus...\n",
      "saving ronchigram...\n"
     ]
    },
    {
     "name": "stderr",
     "output_type": "stream",
     "text": [
      "/home/chenyu/Desktop/Bayesian-optimization-using-Gaussian-Process/modules/OnlineGP.py:464: RuntimeWarning: invalid value encountered in add\n",
      "  K = K + x1_sum_sq + x2_sum_sq\n",
      "/home/chenyu/Desktop/Bayesian-optimization-using-Gaussian-Process/modules/OnlineGP.py:464: RuntimeWarning: invalid value encountered in add\n",
      "  K = K + x1_sum_sq + x2_sum_sq\n",
      "/home/chenyu/Desktop/Bayesian-optimization-using-Gaussian-Process/modules/OnlineGP.py:464: RuntimeWarning: invalid value encountered in add\n",
      "  K = K + x1_sum_sq + x2_sum_sq\n",
      "/home/chenyu/Desktop/Bayesian-optimization-using-Gaussian-Process/modules/OnlineGP.py:464: RuntimeWarning: invalid value encountered in add\n",
      "  K = K + x1_sum_sq + x2_sum_sq\n",
      "/home/chenyu/Desktop/Bayesian-optimization-using-Gaussian-Process/modules/OnlineGP.py:464: RuntimeWarning: invalid value encountered in add\n",
      "  K = K + x1_sum_sq + x2_sum_sq\n"
     ]
    },
    {
     "name": "stdout",
     "output_type": "stream",
     "text": [
      "255852.58484137995\n",
      "Predicting defocus...\n",
      "saving ronchigram...\n"
     ]
    },
    {
     "name": "stderr",
     "output_type": "stream",
     "text": [
      "/home/chenyu/Desktop/Bayesian-optimization-using-Gaussian-Process/modules/OnlineGP.py:464: RuntimeWarning: invalid value encountered in add\n",
      "  K = K + x1_sum_sq + x2_sum_sq\n",
      "/home/chenyu/Desktop/Bayesian-optimization-using-Gaussian-Process/modules/OnlineGP.py:464: RuntimeWarning: invalid value encountered in add\n",
      "  K = K + x1_sum_sq + x2_sum_sq\n",
      "/home/chenyu/Desktop/Bayesian-optimization-using-Gaussian-Process/modules/OnlineGP.py:464: RuntimeWarning: invalid value encountered in add\n",
      "  K = K + x1_sum_sq + x2_sum_sq\n",
      "/home/chenyu/Desktop/Bayesian-optimization-using-Gaussian-Process/modules/OnlineGP.py:464: RuntimeWarning: invalid value encountered in add\n",
      "  K = K + x1_sum_sq + x2_sum_sq\n",
      "/home/chenyu/Desktop/Bayesian-optimization-using-Gaussian-Process/modules/OnlineGP.py:464: RuntimeWarning: invalid value encountered in add\n",
      "  K = K + x1_sum_sq + x2_sum_sq\n"
     ]
    },
    {
     "name": "stdout",
     "output_type": "stream",
     "text": [
      "255812.16536037304\n",
      "Predicting defocus...\n",
      "saving ronchigram...\n"
     ]
    },
    {
     "name": "stderr",
     "output_type": "stream",
     "text": [
      "/home/chenyu/Desktop/Bayesian-optimization-using-Gaussian-Process/modules/OnlineGP.py:464: RuntimeWarning: invalid value encountered in add\n",
      "  K = K + x1_sum_sq + x2_sum_sq\n",
      "/home/chenyu/Desktop/Bayesian-optimization-using-Gaussian-Process/modules/OnlineGP.py:464: RuntimeWarning: invalid value encountered in add\n",
      "  K = K + x1_sum_sq + x2_sum_sq\n",
      "/home/chenyu/Desktop/Bayesian-optimization-using-Gaussian-Process/modules/OnlineGP.py:464: RuntimeWarning: invalid value encountered in add\n",
      "  K = K + x1_sum_sq + x2_sum_sq\n",
      "/home/chenyu/Desktop/Bayesian-optimization-using-Gaussian-Process/modules/OnlineGP.py:464: RuntimeWarning: invalid value encountered in add\n",
      "  K = K + x1_sum_sq + x2_sum_sq\n",
      "/home/chenyu/Desktop/Bayesian-optimization-using-Gaussian-Process/modules/OnlineGP.py:464: RuntimeWarning: invalid value encountered in add\n",
      "  K = K + x1_sum_sq + x2_sum_sq\n"
     ]
    },
    {
     "name": "stdout",
     "output_type": "stream",
     "text": [
      "255792.14365452933\n",
      "Predicting defocus...\n",
      "saving ronchigram...\n"
     ]
    },
    {
     "name": "stderr",
     "output_type": "stream",
     "text": [
      "/home/chenyu/Desktop/Bayesian-optimization-using-Gaussian-Process/modules/OnlineGP.py:464: RuntimeWarning: invalid value encountered in add\n",
      "  K = K + x1_sum_sq + x2_sum_sq\n",
      "/home/chenyu/Desktop/Bayesian-optimization-using-Gaussian-Process/modules/OnlineGP.py:464: RuntimeWarning: invalid value encountered in add\n",
      "  K = K + x1_sum_sq + x2_sum_sq\n",
      "/home/chenyu/Desktop/Bayesian-optimization-using-Gaussian-Process/modules/OnlineGP.py:464: RuntimeWarning: invalid value encountered in add\n",
      "  K = K + x1_sum_sq + x2_sum_sq\n",
      "/home/chenyu/Desktop/Bayesian-optimization-using-Gaussian-Process/modules/OnlineGP.py:464: RuntimeWarning: invalid value encountered in add\n",
      "  K = K + x1_sum_sq + x2_sum_sq\n",
      "/home/chenyu/Desktop/Bayesian-optimization-using-Gaussian-Process/modules/OnlineGP.py:464: RuntimeWarning: invalid value encountered in add\n",
      "  K = K + x1_sum_sq + x2_sum_sq\n"
     ]
    },
    {
     "name": "stdout",
     "output_type": "stream",
     "text": [
      "261558.58484137995\n",
      "Predicting defocus...\n",
      "saving ronchigram...\n"
     ]
    },
    {
     "name": "stderr",
     "output_type": "stream",
     "text": [
      "/home/chenyu/Desktop/Bayesian-optimization-using-Gaussian-Process/modules/OnlineGP.py:464: RuntimeWarning: invalid value encountered in add\n",
      "  K = K + x1_sum_sq + x2_sum_sq\n",
      "/home/chenyu/Desktop/Bayesian-optimization-using-Gaussian-Process/modules/OnlineGP.py:464: RuntimeWarning: invalid value encountered in add\n",
      "  K = K + x1_sum_sq + x2_sum_sq\n",
      "/home/chenyu/Desktop/Bayesian-optimization-using-Gaussian-Process/modules/OnlineGP.py:464: RuntimeWarning: invalid value encountered in add\n",
      "  K = K + x1_sum_sq + x2_sum_sq\n",
      "/home/chenyu/Desktop/Bayesian-optimization-using-Gaussian-Process/modules/OnlineGP.py:464: RuntimeWarning: invalid value encountered in add\n",
      "  K = K + x1_sum_sq + x2_sum_sq\n",
      "/home/chenyu/Desktop/Bayesian-optimization-using-Gaussian-Process/modules/OnlineGP.py:464: RuntimeWarning: invalid value encountered in add\n",
      "  K = K + x1_sum_sq + x2_sum_sq\n"
     ]
    },
    {
     "name": "stdout",
     "output_type": "stream",
     "text": [
      "255775.94190029957\n",
      "Predicting defocus...\n",
      "saving ronchigram...\n",
      "29 Finished.\n",
      "Model loaded\n",
      "Supposed to be grabbing initial machine state...\n",
      "250606.44316190027\n",
      "Predicting defocus...\n",
      "saving ronchigram...\n",
      "x_init [[0.60107386]]\n",
      "y_init [[0.23182303]]\n"
     ]
    },
    {
     "name": "stderr",
     "output_type": "stream",
     "text": [
      "/home/chenyu/Desktop/Bayesian-optimization-using-Gaussian-Process/modules/OnlineGP.py:464: RuntimeWarning: invalid value encountered in add\n",
      "  K = K + x1_sum_sq + x2_sum_sq\n"
     ]
    },
    {
     "name": "stdout",
     "output_type": "stream",
     "text": [
      "249502.421670665\n",
      "Predicting defocus...\n",
      "saving ronchigram...\n"
     ]
    },
    {
     "name": "stderr",
     "output_type": "stream",
     "text": [
      "/home/chenyu/Desktop/Bayesian-optimization-using-Gaussian-Process/modules/OnlineGP.py:464: RuntimeWarning: invalid value encountered in add\n",
      "  K = K + x1_sum_sq + x2_sum_sq\n",
      "/home/chenyu/Desktop/Bayesian-optimization-using-Gaussian-Process/modules/OnlineGP.py:464: RuntimeWarning: invalid value encountered in add\n",
      "  K = K + x1_sum_sq + x2_sum_sq\n"
     ]
    },
    {
     "name": "stdout",
     "output_type": "stream",
     "text": [
      "246130.25345158263\n",
      "Predicting defocus...\n",
      "saving ronchigram...\n"
     ]
    },
    {
     "name": "stderr",
     "output_type": "stream",
     "text": [
      "/home/chenyu/Desktop/Bayesian-optimization-using-Gaussian-Process/modules/OnlineGP.py:464: RuntimeWarning: invalid value encountered in add\n",
      "  K = K + x1_sum_sq + x2_sum_sq\n",
      "/home/chenyu/Desktop/Bayesian-optimization-using-Gaussian-Process/modules/OnlineGP.py:464: RuntimeWarning: invalid value encountered in add\n",
      "  K = K + x1_sum_sq + x2_sum_sq\n",
      "/home/chenyu/Desktop/Bayesian-optimization-using-Gaussian-Process/modules/OnlineGP.py:464: RuntimeWarning: invalid value encountered in add\n",
      "  K = K + x1_sum_sq + x2_sum_sq\n"
     ]
    },
    {
     "name": "stdout",
     "output_type": "stream",
     "text": [
      "252962.6104305003\n",
      "Predicting defocus...\n",
      "saving ronchigram...\n"
     ]
    },
    {
     "name": "stderr",
     "output_type": "stream",
     "text": [
      "/home/chenyu/Desktop/Bayesian-optimization-using-Gaussian-Process/modules/OnlineGP.py:464: RuntimeWarning: invalid value encountered in add\n",
      "  K = K + x1_sum_sq + x2_sum_sq\n",
      "/home/chenyu/Desktop/Bayesian-optimization-using-Gaussian-Process/modules/OnlineGP.py:464: RuntimeWarning: invalid value encountered in add\n",
      "  K = K + x1_sum_sq + x2_sum_sq\n",
      "/home/chenyu/Desktop/Bayesian-optimization-using-Gaussian-Process/modules/OnlineGP.py:464: RuntimeWarning: invalid value encountered in add\n",
      "  K = K + x1_sum_sq + x2_sum_sq\n"
     ]
    },
    {
     "name": "stdout",
     "output_type": "stream",
     "text": [
      "255662.2535422341\n",
      "Predicting defocus...\n",
      "saving ronchigram...\n"
     ]
    },
    {
     "name": "stderr",
     "output_type": "stream",
     "text": [
      "/home/chenyu/Desktop/Bayesian-optimization-using-Gaussian-Process/modules/OnlineGP.py:464: RuntimeWarning: invalid value encountered in add\n",
      "  K = K + x1_sum_sq + x2_sum_sq\n",
      "/home/chenyu/Desktop/Bayesian-optimization-using-Gaussian-Process/modules/OnlineGP.py:464: RuntimeWarning: invalid value encountered in add\n",
      "  K = K + x1_sum_sq + x2_sum_sq\n",
      "/home/chenyu/Desktop/Bayesian-optimization-using-Gaussian-Process/modules/OnlineGP.py:464: RuntimeWarning: invalid value encountered in add\n",
      "  K = K + x1_sum_sq + x2_sum_sq\n",
      "/home/chenyu/Desktop/Bayesian-optimization-using-Gaussian-Process/modules/OnlineGP.py:464: RuntimeWarning: invalid value encountered in add\n",
      "  K = K + x1_sum_sq + x2_sum_sq\n"
     ]
    },
    {
     "name": "stdout",
     "output_type": "stream",
     "text": [
      "257691.57911813466\n",
      "Predicting defocus...\n",
      "saving ronchigram...\n"
     ]
    },
    {
     "name": "stderr",
     "output_type": "stream",
     "text": [
      "/home/chenyu/Desktop/Bayesian-optimization-using-Gaussian-Process/modules/OnlineGP.py:464: RuntimeWarning: invalid value encountered in add\n",
      "  K = K + x1_sum_sq + x2_sum_sq\n",
      "/home/chenyu/Desktop/Bayesian-optimization-using-Gaussian-Process/modules/OnlineGP.py:464: RuntimeWarning: invalid value encountered in add\n",
      "  K = K + x1_sum_sq + x2_sum_sq\n",
      "/home/chenyu/Desktop/Bayesian-optimization-using-Gaussian-Process/modules/OnlineGP.py:464: RuntimeWarning: invalid value encountered in add\n",
      "  K = K + x1_sum_sq + x2_sum_sq\n",
      "/home/chenyu/Desktop/Bayesian-optimization-using-Gaussian-Process/modules/OnlineGP.py:464: RuntimeWarning: invalid value encountered in add\n",
      "  K = K + x1_sum_sq + x2_sum_sq\n",
      "/home/chenyu/Desktop/Bayesian-optimization-using-Gaussian-Process/modules/OnlineGP.py:464: RuntimeWarning: invalid value encountered in add\n",
      "  K = K + x1_sum_sq + x2_sum_sq\n"
     ]
    },
    {
     "name": "stdout",
     "output_type": "stream",
     "text": [
      "259519.0747882053\n",
      "Predicting defocus...\n",
      "saving ronchigram...\n"
     ]
    },
    {
     "name": "stderr",
     "output_type": "stream",
     "text": [
      "/home/chenyu/Desktop/Bayesian-optimization-using-Gaussian-Process/modules/OnlineGP.py:464: RuntimeWarning: invalid value encountered in add\n",
      "  K = K + x1_sum_sq + x2_sum_sq\n",
      "/home/chenyu/Desktop/Bayesian-optimization-using-Gaussian-Process/modules/OnlineGP.py:464: RuntimeWarning: invalid value encountered in add\n",
      "  K = K + x1_sum_sq + x2_sum_sq\n",
      "/home/chenyu/Desktop/Bayesian-optimization-using-Gaussian-Process/modules/OnlineGP.py:464: RuntimeWarning: invalid value encountered in add\n",
      "  K = K + x1_sum_sq + x2_sum_sq\n",
      "/home/chenyu/Desktop/Bayesian-optimization-using-Gaussian-Process/modules/OnlineGP.py:464: RuntimeWarning: invalid value encountered in add\n",
      "  K = K + x1_sum_sq + x2_sum_sq\n",
      "/home/chenyu/Desktop/Bayesian-optimization-using-Gaussian-Process/modules/OnlineGP.py:464: RuntimeWarning: invalid value encountered in add\n",
      "  K = K + x1_sum_sq + x2_sum_sq\n"
     ]
    },
    {
     "name": "stdout",
     "output_type": "stream",
     "text": [
      "256907.99280838214\n",
      "Predicting defocus...\n",
      "saving ronchigram...\n"
     ]
    },
    {
     "name": "stderr",
     "output_type": "stream",
     "text": [
      "/home/chenyu/Desktop/Bayesian-optimization-using-Gaussian-Process/modules/OnlineGP.py:464: RuntimeWarning: invalid value encountered in add\n",
      "  K = K + x1_sum_sq + x2_sum_sq\n",
      "/home/chenyu/Desktop/Bayesian-optimization-using-Gaussian-Process/modules/OnlineGP.py:464: RuntimeWarning: invalid value encountered in add\n",
      "  K = K + x1_sum_sq + x2_sum_sq\n",
      "/home/chenyu/Desktop/Bayesian-optimization-using-Gaussian-Process/modules/OnlineGP.py:464: RuntimeWarning: invalid value encountered in add\n",
      "  K = K + x1_sum_sq + x2_sum_sq\n",
      "/home/chenyu/Desktop/Bayesian-optimization-using-Gaussian-Process/modules/OnlineGP.py:464: RuntimeWarning: invalid value encountered in add\n",
      "  K = K + x1_sum_sq + x2_sum_sq\n",
      "/home/chenyu/Desktop/Bayesian-optimization-using-Gaussian-Process/modules/OnlineGP.py:464: RuntimeWarning: invalid value encountered in add\n",
      "  K = K + x1_sum_sq + x2_sum_sq\n"
     ]
    },
    {
     "name": "stdout",
     "output_type": "stream",
     "text": [
      "257315.63199871988\n",
      "Predicting defocus...\n",
      "saving ronchigram...\n"
     ]
    },
    {
     "name": "stderr",
     "output_type": "stream",
     "text": [
      "/home/chenyu/Desktop/Bayesian-optimization-using-Gaussian-Process/modules/OnlineGP.py:464: RuntimeWarning: invalid value encountered in add\n",
      "  K = K + x1_sum_sq + x2_sum_sq\n",
      "/home/chenyu/Desktop/Bayesian-optimization-using-Gaussian-Process/modules/OnlineGP.py:464: RuntimeWarning: invalid value encountered in add\n",
      "  K = K + x1_sum_sq + x2_sum_sq\n",
      "/home/chenyu/Desktop/Bayesian-optimization-using-Gaussian-Process/modules/OnlineGP.py:464: RuntimeWarning: invalid value encountered in add\n",
      "  K = K + x1_sum_sq + x2_sum_sq\n",
      "/home/chenyu/Desktop/Bayesian-optimization-using-Gaussian-Process/modules/OnlineGP.py:464: RuntimeWarning: invalid value encountered in add\n",
      "  K = K + x1_sum_sq + x2_sum_sq\n",
      "/home/chenyu/Desktop/Bayesian-optimization-using-Gaussian-Process/modules/OnlineGP.py:464: RuntimeWarning: invalid value encountered in add\n",
      "  K = K + x1_sum_sq + x2_sum_sq\n"
     ]
    },
    {
     "name": "stdout",
     "output_type": "stream",
     "text": [
      "257323.88341866844\n",
      "Predicting defocus...\n",
      "saving ronchigram...\n"
     ]
    },
    {
     "name": "stderr",
     "output_type": "stream",
     "text": [
      "/home/chenyu/Desktop/Bayesian-optimization-using-Gaussian-Process/modules/OnlineGP.py:464: RuntimeWarning: invalid value encountered in add\n",
      "  K = K + x1_sum_sq + x2_sum_sq\n",
      "/home/chenyu/Desktop/Bayesian-optimization-using-Gaussian-Process/modules/OnlineGP.py:464: RuntimeWarning: invalid value encountered in add\n",
      "  K = K + x1_sum_sq + x2_sum_sq\n",
      "/home/chenyu/Desktop/Bayesian-optimization-using-Gaussian-Process/modules/OnlineGP.py:464: RuntimeWarning: invalid value encountered in add\n",
      "  K = K + x1_sum_sq + x2_sum_sq\n",
      "/home/chenyu/Desktop/Bayesian-optimization-using-Gaussian-Process/modules/OnlineGP.py:464: RuntimeWarning: invalid value encountered in add\n",
      "  K = K + x1_sum_sq + x2_sum_sq\n",
      "/home/chenyu/Desktop/Bayesian-optimization-using-Gaussian-Process/modules/OnlineGP.py:464: RuntimeWarning: invalid value encountered in add\n",
      "  K = K + x1_sum_sq + x2_sum_sq\n"
     ]
    },
    {
     "name": "stdout",
     "output_type": "stream",
     "text": [
      "257325.83613820284\n",
      "Predicting defocus...\n",
      "saving ronchigram...\n",
      "30 Finished.\n",
      "Model loaded\n",
      "Supposed to be grabbing initial machine state...\n",
      "247337.0667947566\n",
      "Predicting defocus...\n",
      "saving ronchigram...\n",
      "x_init [[0.0561778]]\n",
      "y_init [[0.10721844]]\n"
     ]
    },
    {
     "name": "stderr",
     "output_type": "stream",
     "text": [
      "/home/chenyu/Desktop/Bayesian-optimization-using-Gaussian-Process/modules/OnlineGP.py:464: RuntimeWarning: invalid value encountered in add\n",
      "  K = K + x1_sum_sq + x2_sum_sq\n"
     ]
    },
    {
     "name": "stdout",
     "output_type": "stream",
     "text": [
      "246233.04530352133\n",
      "Predicting defocus...\n",
      "saving ronchigram...\n"
     ]
    },
    {
     "name": "stderr",
     "output_type": "stream",
     "text": [
      "/home/chenyu/Desktop/Bayesian-optimization-using-Gaussian-Process/modules/OnlineGP.py:464: RuntimeWarning: invalid value encountered in add\n",
      "  K = K + x1_sum_sq + x2_sum_sq\n",
      "/home/chenyu/Desktop/Bayesian-optimization-using-Gaussian-Process/modules/OnlineGP.py:464: RuntimeWarning: invalid value encountered in add\n",
      "  K = K + x1_sum_sq + x2_sum_sq\n"
     ]
    },
    {
     "name": "stdout",
     "output_type": "stream",
     "text": [
      "242543.96657525245\n",
      "Predicting defocus...\n",
      "saving ronchigram...\n"
     ]
    },
    {
     "name": "stderr",
     "output_type": "stream",
     "text": [
      "/home/chenyu/Desktop/Bayesian-optimization-using-Gaussian-Process/modules/OnlineGP.py:464: RuntimeWarning: invalid value encountered in add\n",
      "  K = K + x1_sum_sq + x2_sum_sq\n",
      "/home/chenyu/Desktop/Bayesian-optimization-using-Gaussian-Process/modules/OnlineGP.py:464: RuntimeWarning: invalid value encountered in add\n",
      "  K = K + x1_sum_sq + x2_sum_sq\n",
      "/home/chenyu/Desktop/Bayesian-optimization-using-Gaussian-Process/modules/OnlineGP.py:464: RuntimeWarning: invalid value encountered in add\n",
      "  K = K + x1_sum_sq + x2_sum_sq\n"
     ]
    },
    {
     "name": "stdout",
     "output_type": "stream",
     "text": [
      "250070.7923762849\n",
      "Predicting defocus...\n",
      "saving ronchigram...\n"
     ]
    },
    {
     "name": "stderr",
     "output_type": "stream",
     "text": [
      "/home/chenyu/Desktop/Bayesian-optimization-using-Gaussian-Process/modules/OnlineGP.py:464: RuntimeWarning: invalid value encountered in add\n",
      "  K = K + x1_sum_sq + x2_sum_sq\n",
      "/home/chenyu/Desktop/Bayesian-optimization-using-Gaussian-Process/modules/OnlineGP.py:464: RuntimeWarning: invalid value encountered in add\n",
      "  K = K + x1_sum_sq + x2_sum_sq\n",
      "/home/chenyu/Desktop/Bayesian-optimization-using-Gaussian-Process/modules/OnlineGP.py:464: RuntimeWarning: invalid value encountered in add\n",
      "  K = K + x1_sum_sq + x2_sum_sq\n",
      "/home/chenyu/Desktop/Bayesian-optimization-using-Gaussian-Process/modules/OnlineGP.py:464: RuntimeWarning: invalid value encountered in add\n",
      "  K = K + x1_sum_sq + x2_sum_sq\n"
     ]
    },
    {
     "name": "stdout",
     "output_type": "stream",
     "text": [
      "253793.18817580998\n",
      "Predicting defocus...\n",
      "saving ronchigram...\n"
     ]
    },
    {
     "name": "stderr",
     "output_type": "stream",
     "text": [
      "/home/chenyu/Desktop/Bayesian-optimization-using-Gaussian-Process/modules/OnlineGP.py:464: RuntimeWarning: invalid value encountered in add\n",
      "  K = K + x1_sum_sq + x2_sum_sq\n",
      "/home/chenyu/Desktop/Bayesian-optimization-using-Gaussian-Process/modules/OnlineGP.py:464: RuntimeWarning: invalid value encountered in add\n",
      "  K = K + x1_sum_sq + x2_sum_sq\n",
      "/home/chenyu/Desktop/Bayesian-optimization-using-Gaussian-Process/modules/OnlineGP.py:464: RuntimeWarning: invalid value encountered in add\n",
      "  K = K + x1_sum_sq + x2_sum_sq\n",
      "/home/chenyu/Desktop/Bayesian-optimization-using-Gaussian-Process/modules/OnlineGP.py:464: RuntimeWarning: invalid value encountered in add\n",
      "  K = K + x1_sum_sq + x2_sum_sq\n"
     ]
    },
    {
     "name": "stdout",
     "output_type": "stream",
     "text": [
      "256019.12260395556\n",
      "Predicting defocus...\n",
      "saving ronchigram...\n"
     ]
    },
    {
     "name": "stderr",
     "output_type": "stream",
     "text": [
      "/home/chenyu/Desktop/Bayesian-optimization-using-Gaussian-Process/modules/OnlineGP.py:464: RuntimeWarning: invalid value encountered in add\n",
      "  K = K + x1_sum_sq + x2_sum_sq\n",
      "/home/chenyu/Desktop/Bayesian-optimization-using-Gaussian-Process/modules/OnlineGP.py:464: RuntimeWarning: invalid value encountered in add\n",
      "  K = K + x1_sum_sq + x2_sum_sq\n",
      "/home/chenyu/Desktop/Bayesian-optimization-using-Gaussian-Process/modules/OnlineGP.py:464: RuntimeWarning: invalid value encountered in add\n",
      "  K = K + x1_sum_sq + x2_sum_sq\n",
      "/home/chenyu/Desktop/Bayesian-optimization-using-Gaussian-Process/modules/OnlineGP.py:464: RuntimeWarning: invalid value encountered in add\n",
      "  K = K + x1_sum_sq + x2_sum_sq\n",
      "/home/chenyu/Desktop/Bayesian-optimization-using-Gaussian-Process/modules/OnlineGP.py:464: RuntimeWarning: invalid value encountered in add\n",
      "  K = K + x1_sum_sq + x2_sum_sq\n"
     ]
    },
    {
     "name": "stdout",
     "output_type": "stream",
     "text": [
      "257766.22036847513\n",
      "Predicting defocus...\n",
      "saving ronchigram...\n"
     ]
    },
    {
     "name": "stderr",
     "output_type": "stream",
     "text": [
      "/home/chenyu/Desktop/Bayesian-optimization-using-Gaussian-Process/modules/OnlineGP.py:464: RuntimeWarning: invalid value encountered in add\n",
      "  K = K + x1_sum_sq + x2_sum_sq\n",
      "/home/chenyu/Desktop/Bayesian-optimization-using-Gaussian-Process/modules/OnlineGP.py:464: RuntimeWarning: invalid value encountered in add\n",
      "  K = K + x1_sum_sq + x2_sum_sq\n",
      "/home/chenyu/Desktop/Bayesian-optimization-using-Gaussian-Process/modules/OnlineGP.py:464: RuntimeWarning: invalid value encountered in add\n",
      "  K = K + x1_sum_sq + x2_sum_sq\n",
      "/home/chenyu/Desktop/Bayesian-optimization-using-Gaussian-Process/modules/OnlineGP.py:464: RuntimeWarning: invalid value encountered in add\n",
      "  K = K + x1_sum_sq + x2_sum_sq\n",
      "/home/chenyu/Desktop/Bayesian-optimization-using-Gaussian-Process/modules/OnlineGP.py:464: RuntimeWarning: invalid value encountered in add\n",
      "  K = K + x1_sum_sq + x2_sum_sq\n"
     ]
    },
    {
     "name": "stdout",
     "output_type": "stream",
     "text": [
      "255201.83852882072\n",
      "Predicting defocus...\n",
      "saving ronchigram...\n"
     ]
    },
    {
     "name": "stderr",
     "output_type": "stream",
     "text": [
      "/home/chenyu/Desktop/Bayesian-optimization-using-Gaussian-Process/modules/OnlineGP.py:464: RuntimeWarning: invalid value encountered in add\n",
      "  K = K + x1_sum_sq + x2_sum_sq\n",
      "/home/chenyu/Desktop/Bayesian-optimization-using-Gaussian-Process/modules/OnlineGP.py:464: RuntimeWarning: invalid value encountered in add\n",
      "  K = K + x1_sum_sq + x2_sum_sq\n",
      "/home/chenyu/Desktop/Bayesian-optimization-using-Gaussian-Process/modules/OnlineGP.py:464: RuntimeWarning: invalid value encountered in add\n",
      "  K = K + x1_sum_sq + x2_sum_sq\n",
      "/home/chenyu/Desktop/Bayesian-optimization-using-Gaussian-Process/modules/OnlineGP.py:464: RuntimeWarning: invalid value encountered in add\n",
      "  K = K + x1_sum_sq + x2_sum_sq\n",
      "/home/chenyu/Desktop/Bayesian-optimization-using-Gaussian-Process/modules/OnlineGP.py:464: RuntimeWarning: invalid value encountered in add\n",
      "  K = K + x1_sum_sq + x2_sum_sq\n"
     ]
    },
    {
     "name": "stdout",
     "output_type": "stream",
     "text": [
      "255715.96584259605\n",
      "Predicting defocus...\n",
      "saving ronchigram...\n"
     ]
    },
    {
     "name": "stderr",
     "output_type": "stream",
     "text": [
      "/home/chenyu/Desktop/Bayesian-optimization-using-Gaussian-Process/modules/OnlineGP.py:464: RuntimeWarning: invalid value encountered in add\n",
      "  K = K + x1_sum_sq + x2_sum_sq\n",
      "/home/chenyu/Desktop/Bayesian-optimization-using-Gaussian-Process/modules/OnlineGP.py:464: RuntimeWarning: invalid value encountered in add\n",
      "  K = K + x1_sum_sq + x2_sum_sq\n",
      "/home/chenyu/Desktop/Bayesian-optimization-using-Gaussian-Process/modules/OnlineGP.py:464: RuntimeWarning: invalid value encountered in add\n",
      "  K = K + x1_sum_sq + x2_sum_sq\n",
      "/home/chenyu/Desktop/Bayesian-optimization-using-Gaussian-Process/modules/OnlineGP.py:464: RuntimeWarning: invalid value encountered in add\n",
      "  K = K + x1_sum_sq + x2_sum_sq\n",
      "/home/chenyu/Desktop/Bayesian-optimization-using-Gaussian-Process/modules/OnlineGP.py:464: RuntimeWarning: invalid value encountered in add\n",
      "  K = K + x1_sum_sq + x2_sum_sq\n"
     ]
    },
    {
     "name": "stdout",
     "output_type": "stream",
     "text": [
      "255701.77319206137\n",
      "Predicting defocus...\n",
      "saving ronchigram...\n"
     ]
    },
    {
     "name": "stderr",
     "output_type": "stream",
     "text": [
      "/home/chenyu/Desktop/Bayesian-optimization-using-Gaussian-Process/modules/OnlineGP.py:464: RuntimeWarning: invalid value encountered in add\n",
      "  K = K + x1_sum_sq + x2_sum_sq\n",
      "/home/chenyu/Desktop/Bayesian-optimization-using-Gaussian-Process/modules/OnlineGP.py:464: RuntimeWarning: invalid value encountered in add\n",
      "  K = K + x1_sum_sq + x2_sum_sq\n",
      "/home/chenyu/Desktop/Bayesian-optimization-using-Gaussian-Process/modules/OnlineGP.py:464: RuntimeWarning: invalid value encountered in add\n",
      "  K = K + x1_sum_sq + x2_sum_sq\n",
      "/home/chenyu/Desktop/Bayesian-optimization-using-Gaussian-Process/modules/OnlineGP.py:464: RuntimeWarning: invalid value encountered in add\n",
      "  K = K + x1_sum_sq + x2_sum_sq\n",
      "/home/chenyu/Desktop/Bayesian-optimization-using-Gaussian-Process/modules/OnlineGP.py:464: RuntimeWarning: invalid value encountered in add\n",
      "  K = K + x1_sum_sq + x2_sum_sq\n"
     ]
    },
    {
     "name": "stdout",
     "output_type": "stream",
     "text": [
      "255696.25078272988\n",
      "Predicting defocus...\n",
      "saving ronchigram...\n",
      "31 Finished.\n",
      "Model loaded\n",
      "Supposed to be grabbing initial machine state...\n",
      "249424.9842187331\n",
      "Predicting defocus...\n",
      "saving ronchigram...\n",
      "x_init [[0.40416404]]\n",
      "y_init [[0.12275082]]\n"
     ]
    },
    {
     "name": "stderr",
     "output_type": "stream",
     "text": [
      "/home/chenyu/Desktop/Bayesian-optimization-using-Gaussian-Process/modules/OnlineGP.py:464: RuntimeWarning: invalid value encountered in add\n",
      "  K = K + x1_sum_sq + x2_sum_sq\n"
     ]
    },
    {
     "name": "stdout",
     "output_type": "stream",
     "text": [
      "248320.96272749783\n",
      "Predicting defocus...\n",
      "saving ronchigram...\n"
     ]
    },
    {
     "name": "stderr",
     "output_type": "stream",
     "text": [
      "/home/chenyu/Desktop/Bayesian-optimization-using-Gaussian-Process/modules/OnlineGP.py:464: RuntimeWarning: invalid value encountered in add\n",
      "  K = K + x1_sum_sq + x2_sum_sq\n",
      "/home/chenyu/Desktop/Bayesian-optimization-using-Gaussian-Process/modules/OnlineGP.py:464: RuntimeWarning: invalid value encountered in add\n",
      "  K = K + x1_sum_sq + x2_sum_sq\n"
     ]
    },
    {
     "name": "stdout",
     "output_type": "stream",
     "text": [
      "252467.23950831027\n",
      "Predicting defocus...\n",
      "saving ronchigram...\n"
     ]
    },
    {
     "name": "stderr",
     "output_type": "stream",
     "text": [
      "/home/chenyu/Desktop/Bayesian-optimization-using-Gaussian-Process/modules/OnlineGP.py:464: RuntimeWarning: invalid value encountered in add\n",
      "  K = K + x1_sum_sq + x2_sum_sq\n",
      "/home/chenyu/Desktop/Bayesian-optimization-using-Gaussian-Process/modules/OnlineGP.py:464: RuntimeWarning: invalid value encountered in add\n",
      "  K = K + x1_sum_sq + x2_sum_sq\n",
      "/home/chenyu/Desktop/Bayesian-optimization-using-Gaussian-Process/modules/OnlineGP.py:464: RuntimeWarning: invalid value encountered in add\n",
      "  K = K + x1_sum_sq + x2_sum_sq\n"
     ]
    },
    {
     "name": "stdout",
     "output_type": "stream",
     "text": [
      "255130.9842187331\n",
      "Predicting defocus...\n",
      "saving ronchigram...\n"
     ]
    },
    {
     "name": "stderr",
     "output_type": "stream",
     "text": [
      "/home/chenyu/Desktop/Bayesian-optimization-using-Gaussian-Process/modules/OnlineGP.py:464: RuntimeWarning: invalid value encountered in add\n",
      "  K = K + x1_sum_sq + x2_sum_sq\n",
      "/home/chenyu/Desktop/Bayesian-optimization-using-Gaussian-Process/modules/OnlineGP.py:464: RuntimeWarning: invalid value encountered in add\n",
      "  K = K + x1_sum_sq + x2_sum_sq\n",
      "/home/chenyu/Desktop/Bayesian-optimization-using-Gaussian-Process/modules/OnlineGP.py:464: RuntimeWarning: invalid value encountered in add\n",
      "  K = K + x1_sum_sq + x2_sum_sq\n",
      "/home/chenyu/Desktop/Bayesian-optimization-using-Gaussian-Process/modules/OnlineGP.py:464: RuntimeWarning: invalid value encountered in add\n",
      "  K = K + x1_sum_sq + x2_sum_sq\n"
     ]
    },
    {
     "name": "stdout",
     "output_type": "stream",
     "text": [
      "258902.3406353323\n",
      "Predicting defocus...\n",
      "saving ronchigram...\n"
     ]
    },
    {
     "name": "stderr",
     "output_type": "stream",
     "text": [
      "/home/chenyu/Desktop/Bayesian-optimization-using-Gaussian-Process/modules/OnlineGP.py:464: RuntimeWarning: invalid value encountered in add\n",
      "  K = K + x1_sum_sq + x2_sum_sq\n",
      "/home/chenyu/Desktop/Bayesian-optimization-using-Gaussian-Process/modules/OnlineGP.py:464: RuntimeWarning: invalid value encountered in add\n",
      "  K = K + x1_sum_sq + x2_sum_sq\n",
      "/home/chenyu/Desktop/Bayesian-optimization-using-Gaussian-Process/modules/OnlineGP.py:464: RuntimeWarning: invalid value encountered in add\n",
      "  K = K + x1_sum_sq + x2_sum_sq\n",
      "/home/chenyu/Desktop/Bayesian-optimization-using-Gaussian-Process/modules/OnlineGP.py:464: RuntimeWarning: invalid value encountered in add\n",
      "  K = K + x1_sum_sq + x2_sum_sq\n"
     ]
    },
    {
     "name": "stdout",
     "output_type": "stream",
     "text": [
      "261235.06827466103\n",
      "Predicting defocus...\n",
      "saving ronchigram...\n"
     ]
    },
    {
     "name": "stderr",
     "output_type": "stream",
     "text": [
      "/home/chenyu/Desktop/Bayesian-optimization-using-Gaussian-Process/modules/OnlineGP.py:464: RuntimeWarning: invalid value encountered in add\n",
      "  K = K + x1_sum_sq + x2_sum_sq\n",
      "/home/chenyu/Desktop/Bayesian-optimization-using-Gaussian-Process/modules/OnlineGP.py:464: RuntimeWarning: invalid value encountered in add\n",
      "  K = K + x1_sum_sq + x2_sum_sq\n",
      "/home/chenyu/Desktop/Bayesian-optimization-using-Gaussian-Process/modules/OnlineGP.py:464: RuntimeWarning: invalid value encountered in add\n",
      "  K = K + x1_sum_sq + x2_sum_sq\n",
      "/home/chenyu/Desktop/Bayesian-optimization-using-Gaussian-Process/modules/OnlineGP.py:464: RuntimeWarning: invalid value encountered in add\n",
      "  K = K + x1_sum_sq + x2_sum_sq\n",
      "/home/chenyu/Desktop/Bayesian-optimization-using-Gaussian-Process/modules/OnlineGP.py:464: RuntimeWarning: invalid value encountered in add\n",
      "  K = K + x1_sum_sq + x2_sum_sq\n"
     ]
    },
    {
     "name": "stdout",
     "output_type": "stream",
     "text": [
      "263215.793020506\n",
      "Predicting defocus...\n",
      "saving ronchigram...\n"
     ]
    },
    {
     "name": "stderr",
     "output_type": "stream",
     "text": [
      "/home/chenyu/Desktop/Bayesian-optimization-using-Gaussian-Process/modules/OnlineGP.py:464: RuntimeWarning: invalid value encountered in add\n",
      "  K = K + x1_sum_sq + x2_sum_sq\n",
      "/home/chenyu/Desktop/Bayesian-optimization-using-Gaussian-Process/modules/OnlineGP.py:464: RuntimeWarning: invalid value encountered in add\n",
      "  K = K + x1_sum_sq + x2_sum_sq\n",
      "/home/chenyu/Desktop/Bayesian-optimization-using-Gaussian-Process/modules/OnlineGP.py:464: RuntimeWarning: invalid value encountered in add\n",
      "  K = K + x1_sum_sq + x2_sum_sq\n",
      "/home/chenyu/Desktop/Bayesian-optimization-using-Gaussian-Process/modules/OnlineGP.py:464: RuntimeWarning: invalid value encountered in add\n",
      "  K = K + x1_sum_sq + x2_sum_sq\n",
      "/home/chenyu/Desktop/Bayesian-optimization-using-Gaussian-Process/modules/OnlineGP.py:464: RuntimeWarning: invalid value encountered in add\n",
      "  K = K + x1_sum_sq + x2_sum_sq\n"
     ]
    },
    {
     "name": "stdout",
     "output_type": "stream",
     "text": [
      "260333.49235712056\n",
      "Predicting defocus...\n",
      "saving ronchigram...\n"
     ]
    },
    {
     "name": "stderr",
     "output_type": "stream",
     "text": [
      "/home/chenyu/Desktop/Bayesian-optimization-using-Gaussian-Process/modules/OnlineGP.py:464: RuntimeWarning: invalid value encountered in add\n",
      "  K = K + x1_sum_sq + x2_sum_sq\n",
      "/home/chenyu/Desktop/Bayesian-optimization-using-Gaussian-Process/modules/OnlineGP.py:464: RuntimeWarning: invalid value encountered in add\n",
      "  K = K + x1_sum_sq + x2_sum_sq\n",
      "/home/chenyu/Desktop/Bayesian-optimization-using-Gaussian-Process/modules/OnlineGP.py:464: RuntimeWarning: invalid value encountered in add\n",
      "  K = K + x1_sum_sq + x2_sum_sq\n",
      "/home/chenyu/Desktop/Bayesian-optimization-using-Gaussian-Process/modules/OnlineGP.py:464: RuntimeWarning: invalid value encountered in add\n",
      "  K = K + x1_sum_sq + x2_sum_sq\n",
      "/home/chenyu/Desktop/Bayesian-optimization-using-Gaussian-Process/modules/OnlineGP.py:464: RuntimeWarning: invalid value encountered in add\n",
      "  K = K + x1_sum_sq + x2_sum_sq\n"
     ]
    },
    {
     "name": "stdout",
     "output_type": "stream",
     "text": [
      "260484.1684170937\n",
      "Predicting defocus...\n",
      "saving ronchigram...\n"
     ]
    },
    {
     "name": "stderr",
     "output_type": "stream",
     "text": [
      "/home/chenyu/Desktop/Bayesian-optimization-using-Gaussian-Process/modules/OnlineGP.py:464: RuntimeWarning: invalid value encountered in add\n",
      "  K = K + x1_sum_sq + x2_sum_sq\n",
      "/home/chenyu/Desktop/Bayesian-optimization-using-Gaussian-Process/modules/OnlineGP.py:464: RuntimeWarning: invalid value encountered in add\n",
      "  K = K + x1_sum_sq + x2_sum_sq\n",
      "/home/chenyu/Desktop/Bayesian-optimization-using-Gaussian-Process/modules/OnlineGP.py:464: RuntimeWarning: invalid value encountered in add\n",
      "  K = K + x1_sum_sq + x2_sum_sq\n",
      "/home/chenyu/Desktop/Bayesian-optimization-using-Gaussian-Process/modules/OnlineGP.py:464: RuntimeWarning: invalid value encountered in add\n",
      "  K = K + x1_sum_sq + x2_sum_sq\n",
      "/home/chenyu/Desktop/Bayesian-optimization-using-Gaussian-Process/modules/OnlineGP.py:464: RuntimeWarning: invalid value encountered in add\n",
      "  K = K + x1_sum_sq + x2_sum_sq\n"
     ]
    },
    {
     "name": "stdout",
     "output_type": "stream",
     "text": [
      "260475.01937309714\n",
      "Predicting defocus...\n",
      "saving ronchigram...\n"
     ]
    },
    {
     "name": "stderr",
     "output_type": "stream",
     "text": [
      "/home/chenyu/Desktop/Bayesian-optimization-using-Gaussian-Process/modules/OnlineGP.py:464: RuntimeWarning: invalid value encountered in add\n",
      "  K = K + x1_sum_sq + x2_sum_sq\n",
      "/home/chenyu/Desktop/Bayesian-optimization-using-Gaussian-Process/modules/OnlineGP.py:464: RuntimeWarning: invalid value encountered in add\n",
      "  K = K + x1_sum_sq + x2_sum_sq\n",
      "/home/chenyu/Desktop/Bayesian-optimization-using-Gaussian-Process/modules/OnlineGP.py:464: RuntimeWarning: invalid value encountered in add\n",
      "  K = K + x1_sum_sq + x2_sum_sq\n",
      "/home/chenyu/Desktop/Bayesian-optimization-using-Gaussian-Process/modules/OnlineGP.py:464: RuntimeWarning: invalid value encountered in add\n",
      "  K = K + x1_sum_sq + x2_sum_sq\n",
      "/home/chenyu/Desktop/Bayesian-optimization-using-Gaussian-Process/modules/OnlineGP.py:464: RuntimeWarning: invalid value encountered in add\n",
      "  K = K + x1_sum_sq + x2_sum_sq\n"
     ]
    },
    {
     "name": "stdout",
     "output_type": "stream",
     "text": [
      "260477.22535296055\n",
      "Predicting defocus...\n",
      "saving ronchigram...\n",
      "32 Finished.\n",
      "Model loaded\n",
      "Supposed to be grabbing initial machine state...\n",
      "251902.16453069277\n",
      "Predicting defocus...\n",
      "saving ronchigram...\n",
      "x_init [[0.81702742]]\n",
      "y_init [[0.04845649]]\n"
     ]
    },
    {
     "name": "stderr",
     "output_type": "stream",
     "text": [
      "/home/chenyu/Desktop/Bayesian-optimization-using-Gaussian-Process/modules/OnlineGP.py:464: RuntimeWarning: invalid value encountered in add\n",
      "  K = K + x1_sum_sq + x2_sum_sq\n"
     ]
    },
    {
     "name": "stdout",
     "output_type": "stream",
     "text": [
      "250798.14303945753\n",
      "Predicting defocus...\n",
      "saving ronchigram...\n"
     ]
    },
    {
     "name": "stderr",
     "output_type": "stream",
     "text": [
      "/home/chenyu/Desktop/Bayesian-optimization-using-Gaussian-Process/modules/OnlineGP.py:464: RuntimeWarning: invalid value encountered in add\n",
      "  K = K + x1_sum_sq + x2_sum_sq\n",
      "/home/chenyu/Desktop/Bayesian-optimization-using-Gaussian-Process/modules/OnlineGP.py:464: RuntimeWarning: invalid value encountered in add\n",
      "  K = K + x1_sum_sq + x2_sum_sq\n"
     ]
    },
    {
     "name": "stdout",
     "output_type": "stream",
     "text": [
      "246745.7774765106\n",
      "Predicting defocus...\n",
      "saving ronchigram...\n"
     ]
    },
    {
     "name": "stderr",
     "output_type": "stream",
     "text": [
      "/home/chenyu/Desktop/Bayesian-optimization-using-Gaussian-Process/modules/OnlineGP.py:464: RuntimeWarning: invalid value encountered in add\n",
      "  K = K + x1_sum_sq + x2_sum_sq\n",
      "/home/chenyu/Desktop/Bayesian-optimization-using-Gaussian-Process/modules/OnlineGP.py:464: RuntimeWarning: invalid value encountered in add\n",
      "  K = K + x1_sum_sq + x2_sum_sq\n",
      "/home/chenyu/Desktop/Bayesian-optimization-using-Gaussian-Process/modules/OnlineGP.py:464: RuntimeWarning: invalid value encountered in add\n",
      "  K = K + x1_sum_sq + x2_sum_sq\n"
     ]
    },
    {
     "name": "stdout",
     "output_type": "stream",
     "text": [
      "254936.75861668168\n",
      "Predicting defocus...\n",
      "saving ronchigram...\n"
     ]
    },
    {
     "name": "stderr",
     "output_type": "stream",
     "text": [
      "/home/chenyu/Desktop/Bayesian-optimization-using-Gaussian-Process/modules/OnlineGP.py:464: RuntimeWarning: invalid value encountered in add\n",
      "  K = K + x1_sum_sq + x2_sum_sq\n",
      "/home/chenyu/Desktop/Bayesian-optimization-using-Gaussian-Process/modules/OnlineGP.py:464: RuntimeWarning: invalid value encountered in add\n",
      "  K = K + x1_sum_sq + x2_sum_sq\n",
      "/home/chenyu/Desktop/Bayesian-optimization-using-Gaussian-Process/modules/OnlineGP.py:464: RuntimeWarning: invalid value encountered in add\n",
      "  K = K + x1_sum_sq + x2_sum_sq\n",
      "/home/chenyu/Desktop/Bayesian-optimization-using-Gaussian-Process/modules/OnlineGP.py:464: RuntimeWarning: invalid value encountered in add\n",
      "  K = K + x1_sum_sq + x2_sum_sq\n"
     ]
    },
    {
     "name": "stdout",
     "output_type": "stream",
     "text": [
      "258917.3815023914\n",
      "Predicting defocus...\n",
      "saving ronchigram...\n"
     ]
    },
    {
     "name": "stderr",
     "output_type": "stream",
     "text": [
      "/home/chenyu/Desktop/Bayesian-optimization-using-Gaussian-Process/modules/OnlineGP.py:464: RuntimeWarning: invalid value encountered in add\n",
      "  K = K + x1_sum_sq + x2_sum_sq\n",
      "/home/chenyu/Desktop/Bayesian-optimization-using-Gaussian-Process/modules/OnlineGP.py:464: RuntimeWarning: invalid value encountered in add\n",
      "  K = K + x1_sum_sq + x2_sum_sq\n",
      "/home/chenyu/Desktop/Bayesian-optimization-using-Gaussian-Process/modules/OnlineGP.py:464: RuntimeWarning: invalid value encountered in add\n",
      "  K = K + x1_sum_sq + x2_sum_sq\n",
      "/home/chenyu/Desktop/Bayesian-optimization-using-Gaussian-Process/modules/OnlineGP.py:464: RuntimeWarning: invalid value encountered in add\n",
      "  K = K + x1_sum_sq + x2_sum_sq\n"
     ]
    },
    {
     "name": "stdout",
     "output_type": "stream",
     "text": [
      "262144.92771721433\n",
      "Predicting defocus...\n",
      "saving ronchigram...\n"
     ]
    },
    {
     "name": "stderr",
     "output_type": "stream",
     "text": [
      "/home/chenyu/Desktop/Bayesian-optimization-using-Gaussian-Process/modules/OnlineGP.py:464: RuntimeWarning: invalid value encountered in add\n",
      "  K = K + x1_sum_sq + x2_sum_sq\n",
      "/home/chenyu/Desktop/Bayesian-optimization-using-Gaussian-Process/modules/OnlineGP.py:464: RuntimeWarning: invalid value encountered in add\n",
      "  K = K + x1_sum_sq + x2_sum_sq\n",
      "/home/chenyu/Desktop/Bayesian-optimization-using-Gaussian-Process/modules/OnlineGP.py:464: RuntimeWarning: invalid value encountered in add\n",
      "  K = K + x1_sum_sq + x2_sum_sq\n",
      "/home/chenyu/Desktop/Bayesian-optimization-using-Gaussian-Process/modules/OnlineGP.py:464: RuntimeWarning: invalid value encountered in add\n",
      "  K = K + x1_sum_sq + x2_sum_sq\n",
      "/home/chenyu/Desktop/Bayesian-optimization-using-Gaussian-Process/modules/OnlineGP.py:464: RuntimeWarning: invalid value encountered in add\n",
      "  K = K + x1_sum_sq + x2_sum_sq\n"
     ]
    },
    {
     "name": "stdout",
     "output_type": "stream",
     "text": [
      "264350.3419682892\n",
      "Predicting defocus...\n",
      "saving ronchigram...\n"
     ]
    },
    {
     "name": "stderr",
     "output_type": "stream",
     "text": [
      "/home/chenyu/Desktop/Bayesian-optimization-using-Gaussian-Process/modules/OnlineGP.py:464: RuntimeWarning: invalid value encountered in add\n",
      "  K = K + x1_sum_sq + x2_sum_sq\n",
      "/home/chenyu/Desktop/Bayesian-optimization-using-Gaussian-Process/modules/OnlineGP.py:464: RuntimeWarning: invalid value encountered in add\n",
      "  K = K + x1_sum_sq + x2_sum_sq\n",
      "/home/chenyu/Desktop/Bayesian-optimization-using-Gaussian-Process/modules/OnlineGP.py:464: RuntimeWarning: invalid value encountered in add\n",
      "  K = K + x1_sum_sq + x2_sum_sq\n",
      "/home/chenyu/Desktop/Bayesian-optimization-using-Gaussian-Process/modules/OnlineGP.py:464: RuntimeWarning: invalid value encountered in add\n",
      "  K = K + x1_sum_sq + x2_sum_sq\n",
      "/home/chenyu/Desktop/Bayesian-optimization-using-Gaussian-Process/modules/OnlineGP.py:464: RuntimeWarning: invalid value encountered in add\n",
      "  K = K + x1_sum_sq + x2_sum_sq\n"
     ]
    },
    {
     "name": "stdout",
     "output_type": "stream",
     "text": [
      "260830.68555014703\n",
      "Predicting defocus...\n",
      "saving ronchigram...\n"
     ]
    },
    {
     "name": "stderr",
     "output_type": "stream",
     "text": [
      "/home/chenyu/Desktop/Bayesian-optimization-using-Gaussian-Process/modules/OnlineGP.py:464: RuntimeWarning: invalid value encountered in add\n",
      "  K = K + x1_sum_sq + x2_sum_sq\n",
      "/home/chenyu/Desktop/Bayesian-optimization-using-Gaussian-Process/modules/OnlineGP.py:464: RuntimeWarning: invalid value encountered in add\n",
      "  K = K + x1_sum_sq + x2_sum_sq\n",
      "/home/chenyu/Desktop/Bayesian-optimization-using-Gaussian-Process/modules/OnlineGP.py:464: RuntimeWarning: invalid value encountered in add\n",
      "  K = K + x1_sum_sq + x2_sum_sq\n",
      "/home/chenyu/Desktop/Bayesian-optimization-using-Gaussian-Process/modules/OnlineGP.py:464: RuntimeWarning: invalid value encountered in add\n",
      "  K = K + x1_sum_sq + x2_sum_sq\n",
      "/home/chenyu/Desktop/Bayesian-optimization-using-Gaussian-Process/modules/OnlineGP.py:464: RuntimeWarning: invalid value encountered in add\n",
      "  K = K + x1_sum_sq + x2_sum_sq\n"
     ]
    },
    {
     "name": "stdout",
     "output_type": "stream",
     "text": [
      "266536.685550147\n",
      "Predicting defocus...\n",
      "saving ronchigram...\n"
     ]
    },
    {
     "name": "stderr",
     "output_type": "stream",
     "text": [
      "/home/chenyu/Desktop/Bayesian-optimization-using-Gaussian-Process/modules/OnlineGP.py:464: RuntimeWarning: invalid value encountered in add\n",
      "  K = K + x1_sum_sq + x2_sum_sq\n",
      "/home/chenyu/Desktop/Bayesian-optimization-using-Gaussian-Process/modules/OnlineGP.py:464: RuntimeWarning: invalid value encountered in add\n",
      "  K = K + x1_sum_sq + x2_sum_sq\n",
      "/home/chenyu/Desktop/Bayesian-optimization-using-Gaussian-Process/modules/OnlineGP.py:464: RuntimeWarning: invalid value encountered in add\n",
      "  K = K + x1_sum_sq + x2_sum_sq\n",
      "/home/chenyu/Desktop/Bayesian-optimization-using-Gaussian-Process/modules/OnlineGP.py:464: RuntimeWarning: invalid value encountered in add\n",
      "  K = K + x1_sum_sq + x2_sum_sq\n",
      "/home/chenyu/Desktop/Bayesian-optimization-using-Gaussian-Process/modules/OnlineGP.py:464: RuntimeWarning: invalid value encountered in add\n",
      "  K = K + x1_sum_sq + x2_sum_sq\n"
     ]
    },
    {
     "name": "stdout",
     "output_type": "stream",
     "text": [
      "253006.18602192804\n",
      "Predicting defocus...\n",
      "saving ronchigram...\n"
     ]
    },
    {
     "name": "stderr",
     "output_type": "stream",
     "text": [
      "/home/chenyu/Desktop/Bayesian-optimization-using-Gaussian-Process/modules/OnlineGP.py:464: RuntimeWarning: invalid value encountered in add\n",
      "  K = K + x1_sum_sq + x2_sum_sq\n",
      "/home/chenyu/Desktop/Bayesian-optimization-using-Gaussian-Process/modules/OnlineGP.py:464: RuntimeWarning: invalid value encountered in add\n",
      "  K = K + x1_sum_sq + x2_sum_sq\n",
      "/home/chenyu/Desktop/Bayesian-optimization-using-Gaussian-Process/modules/OnlineGP.py:464: RuntimeWarning: invalid value encountered in add\n",
      "  K = K + x1_sum_sq + x2_sum_sq\n",
      "/home/chenyu/Desktop/Bayesian-optimization-using-Gaussian-Process/modules/OnlineGP.py:464: RuntimeWarning: invalid value encountered in add\n",
      "  K = K + x1_sum_sq + x2_sum_sq\n",
      "/home/chenyu/Desktop/Bayesian-optimization-using-Gaussian-Process/modules/OnlineGP.py:464: RuntimeWarning: invalid value encountered in add\n",
      "  K = K + x1_sum_sq + x2_sum_sq\n"
     ]
    },
    {
     "name": "stdout",
     "output_type": "stream",
     "text": [
      "261328.39827797568\n",
      "Predicting defocus...\n",
      "saving ronchigram...\n",
      "33 Finished.\n",
      "Model loaded\n",
      "Supposed to be grabbing initial machine state...\n",
      "251361.6749323076\n",
      "Predicting defocus...\n",
      "saving ronchigram...\n",
      "x_init [[0.72694582]]\n",
      "y_init [[0.27930462]]\n"
     ]
    },
    {
     "name": "stderr",
     "output_type": "stream",
     "text": [
      "/home/chenyu/Desktop/Bayesian-optimization-using-Gaussian-Process/modules/OnlineGP.py:464: RuntimeWarning: invalid value encountered in add\n",
      "  K = K + x1_sum_sq + x2_sum_sq\n"
     ]
    },
    {
     "name": "stdout",
     "output_type": "stream",
     "text": [
      "250257.65344107233\n",
      "Predicting defocus...\n",
      "saving ronchigram...\n"
     ]
    },
    {
     "name": "stderr",
     "output_type": "stream",
     "text": [
      "/home/chenyu/Desktop/Bayesian-optimization-using-Gaussian-Process/modules/OnlineGP.py:464: RuntimeWarning: invalid value encountered in add\n",
      "  K = K + x1_sum_sq + x2_sum_sq\n",
      "/home/chenyu/Desktop/Bayesian-optimization-using-Gaussian-Process/modules/OnlineGP.py:464: RuntimeWarning: invalid value encountered in add\n",
      "  K = K + x1_sum_sq + x2_sum_sq\n"
     ]
    },
    {
     "name": "stdout",
     "output_type": "stream",
     "text": [
      "253670.30788066704\n",
      "Predicting defocus...\n",
      "saving ronchigram...\n"
     ]
    },
    {
     "name": "stderr",
     "output_type": "stream",
     "text": [
      "/home/chenyu/Desktop/Bayesian-optimization-using-Gaussian-Process/modules/OnlineGP.py:464: RuntimeWarning: invalid value encountered in add\n",
      "  K = K + x1_sum_sq + x2_sum_sq\n",
      "/home/chenyu/Desktop/Bayesian-optimization-using-Gaussian-Process/modules/OnlineGP.py:464: RuntimeWarning: invalid value encountered in add\n",
      "  K = K + x1_sum_sq + x2_sum_sq\n",
      "/home/chenyu/Desktop/Bayesian-optimization-using-Gaussian-Process/modules/OnlineGP.py:464: RuntimeWarning: invalid value encountered in add\n",
      "  K = K + x1_sum_sq + x2_sum_sq\n"
     ]
    },
    {
     "name": "stdout",
     "output_type": "stream",
     "text": [
      "256103.36186278478\n",
      "Predicting defocus...\n",
      "saving ronchigram...\n"
     ]
    },
    {
     "name": "stderr",
     "output_type": "stream",
     "text": [
      "/home/chenyu/Desktop/Bayesian-optimization-using-Gaussian-Process/modules/OnlineGP.py:464: RuntimeWarning: invalid value encountered in add\n",
      "  K = K + x1_sum_sq + x2_sum_sq\n",
      "/home/chenyu/Desktop/Bayesian-optimization-using-Gaussian-Process/modules/OnlineGP.py:464: RuntimeWarning: invalid value encountered in add\n",
      "  K = K + x1_sum_sq + x2_sum_sq\n",
      "/home/chenyu/Desktop/Bayesian-optimization-using-Gaussian-Process/modules/OnlineGP.py:464: RuntimeWarning: invalid value encountered in add\n",
      "  K = K + x1_sum_sq + x2_sum_sq\n",
      "/home/chenyu/Desktop/Bayesian-optimization-using-Gaussian-Process/modules/OnlineGP.py:464: RuntimeWarning: invalid value encountered in add\n",
      "  K = K + x1_sum_sq + x2_sum_sq\n"
     ]
    },
    {
     "name": "stdout",
     "output_type": "stream",
     "text": [
      "258397.01379879127\n",
      "Predicting defocus...\n",
      "saving ronchigram...\n"
     ]
    },
    {
     "name": "stderr",
     "output_type": "stream",
     "text": [
      "/home/chenyu/Desktop/Bayesian-optimization-using-Gaussian-Process/modules/OnlineGP.py:464: RuntimeWarning: invalid value encountered in add\n",
      "  K = K + x1_sum_sq + x2_sum_sq\n",
      "/home/chenyu/Desktop/Bayesian-optimization-using-Gaussian-Process/modules/OnlineGP.py:464: RuntimeWarning: invalid value encountered in add\n",
      "  K = K + x1_sum_sq + x2_sum_sq\n",
      "/home/chenyu/Desktop/Bayesian-optimization-using-Gaussian-Process/modules/OnlineGP.py:464: RuntimeWarning: invalid value encountered in add\n",
      "  K = K + x1_sum_sq + x2_sum_sq\n",
      "/home/chenyu/Desktop/Bayesian-optimization-using-Gaussian-Process/modules/OnlineGP.py:464: RuntimeWarning: invalid value encountered in add\n",
      "  K = K + x1_sum_sq + x2_sum_sq\n",
      "/home/chenyu/Desktop/Bayesian-optimization-using-Gaussian-Process/modules/OnlineGP.py:464: RuntimeWarning: invalid value encountered in add\n",
      "  K = K + x1_sum_sq + x2_sum_sq\n"
     ]
    },
    {
     "name": "stdout",
     "output_type": "stream",
     "text": [
      "255023.76184118117\n",
      "Predicting defocus...\n",
      "saving ronchigram...\n"
     ]
    },
    {
     "name": "stderr",
     "output_type": "stream",
     "text": [
      "/home/chenyu/Desktop/Bayesian-optimization-using-Gaussian-Process/modules/OnlineGP.py:464: RuntimeWarning: invalid value encountered in add\n",
      "  K = K + x1_sum_sq + x2_sum_sq\n",
      "/home/chenyu/Desktop/Bayesian-optimization-using-Gaussian-Process/modules/OnlineGP.py:464: RuntimeWarning: invalid value encountered in add\n",
      "  K = K + x1_sum_sq + x2_sum_sq\n",
      "/home/chenyu/Desktop/Bayesian-optimization-using-Gaussian-Process/modules/OnlineGP.py:464: RuntimeWarning: invalid value encountered in add\n",
      "  K = K + x1_sum_sq + x2_sum_sq\n",
      "/home/chenyu/Desktop/Bayesian-optimization-using-Gaussian-Process/modules/OnlineGP.py:464: RuntimeWarning: invalid value encountered in add\n",
      "  K = K + x1_sum_sq + x2_sum_sq\n",
      "/home/chenyu/Desktop/Bayesian-optimization-using-Gaussian-Process/modules/OnlineGP.py:464: RuntimeWarning: invalid value encountered in add\n",
      "  K = K + x1_sum_sq + x2_sum_sq\n"
     ]
    },
    {
     "name": "stdout",
     "output_type": "stream",
     "text": [
      "255479.11920659873\n",
      "Predicting defocus...\n",
      "saving ronchigram...\n"
     ]
    },
    {
     "name": "stderr",
     "output_type": "stream",
     "text": [
      "/home/chenyu/Desktop/Bayesian-optimization-using-Gaussian-Process/modules/OnlineGP.py:464: RuntimeWarning: invalid value encountered in add\n",
      "  K = K + x1_sum_sq + x2_sum_sq\n",
      "/home/chenyu/Desktop/Bayesian-optimization-using-Gaussian-Process/modules/OnlineGP.py:464: RuntimeWarning: invalid value encountered in add\n",
      "  K = K + x1_sum_sq + x2_sum_sq\n",
      "/home/chenyu/Desktop/Bayesian-optimization-using-Gaussian-Process/modules/OnlineGP.py:464: RuntimeWarning: invalid value encountered in add\n",
      "  K = K + x1_sum_sq + x2_sum_sq\n",
      "/home/chenyu/Desktop/Bayesian-optimization-using-Gaussian-Process/modules/OnlineGP.py:464: RuntimeWarning: invalid value encountered in add\n",
      "  K = K + x1_sum_sq + x2_sum_sq\n",
      "/home/chenyu/Desktop/Bayesian-optimization-using-Gaussian-Process/modules/OnlineGP.py:464: RuntimeWarning: invalid value encountered in add\n",
      "  K = K + x1_sum_sq + x2_sum_sq\n"
     ]
    },
    {
     "name": "stdout",
     "output_type": "stream",
     "text": [
      "255506.49073986293\n",
      "Predicting defocus...\n",
      "saving ronchigram...\n"
     ]
    },
    {
     "name": "stderr",
     "output_type": "stream",
     "text": [
      "/home/chenyu/Desktop/Bayesian-optimization-using-Gaussian-Process/modules/OnlineGP.py:464: RuntimeWarning: invalid value encountered in add\n",
      "  K = K + x1_sum_sq + x2_sum_sq\n",
      "/home/chenyu/Desktop/Bayesian-optimization-using-Gaussian-Process/modules/OnlineGP.py:464: RuntimeWarning: invalid value encountered in add\n",
      "  K = K + x1_sum_sq + x2_sum_sq\n",
      "/home/chenyu/Desktop/Bayesian-optimization-using-Gaussian-Process/modules/OnlineGP.py:464: RuntimeWarning: invalid value encountered in add\n",
      "  K = K + x1_sum_sq + x2_sum_sq\n",
      "/home/chenyu/Desktop/Bayesian-optimization-using-Gaussian-Process/modules/OnlineGP.py:464: RuntimeWarning: invalid value encountered in add\n",
      "  K = K + x1_sum_sq + x2_sum_sq\n",
      "/home/chenyu/Desktop/Bayesian-optimization-using-Gaussian-Process/modules/OnlineGP.py:464: RuntimeWarning: invalid value encountered in add\n",
      "  K = K + x1_sum_sq + x2_sum_sq\n"
     ]
    },
    {
     "name": "stdout",
     "output_type": "stream",
     "text": [
      "256765.34556828105\n",
      "Predicting defocus...\n",
      "saving ronchigram...\n"
     ]
    },
    {
     "name": "stderr",
     "output_type": "stream",
     "text": [
      "/home/chenyu/Desktop/Bayesian-optimization-using-Gaussian-Process/modules/OnlineGP.py:464: RuntimeWarning: invalid value encountered in add\n",
      "  K = K + x1_sum_sq + x2_sum_sq\n",
      "/home/chenyu/Desktop/Bayesian-optimization-using-Gaussian-Process/modules/OnlineGP.py:464: RuntimeWarning: invalid value encountered in add\n",
      "  K = K + x1_sum_sq + x2_sum_sq\n",
      "/home/chenyu/Desktop/Bayesian-optimization-using-Gaussian-Process/modules/OnlineGP.py:464: RuntimeWarning: invalid value encountered in add\n",
      "  K = K + x1_sum_sq + x2_sum_sq\n",
      "/home/chenyu/Desktop/Bayesian-optimization-using-Gaussian-Process/modules/OnlineGP.py:464: RuntimeWarning: invalid value encountered in add\n",
      "  K = K + x1_sum_sq + x2_sum_sq\n",
      "/home/chenyu/Desktop/Bayesian-optimization-using-Gaussian-Process/modules/OnlineGP.py:464: RuntimeWarning: invalid value encountered in add\n",
      "  K = K + x1_sum_sq + x2_sum_sq\n"
     ]
    },
    {
     "name": "stdout",
     "output_type": "stream",
     "text": [
      "254998.86229479124\n",
      "Predicting defocus...\n",
      "saving ronchigram...\n"
     ]
    },
    {
     "name": "stderr",
     "output_type": "stream",
     "text": [
      "/home/chenyu/Desktop/Bayesian-optimization-using-Gaussian-Process/modules/OnlineGP.py:464: RuntimeWarning: invalid value encountered in add\n",
      "  K = K + x1_sum_sq + x2_sum_sq\n",
      "/home/chenyu/Desktop/Bayesian-optimization-using-Gaussian-Process/modules/OnlineGP.py:464: RuntimeWarning: invalid value encountered in add\n",
      "  K = K + x1_sum_sq + x2_sum_sq\n",
      "/home/chenyu/Desktop/Bayesian-optimization-using-Gaussian-Process/modules/OnlineGP.py:464: RuntimeWarning: invalid value encountered in add\n",
      "  K = K + x1_sum_sq + x2_sum_sq\n",
      "/home/chenyu/Desktop/Bayesian-optimization-using-Gaussian-Process/modules/OnlineGP.py:464: RuntimeWarning: invalid value encountered in add\n",
      "  K = K + x1_sum_sq + x2_sum_sq\n",
      "/home/chenyu/Desktop/Bayesian-optimization-using-Gaussian-Process/modules/OnlineGP.py:464: RuntimeWarning: invalid value encountered in add\n",
      "  K = K + x1_sum_sq + x2_sum_sq\n"
     ]
    },
    {
     "name": "stdout",
     "output_type": "stream",
     "text": [
      "255655.2869831329\n",
      "Predicting defocus...\n",
      "saving ronchigram...\n",
      "34 Finished.\n",
      "Model loaded\n",
      "Supposed to be grabbing initial machine state...\n",
      "248687.9399106114\n",
      "Predicting defocus...\n",
      "saving ronchigram...\n",
      "x_init [[0.28132332]]\n",
      "y_init [[0.07594341]]\n"
     ]
    },
    {
     "name": "stderr",
     "output_type": "stream",
     "text": [
      "/home/chenyu/Desktop/Bayesian-optimization-using-Gaussian-Process/modules/OnlineGP.py:464: RuntimeWarning: invalid value encountered in add\n",
      "  K = K + x1_sum_sq + x2_sum_sq\n"
     ]
    },
    {
     "name": "stdout",
     "output_type": "stream",
     "text": [
      "247583.91841937616\n",
      "Predicting defocus...\n",
      "saving ronchigram...\n"
     ]
    },
    {
     "name": "stderr",
     "output_type": "stream",
     "text": [
      "/home/chenyu/Desktop/Bayesian-optimization-using-Gaussian-Process/modules/OnlineGP.py:464: RuntimeWarning: invalid value encountered in add\n",
      "  K = K + x1_sum_sq + x2_sum_sq\n",
      "/home/chenyu/Desktop/Bayesian-optimization-using-Gaussian-Process/modules/OnlineGP.py:464: RuntimeWarning: invalid value encountered in add\n",
      "  K = K + x1_sum_sq + x2_sum_sq\n"
     ]
    },
    {
     "name": "stdout",
     "output_type": "stream",
     "text": [
      "251965.55864574845\n",
      "Predicting defocus...\n",
      "saving ronchigram...\n"
     ]
    },
    {
     "name": "stderr",
     "output_type": "stream",
     "text": [
      "/home/chenyu/Desktop/Bayesian-optimization-using-Gaussian-Process/modules/OnlineGP.py:464: RuntimeWarning: invalid value encountered in add\n",
      "  K = K + x1_sum_sq + x2_sum_sq\n",
      "/home/chenyu/Desktop/Bayesian-optimization-using-Gaussian-Process/modules/OnlineGP.py:464: RuntimeWarning: invalid value encountered in add\n",
      "  K = K + x1_sum_sq + x2_sum_sq\n",
      "/home/chenyu/Desktop/Bayesian-optimization-using-Gaussian-Process/modules/OnlineGP.py:464: RuntimeWarning: invalid value encountered in add\n",
      "  K = K + x1_sum_sq + x2_sum_sq\n"
     ]
    },
    {
     "name": "stdout",
     "output_type": "stream",
     "text": [
      "255299.87824081667\n",
      "Predicting defocus...\n",
      "saving ronchigram...\n"
     ]
    },
    {
     "name": "stderr",
     "output_type": "stream",
     "text": [
      "/home/chenyu/Desktop/Bayesian-optimization-using-Gaussian-Process/modules/OnlineGP.py:464: RuntimeWarning: invalid value encountered in add\n",
      "  K = K + x1_sum_sq + x2_sum_sq\n",
      "/home/chenyu/Desktop/Bayesian-optimization-using-Gaussian-Process/modules/OnlineGP.py:464: RuntimeWarning: invalid value encountered in add\n",
      "  K = K + x1_sum_sq + x2_sum_sq\n",
      "/home/chenyu/Desktop/Bayesian-optimization-using-Gaussian-Process/modules/OnlineGP.py:464: RuntimeWarning: invalid value encountered in add\n",
      "  K = K + x1_sum_sq + x2_sum_sq\n",
      "/home/chenyu/Desktop/Bayesian-optimization-using-Gaussian-Process/modules/OnlineGP.py:464: RuntimeWarning: invalid value encountered in add\n",
      "  K = K + x1_sum_sq + x2_sum_sq\n"
     ]
    },
    {
     "name": "stdout",
     "output_type": "stream",
     "text": [
      "249884.52719567416\n",
      "Predicting defocus...\n",
      "saving ronchigram...\n"
     ]
    },
    {
     "name": "stderr",
     "output_type": "stream",
     "text": [
      "/home/chenyu/Desktop/Bayesian-optimization-using-Gaussian-Process/modules/OnlineGP.py:464: RuntimeWarning: invalid value encountered in add\n",
      "  K = K + x1_sum_sq + x2_sum_sq\n",
      "/home/chenyu/Desktop/Bayesian-optimization-using-Gaussian-Process/modules/OnlineGP.py:464: RuntimeWarning: invalid value encountered in add\n",
      "  K = K + x1_sum_sq + x2_sum_sq\n",
      "/home/chenyu/Desktop/Bayesian-optimization-using-Gaussian-Process/modules/OnlineGP.py:464: RuntimeWarning: invalid value encountered in add\n",
      "  K = K + x1_sum_sq + x2_sum_sq\n",
      "/home/chenyu/Desktop/Bayesian-optimization-using-Gaussian-Process/modules/OnlineGP.py:464: RuntimeWarning: invalid value encountered in add\n",
      "  K = K + x1_sum_sq + x2_sum_sq\n",
      "/home/chenyu/Desktop/Bayesian-optimization-using-Gaussian-Process/modules/OnlineGP.py:464: RuntimeWarning: invalid value encountered in add\n",
      "  K = K + x1_sum_sq + x2_sum_sq\n"
     ]
    },
    {
     "name": "stdout",
     "output_type": "stream",
     "text": [
      "257671.55864574845\n",
      "Predicting defocus...\n",
      "saving ronchigram...\n"
     ]
    },
    {
     "name": "stderr",
     "output_type": "stream",
     "text": [
      "/home/chenyu/Desktop/Bayesian-optimization-using-Gaussian-Process/modules/OnlineGP.py:464: RuntimeWarning: invalid value encountered in add\n",
      "  K = K + x1_sum_sq + x2_sum_sq\n",
      "/home/chenyu/Desktop/Bayesian-optimization-using-Gaussian-Process/modules/OnlineGP.py:464: RuntimeWarning: invalid value encountered in add\n",
      "  K = K + x1_sum_sq + x2_sum_sq\n",
      "/home/chenyu/Desktop/Bayesian-optimization-using-Gaussian-Process/modules/OnlineGP.py:464: RuntimeWarning: invalid value encountered in add\n",
      "  K = K + x1_sum_sq + x2_sum_sq\n",
      "/home/chenyu/Desktop/Bayesian-optimization-using-Gaussian-Process/modules/OnlineGP.py:464: RuntimeWarning: invalid value encountered in add\n",
      "  K = K + x1_sum_sq + x2_sum_sq\n",
      "/home/chenyu/Desktop/Bayesian-optimization-using-Gaussian-Process/modules/OnlineGP.py:464: RuntimeWarning: invalid value encountered in add\n",
      "  K = K + x1_sum_sq + x2_sum_sq\n"
     ]
    },
    {
     "name": "stdout",
     "output_type": "stream",
     "text": [
      "260856.54832809267\n",
      "Predicting defocus...\n",
      "saving ronchigram...\n"
     ]
    },
    {
     "name": "stderr",
     "output_type": "stream",
     "text": [
      "/home/chenyu/Desktop/Bayesian-optimization-using-Gaussian-Process/modules/OnlineGP.py:464: RuntimeWarning: invalid value encountered in add\n",
      "  K = K + x1_sum_sq + x2_sum_sq\n",
      "/home/chenyu/Desktop/Bayesian-optimization-using-Gaussian-Process/modules/OnlineGP.py:464: RuntimeWarning: invalid value encountered in add\n",
      "  K = K + x1_sum_sq + x2_sum_sq\n",
      "/home/chenyu/Desktop/Bayesian-optimization-using-Gaussian-Process/modules/OnlineGP.py:464: RuntimeWarning: invalid value encountered in add\n",
      "  K = K + x1_sum_sq + x2_sum_sq\n",
      "/home/chenyu/Desktop/Bayesian-optimization-using-Gaussian-Process/modules/OnlineGP.py:464: RuntimeWarning: invalid value encountered in add\n",
      "  K = K + x1_sum_sq + x2_sum_sq\n",
      "/home/chenyu/Desktop/Bayesian-optimization-using-Gaussian-Process/modules/OnlineGP.py:464: RuntimeWarning: invalid value encountered in add\n",
      "  K = K + x1_sum_sq + x2_sum_sq\n"
     ]
    },
    {
     "name": "stdout",
     "output_type": "stream",
     "text": [
      "262573.7394816626\n",
      "Predicting defocus...\n",
      "saving ronchigram...\n"
     ]
    },
    {
     "name": "stderr",
     "output_type": "stream",
     "text": [
      "/home/chenyu/Desktop/Bayesian-optimization-using-Gaussian-Process/modules/OnlineGP.py:464: RuntimeWarning: invalid value encountered in add\n",
      "  K = K + x1_sum_sq + x2_sum_sq\n",
      "/home/chenyu/Desktop/Bayesian-optimization-using-Gaussian-Process/modules/OnlineGP.py:464: RuntimeWarning: invalid value encountered in add\n",
      "  K = K + x1_sum_sq + x2_sum_sq\n",
      "/home/chenyu/Desktop/Bayesian-optimization-using-Gaussian-Process/modules/OnlineGP.py:464: RuntimeWarning: invalid value encountered in add\n",
      "  K = K + x1_sum_sq + x2_sum_sq\n",
      "/home/chenyu/Desktop/Bayesian-optimization-using-Gaussian-Process/modules/OnlineGP.py:464: RuntimeWarning: invalid value encountered in add\n",
      "  K = K + x1_sum_sq + x2_sum_sq\n",
      "/home/chenyu/Desktop/Bayesian-optimization-using-Gaussian-Process/modules/OnlineGP.py:464: RuntimeWarning: invalid value encountered in add\n",
      "  K = K + x1_sum_sq + x2_sum_sq\n"
     ]
    },
    {
     "name": "stdout",
     "output_type": "stream",
     "text": [
      "259848.57077098748\n",
      "Predicting defocus...\n",
      "saving ronchigram...\n"
     ]
    },
    {
     "name": "stderr",
     "output_type": "stream",
     "text": [
      "/home/chenyu/Desktop/Bayesian-optimization-using-Gaussian-Process/modules/OnlineGP.py:464: RuntimeWarning: invalid value encountered in add\n",
      "  K = K + x1_sum_sq + x2_sum_sq\n",
      "/home/chenyu/Desktop/Bayesian-optimization-using-Gaussian-Process/modules/OnlineGP.py:464: RuntimeWarning: invalid value encountered in add\n",
      "  K = K + x1_sum_sq + x2_sum_sq\n",
      "/home/chenyu/Desktop/Bayesian-optimization-using-Gaussian-Process/modules/OnlineGP.py:464: RuntimeWarning: invalid value encountered in add\n",
      "  K = K + x1_sum_sq + x2_sum_sq\n",
      "/home/chenyu/Desktop/Bayesian-optimization-using-Gaussian-Process/modules/OnlineGP.py:464: RuntimeWarning: invalid value encountered in add\n",
      "  K = K + x1_sum_sq + x2_sum_sq\n",
      "/home/chenyu/Desktop/Bayesian-optimization-using-Gaussian-Process/modules/OnlineGP.py:464: RuntimeWarning: invalid value encountered in add\n",
      "  K = K + x1_sum_sq + x2_sum_sq\n"
     ]
    },
    {
     "name": "stdout",
     "output_type": "stream",
     "text": [
      "260424.37488943455\n",
      "Predicting defocus...\n",
      "saving ronchigram...\n"
     ]
    },
    {
     "name": "stderr",
     "output_type": "stream",
     "text": [
      "/home/chenyu/Desktop/Bayesian-optimization-using-Gaussian-Process/modules/OnlineGP.py:464: RuntimeWarning: invalid value encountered in add\n",
      "  K = K + x1_sum_sq + x2_sum_sq\n",
      "/home/chenyu/Desktop/Bayesian-optimization-using-Gaussian-Process/modules/OnlineGP.py:464: RuntimeWarning: invalid value encountered in add\n",
      "  K = K + x1_sum_sq + x2_sum_sq\n",
      "/home/chenyu/Desktop/Bayesian-optimization-using-Gaussian-Process/modules/OnlineGP.py:464: RuntimeWarning: invalid value encountered in add\n",
      "  K = K + x1_sum_sq + x2_sum_sq\n",
      "/home/chenyu/Desktop/Bayesian-optimization-using-Gaussian-Process/modules/OnlineGP.py:464: RuntimeWarning: invalid value encountered in add\n",
      "  K = K + x1_sum_sq + x2_sum_sq\n",
      "/home/chenyu/Desktop/Bayesian-optimization-using-Gaussian-Process/modules/OnlineGP.py:464: RuntimeWarning: invalid value encountered in add\n",
      "  K = K + x1_sum_sq + x2_sum_sq\n"
     ]
    },
    {
     "name": "stdout",
     "output_type": "stream",
     "text": [
      "260419.697524775\n",
      "Predicting defocus...\n",
      "saving ronchigram...\n",
      "35 Finished.\n",
      "Model loaded\n",
      "Supposed to be grabbing initial machine state...\n",
      "250607.63330047246\n",
      "Predicting defocus...\n",
      "saving ronchigram...\n",
      "x_init [[0.60127222]]\n",
      "y_init [[0.43036926]]\n"
     ]
    },
    {
     "name": "stderr",
     "output_type": "stream",
     "text": [
      "/home/chenyu/Desktop/Bayesian-optimization-using-Gaussian-Process/modules/OnlineGP.py:464: RuntimeWarning: invalid value encountered in add\n",
      "  K = K + x1_sum_sq + x2_sum_sq\n"
     ]
    },
    {
     "name": "stdout",
     "output_type": "stream",
     "text": [
      "249503.6118092372\n",
      "Predicting defocus...\n",
      "saving ronchigram...\n"
     ]
    },
    {
     "name": "stderr",
     "output_type": "stream",
     "text": [
      "/home/chenyu/Desktop/Bayesian-optimization-using-Gaussian-Process/modules/OnlineGP.py:464: RuntimeWarning: invalid value encountered in add\n",
      "  K = K + x1_sum_sq + x2_sum_sq\n",
      "/home/chenyu/Desktop/Bayesian-optimization-using-Gaussian-Process/modules/OnlineGP.py:464: RuntimeWarning: invalid value encountered in add\n",
      "  K = K + x1_sum_sq + x2_sum_sq\n"
     ]
    },
    {
     "name": "stdout",
     "output_type": "stream",
     "text": [
      "246587.78456112728\n",
      "Predicting defocus...\n",
      "saving ronchigram...\n"
     ]
    },
    {
     "name": "stderr",
     "output_type": "stream",
     "text": [
      "/home/chenyu/Desktop/Bayesian-optimization-using-Gaussian-Process/modules/OnlineGP.py:464: RuntimeWarning: invalid value encountered in add\n",
      "  K = K + x1_sum_sq + x2_sum_sq\n",
      "/home/chenyu/Desktop/Bayesian-optimization-using-Gaussian-Process/modules/OnlineGP.py:464: RuntimeWarning: invalid value encountered in add\n",
      "  K = K + x1_sum_sq + x2_sum_sq\n",
      "/home/chenyu/Desktop/Bayesian-optimization-using-Gaussian-Process/modules/OnlineGP.py:464: RuntimeWarning: invalid value encountered in add\n",
      "  K = K + x1_sum_sq + x2_sum_sq\n"
     ]
    },
    {
     "name": "stdout",
     "output_type": "stream",
     "text": [
      "252772.20468814444\n",
      "Predicting defocus...\n",
      "saving ronchigram...\n"
     ]
    },
    {
     "name": "stderr",
     "output_type": "stream",
     "text": [
      "/home/chenyu/Desktop/Bayesian-optimization-using-Gaussian-Process/modules/OnlineGP.py:464: RuntimeWarning: invalid value encountered in add\n",
      "  K = K + x1_sum_sq + x2_sum_sq\n",
      "/home/chenyu/Desktop/Bayesian-optimization-using-Gaussian-Process/modules/OnlineGP.py:464: RuntimeWarning: invalid value encountered in add\n",
      "  K = K + x1_sum_sq + x2_sum_sq\n",
      "/home/chenyu/Desktop/Bayesian-optimization-using-Gaussian-Process/modules/OnlineGP.py:464: RuntimeWarning: invalid value encountered in add\n",
      "  K = K + x1_sum_sq + x2_sum_sq\n",
      "/home/chenyu/Desktop/Bayesian-optimization-using-Gaussian-Process/modules/OnlineGP.py:464: RuntimeWarning: invalid value encountered in add\n",
      "  K = K + x1_sum_sq + x2_sum_sq\n"
     ]
    },
    {
     "name": "stdout",
     "output_type": "stream",
     "text": [
      "254489.55829522084\n",
      "Predicting defocus...\n",
      "saving ronchigram...\n"
     ]
    },
    {
     "name": "stderr",
     "output_type": "stream",
     "text": [
      "/home/chenyu/Desktop/Bayesian-optimization-using-Gaussian-Process/modules/OnlineGP.py:464: RuntimeWarning: invalid value encountered in add\n",
      "  K = K + x1_sum_sq + x2_sum_sq\n",
      "/home/chenyu/Desktop/Bayesian-optimization-using-Gaussian-Process/modules/OnlineGP.py:464: RuntimeWarning: invalid value encountered in add\n",
      "  K = K + x1_sum_sq + x2_sum_sq\n",
      "/home/chenyu/Desktop/Bayesian-optimization-using-Gaussian-Process/modules/OnlineGP.py:464: RuntimeWarning: invalid value encountered in add\n",
      "  K = K + x1_sum_sq + x2_sum_sq\n",
      "/home/chenyu/Desktop/Bayesian-optimization-using-Gaussian-Process/modules/OnlineGP.py:464: RuntimeWarning: invalid value encountered in add\n",
      "  K = K + x1_sum_sq + x2_sum_sq\n"
     ]
    },
    {
     "name": "stdout",
     "output_type": "stream",
     "text": [
      "253676.10637369775\n",
      "Predicting defocus...\n",
      "saving ronchigram...\n"
     ]
    },
    {
     "name": "stderr",
     "output_type": "stream",
     "text": [
      "/home/chenyu/Desktop/Bayesian-optimization-using-Gaussian-Process/modules/OnlineGP.py:464: RuntimeWarning: invalid value encountered in add\n",
      "  K = K + x1_sum_sq + x2_sum_sq\n",
      "/home/chenyu/Desktop/Bayesian-optimization-using-Gaussian-Process/modules/OnlineGP.py:464: RuntimeWarning: invalid value encountered in add\n",
      "  K = K + x1_sum_sq + x2_sum_sq\n",
      "/home/chenyu/Desktop/Bayesian-optimization-using-Gaussian-Process/modules/OnlineGP.py:464: RuntimeWarning: invalid value encountered in add\n",
      "  K = K + x1_sum_sq + x2_sum_sq\n",
      "/home/chenyu/Desktop/Bayesian-optimization-using-Gaussian-Process/modules/OnlineGP.py:464: RuntimeWarning: invalid value encountered in add\n",
      "  K = K + x1_sum_sq + x2_sum_sq\n",
      "/home/chenyu/Desktop/Bayesian-optimization-using-Gaussian-Process/modules/OnlineGP.py:464: RuntimeWarning: invalid value encountered in add\n",
      "  K = K + x1_sum_sq + x2_sum_sq\n"
     ]
    },
    {
     "name": "stdout",
     "output_type": "stream",
     "text": [
      "256953.08993369353\n",
      "Predicting defocus...\n",
      "saving ronchigram...\n"
     ]
    },
    {
     "name": "stderr",
     "output_type": "stream",
     "text": [
      "/home/chenyu/Desktop/Bayesian-optimization-using-Gaussian-Process/modules/OnlineGP.py:464: RuntimeWarning: invalid value encountered in add\n",
      "  K = K + x1_sum_sq + x2_sum_sq\n",
      "/home/chenyu/Desktop/Bayesian-optimization-using-Gaussian-Process/modules/OnlineGP.py:464: RuntimeWarning: invalid value encountered in add\n",
      "  K = K + x1_sum_sq + x2_sum_sq\n",
      "/home/chenyu/Desktop/Bayesian-optimization-using-Gaussian-Process/modules/OnlineGP.py:464: RuntimeWarning: invalid value encountered in add\n",
      "  K = K + x1_sum_sq + x2_sum_sq\n",
      "/home/chenyu/Desktop/Bayesian-optimization-using-Gaussian-Process/modules/OnlineGP.py:464: RuntimeWarning: invalid value encountered in add\n",
      "  K = K + x1_sum_sq + x2_sum_sq\n",
      "/home/chenyu/Desktop/Bayesian-optimization-using-Gaussian-Process/modules/OnlineGP.py:464: RuntimeWarning: invalid value encountered in add\n",
      "  K = K + x1_sum_sq + x2_sum_sq\n"
     ]
    },
    {
     "name": "stdout",
     "output_type": "stream",
     "text": [
      "253796.79091020953\n",
      "Predicting defocus...\n",
      "saving ronchigram...\n"
     ]
    },
    {
     "name": "stderr",
     "output_type": "stream",
     "text": [
      "/home/chenyu/Desktop/Bayesian-optimization-using-Gaussian-Process/modules/OnlineGP.py:464: RuntimeWarning: invalid value encountered in add\n",
      "  K = K + x1_sum_sq + x2_sum_sq\n",
      "/home/chenyu/Desktop/Bayesian-optimization-using-Gaussian-Process/modules/OnlineGP.py:464: RuntimeWarning: invalid value encountered in add\n",
      "  K = K + x1_sum_sq + x2_sum_sq\n",
      "/home/chenyu/Desktop/Bayesian-optimization-using-Gaussian-Process/modules/OnlineGP.py:464: RuntimeWarning: invalid value encountered in add\n",
      "  K = K + x1_sum_sq + x2_sum_sq\n",
      "/home/chenyu/Desktop/Bayesian-optimization-using-Gaussian-Process/modules/OnlineGP.py:464: RuntimeWarning: invalid value encountered in add\n",
      "  K = K + x1_sum_sq + x2_sum_sq\n",
      "/home/chenyu/Desktop/Bayesian-optimization-using-Gaussian-Process/modules/OnlineGP.py:464: RuntimeWarning: invalid value encountered in add\n",
      "  K = K + x1_sum_sq + x2_sum_sq\n"
     ]
    },
    {
     "name": "stdout",
     "output_type": "stream",
     "text": [
      "253839.1284009222\n",
      "Predicting defocus...\n",
      "saving ronchigram...\n"
     ]
    },
    {
     "name": "stderr",
     "output_type": "stream",
     "text": [
      "/home/chenyu/Desktop/Bayesian-optimization-using-Gaussian-Process/modules/OnlineGP.py:464: RuntimeWarning: invalid value encountered in add\n",
      "  K = K + x1_sum_sq + x2_sum_sq\n",
      "/home/chenyu/Desktop/Bayesian-optimization-using-Gaussian-Process/modules/OnlineGP.py:464: RuntimeWarning: invalid value encountered in add\n",
      "  K = K + x1_sum_sq + x2_sum_sq\n",
      "/home/chenyu/Desktop/Bayesian-optimization-using-Gaussian-Process/modules/OnlineGP.py:464: RuntimeWarning: invalid value encountered in add\n",
      "  K = K + x1_sum_sq + x2_sum_sq\n",
      "/home/chenyu/Desktop/Bayesian-optimization-using-Gaussian-Process/modules/OnlineGP.py:464: RuntimeWarning: invalid value encountered in add\n",
      "  K = K + x1_sum_sq + x2_sum_sq\n",
      "/home/chenyu/Desktop/Bayesian-optimization-using-Gaussian-Process/modules/OnlineGP.py:464: RuntimeWarning: invalid value encountered in add\n",
      "  K = K + x1_sum_sq + x2_sum_sq\n"
     ]
    },
    {
     "name": "stdout",
     "output_type": "stream",
     "text": [
      "253855.64007714056\n",
      "Predicting defocus...\n",
      "saving ronchigram...\n"
     ]
    },
    {
     "name": "stderr",
     "output_type": "stream",
     "text": [
      "/home/chenyu/Desktop/Bayesian-optimization-using-Gaussian-Process/modules/OnlineGP.py:464: RuntimeWarning: invalid value encountered in add\n",
      "  K = K + x1_sum_sq + x2_sum_sq\n",
      "/home/chenyu/Desktop/Bayesian-optimization-using-Gaussian-Process/modules/OnlineGP.py:464: RuntimeWarning: invalid value encountered in add\n",
      "  K = K + x1_sum_sq + x2_sum_sq\n",
      "/home/chenyu/Desktop/Bayesian-optimization-using-Gaussian-Process/modules/OnlineGP.py:464: RuntimeWarning: invalid value encountered in add\n",
      "  K = K + x1_sum_sq + x2_sum_sq\n",
      "/home/chenyu/Desktop/Bayesian-optimization-using-Gaussian-Process/modules/OnlineGP.py:464: RuntimeWarning: invalid value encountered in add\n",
      "  K = K + x1_sum_sq + x2_sum_sq\n",
      "/home/chenyu/Desktop/Bayesian-optimization-using-Gaussian-Process/modules/OnlineGP.py:464: RuntimeWarning: invalid value encountered in add\n",
      "  K = K + x1_sum_sq + x2_sum_sq\n"
     ]
    },
    {
     "name": "stdout",
     "output_type": "stream",
     "text": [
      "253894.13223210236\n",
      "Predicting defocus...\n",
      "saving ronchigram...\n",
      "36 Finished.\n",
      "Model loaded\n",
      "Supposed to be grabbing initial machine state...\n",
      "248475.21223007154\n",
      "Predicting defocus...\n",
      "saving ronchigram...\n",
      "x_init [[0.24586871]]\n",
      "y_init [[0.45778543]]\n"
     ]
    },
    {
     "name": "stderr",
     "output_type": "stream",
     "text": [
      "/home/chenyu/Desktop/Bayesian-optimization-using-Gaussian-Process/modules/OnlineGP.py:464: RuntimeWarning: invalid value encountered in add\n",
      "  K = K + x1_sum_sq + x2_sum_sq\n"
     ]
    },
    {
     "name": "stdout",
     "output_type": "stream",
     "text": [
      "247371.19073883627\n",
      "Predicting defocus...\n",
      "saving ronchigram...\n"
     ]
    },
    {
     "name": "stderr",
     "output_type": "stream",
     "text": [
      "/home/chenyu/Desktop/Bayesian-optimization-using-Gaussian-Process/modules/OnlineGP.py:464: RuntimeWarning: invalid value encountered in add\n",
      "  K = K + x1_sum_sq + x2_sum_sq\n",
      "/home/chenyu/Desktop/Bayesian-optimization-using-Gaussian-Process/modules/OnlineGP.py:464: RuntimeWarning: invalid value encountered in add\n",
      "  K = K + x1_sum_sq + x2_sum_sq\n"
     ]
    },
    {
     "name": "stdout",
     "output_type": "stream",
     "text": [
      "244548.78693253282\n",
      "Predicting defocus...\n",
      "saving ronchigram...\n"
     ]
    },
    {
     "name": "stderr",
     "output_type": "stream",
     "text": [
      "/home/chenyu/Desktop/Bayesian-optimization-using-Gaussian-Process/modules/OnlineGP.py:464: RuntimeWarning: invalid value encountered in add\n",
      "  K = K + x1_sum_sq + x2_sum_sq\n",
      "/home/chenyu/Desktop/Bayesian-optimization-using-Gaussian-Process/modules/OnlineGP.py:464: RuntimeWarning: invalid value encountered in add\n",
      "  K = K + x1_sum_sq + x2_sum_sq\n",
      "/home/chenyu/Desktop/Bayesian-optimization-using-Gaussian-Process/modules/OnlineGP.py:464: RuntimeWarning: invalid value encountered in add\n",
      "  K = K + x1_sum_sq + x2_sum_sq\n"
     ]
    },
    {
     "name": "stdout",
     "output_type": "stream",
     "text": [
      "250356.4664003349\n",
      "Predicting defocus...\n",
      "saving ronchigram...\n"
     ]
    },
    {
     "name": "stderr",
     "output_type": "stream",
     "text": [
      "/home/chenyu/Desktop/Bayesian-optimization-using-Gaussian-Process/modules/OnlineGP.py:464: RuntimeWarning: invalid value encountered in add\n",
      "  K = K + x1_sum_sq + x2_sum_sq\n",
      "/home/chenyu/Desktop/Bayesian-optimization-using-Gaussian-Process/modules/OnlineGP.py:464: RuntimeWarning: invalid value encountered in add\n",
      "  K = K + x1_sum_sq + x2_sum_sq\n",
      "/home/chenyu/Desktop/Bayesian-optimization-using-Gaussian-Process/modules/OnlineGP.py:464: RuntimeWarning: invalid value encountered in add\n",
      "  K = K + x1_sum_sq + x2_sum_sq\n"
     ]
    },
    {
     "name": "stdout",
     "output_type": "stream",
     "text": [
      "252136.44208096882\n",
      "Predicting defocus...\n",
      "saving ronchigram...\n"
     ]
    },
    {
     "name": "stderr",
     "output_type": "stream",
     "text": [
      "/home/chenyu/Desktop/Bayesian-optimization-using-Gaussian-Process/modules/OnlineGP.py:464: RuntimeWarning: invalid value encountered in add\n",
      "  K = K + x1_sum_sq + x2_sum_sq\n",
      "/home/chenyu/Desktop/Bayesian-optimization-using-Gaussian-Process/modules/OnlineGP.py:464: RuntimeWarning: invalid value encountered in add\n",
      "  K = K + x1_sum_sq + x2_sum_sq\n",
      "/home/chenyu/Desktop/Bayesian-optimization-using-Gaussian-Process/modules/OnlineGP.py:464: RuntimeWarning: invalid value encountered in add\n",
      "  K = K + x1_sum_sq + x2_sum_sq\n",
      "/home/chenyu/Desktop/Bayesian-optimization-using-Gaussian-Process/modules/OnlineGP.py:464: RuntimeWarning: invalid value encountered in add\n",
      "  K = K + x1_sum_sq + x2_sum_sq\n"
     ]
    },
    {
     "name": "stdout",
     "output_type": "stream",
     "text": [
      "254110.46174257534\n",
      "Predicting defocus...\n",
      "saving ronchigram...\n"
     ]
    },
    {
     "name": "stderr",
     "output_type": "stream",
     "text": [
      "/home/chenyu/Desktop/Bayesian-optimization-using-Gaussian-Process/modules/OnlineGP.py:464: RuntimeWarning: invalid value encountered in add\n",
      "  K = K + x1_sum_sq + x2_sum_sq\n",
      "/home/chenyu/Desktop/Bayesian-optimization-using-Gaussian-Process/modules/OnlineGP.py:464: RuntimeWarning: invalid value encountered in add\n",
      "  K = K + x1_sum_sq + x2_sum_sq\n",
      "/home/chenyu/Desktop/Bayesian-optimization-using-Gaussian-Process/modules/OnlineGP.py:464: RuntimeWarning: invalid value encountered in add\n",
      "  K = K + x1_sum_sq + x2_sum_sq\n",
      "/home/chenyu/Desktop/Bayesian-optimization-using-Gaussian-Process/modules/OnlineGP.py:464: RuntimeWarning: invalid value encountered in add\n",
      "  K = K + x1_sum_sq + x2_sum_sq\n"
     ]
    },
    {
     "name": "stdout",
     "output_type": "stream",
     "text": [
      "251327.76253541882\n",
      "Predicting defocus...\n",
      "saving ronchigram...\n"
     ]
    },
    {
     "name": "stderr",
     "output_type": "stream",
     "text": [
      "/home/chenyu/Desktop/Bayesian-optimization-using-Gaussian-Process/modules/OnlineGP.py:464: RuntimeWarning: invalid value encountered in add\n",
      "  K = K + x1_sum_sq + x2_sum_sq\n",
      "/home/chenyu/Desktop/Bayesian-optimization-using-Gaussian-Process/modules/OnlineGP.py:464: RuntimeWarning: invalid value encountered in add\n",
      "  K = K + x1_sum_sq + x2_sum_sq\n",
      "/home/chenyu/Desktop/Bayesian-optimization-using-Gaussian-Process/modules/OnlineGP.py:464: RuntimeWarning: invalid value encountered in add\n",
      "  K = K + x1_sum_sq + x2_sum_sq\n",
      "/home/chenyu/Desktop/Bayesian-optimization-using-Gaussian-Process/modules/OnlineGP.py:464: RuntimeWarning: invalid value encountered in add\n",
      "  K = K + x1_sum_sq + x2_sum_sq\n",
      "/home/chenyu/Desktop/Bayesian-optimization-using-Gaussian-Process/modules/OnlineGP.py:464: RuntimeWarning: invalid value encountered in add\n",
      "  K = K + x1_sum_sq + x2_sum_sq\n"
     ]
    },
    {
     "name": "stdout",
     "output_type": "stream",
     "text": [
      "251701.2222667725\n",
      "Predicting defocus...\n",
      "saving ronchigram...\n"
     ]
    },
    {
     "name": "stderr",
     "output_type": "stream",
     "text": [
      "/home/chenyu/Desktop/Bayesian-optimization-using-Gaussian-Process/modules/OnlineGP.py:464: RuntimeWarning: invalid value encountered in add\n",
      "  K = K + x1_sum_sq + x2_sum_sq\n",
      "/home/chenyu/Desktop/Bayesian-optimization-using-Gaussian-Process/modules/OnlineGP.py:464: RuntimeWarning: invalid value encountered in add\n",
      "  K = K + x1_sum_sq + x2_sum_sq\n",
      "/home/chenyu/Desktop/Bayesian-optimization-using-Gaussian-Process/modules/OnlineGP.py:464: RuntimeWarning: invalid value encountered in add\n",
      "  K = K + x1_sum_sq + x2_sum_sq\n",
      "/home/chenyu/Desktop/Bayesian-optimization-using-Gaussian-Process/modules/OnlineGP.py:464: RuntimeWarning: invalid value encountered in add\n",
      "  K = K + x1_sum_sq + x2_sum_sq\n",
      "/home/chenyu/Desktop/Bayesian-optimization-using-Gaussian-Process/modules/OnlineGP.py:464: RuntimeWarning: invalid value encountered in add\n",
      "  K = K + x1_sum_sq + x2_sum_sq\n"
     ]
    },
    {
     "name": "stdout",
     "output_type": "stream",
     "text": [
      "251707.6187434202\n",
      "Predicting defocus...\n",
      "saving ronchigram...\n"
     ]
    },
    {
     "name": "stderr",
     "output_type": "stream",
     "text": [
      "/home/chenyu/Desktop/Bayesian-optimization-using-Gaussian-Process/modules/OnlineGP.py:464: RuntimeWarning: invalid value encountered in add\n",
      "  K = K + x1_sum_sq + x2_sum_sq\n",
      "/home/chenyu/Desktop/Bayesian-optimization-using-Gaussian-Process/modules/OnlineGP.py:464: RuntimeWarning: invalid value encountered in add\n",
      "  K = K + x1_sum_sq + x2_sum_sq\n",
      "/home/chenyu/Desktop/Bayesian-optimization-using-Gaussian-Process/modules/OnlineGP.py:464: RuntimeWarning: invalid value encountered in add\n",
      "  K = K + x1_sum_sq + x2_sum_sq\n",
      "/home/chenyu/Desktop/Bayesian-optimization-using-Gaussian-Process/modules/OnlineGP.py:464: RuntimeWarning: invalid value encountered in add\n",
      "  K = K + x1_sum_sq + x2_sum_sq\n",
      "/home/chenyu/Desktop/Bayesian-optimization-using-Gaussian-Process/modules/OnlineGP.py:464: RuntimeWarning: invalid value encountered in add\n",
      "  K = K + x1_sum_sq + x2_sum_sq\n"
     ]
    },
    {
     "name": "stdout",
     "output_type": "stream",
     "text": [
      "251709.15192715556\n",
      "Predicting defocus...\n",
      "saving ronchigram...\n"
     ]
    },
    {
     "name": "stderr",
     "output_type": "stream",
     "text": [
      "/home/chenyu/Desktop/Bayesian-optimization-using-Gaussian-Process/modules/OnlineGP.py:464: RuntimeWarning: invalid value encountered in add\n",
      "  K = K + x1_sum_sq + x2_sum_sq\n",
      "/home/chenyu/Desktop/Bayesian-optimization-using-Gaussian-Process/modules/OnlineGP.py:464: RuntimeWarning: invalid value encountered in add\n",
      "  K = K + x1_sum_sq + x2_sum_sq\n",
      "/home/chenyu/Desktop/Bayesian-optimization-using-Gaussian-Process/modules/OnlineGP.py:464: RuntimeWarning: invalid value encountered in add\n",
      "  K = K + x1_sum_sq + x2_sum_sq\n",
      "/home/chenyu/Desktop/Bayesian-optimization-using-Gaussian-Process/modules/OnlineGP.py:464: RuntimeWarning: invalid value encountered in add\n",
      "  K = K + x1_sum_sq + x2_sum_sq\n",
      "/home/chenyu/Desktop/Bayesian-optimization-using-Gaussian-Process/modules/OnlineGP.py:464: RuntimeWarning: invalid value encountered in add\n",
      "  K = K + x1_sum_sq + x2_sum_sq\n"
     ]
    },
    {
     "name": "stdout",
     "output_type": "stream",
     "text": [
      "251709.2940074664\n",
      "Predicting defocus...\n",
      "saving ronchigram...\n",
      "37 Finished.\n",
      "Model loaded\n",
      "Supposed to be grabbing initial machine state...\n",
      "250047.53673223266\n",
      "Predicting defocus...\n",
      "saving ronchigram...\n",
      "x_init [[0.50792279]]\n",
      "y_init [[0.12661797]]\n"
     ]
    },
    {
     "name": "stderr",
     "output_type": "stream",
     "text": [
      "/home/chenyu/Desktop/Bayesian-optimization-using-Gaussian-Process/modules/OnlineGP.py:464: RuntimeWarning: invalid value encountered in add\n",
      "  K = K + x1_sum_sq + x2_sum_sq\n"
     ]
    },
    {
     "name": "stdout",
     "output_type": "stream",
     "text": [
      "248943.5152409974\n",
      "Predicting defocus...\n",
      "saving ronchigram...\n"
     ]
    },
    {
     "name": "stderr",
     "output_type": "stream",
     "text": [
      "/home/chenyu/Desktop/Bayesian-optimization-using-Gaussian-Process/modules/OnlineGP.py:464: RuntimeWarning: invalid value encountered in add\n",
      "  K = K + x1_sum_sq + x2_sum_sq\n",
      "/home/chenyu/Desktop/Bayesian-optimization-using-Gaussian-Process/modules/OnlineGP.py:464: RuntimeWarning: invalid value encountered in add\n",
      "  K = K + x1_sum_sq + x2_sum_sq\n"
     ]
    },
    {
     "name": "stdout",
     "output_type": "stream",
     "text": [
      "253086.17664013302\n",
      "Predicting defocus...\n",
      "saving ronchigram...\n"
     ]
    },
    {
     "name": "stderr",
     "output_type": "stream",
     "text": [
      "/home/chenyu/Desktop/Bayesian-optimization-using-Gaussian-Process/modules/OnlineGP.py:464: RuntimeWarning: invalid value encountered in add\n",
      "  K = K + x1_sum_sq + x2_sum_sq\n",
      "/home/chenyu/Desktop/Bayesian-optimization-using-Gaussian-Process/modules/OnlineGP.py:464: RuntimeWarning: invalid value encountered in add\n",
      "  K = K + x1_sum_sq + x2_sum_sq\n",
      "/home/chenyu/Desktop/Bayesian-optimization-using-Gaussian-Process/modules/OnlineGP.py:464: RuntimeWarning: invalid value encountered in add\n",
      "  K = K + x1_sum_sq + x2_sum_sq\n"
     ]
    },
    {
     "name": "stdout",
     "output_type": "stream",
     "text": [
      "256536.34520226516\n",
      "Predicting defocus...\n",
      "saving ronchigram...\n"
     ]
    },
    {
     "name": "stderr",
     "output_type": "stream",
     "text": [
      "/home/chenyu/Desktop/Bayesian-optimization-using-Gaussian-Process/modules/OnlineGP.py:464: RuntimeWarning: invalid value encountered in add\n",
      "  K = K + x1_sum_sq + x2_sum_sq\n",
      "/home/chenyu/Desktop/Bayesian-optimization-using-Gaussian-Process/modules/OnlineGP.py:464: RuntimeWarning: invalid value encountered in add\n",
      "  K = K + x1_sum_sq + x2_sum_sq\n",
      "/home/chenyu/Desktop/Bayesian-optimization-using-Gaussian-Process/modules/OnlineGP.py:464: RuntimeWarning: invalid value encountered in add\n",
      "  K = K + x1_sum_sq + x2_sum_sq\n",
      "/home/chenyu/Desktop/Bayesian-optimization-using-Gaussian-Process/modules/OnlineGP.py:464: RuntimeWarning: invalid value encountered in add\n",
      "  K = K + x1_sum_sq + x2_sum_sq\n"
     ]
    },
    {
     "name": "stdout",
     "output_type": "stream",
     "text": [
      "259928.49954554328\n",
      "Predicting defocus...\n",
      "saving ronchigram...\n"
     ]
    },
    {
     "name": "stderr",
     "output_type": "stream",
     "text": [
      "/home/chenyu/Desktop/Bayesian-optimization-using-Gaussian-Process/modules/OnlineGP.py:464: RuntimeWarning: invalid value encountered in add\n",
      "  K = K + x1_sum_sq + x2_sum_sq\n",
      "/home/chenyu/Desktop/Bayesian-optimization-using-Gaussian-Process/modules/OnlineGP.py:464: RuntimeWarning: invalid value encountered in add\n",
      "  K = K + x1_sum_sq + x2_sum_sq\n",
      "/home/chenyu/Desktop/Bayesian-optimization-using-Gaussian-Process/modules/OnlineGP.py:464: RuntimeWarning: invalid value encountered in add\n",
      "  K = K + x1_sum_sq + x2_sum_sq\n",
      "/home/chenyu/Desktop/Bayesian-optimization-using-Gaussian-Process/modules/OnlineGP.py:464: RuntimeWarning: invalid value encountered in add\n",
      "  K = K + x1_sum_sq + x2_sum_sq\n",
      "/home/chenyu/Desktop/Bayesian-optimization-using-Gaussian-Process/modules/OnlineGP.py:464: RuntimeWarning: invalid value encountered in add\n",
      "  K = K + x1_sum_sq + x2_sum_sq\n"
     ]
    },
    {
     "name": "stdout",
     "output_type": "stream",
     "text": [
      "262302.1708579388\n",
      "Predicting defocus...\n",
      "saving ronchigram...\n"
     ]
    },
    {
     "name": "stderr",
     "output_type": "stream",
     "text": [
      "/home/chenyu/Desktop/Bayesian-optimization-using-Gaussian-Process/modules/OnlineGP.py:464: RuntimeWarning: invalid value encountered in add\n",
      "  K = K + x1_sum_sq + x2_sum_sq\n",
      "/home/chenyu/Desktop/Bayesian-optimization-using-Gaussian-Process/modules/OnlineGP.py:464: RuntimeWarning: invalid value encountered in add\n",
      "  K = K + x1_sum_sq + x2_sum_sq\n",
      "/home/chenyu/Desktop/Bayesian-optimization-using-Gaussian-Process/modules/OnlineGP.py:464: RuntimeWarning: invalid value encountered in add\n",
      "  K = K + x1_sum_sq + x2_sum_sq\n",
      "/home/chenyu/Desktop/Bayesian-optimization-using-Gaussian-Process/modules/OnlineGP.py:464: RuntimeWarning: invalid value encountered in add\n",
      "  K = K + x1_sum_sq + x2_sum_sq\n",
      "/home/chenyu/Desktop/Bayesian-optimization-using-Gaussian-Process/modules/OnlineGP.py:464: RuntimeWarning: invalid value encountered in add\n",
      "  K = K + x1_sum_sq + x2_sum_sq\n"
     ]
    },
    {
     "name": "stdout",
     "output_type": "stream",
     "text": [
      "258490.01800652785\n",
      "Predicting defocus...\n",
      "saving ronchigram...\n"
     ]
    },
    {
     "name": "stderr",
     "output_type": "stream",
     "text": [
      "/home/chenyu/Desktop/Bayesian-optimization-using-Gaussian-Process/modules/OnlineGP.py:464: RuntimeWarning: invalid value encountered in add\n",
      "  K = K + x1_sum_sq + x2_sum_sq\n",
      "/home/chenyu/Desktop/Bayesian-optimization-using-Gaussian-Process/modules/OnlineGP.py:464: RuntimeWarning: invalid value encountered in add\n",
      "  K = K + x1_sum_sq + x2_sum_sq\n",
      "/home/chenyu/Desktop/Bayesian-optimization-using-Gaussian-Process/modules/OnlineGP.py:464: RuntimeWarning: invalid value encountered in add\n",
      "  K = K + x1_sum_sq + x2_sum_sq\n",
      "/home/chenyu/Desktop/Bayesian-optimization-using-Gaussian-Process/modules/OnlineGP.py:464: RuntimeWarning: invalid value encountered in add\n",
      "  K = K + x1_sum_sq + x2_sum_sq\n",
      "/home/chenyu/Desktop/Bayesian-optimization-using-Gaussian-Process/modules/OnlineGP.py:464: RuntimeWarning: invalid value encountered in add\n",
      "  K = K + x1_sum_sq + x2_sum_sq\n"
     ]
    },
    {
     "name": "stdout",
     "output_type": "stream",
     "text": [
      "251151.5582234679\n",
      "Predicting defocus...\n",
      "saving ronchigram...\n"
     ]
    },
    {
     "name": "stderr",
     "output_type": "stream",
     "text": [
      "/home/chenyu/Desktop/Bayesian-optimization-using-Gaussian-Process/modules/OnlineGP.py:464: RuntimeWarning: invalid value encountered in add\n",
      "  K = K + x1_sum_sq + x2_sum_sq\n",
      "/home/chenyu/Desktop/Bayesian-optimization-using-Gaussian-Process/modules/OnlineGP.py:464: RuntimeWarning: invalid value encountered in add\n",
      "  K = K + x1_sum_sq + x2_sum_sq\n",
      "/home/chenyu/Desktop/Bayesian-optimization-using-Gaussian-Process/modules/OnlineGP.py:464: RuntimeWarning: invalid value encountered in add\n",
      "  K = K + x1_sum_sq + x2_sum_sq\n",
      "/home/chenyu/Desktop/Bayesian-optimization-using-Gaussian-Process/modules/OnlineGP.py:464: RuntimeWarning: invalid value encountered in add\n",
      "  K = K + x1_sum_sq + x2_sum_sq\n",
      "/home/chenyu/Desktop/Bayesian-optimization-using-Gaussian-Process/modules/OnlineGP.py:464: RuntimeWarning: invalid value encountered in add\n",
      "  K = K + x1_sum_sq + x2_sum_sq\n"
     ]
    },
    {
     "name": "stdout",
     "output_type": "stream",
     "text": [
      "260723.5688284399\n",
      "Predicting defocus...\n",
      "saving ronchigram...\n"
     ]
    },
    {
     "name": "stderr",
     "output_type": "stream",
     "text": [
      "/home/chenyu/Desktop/Bayesian-optimization-using-Gaussian-Process/modules/OnlineGP.py:464: RuntimeWarning: invalid value encountered in add\n",
      "  K = K + x1_sum_sq + x2_sum_sq\n",
      "/home/chenyu/Desktop/Bayesian-optimization-using-Gaussian-Process/modules/OnlineGP.py:464: RuntimeWarning: invalid value encountered in add\n",
      "  K = K + x1_sum_sq + x2_sum_sq\n",
      "/home/chenyu/Desktop/Bayesian-optimization-using-Gaussian-Process/modules/OnlineGP.py:464: RuntimeWarning: invalid value encountered in add\n",
      "  K = K + x1_sum_sq + x2_sum_sq\n",
      "/home/chenyu/Desktop/Bayesian-optimization-using-Gaussian-Process/modules/OnlineGP.py:464: RuntimeWarning: invalid value encountered in add\n",
      "  K = K + x1_sum_sq + x2_sum_sq\n",
      "/home/chenyu/Desktop/Bayesian-optimization-using-Gaussian-Process/modules/OnlineGP.py:464: RuntimeWarning: invalid value encountered in add\n",
      "  K = K + x1_sum_sq + x2_sum_sq\n"
     ]
    },
    {
     "name": "stdout",
     "output_type": "stream",
     "text": [
      "259341.28520253973\n",
      "Predicting defocus...\n",
      "saving ronchigram...\n"
     ]
    },
    {
     "name": "stderr",
     "output_type": "stream",
     "text": [
      "/home/chenyu/Desktop/Bayesian-optimization-using-Gaussian-Process/modules/OnlineGP.py:464: RuntimeWarning: invalid value encountered in add\n",
      "  K = K + x1_sum_sq + x2_sum_sq\n",
      "/home/chenyu/Desktop/Bayesian-optimization-using-Gaussian-Process/modules/OnlineGP.py:464: RuntimeWarning: invalid value encountered in add\n",
      "  K = K + x1_sum_sq + x2_sum_sq\n",
      "/home/chenyu/Desktop/Bayesian-optimization-using-Gaussian-Process/modules/OnlineGP.py:464: RuntimeWarning: invalid value encountered in add\n",
      "  K = K + x1_sum_sq + x2_sum_sq\n",
      "/home/chenyu/Desktop/Bayesian-optimization-using-Gaussian-Process/modules/OnlineGP.py:464: RuntimeWarning: invalid value encountered in add\n",
      "  K = K + x1_sum_sq + x2_sum_sq\n",
      "/home/chenyu/Desktop/Bayesian-optimization-using-Gaussian-Process/modules/OnlineGP.py:464: RuntimeWarning: invalid value encountered in add\n",
      "  K = K + x1_sum_sq + x2_sum_sq\n"
     ]
    },
    {
     "name": "stdout",
     "output_type": "stream",
     "text": [
      "259342.21665282105\n",
      "Predicting defocus...\n",
      "saving ronchigram...\n",
      "38 Finished.\n",
      "Model loaded\n",
      "Supposed to be grabbing initial machine state...\n",
      "247288.37158906297\n",
      "Predicting defocus...\n",
      "saving ronchigram...\n",
      "x_init [[0.04806193]]\n",
      "y_init [[0.26308024]]\n"
     ]
    },
    {
     "name": "stderr",
     "output_type": "stream",
     "text": [
      "/home/chenyu/Desktop/Bayesian-optimization-using-Gaussian-Process/modules/OnlineGP.py:464: RuntimeWarning: invalid value encountered in add\n",
      "  K = K + x1_sum_sq + x2_sum_sq\n"
     ]
    },
    {
     "name": "stdout",
     "output_type": "stream",
     "text": [
      "246184.3500978277\n",
      "Predicting defocus...\n",
      "saving ronchigram...\n"
     ]
    },
    {
     "name": "stderr",
     "output_type": "stream",
     "text": [
      "/home/chenyu/Desktop/Bayesian-optimization-using-Gaussian-Process/modules/OnlineGP.py:464: RuntimeWarning: invalid value encountered in add\n",
      "  K = K + x1_sum_sq + x2_sum_sq\n",
      "/home/chenyu/Desktop/Bayesian-optimization-using-Gaussian-Process/modules/OnlineGP.py:464: RuntimeWarning: invalid value encountered in add\n",
      "  K = K + x1_sum_sq + x2_sum_sq\n"
     ]
    },
    {
     "name": "stdout",
     "output_type": "stream",
     "text": [
      "242960.79677896976\n",
      "Predicting defocus...\n",
      "saving ronchigram...\n"
     ]
    },
    {
     "name": "stderr",
     "output_type": "stream",
     "text": [
      "/home/chenyu/Desktop/Bayesian-optimization-using-Gaussian-Process/modules/OnlineGP.py:464: RuntimeWarning: invalid value encountered in add\n",
      "  K = K + x1_sum_sq + x2_sum_sq\n",
      "/home/chenyu/Desktop/Bayesian-optimization-using-Gaussian-Process/modules/OnlineGP.py:464: RuntimeWarning: invalid value encountered in add\n",
      "  K = K + x1_sum_sq + x2_sum_sq\n",
      "/home/chenyu/Desktop/Bayesian-optimization-using-Gaussian-Process/modules/OnlineGP.py:464: RuntimeWarning: invalid value encountered in add\n",
      "  K = K + x1_sum_sq + x2_sum_sq\n"
     ]
    },
    {
     "name": "stdout",
     "output_type": "stream",
     "text": [
      "249574.425548378\n",
      "Predicting defocus...\n",
      "saving ronchigram...\n"
     ]
    },
    {
     "name": "stderr",
     "output_type": "stream",
     "text": [
      "/home/chenyu/Desktop/Bayesian-optimization-using-Gaussian-Process/modules/OnlineGP.py:464: RuntimeWarning: invalid value encountered in add\n",
      "  K = K + x1_sum_sq + x2_sum_sq\n",
      "/home/chenyu/Desktop/Bayesian-optimization-using-Gaussian-Process/modules/OnlineGP.py:464: RuntimeWarning: invalid value encountered in add\n",
      "  K = K + x1_sum_sq + x2_sum_sq\n",
      "/home/chenyu/Desktop/Bayesian-optimization-using-Gaussian-Process/modules/OnlineGP.py:464: RuntimeWarning: invalid value encountered in add\n",
      "  K = K + x1_sum_sq + x2_sum_sq\n"
     ]
    },
    {
     "name": "stdout",
     "output_type": "stream",
     "text": [
      "252136.22693506407\n",
      "Predicting defocus...\n",
      "saving ronchigram...\n"
     ]
    },
    {
     "name": "stderr",
     "output_type": "stream",
     "text": [
      "/home/chenyu/Desktop/Bayesian-optimization-using-Gaussian-Process/modules/OnlineGP.py:464: RuntimeWarning: invalid value encountered in add\n",
      "  K = K + x1_sum_sq + x2_sum_sq\n",
      "/home/chenyu/Desktop/Bayesian-optimization-using-Gaussian-Process/modules/OnlineGP.py:464: RuntimeWarning: invalid value encountered in add\n",
      "  K = K + x1_sum_sq + x2_sum_sq\n",
      "/home/chenyu/Desktop/Bayesian-optimization-using-Gaussian-Process/modules/OnlineGP.py:464: RuntimeWarning: invalid value encountered in add\n",
      "  K = K + x1_sum_sq + x2_sum_sq\n",
      "/home/chenyu/Desktop/Bayesian-optimization-using-Gaussian-Process/modules/OnlineGP.py:464: RuntimeWarning: invalid value encountered in add\n",
      "  K = K + x1_sum_sq + x2_sum_sq\n"
     ]
    },
    {
     "name": "stdout",
     "output_type": "stream",
     "text": [
      "253885.8038855615\n",
      "Predicting defocus...\n",
      "saving ronchigram...\n"
     ]
    },
    {
     "name": "stderr",
     "output_type": "stream",
     "text": [
      "/home/chenyu/Desktop/Bayesian-optimization-using-Gaussian-Process/modules/OnlineGP.py:464: RuntimeWarning: invalid value encountered in add\n",
      "  K = K + x1_sum_sq + x2_sum_sq\n",
      "/home/chenyu/Desktop/Bayesian-optimization-using-Gaussian-Process/modules/OnlineGP.py:464: RuntimeWarning: invalid value encountered in add\n",
      "  K = K + x1_sum_sq + x2_sum_sq\n",
      "/home/chenyu/Desktop/Bayesian-optimization-using-Gaussian-Process/modules/OnlineGP.py:464: RuntimeWarning: invalid value encountered in add\n",
      "  K = K + x1_sum_sq + x2_sum_sq\n",
      "/home/chenyu/Desktop/Bayesian-optimization-using-Gaussian-Process/modules/OnlineGP.py:464: RuntimeWarning: invalid value encountered in add\n",
      "  K = K + x1_sum_sq + x2_sum_sq\n",
      "/home/chenyu/Desktop/Bayesian-optimization-using-Gaussian-Process/modules/OnlineGP.py:464: RuntimeWarning: invalid value encountered in add\n",
      "  K = K + x1_sum_sq + x2_sum_sq\n"
     ]
    },
    {
     "name": "stdout",
     "output_type": "stream",
     "text": [
      "252884.26141303455\n",
      "Predicting defocus...\n",
      "saving ronchigram...\n"
     ]
    },
    {
     "name": "stderr",
     "output_type": "stream",
     "text": [
      "/home/chenyu/Desktop/Bayesian-optimization-using-Gaussian-Process/modules/OnlineGP.py:464: RuntimeWarning: invalid value encountered in add\n",
      "  K = K + x1_sum_sq + x2_sum_sq\n",
      "/home/chenyu/Desktop/Bayesian-optimization-using-Gaussian-Process/modules/OnlineGP.py:464: RuntimeWarning: invalid value encountered in add\n",
      "  K = K + x1_sum_sq + x2_sum_sq\n",
      "/home/chenyu/Desktop/Bayesian-optimization-using-Gaussian-Process/modules/OnlineGP.py:464: RuntimeWarning: invalid value encountered in add\n",
      "  K = K + x1_sum_sq + x2_sum_sq\n",
      "/home/chenyu/Desktop/Bayesian-optimization-using-Gaussian-Process/modules/OnlineGP.py:464: RuntimeWarning: invalid value encountered in add\n",
      "  K = K + x1_sum_sq + x2_sum_sq\n",
      "/home/chenyu/Desktop/Bayesian-optimization-using-Gaussian-Process/modules/OnlineGP.py:464: RuntimeWarning: invalid value encountered in add\n",
      "  K = K + x1_sum_sq + x2_sum_sq\n"
     ]
    },
    {
     "name": "stdout",
     "output_type": "stream",
     "text": [
      "252641.25362248422\n",
      "Predicting defocus...\n",
      "saving ronchigram...\n"
     ]
    },
    {
     "name": "stderr",
     "output_type": "stream",
     "text": [
      "/home/chenyu/Desktop/Bayesian-optimization-using-Gaussian-Process/modules/OnlineGP.py:464: RuntimeWarning: invalid value encountered in add\n",
      "  K = K + x1_sum_sq + x2_sum_sq\n",
      "/home/chenyu/Desktop/Bayesian-optimization-using-Gaussian-Process/modules/OnlineGP.py:464: RuntimeWarning: invalid value encountered in add\n",
      "  K = K + x1_sum_sq + x2_sum_sq\n",
      "/home/chenyu/Desktop/Bayesian-optimization-using-Gaussian-Process/modules/OnlineGP.py:464: RuntimeWarning: invalid value encountered in add\n",
      "  K = K + x1_sum_sq + x2_sum_sq\n",
      "/home/chenyu/Desktop/Bayesian-optimization-using-Gaussian-Process/modules/OnlineGP.py:464: RuntimeWarning: invalid value encountered in add\n",
      "  K = K + x1_sum_sq + x2_sum_sq\n",
      "/home/chenyu/Desktop/Bayesian-optimization-using-Gaussian-Process/modules/OnlineGP.py:464: RuntimeWarning: invalid value encountered in add\n",
      "  K = K + x1_sum_sq + x2_sum_sq\n"
     ]
    },
    {
     "name": "stdout",
     "output_type": "stream",
     "text": [
      "252588.56937654802\n",
      "Predicting defocus...\n",
      "saving ronchigram...\n"
     ]
    },
    {
     "name": "stderr",
     "output_type": "stream",
     "text": [
      "/home/chenyu/Desktop/Bayesian-optimization-using-Gaussian-Process/modules/OnlineGP.py:464: RuntimeWarning: invalid value encountered in add\n",
      "  K = K + x1_sum_sq + x2_sum_sq\n",
      "/home/chenyu/Desktop/Bayesian-optimization-using-Gaussian-Process/modules/OnlineGP.py:464: RuntimeWarning: invalid value encountered in add\n",
      "  K = K + x1_sum_sq + x2_sum_sq\n",
      "/home/chenyu/Desktop/Bayesian-optimization-using-Gaussian-Process/modules/OnlineGP.py:464: RuntimeWarning: invalid value encountered in add\n",
      "  K = K + x1_sum_sq + x2_sum_sq\n",
      "/home/chenyu/Desktop/Bayesian-optimization-using-Gaussian-Process/modules/OnlineGP.py:464: RuntimeWarning: invalid value encountered in add\n",
      "  K = K + x1_sum_sq + x2_sum_sq\n",
      "/home/chenyu/Desktop/Bayesian-optimization-using-Gaussian-Process/modules/OnlineGP.py:464: RuntimeWarning: invalid value encountered in add\n",
      "  K = K + x1_sum_sq + x2_sum_sq\n"
     ]
    },
    {
     "name": "stdout",
     "output_type": "stream",
     "text": [
      "252557.1924151359\n",
      "Predicting defocus...\n",
      "saving ronchigram...\n"
     ]
    },
    {
     "name": "stderr",
     "output_type": "stream",
     "text": [
      "/home/chenyu/Desktop/Bayesian-optimization-using-Gaussian-Process/modules/OnlineGP.py:464: RuntimeWarning: invalid value encountered in add\n",
      "  K = K + x1_sum_sq + x2_sum_sq\n",
      "/home/chenyu/Desktop/Bayesian-optimization-using-Gaussian-Process/modules/OnlineGP.py:464: RuntimeWarning: invalid value encountered in add\n",
      "  K = K + x1_sum_sq + x2_sum_sq\n",
      "/home/chenyu/Desktop/Bayesian-optimization-using-Gaussian-Process/modules/OnlineGP.py:464: RuntimeWarning: invalid value encountered in add\n",
      "  K = K + x1_sum_sq + x2_sum_sq\n",
      "/home/chenyu/Desktop/Bayesian-optimization-using-Gaussian-Process/modules/OnlineGP.py:464: RuntimeWarning: invalid value encountered in add\n",
      "  K = K + x1_sum_sq + x2_sum_sq\n",
      "/home/chenyu/Desktop/Bayesian-optimization-using-Gaussian-Process/modules/OnlineGP.py:464: RuntimeWarning: invalid value encountered in add\n",
      "  K = K + x1_sum_sq + x2_sum_sq\n"
     ]
    },
    {
     "name": "stdout",
     "output_type": "stream",
     "text": [
      "252552.4928063422\n",
      "Predicting defocus...\n",
      "saving ronchigram...\n",
      "39 Finished.\n",
      "Model loaded\n",
      "Supposed to be grabbing initial machine state...\n",
      "251563.33142728917\n",
      "Predicting defocus...\n",
      "saving ronchigram...\n",
      "x_init [[0.76055524]]\n",
      "y_init [[0.26024604]]\n"
     ]
    },
    {
     "name": "stderr",
     "output_type": "stream",
     "text": [
      "/home/chenyu/Desktop/Bayesian-optimization-using-Gaussian-Process/modules/OnlineGP.py:464: RuntimeWarning: invalid value encountered in add\n",
      "  K = K + x1_sum_sq + x2_sum_sq\n"
     ]
    },
    {
     "name": "stdout",
     "output_type": "stream",
     "text": [
      "250459.3099360539\n",
      "Predicting defocus...\n",
      "saving ronchigram...\n"
     ]
    },
    {
     "name": "stderr",
     "output_type": "stream",
     "text": [
      "/home/chenyu/Desktop/Bayesian-optimization-using-Gaussian-Process/modules/OnlineGP.py:464: RuntimeWarning: invalid value encountered in add\n",
      "  K = K + x1_sum_sq + x2_sum_sq\n",
      "/home/chenyu/Desktop/Bayesian-optimization-using-Gaussian-Process/modules/OnlineGP.py:464: RuntimeWarning: invalid value encountered in add\n",
      "  K = K + x1_sum_sq + x2_sum_sq\n"
     ]
    },
    {
     "name": "stdout",
     "output_type": "stream",
     "text": [
      "253786.0402149789\n",
      "Predicting defocus...\n",
      "saving ronchigram...\n"
     ]
    },
    {
     "name": "stderr",
     "output_type": "stream",
     "text": [
      "/home/chenyu/Desktop/Bayesian-optimization-using-Gaussian-Process/modules/OnlineGP.py:464: RuntimeWarning: invalid value encountered in add\n",
      "  K = K + x1_sum_sq + x2_sum_sq\n",
      "/home/chenyu/Desktop/Bayesian-optimization-using-Gaussian-Process/modules/OnlineGP.py:464: RuntimeWarning: invalid value encountered in add\n",
      "  K = K + x1_sum_sq + x2_sum_sq\n",
      "/home/chenyu/Desktop/Bayesian-optimization-using-Gaussian-Process/modules/OnlineGP.py:464: RuntimeWarning: invalid value encountered in add\n",
      "  K = K + x1_sum_sq + x2_sum_sq\n"
     ]
    },
    {
     "name": "stdout",
     "output_type": "stream",
     "text": [
      "256472.45610766285\n",
      "Predicting defocus...\n",
      "saving ronchigram...\n"
     ]
    },
    {
     "name": "stderr",
     "output_type": "stream",
     "text": [
      "/home/chenyu/Desktop/Bayesian-optimization-using-Gaussian-Process/modules/OnlineGP.py:464: RuntimeWarning: invalid value encountered in add\n",
      "  K = K + x1_sum_sq + x2_sum_sq\n",
      "/home/chenyu/Desktop/Bayesian-optimization-using-Gaussian-Process/modules/OnlineGP.py:464: RuntimeWarning: invalid value encountered in add\n",
      "  K = K + x1_sum_sq + x2_sum_sq\n",
      "/home/chenyu/Desktop/Bayesian-optimization-using-Gaussian-Process/modules/OnlineGP.py:464: RuntimeWarning: invalid value encountered in add\n",
      "  K = K + x1_sum_sq + x2_sum_sq\n",
      "/home/chenyu/Desktop/Bayesian-optimization-using-Gaussian-Process/modules/OnlineGP.py:464: RuntimeWarning: invalid value encountered in add\n",
      "  K = K + x1_sum_sq + x2_sum_sq\n"
     ]
    },
    {
     "name": "stdout",
     "output_type": "stream",
     "text": [
      "258252.153025477\n",
      "Predicting defocus...\n",
      "saving ronchigram...\n"
     ]
    },
    {
     "name": "stderr",
     "output_type": "stream",
     "text": [
      "/home/chenyu/Desktop/Bayesian-optimization-using-Gaussian-Process/modules/OnlineGP.py:464: RuntimeWarning: invalid value encountered in add\n",
      "  K = K + x1_sum_sq + x2_sum_sq\n",
      "/home/chenyu/Desktop/Bayesian-optimization-using-Gaussian-Process/modules/OnlineGP.py:464: RuntimeWarning: invalid value encountered in add\n",
      "  K = K + x1_sum_sq + x2_sum_sq\n",
      "/home/chenyu/Desktop/Bayesian-optimization-using-Gaussian-Process/modules/OnlineGP.py:464: RuntimeWarning: invalid value encountered in add\n",
      "  K = K + x1_sum_sq + x2_sum_sq\n",
      "/home/chenyu/Desktop/Bayesian-optimization-using-Gaussian-Process/modules/OnlineGP.py:464: RuntimeWarning: invalid value encountered in add\n",
      "  K = K + x1_sum_sq + x2_sum_sq\n",
      "/home/chenyu/Desktop/Bayesian-optimization-using-Gaussian-Process/modules/OnlineGP.py:464: RuntimeWarning: invalid value encountered in add\n",
      "  K = K + x1_sum_sq + x2_sum_sq\n"
     ]
    },
    {
     "name": "stdout",
     "output_type": "stream",
     "text": [
      "257194.48309643022\n",
      "Predicting defocus...\n",
      "saving ronchigram...\n"
     ]
    },
    {
     "name": "stderr",
     "output_type": "stream",
     "text": [
      "/home/chenyu/Desktop/Bayesian-optimization-using-Gaussian-Process/modules/OnlineGP.py:464: RuntimeWarning: invalid value encountered in add\n",
      "  K = K + x1_sum_sq + x2_sum_sq\n",
      "/home/chenyu/Desktop/Bayesian-optimization-using-Gaussian-Process/modules/OnlineGP.py:464: RuntimeWarning: invalid value encountered in add\n",
      "  K = K + x1_sum_sq + x2_sum_sq\n",
      "/home/chenyu/Desktop/Bayesian-optimization-using-Gaussian-Process/modules/OnlineGP.py:464: RuntimeWarning: invalid value encountered in add\n",
      "  K = K + x1_sum_sq + x2_sum_sq\n",
      "/home/chenyu/Desktop/Bayesian-optimization-using-Gaussian-Process/modules/OnlineGP.py:464: RuntimeWarning: invalid value encountered in add\n",
      "  K = K + x1_sum_sq + x2_sum_sq\n",
      "/home/chenyu/Desktop/Bayesian-optimization-using-Gaussian-Process/modules/OnlineGP.py:464: RuntimeWarning: invalid value encountered in add\n",
      "  K = K + x1_sum_sq + x2_sum_sq\n"
     ]
    },
    {
     "name": "stdout",
     "output_type": "stream",
     "text": [
      "255667.5515451313\n",
      "Predicting defocus...\n",
      "saving ronchigram...\n"
     ]
    },
    {
     "name": "stderr",
     "output_type": "stream",
     "text": [
      "/home/chenyu/Desktop/Bayesian-optimization-using-Gaussian-Process/modules/OnlineGP.py:464: RuntimeWarning: invalid value encountered in add\n",
      "  K = K + x1_sum_sq + x2_sum_sq\n",
      "/home/chenyu/Desktop/Bayesian-optimization-using-Gaussian-Process/modules/OnlineGP.py:464: RuntimeWarning: invalid value encountered in add\n",
      "  K = K + x1_sum_sq + x2_sum_sq\n",
      "/home/chenyu/Desktop/Bayesian-optimization-using-Gaussian-Process/modules/OnlineGP.py:464: RuntimeWarning: invalid value encountered in add\n",
      "  K = K + x1_sum_sq + x2_sum_sq\n",
      "/home/chenyu/Desktop/Bayesian-optimization-using-Gaussian-Process/modules/OnlineGP.py:464: RuntimeWarning: invalid value encountered in add\n",
      "  K = K + x1_sum_sq + x2_sum_sq\n",
      "/home/chenyu/Desktop/Bayesian-optimization-using-Gaussian-Process/modules/OnlineGP.py:464: RuntimeWarning: invalid value encountered in add\n",
      "  K = K + x1_sum_sq + x2_sum_sq\n"
     ]
    },
    {
     "name": "stdout",
     "output_type": "stream",
     "text": [
      "255744.14208852153\n",
      "Predicting defocus...\n",
      "saving ronchigram...\n"
     ]
    },
    {
     "name": "stderr",
     "output_type": "stream",
     "text": [
      "/home/chenyu/Desktop/Bayesian-optimization-using-Gaussian-Process/modules/OnlineGP.py:464: RuntimeWarning: invalid value encountered in add\n",
      "  K = K + x1_sum_sq + x2_sum_sq\n",
      "/home/chenyu/Desktop/Bayesian-optimization-using-Gaussian-Process/modules/OnlineGP.py:464: RuntimeWarning: invalid value encountered in add\n",
      "  K = K + x1_sum_sq + x2_sum_sq\n",
      "/home/chenyu/Desktop/Bayesian-optimization-using-Gaussian-Process/modules/OnlineGP.py:464: RuntimeWarning: invalid value encountered in add\n",
      "  K = K + x1_sum_sq + x2_sum_sq\n",
      "/home/chenyu/Desktop/Bayesian-optimization-using-Gaussian-Process/modules/OnlineGP.py:464: RuntimeWarning: invalid value encountered in add\n",
      "  K = K + x1_sum_sq + x2_sum_sq\n",
      "/home/chenyu/Desktop/Bayesian-optimization-using-Gaussian-Process/modules/OnlineGP.py:464: RuntimeWarning: invalid value encountered in add\n",
      "  K = K + x1_sum_sq + x2_sum_sq\n"
     ]
    },
    {
     "name": "stdout",
     "output_type": "stream",
     "text": [
      "255800.47957666483\n",
      "Predicting defocus...\n",
      "saving ronchigram...\n"
     ]
    },
    {
     "name": "stderr",
     "output_type": "stream",
     "text": [
      "/home/chenyu/Desktop/Bayesian-optimization-using-Gaussian-Process/modules/OnlineGP.py:464: RuntimeWarning: invalid value encountered in add\n",
      "  K = K + x1_sum_sq + x2_sum_sq\n",
      "/home/chenyu/Desktop/Bayesian-optimization-using-Gaussian-Process/modules/OnlineGP.py:464: RuntimeWarning: invalid value encountered in add\n",
      "  K = K + x1_sum_sq + x2_sum_sq\n",
      "/home/chenyu/Desktop/Bayesian-optimization-using-Gaussian-Process/modules/OnlineGP.py:464: RuntimeWarning: invalid value encountered in add\n",
      "  K = K + x1_sum_sq + x2_sum_sq\n",
      "/home/chenyu/Desktop/Bayesian-optimization-using-Gaussian-Process/modules/OnlineGP.py:464: RuntimeWarning: invalid value encountered in add\n",
      "  K = K + x1_sum_sq + x2_sum_sq\n",
      "/home/chenyu/Desktop/Bayesian-optimization-using-Gaussian-Process/modules/OnlineGP.py:464: RuntimeWarning: invalid value encountered in add\n",
      "  K = K + x1_sum_sq + x2_sum_sq\n"
     ]
    },
    {
     "name": "stdout",
     "output_type": "stream",
     "text": [
      "255822.9172349289\n",
      "Predicting defocus...\n",
      "saving ronchigram...\n"
     ]
    },
    {
     "name": "stderr",
     "output_type": "stream",
     "text": [
      "/home/chenyu/Desktop/Bayesian-optimization-using-Gaussian-Process/modules/OnlineGP.py:464: RuntimeWarning: invalid value encountered in add\n",
      "  K = K + x1_sum_sq + x2_sum_sq\n",
      "/home/chenyu/Desktop/Bayesian-optimization-using-Gaussian-Process/modules/OnlineGP.py:464: RuntimeWarning: invalid value encountered in add\n",
      "  K = K + x1_sum_sq + x2_sum_sq\n",
      "/home/chenyu/Desktop/Bayesian-optimization-using-Gaussian-Process/modules/OnlineGP.py:464: RuntimeWarning: invalid value encountered in add\n",
      "  K = K + x1_sum_sq + x2_sum_sq\n",
      "/home/chenyu/Desktop/Bayesian-optimization-using-Gaussian-Process/modules/OnlineGP.py:464: RuntimeWarning: invalid value encountered in add\n",
      "  K = K + x1_sum_sq + x2_sum_sq\n",
      "/home/chenyu/Desktop/Bayesian-optimization-using-Gaussian-Process/modules/OnlineGP.py:464: RuntimeWarning: invalid value encountered in add\n",
      "  K = K + x1_sum_sq + x2_sum_sq\n"
     ]
    },
    {
     "name": "stdout",
     "output_type": "stream",
     "text": [
      "255827.4269490535\n",
      "Predicting defocus...\n",
      "saving ronchigram...\n",
      "40 Finished.\n",
      "Model loaded\n",
      "Supposed to be grabbing initial machine state...\n",
      "250966.38833721058\n",
      "Predicting defocus...\n",
      "saving ronchigram...\n",
      "x_init [[0.66106472]]\n",
      "y_init [[0.11004639]]\n"
     ]
    },
    {
     "name": "stderr",
     "output_type": "stream",
     "text": [
      "/home/chenyu/Desktop/Bayesian-optimization-using-Gaussian-Process/modules/OnlineGP.py:464: RuntimeWarning: invalid value encountered in add\n",
      "  K = K + x1_sum_sq + x2_sum_sq\n"
     ]
    },
    {
     "name": "stdout",
     "output_type": "stream",
     "text": [
      "249862.3668459753\n",
      "Predicting defocus...\n",
      "saving ronchigram...\n"
     ]
    },
    {
     "name": "stderr",
     "output_type": "stream",
     "text": [
      "/home/chenyu/Desktop/Bayesian-optimization-using-Gaussian-Process/modules/OnlineGP.py:464: RuntimeWarning: invalid value encountered in add\n",
      "  K = K + x1_sum_sq + x2_sum_sq\n",
      "/home/chenyu/Desktop/Bayesian-optimization-using-Gaussian-Process/modules/OnlineGP.py:464: RuntimeWarning: invalid value encountered in add\n",
      "  K = K + x1_sum_sq + x2_sum_sq\n"
     ]
    },
    {
     "name": "stdout",
     "output_type": "stream",
     "text": [
      "253932.0462149568\n",
      "Predicting defocus...\n",
      "saving ronchigram...\n"
     ]
    },
    {
     "name": "stderr",
     "output_type": "stream",
     "text": [
      "/home/chenyu/Desktop/Bayesian-optimization-using-Gaussian-Process/modules/OnlineGP.py:464: RuntimeWarning: invalid value encountered in add\n",
      "  K = K + x1_sum_sq + x2_sum_sq\n",
      "/home/chenyu/Desktop/Bayesian-optimization-using-Gaussian-Process/modules/OnlineGP.py:464: RuntimeWarning: invalid value encountered in add\n",
      "  K = K + x1_sum_sq + x2_sum_sq\n",
      "/home/chenyu/Desktop/Bayesian-optimization-using-Gaussian-Process/modules/OnlineGP.py:464: RuntimeWarning: invalid value encountered in add\n",
      "  K = K + x1_sum_sq + x2_sum_sq\n"
     ]
    },
    {
     "name": "stdout",
     "output_type": "stream",
     "text": [
      "257031.44270395068\n",
      "Predicting defocus...\n",
      "saving ronchigram...\n"
     ]
    },
    {
     "name": "stderr",
     "output_type": "stream",
     "text": [
      "/home/chenyu/Desktop/Bayesian-optimization-using-Gaussian-Process/modules/OnlineGP.py:464: RuntimeWarning: invalid value encountered in add\n",
      "  K = K + x1_sum_sq + x2_sum_sq\n",
      "/home/chenyu/Desktop/Bayesian-optimization-using-Gaussian-Process/modules/OnlineGP.py:464: RuntimeWarning: invalid value encountered in add\n",
      "  K = K + x1_sum_sq + x2_sum_sq\n",
      "/home/chenyu/Desktop/Bayesian-optimization-using-Gaussian-Process/modules/OnlineGP.py:464: RuntimeWarning: invalid value encountered in add\n",
      "  K = K + x1_sum_sq + x2_sum_sq\n",
      "/home/chenyu/Desktop/Bayesian-optimization-using-Gaussian-Process/modules/OnlineGP.py:464: RuntimeWarning: invalid value encountered in add\n",
      "  K = K + x1_sum_sq + x2_sum_sq\n"
     ]
    },
    {
     "name": "stdout",
     "output_type": "stream",
     "text": [
      "258770.07780904384\n",
      "Predicting defocus...\n",
      "saving ronchigram...\n"
     ]
    },
    {
     "name": "stderr",
     "output_type": "stream",
     "text": [
      "/home/chenyu/Desktop/Bayesian-optimization-using-Gaussian-Process/modules/OnlineGP.py:464: RuntimeWarning: invalid value encountered in add\n",
      "  K = K + x1_sum_sq + x2_sum_sq\n",
      "/home/chenyu/Desktop/Bayesian-optimization-using-Gaussian-Process/modules/OnlineGP.py:464: RuntimeWarning: invalid value encountered in add\n",
      "  K = K + x1_sum_sq + x2_sum_sq\n",
      "/home/chenyu/Desktop/Bayesian-optimization-using-Gaussian-Process/modules/OnlineGP.py:464: RuntimeWarning: invalid value encountered in add\n",
      "  K = K + x1_sum_sq + x2_sum_sq\n",
      "/home/chenyu/Desktop/Bayesian-optimization-using-Gaussian-Process/modules/OnlineGP.py:464: RuntimeWarning: invalid value encountered in add\n",
      "  K = K + x1_sum_sq + x2_sum_sq\n",
      "/home/chenyu/Desktop/Bayesian-optimization-using-Gaussian-Process/modules/OnlineGP.py:464: RuntimeWarning: invalid value encountered in add\n",
      "  K = K + x1_sum_sq + x2_sum_sq\n"
     ]
    },
    {
     "name": "stdout",
     "output_type": "stream",
     "text": [
      "257912.9107704242\n",
      "Predicting defocus...\n",
      "saving ronchigram...\n"
     ]
    },
    {
     "name": "stderr",
     "output_type": "stream",
     "text": [
      "/home/chenyu/Desktop/Bayesian-optimization-using-Gaussian-Process/modules/OnlineGP.py:464: RuntimeWarning: invalid value encountered in add\n",
      "  K = K + x1_sum_sq + x2_sum_sq\n",
      "/home/chenyu/Desktop/Bayesian-optimization-using-Gaussian-Process/modules/OnlineGP.py:464: RuntimeWarning: invalid value encountered in add\n",
      "  K = K + x1_sum_sq + x2_sum_sq\n",
      "/home/chenyu/Desktop/Bayesian-optimization-using-Gaussian-Process/modules/OnlineGP.py:464: RuntimeWarning: invalid value encountered in add\n",
      "  K = K + x1_sum_sq + x2_sum_sq\n",
      "/home/chenyu/Desktop/Bayesian-optimization-using-Gaussian-Process/modules/OnlineGP.py:464: RuntimeWarning: invalid value encountered in add\n",
      "  K = K + x1_sum_sq + x2_sum_sq\n",
      "/home/chenyu/Desktop/Bayesian-optimization-using-Gaussian-Process/modules/OnlineGP.py:464: RuntimeWarning: invalid value encountered in add\n",
      "  K = K + x1_sum_sq + x2_sum_sq\n"
     ]
    },
    {
     "name": "stdout",
     "output_type": "stream",
     "text": [
      "257896.57722153066\n",
      "Predicting defocus...\n",
      "saving ronchigram...\n"
     ]
    },
    {
     "name": "stderr",
     "output_type": "stream",
     "text": [
      "/home/chenyu/Desktop/Bayesian-optimization-using-Gaussian-Process/modules/OnlineGP.py:464: RuntimeWarning: invalid value encountered in add\n",
      "  K = K + x1_sum_sq + x2_sum_sq\n",
      "/home/chenyu/Desktop/Bayesian-optimization-using-Gaussian-Process/modules/OnlineGP.py:464: RuntimeWarning: invalid value encountered in add\n",
      "  K = K + x1_sum_sq + x2_sum_sq\n",
      "/home/chenyu/Desktop/Bayesian-optimization-using-Gaussian-Process/modules/OnlineGP.py:464: RuntimeWarning: invalid value encountered in add\n",
      "  K = K + x1_sum_sq + x2_sum_sq\n",
      "/home/chenyu/Desktop/Bayesian-optimization-using-Gaussian-Process/modules/OnlineGP.py:464: RuntimeWarning: invalid value encountered in add\n",
      "  K = K + x1_sum_sq + x2_sum_sq\n",
      "/home/chenyu/Desktop/Bayesian-optimization-using-Gaussian-Process/modules/OnlineGP.py:464: RuntimeWarning: invalid value encountered in add\n",
      "  K = K + x1_sum_sq + x2_sum_sq\n"
     ]
    },
    {
     "name": "stdout",
     "output_type": "stream",
     "text": [
      "257894.12695728452\n",
      "Predicting defocus...\n",
      "saving ronchigram...\n"
     ]
    },
    {
     "name": "stderr",
     "output_type": "stream",
     "text": [
      "/home/chenyu/Desktop/Bayesian-optimization-using-Gaussian-Process/modules/OnlineGP.py:464: RuntimeWarning: invalid value encountered in add\n",
      "  K = K + x1_sum_sq + x2_sum_sq\n",
      "/home/chenyu/Desktop/Bayesian-optimization-using-Gaussian-Process/modules/OnlineGP.py:464: RuntimeWarning: invalid value encountered in add\n",
      "  K = K + x1_sum_sq + x2_sum_sq\n",
      "/home/chenyu/Desktop/Bayesian-optimization-using-Gaussian-Process/modules/OnlineGP.py:464: RuntimeWarning: invalid value encountered in add\n",
      "  K = K + x1_sum_sq + x2_sum_sq\n",
      "/home/chenyu/Desktop/Bayesian-optimization-using-Gaussian-Process/modules/OnlineGP.py:464: RuntimeWarning: invalid value encountered in add\n",
      "  K = K + x1_sum_sq + x2_sum_sq\n",
      "/home/chenyu/Desktop/Bayesian-optimization-using-Gaussian-Process/modules/OnlineGP.py:464: RuntimeWarning: invalid value encountered in add\n",
      "  K = K + x1_sum_sq + x2_sum_sq\n"
     ]
    },
    {
     "name": "stdout",
     "output_type": "stream",
     "text": [
      "257892.7065651487\n",
      "Predicting defocus...\n",
      "saving ronchigram...\n"
     ]
    },
    {
     "name": "stderr",
     "output_type": "stream",
     "text": [
      "/home/chenyu/Desktop/Bayesian-optimization-using-Gaussian-Process/modules/OnlineGP.py:464: RuntimeWarning: invalid value encountered in add\n",
      "  K = K + x1_sum_sq + x2_sum_sq\n",
      "/home/chenyu/Desktop/Bayesian-optimization-using-Gaussian-Process/modules/OnlineGP.py:464: RuntimeWarning: invalid value encountered in add\n",
      "  K = K + x1_sum_sq + x2_sum_sq\n",
      "/home/chenyu/Desktop/Bayesian-optimization-using-Gaussian-Process/modules/OnlineGP.py:464: RuntimeWarning: invalid value encountered in add\n",
      "  K = K + x1_sum_sq + x2_sum_sq\n",
      "/home/chenyu/Desktop/Bayesian-optimization-using-Gaussian-Process/modules/OnlineGP.py:464: RuntimeWarning: invalid value encountered in add\n",
      "  K = K + x1_sum_sq + x2_sum_sq\n",
      "/home/chenyu/Desktop/Bayesian-optimization-using-Gaussian-Process/modules/OnlineGP.py:464: RuntimeWarning: invalid value encountered in add\n",
      "  K = K + x1_sum_sq + x2_sum_sq\n"
     ]
    },
    {
     "name": "stdout",
     "output_type": "stream",
     "text": [
      "257891.83305678144\n",
      "Predicting defocus...\n",
      "saving ronchigram...\n"
     ]
    },
    {
     "name": "stderr",
     "output_type": "stream",
     "text": [
      "/home/chenyu/Desktop/Bayesian-optimization-using-Gaussian-Process/modules/OnlineGP.py:464: RuntimeWarning: invalid value encountered in add\n",
      "  K = K + x1_sum_sq + x2_sum_sq\n",
      "/home/chenyu/Desktop/Bayesian-optimization-using-Gaussian-Process/modules/OnlineGP.py:464: RuntimeWarning: invalid value encountered in add\n",
      "  K = K + x1_sum_sq + x2_sum_sq\n",
      "/home/chenyu/Desktop/Bayesian-optimization-using-Gaussian-Process/modules/OnlineGP.py:464: RuntimeWarning: invalid value encountered in add\n",
      "  K = K + x1_sum_sq + x2_sum_sq\n",
      "/home/chenyu/Desktop/Bayesian-optimization-using-Gaussian-Process/modules/OnlineGP.py:464: RuntimeWarning: invalid value encountered in add\n",
      "  K = K + x1_sum_sq + x2_sum_sq\n",
      "/home/chenyu/Desktop/Bayesian-optimization-using-Gaussian-Process/modules/OnlineGP.py:464: RuntimeWarning: invalid value encountered in add\n",
      "  K = K + x1_sum_sq + x2_sum_sq\n"
     ]
    },
    {
     "name": "stdout",
     "output_type": "stream",
     "text": [
      "257891.39801668935\n",
      "Predicting defocus...\n",
      "saving ronchigram...\n",
      "41 Finished.\n",
      "Model loaded\n",
      "Supposed to be grabbing initial machine state...\n",
      "250547.72614674055\n",
      "Predicting defocus...\n",
      "saving ronchigram...\n",
      "x_init [[0.59128769]]\n",
      "y_init [[0.12783062]]\n"
     ]
    },
    {
     "name": "stderr",
     "output_type": "stream",
     "text": [
      "/home/chenyu/Desktop/Bayesian-optimization-using-Gaussian-Process/modules/OnlineGP.py:464: RuntimeWarning: invalid value encountered in add\n",
      "  K = K + x1_sum_sq + x2_sum_sq\n"
     ]
    },
    {
     "name": "stdout",
     "output_type": "stream",
     "text": [
      "249443.7046555053\n",
      "Predicting defocus...\n",
      "saving ronchigram...\n"
     ]
    },
    {
     "name": "stderr",
     "output_type": "stream",
     "text": [
      "/home/chenyu/Desktop/Bayesian-optimization-using-Gaussian-Process/modules/OnlineGP.py:464: RuntimeWarning: invalid value encountered in add\n",
      "  K = K + x1_sum_sq + x2_sum_sq\n",
      "/home/chenyu/Desktop/Bayesian-optimization-using-Gaussian-Process/modules/OnlineGP.py:464: RuntimeWarning: invalid value encountered in add\n",
      "  K = K + x1_sum_sq + x2_sum_sq\n"
     ]
    },
    {
     "name": "stdout",
     "output_type": "stream",
     "text": [
      "253776.0288621591\n",
      "Predicting defocus...\n",
      "saving ronchigram...\n"
     ]
    },
    {
     "name": "stderr",
     "output_type": "stream",
     "text": [
      "/home/chenyu/Desktop/Bayesian-optimization-using-Gaussian-Process/modules/OnlineGP.py:464: RuntimeWarning: invalid value encountered in add\n",
      "  K = K + x1_sum_sq + x2_sum_sq\n",
      "/home/chenyu/Desktop/Bayesian-optimization-using-Gaussian-Process/modules/OnlineGP.py:464: RuntimeWarning: invalid value encountered in add\n",
      "  K = K + x1_sum_sq + x2_sum_sq\n",
      "/home/chenyu/Desktop/Bayesian-optimization-using-Gaussian-Process/modules/OnlineGP.py:464: RuntimeWarning: invalid value encountered in add\n",
      "  K = K + x1_sum_sq + x2_sum_sq\n"
     ]
    },
    {
     "name": "stdout",
     "output_type": "stream",
     "text": [
      "256838.83789494535\n",
      "Predicting defocus...\n",
      "saving ronchigram...\n"
     ]
    },
    {
     "name": "stderr",
     "output_type": "stream",
     "text": [
      "/home/chenyu/Desktop/Bayesian-optimization-using-Gaussian-Process/modules/OnlineGP.py:464: RuntimeWarning: invalid value encountered in add\n",
      "  K = K + x1_sum_sq + x2_sum_sq\n",
      "/home/chenyu/Desktop/Bayesian-optimization-using-Gaussian-Process/modules/OnlineGP.py:464: RuntimeWarning: invalid value encountered in add\n",
      "  K = K + x1_sum_sq + x2_sum_sq\n",
      "/home/chenyu/Desktop/Bayesian-optimization-using-Gaussian-Process/modules/OnlineGP.py:464: RuntimeWarning: invalid value encountered in add\n",
      "  K = K + x1_sum_sq + x2_sum_sq\n",
      "/home/chenyu/Desktop/Bayesian-optimization-using-Gaussian-Process/modules/OnlineGP.py:464: RuntimeWarning: invalid value encountered in add\n",
      "  K = K + x1_sum_sq + x2_sum_sq\n"
     ]
    },
    {
     "name": "stdout",
     "output_type": "stream",
     "text": [
      "258551.5843440576\n",
      "Predicting defocus...\n",
      "saving ronchigram...\n"
     ]
    },
    {
     "name": "stderr",
     "output_type": "stream",
     "text": [
      "/home/chenyu/Desktop/Bayesian-optimization-using-Gaussian-Process/modules/OnlineGP.py:464: RuntimeWarning: invalid value encountered in add\n",
      "  K = K + x1_sum_sq + x2_sum_sq\n",
      "/home/chenyu/Desktop/Bayesian-optimization-using-Gaussian-Process/modules/OnlineGP.py:464: RuntimeWarning: invalid value encountered in add\n",
      "  K = K + x1_sum_sq + x2_sum_sq\n",
      "/home/chenyu/Desktop/Bayesian-optimization-using-Gaussian-Process/modules/OnlineGP.py:464: RuntimeWarning: invalid value encountered in add\n",
      "  K = K + x1_sum_sq + x2_sum_sq\n",
      "/home/chenyu/Desktop/Bayesian-optimization-using-Gaussian-Process/modules/OnlineGP.py:464: RuntimeWarning: invalid value encountered in add\n",
      "  K = K + x1_sum_sq + x2_sum_sq\n",
      "/home/chenyu/Desktop/Bayesian-optimization-using-Gaussian-Process/modules/OnlineGP.py:464: RuntimeWarning: invalid value encountered in add\n",
      "  K = K + x1_sum_sq + x2_sum_sq\n"
     ]
    },
    {
     "name": "stdout",
     "output_type": "stream",
     "text": [
      "255810.31950816198\n",
      "Predicting defocus...\n",
      "saving ronchigram...\n"
     ]
    },
    {
     "name": "stderr",
     "output_type": "stream",
     "text": [
      "/home/chenyu/Desktop/Bayesian-optimization-using-Gaussian-Process/modules/OnlineGP.py:464: RuntimeWarning: invalid value encountered in add\n",
      "  K = K + x1_sum_sq + x2_sum_sq\n",
      "/home/chenyu/Desktop/Bayesian-optimization-using-Gaussian-Process/modules/OnlineGP.py:464: RuntimeWarning: invalid value encountered in add\n",
      "  K = K + x1_sum_sq + x2_sum_sq\n",
      "/home/chenyu/Desktop/Bayesian-optimization-using-Gaussian-Process/modules/OnlineGP.py:464: RuntimeWarning: invalid value encountered in add\n",
      "  K = K + x1_sum_sq + x2_sum_sq\n",
      "/home/chenyu/Desktop/Bayesian-optimization-using-Gaussian-Process/modules/OnlineGP.py:464: RuntimeWarning: invalid value encountered in add\n",
      "  K = K + x1_sum_sq + x2_sum_sq\n",
      "/home/chenyu/Desktop/Bayesian-optimization-using-Gaussian-Process/modules/OnlineGP.py:464: RuntimeWarning: invalid value encountered in add\n",
      "  K = K + x1_sum_sq + x2_sum_sq\n"
     ]
    },
    {
     "name": "stdout",
     "output_type": "stream",
     "text": [
      "257212.44763948285\n",
      "Predicting defocus...\n",
      "saving ronchigram...\n"
     ]
    },
    {
     "name": "stderr",
     "output_type": "stream",
     "text": [
      "/home/chenyu/Desktop/Bayesian-optimization-using-Gaussian-Process/modules/OnlineGP.py:464: RuntimeWarning: invalid value encountered in add\n",
      "  K = K + x1_sum_sq + x2_sum_sq\n",
      "/home/chenyu/Desktop/Bayesian-optimization-using-Gaussian-Process/modules/OnlineGP.py:464: RuntimeWarning: invalid value encountered in add\n",
      "  K = K + x1_sum_sq + x2_sum_sq\n",
      "/home/chenyu/Desktop/Bayesian-optimization-using-Gaussian-Process/modules/OnlineGP.py:464: RuntimeWarning: invalid value encountered in add\n",
      "  K = K + x1_sum_sq + x2_sum_sq\n",
      "/home/chenyu/Desktop/Bayesian-optimization-using-Gaussian-Process/modules/OnlineGP.py:464: RuntimeWarning: invalid value encountered in add\n",
      "  K = K + x1_sum_sq + x2_sum_sq\n",
      "/home/chenyu/Desktop/Bayesian-optimization-using-Gaussian-Process/modules/OnlineGP.py:464: RuntimeWarning: invalid value encountered in add\n",
      "  K = K + x1_sum_sq + x2_sum_sq\n"
     ]
    },
    {
     "name": "stdout",
     "output_type": "stream",
     "text": [
      "257187.0451777597\n",
      "Predicting defocus...\n",
      "saving ronchigram...\n"
     ]
    },
    {
     "name": "stderr",
     "output_type": "stream",
     "text": [
      "/home/chenyu/Desktop/Bayesian-optimization-using-Gaussian-Process/modules/OnlineGP.py:464: RuntimeWarning: invalid value encountered in add\n",
      "  K = K + x1_sum_sq + x2_sum_sq\n",
      "/home/chenyu/Desktop/Bayesian-optimization-using-Gaussian-Process/modules/OnlineGP.py:464: RuntimeWarning: invalid value encountered in add\n",
      "  K = K + x1_sum_sq + x2_sum_sq\n",
      "/home/chenyu/Desktop/Bayesian-optimization-using-Gaussian-Process/modules/OnlineGP.py:464: RuntimeWarning: invalid value encountered in add\n",
      "  K = K + x1_sum_sq + x2_sum_sq\n",
      "/home/chenyu/Desktop/Bayesian-optimization-using-Gaussian-Process/modules/OnlineGP.py:464: RuntimeWarning: invalid value encountered in add\n",
      "  K = K + x1_sum_sq + x2_sum_sq\n",
      "/home/chenyu/Desktop/Bayesian-optimization-using-Gaussian-Process/modules/OnlineGP.py:464: RuntimeWarning: invalid value encountered in add\n",
      "  K = K + x1_sum_sq + x2_sum_sq\n"
     ]
    },
    {
     "name": "stdout",
     "output_type": "stream",
     "text": [
      "257177.3874762136\n",
      "Predicting defocus...\n",
      "saving ronchigram...\n"
     ]
    },
    {
     "name": "stderr",
     "output_type": "stream",
     "text": [
      "/home/chenyu/Desktop/Bayesian-optimization-using-Gaussian-Process/modules/OnlineGP.py:464: RuntimeWarning: invalid value encountered in add\n",
      "  K = K + x1_sum_sq + x2_sum_sq\n",
      "/home/chenyu/Desktop/Bayesian-optimization-using-Gaussian-Process/modules/OnlineGP.py:464: RuntimeWarning: invalid value encountered in add\n",
      "  K = K + x1_sum_sq + x2_sum_sq\n",
      "/home/chenyu/Desktop/Bayesian-optimization-using-Gaussian-Process/modules/OnlineGP.py:464: RuntimeWarning: invalid value encountered in add\n",
      "  K = K + x1_sum_sq + x2_sum_sq\n",
      "/home/chenyu/Desktop/Bayesian-optimization-using-Gaussian-Process/modules/OnlineGP.py:464: RuntimeWarning: invalid value encountered in add\n",
      "  K = K + x1_sum_sq + x2_sum_sq\n",
      "/home/chenyu/Desktop/Bayesian-optimization-using-Gaussian-Process/modules/OnlineGP.py:464: RuntimeWarning: invalid value encountered in add\n",
      "  K = K + x1_sum_sq + x2_sum_sq\n"
     ]
    },
    {
     "name": "stdout",
     "output_type": "stream",
     "text": [
      "262893.04517775966\n",
      "Predicting defocus...\n",
      "saving ronchigram...\n"
     ]
    },
    {
     "name": "stderr",
     "output_type": "stream",
     "text": [
      "/home/chenyu/Desktop/Bayesian-optimization-using-Gaussian-Process/modules/OnlineGP.py:464: RuntimeWarning: invalid value encountered in add\n",
      "  K = K + x1_sum_sq + x2_sum_sq\n",
      "/home/chenyu/Desktop/Bayesian-optimization-using-Gaussian-Process/modules/OnlineGP.py:464: RuntimeWarning: invalid value encountered in add\n",
      "  K = K + x1_sum_sq + x2_sum_sq\n",
      "/home/chenyu/Desktop/Bayesian-optimization-using-Gaussian-Process/modules/OnlineGP.py:464: RuntimeWarning: invalid value encountered in add\n",
      "  K = K + x1_sum_sq + x2_sum_sq\n",
      "/home/chenyu/Desktop/Bayesian-optimization-using-Gaussian-Process/modules/OnlineGP.py:464: RuntimeWarning: invalid value encountered in add\n",
      "  K = K + x1_sum_sq + x2_sum_sq\n",
      "/home/chenyu/Desktop/Bayesian-optimization-using-Gaussian-Process/modules/OnlineGP.py:464: RuntimeWarning: invalid value encountered in add\n",
      "  K = K + x1_sum_sq + x2_sum_sq\n"
     ]
    },
    {
     "name": "stdout",
     "output_type": "stream",
     "text": [
      "257163.27727628345\n",
      "Predicting defocus...\n",
      "saving ronchigram...\n",
      "42 Finished.\n",
      "Model loaded\n",
      "Supposed to be grabbing initial machine state...\n",
      "251222.84968818977\n",
      "Predicting defocus...\n",
      "saving ronchigram...\n",
      "x_init [[0.70380828]]\n",
      "y_init [[0.14028919]]\n"
     ]
    },
    {
     "name": "stderr",
     "output_type": "stream",
     "text": [
      "/home/chenyu/Desktop/Bayesian-optimization-using-Gaussian-Process/modules/OnlineGP.py:464: RuntimeWarning: invalid value encountered in add\n",
      "  K = K + x1_sum_sq + x2_sum_sq\n"
     ]
    },
    {
     "name": "stdout",
     "output_type": "stream",
     "text": [
      "250118.8281969545\n",
      "Predicting defocus...\n",
      "saving ronchigram...\n"
     ]
    },
    {
     "name": "stderr",
     "output_type": "stream",
     "text": [
      "/home/chenyu/Desktop/Bayesian-optimization-using-Gaussian-Process/modules/OnlineGP.py:464: RuntimeWarning: invalid value encountered in add\n",
      "  K = K + x1_sum_sq + x2_sum_sq\n",
      "/home/chenyu/Desktop/Bayesian-optimization-using-Gaussian-Process/modules/OnlineGP.py:464: RuntimeWarning: invalid value encountered in add\n",
      "  K = K + x1_sum_sq + x2_sum_sq\n"
     ]
    },
    {
     "name": "stdout",
     "output_type": "stream",
     "text": [
      "253736.7773698669\n",
      "Predicting defocus...\n",
      "saving ronchigram...\n"
     ]
    },
    {
     "name": "stderr",
     "output_type": "stream",
     "text": [
      "/home/chenyu/Desktop/Bayesian-optimization-using-Gaussian-Process/modules/OnlineGP.py:464: RuntimeWarning: invalid value encountered in add\n",
      "  K = K + x1_sum_sq + x2_sum_sq\n",
      "/home/chenyu/Desktop/Bayesian-optimization-using-Gaussian-Process/modules/OnlineGP.py:464: RuntimeWarning: invalid value encountered in add\n",
      "  K = K + x1_sum_sq + x2_sum_sq\n",
      "/home/chenyu/Desktop/Bayesian-optimization-using-Gaussian-Process/modules/OnlineGP.py:464: RuntimeWarning: invalid value encountered in add\n",
      "  K = K + x1_sum_sq + x2_sum_sq\n"
     ]
    },
    {
     "name": "stdout",
     "output_type": "stream",
     "text": [
      "257416.19530165527\n",
      "Predicting defocus...\n",
      "saving ronchigram...\n"
     ]
    },
    {
     "name": "stderr",
     "output_type": "stream",
     "text": [
      "/home/chenyu/Desktop/Bayesian-optimization-using-Gaussian-Process/modules/OnlineGP.py:464: RuntimeWarning: invalid value encountered in add\n",
      "  K = K + x1_sum_sq + x2_sum_sq\n",
      "/home/chenyu/Desktop/Bayesian-optimization-using-Gaussian-Process/modules/OnlineGP.py:464: RuntimeWarning: invalid value encountered in add\n",
      "  K = K + x1_sum_sq + x2_sum_sq\n",
      "/home/chenyu/Desktop/Bayesian-optimization-using-Gaussian-Process/modules/OnlineGP.py:464: RuntimeWarning: invalid value encountered in add\n",
      "  K = K + x1_sum_sq + x2_sum_sq\n",
      "/home/chenyu/Desktop/Bayesian-optimization-using-Gaussian-Process/modules/OnlineGP.py:464: RuntimeWarning: invalid value encountered in add\n",
      "  K = K + x1_sum_sq + x2_sum_sq\n"
     ]
    },
    {
     "name": "stdout",
     "output_type": "stream",
     "text": [
      "259852.05520123758\n",
      "Predicting defocus...\n",
      "saving ronchigram...\n"
     ]
    },
    {
     "name": "stderr",
     "output_type": "stream",
     "text": [
      "/home/chenyu/Desktop/Bayesian-optimization-using-Gaussian-Process/modules/OnlineGP.py:464: RuntimeWarning: invalid value encountered in add\n",
      "  K = K + x1_sum_sq + x2_sum_sq\n",
      "/home/chenyu/Desktop/Bayesian-optimization-using-Gaussian-Process/modules/OnlineGP.py:464: RuntimeWarning: invalid value encountered in add\n",
      "  K = K + x1_sum_sq + x2_sum_sq\n",
      "/home/chenyu/Desktop/Bayesian-optimization-using-Gaussian-Process/modules/OnlineGP.py:464: RuntimeWarning: invalid value encountered in add\n",
      "  K = K + x1_sum_sq + x2_sum_sq\n",
      "/home/chenyu/Desktop/Bayesian-optimization-using-Gaussian-Process/modules/OnlineGP.py:464: RuntimeWarning: invalid value encountered in add\n",
      "  K = K + x1_sum_sq + x2_sum_sq\n",
      "/home/chenyu/Desktop/Bayesian-optimization-using-Gaussian-Process/modules/OnlineGP.py:464: RuntimeWarning: invalid value encountered in add\n",
      "  K = K + x1_sum_sq + x2_sum_sq\n"
     ]
    },
    {
     "name": "stdout",
     "output_type": "stream",
     "text": [
      "261631.07431231675\n",
      "Predicting defocus...\n",
      "saving ronchigram...\n"
     ]
    },
    {
     "name": "stderr",
     "output_type": "stream",
     "text": [
      "/home/chenyu/Desktop/Bayesian-optimization-using-Gaussian-Process/modules/OnlineGP.py:464: RuntimeWarning: invalid value encountered in add\n",
      "  K = K + x1_sum_sq + x2_sum_sq\n",
      "/home/chenyu/Desktop/Bayesian-optimization-using-Gaussian-Process/modules/OnlineGP.py:464: RuntimeWarning: invalid value encountered in add\n",
      "  K = K + x1_sum_sq + x2_sum_sq\n",
      "/home/chenyu/Desktop/Bayesian-optimization-using-Gaussian-Process/modules/OnlineGP.py:464: RuntimeWarning: invalid value encountered in add\n",
      "  K = K + x1_sum_sq + x2_sum_sq\n",
      "/home/chenyu/Desktop/Bayesian-optimization-using-Gaussian-Process/modules/OnlineGP.py:464: RuntimeWarning: invalid value encountered in add\n",
      "  K = K + x1_sum_sq + x2_sum_sq\n",
      "/home/chenyu/Desktop/Bayesian-optimization-using-Gaussian-Process/modules/OnlineGP.py:464: RuntimeWarning: invalid value encountered in add\n",
      "  K = K + x1_sum_sq + x2_sum_sq\n"
     ]
    },
    {
     "name": "stdout",
     "output_type": "stream",
     "text": [
      "260555.18887829172\n",
      "Predicting defocus...\n",
      "saving ronchigram...\n"
     ]
    },
    {
     "name": "stderr",
     "output_type": "stream",
     "text": [
      "/home/chenyu/Desktop/Bayesian-optimization-using-Gaussian-Process/modules/OnlineGP.py:464: RuntimeWarning: invalid value encountered in add\n",
      "  K = K + x1_sum_sq + x2_sum_sq\n",
      "/home/chenyu/Desktop/Bayesian-optimization-using-Gaussian-Process/modules/OnlineGP.py:464: RuntimeWarning: invalid value encountered in add\n",
      "  K = K + x1_sum_sq + x2_sum_sq\n",
      "/home/chenyu/Desktop/Bayesian-optimization-using-Gaussian-Process/modules/OnlineGP.py:464: RuntimeWarning: invalid value encountered in add\n",
      "  K = K + x1_sum_sq + x2_sum_sq\n",
      "/home/chenyu/Desktop/Bayesian-optimization-using-Gaussian-Process/modules/OnlineGP.py:464: RuntimeWarning: invalid value encountered in add\n",
      "  K = K + x1_sum_sq + x2_sum_sq\n",
      "/home/chenyu/Desktop/Bayesian-optimization-using-Gaussian-Process/modules/OnlineGP.py:464: RuntimeWarning: invalid value encountered in add\n",
      "  K = K + x1_sum_sq + x2_sum_sq\n"
     ]
    },
    {
     "name": "stdout",
     "output_type": "stream",
     "text": [
      "259141.9605483458\n",
      "Predicting defocus...\n",
      "saving ronchigram...\n"
     ]
    },
    {
     "name": "stderr",
     "output_type": "stream",
     "text": [
      "/home/chenyu/Desktop/Bayesian-optimization-using-Gaussian-Process/modules/OnlineGP.py:464: RuntimeWarning: invalid value encountered in add\n",
      "  K = K + x1_sum_sq + x2_sum_sq\n",
      "/home/chenyu/Desktop/Bayesian-optimization-using-Gaussian-Process/modules/OnlineGP.py:464: RuntimeWarning: invalid value encountered in add\n",
      "  K = K + x1_sum_sq + x2_sum_sq\n",
      "/home/chenyu/Desktop/Bayesian-optimization-using-Gaussian-Process/modules/OnlineGP.py:464: RuntimeWarning: invalid value encountered in add\n",
      "  K = K + x1_sum_sq + x2_sum_sq\n",
      "/home/chenyu/Desktop/Bayesian-optimization-using-Gaussian-Process/modules/OnlineGP.py:464: RuntimeWarning: invalid value encountered in add\n",
      "  K = K + x1_sum_sq + x2_sum_sq\n",
      "/home/chenyu/Desktop/Bayesian-optimization-using-Gaussian-Process/modules/OnlineGP.py:464: RuntimeWarning: invalid value encountered in add\n",
      "  K = K + x1_sum_sq + x2_sum_sq\n"
     ]
    },
    {
     "name": "stdout",
     "output_type": "stream",
     "text": [
      "259250.43318532413\n",
      "Predicting defocus...\n",
      "saving ronchigram...\n"
     ]
    },
    {
     "name": "stderr",
     "output_type": "stream",
     "text": [
      "/home/chenyu/Desktop/Bayesian-optimization-using-Gaussian-Process/modules/OnlineGP.py:464: RuntimeWarning: invalid value encountered in add\n",
      "  K = K + x1_sum_sq + x2_sum_sq\n",
      "/home/chenyu/Desktop/Bayesian-optimization-using-Gaussian-Process/modules/OnlineGP.py:464: RuntimeWarning: invalid value encountered in add\n",
      "  K = K + x1_sum_sq + x2_sum_sq\n",
      "/home/chenyu/Desktop/Bayesian-optimization-using-Gaussian-Process/modules/OnlineGP.py:464: RuntimeWarning: invalid value encountered in add\n",
      "  K = K + x1_sum_sq + x2_sum_sq\n",
      "/home/chenyu/Desktop/Bayesian-optimization-using-Gaussian-Process/modules/OnlineGP.py:464: RuntimeWarning: invalid value encountered in add\n",
      "  K = K + x1_sum_sq + x2_sum_sq\n",
      "/home/chenyu/Desktop/Bayesian-optimization-using-Gaussian-Process/modules/OnlineGP.py:464: RuntimeWarning: invalid value encountered in add\n",
      "  K = K + x1_sum_sq + x2_sum_sq\n"
     ]
    },
    {
     "name": "stdout",
     "output_type": "stream",
     "text": [
      "259270.18737414223\n",
      "Predicting defocus...\n",
      "saving ronchigram...\n"
     ]
    },
    {
     "name": "stderr",
     "output_type": "stream",
     "text": [
      "/home/chenyu/Desktop/Bayesian-optimization-using-Gaussian-Process/modules/OnlineGP.py:464: RuntimeWarning: invalid value encountered in add\n",
      "  K = K + x1_sum_sq + x2_sum_sq\n",
      "/home/chenyu/Desktop/Bayesian-optimization-using-Gaussian-Process/modules/OnlineGP.py:464: RuntimeWarning: invalid value encountered in add\n",
      "  K = K + x1_sum_sq + x2_sum_sq\n",
      "/home/chenyu/Desktop/Bayesian-optimization-using-Gaussian-Process/modules/OnlineGP.py:464: RuntimeWarning: invalid value encountered in add\n",
      "  K = K + x1_sum_sq + x2_sum_sq\n",
      "/home/chenyu/Desktop/Bayesian-optimization-using-Gaussian-Process/modules/OnlineGP.py:464: RuntimeWarning: invalid value encountered in add\n",
      "  K = K + x1_sum_sq + x2_sum_sq\n",
      "/home/chenyu/Desktop/Bayesian-optimization-using-Gaussian-Process/modules/OnlineGP.py:464: RuntimeWarning: invalid value encountered in add\n",
      "  K = K + x1_sum_sq + x2_sum_sq\n"
     ]
    },
    {
     "name": "stdout",
     "output_type": "stream",
     "text": [
      "259290.32673760853\n",
      "Predicting defocus...\n",
      "saving ronchigram...\n",
      "43 Finished.\n",
      "Model loaded\n",
      "Supposed to be grabbing initial machine state...\n",
      "247144.69548420448\n",
      "Predicting defocus...\n",
      "saving ronchigram...\n",
      "x_init [[0.02411591]]\n",
      "y_init [[0.0909605]]\n"
     ]
    },
    {
     "name": "stderr",
     "output_type": "stream",
     "text": [
      "/home/chenyu/Desktop/Bayesian-optimization-using-Gaussian-Process/modules/OnlineGP.py:464: RuntimeWarning: invalid value encountered in add\n",
      "  K = K + x1_sum_sq + x2_sum_sq\n"
     ]
    },
    {
     "name": "stdout",
     "output_type": "stream",
     "text": [
      "246040.6739929692\n",
      "Predicting defocus...\n",
      "saving ronchigram...\n"
     ]
    },
    {
     "name": "stderr",
     "output_type": "stream",
     "text": [
      "/home/chenyu/Desktop/Bayesian-optimization-using-Gaussian-Process/modules/OnlineGP.py:464: RuntimeWarning: invalid value encountered in add\n",
      "  K = K + x1_sum_sq + x2_sum_sq\n",
      "/home/chenyu/Desktop/Bayesian-optimization-using-Gaussian-Process/modules/OnlineGP.py:464: RuntimeWarning: invalid value encountered in add\n",
      "  K = K + x1_sum_sq + x2_sum_sq\n"
     ]
    },
    {
     "name": "stdout",
     "output_type": "stream",
     "text": [
      "250521.70320914313\n",
      "Predicting defocus...\n",
      "saving ronchigram...\n"
     ]
    },
    {
     "name": "stderr",
     "output_type": "stream",
     "text": [
      "/home/chenyu/Desktop/Bayesian-optimization-using-Gaussian-Process/modules/OnlineGP.py:464: RuntimeWarning: invalid value encountered in add\n",
      "  K = K + x1_sum_sq + x2_sum_sq\n",
      "/home/chenyu/Desktop/Bayesian-optimization-using-Gaussian-Process/modules/OnlineGP.py:464: RuntimeWarning: invalid value encountered in add\n",
      "  K = K + x1_sum_sq + x2_sum_sq\n",
      "/home/chenyu/Desktop/Bayesian-optimization-using-Gaussian-Process/modules/OnlineGP.py:464: RuntimeWarning: invalid value encountered in add\n",
      "  K = K + x1_sum_sq + x2_sum_sq\n"
     ]
    },
    {
     "name": "stdout",
     "output_type": "stream",
     "text": [
      "253949.57412840895\n",
      "Predicting defocus...\n",
      "saving ronchigram...\n"
     ]
    },
    {
     "name": "stderr",
     "output_type": "stream",
     "text": [
      "/home/chenyu/Desktop/Bayesian-optimization-using-Gaussian-Process/modules/OnlineGP.py:464: RuntimeWarning: invalid value encountered in add\n",
      "  K = K + x1_sum_sq + x2_sum_sq\n",
      "/home/chenyu/Desktop/Bayesian-optimization-using-Gaussian-Process/modules/OnlineGP.py:464: RuntimeWarning: invalid value encountered in add\n",
      "  K = K + x1_sum_sq + x2_sum_sq\n",
      "/home/chenyu/Desktop/Bayesian-optimization-using-Gaussian-Process/modules/OnlineGP.py:464: RuntimeWarning: invalid value encountered in add\n",
      "  K = K + x1_sum_sq + x2_sum_sq\n",
      "/home/chenyu/Desktop/Bayesian-optimization-using-Gaussian-Process/modules/OnlineGP.py:464: RuntimeWarning: invalid value encountered in add\n",
      "  K = K + x1_sum_sq + x2_sum_sq\n"
     ]
    },
    {
     "name": "stdout",
     "output_type": "stream",
     "text": [
      "256814.95882677112\n",
      "Predicting defocus...\n",
      "saving ronchigram...\n"
     ]
    },
    {
     "name": "stderr",
     "output_type": "stream",
     "text": [
      "/home/chenyu/Desktop/Bayesian-optimization-using-Gaussian-Process/modules/OnlineGP.py:464: RuntimeWarning: invalid value encountered in add\n",
      "  K = K + x1_sum_sq + x2_sum_sq\n",
      "/home/chenyu/Desktop/Bayesian-optimization-using-Gaussian-Process/modules/OnlineGP.py:464: RuntimeWarning: invalid value encountered in add\n",
      "  K = K + x1_sum_sq + x2_sum_sq\n",
      "/home/chenyu/Desktop/Bayesian-optimization-using-Gaussian-Process/modules/OnlineGP.py:464: RuntimeWarning: invalid value encountered in add\n",
      "  K = K + x1_sum_sq + x2_sum_sq\n",
      "/home/chenyu/Desktop/Bayesian-optimization-using-Gaussian-Process/modules/OnlineGP.py:464: RuntimeWarning: invalid value encountered in add\n",
      "  K = K + x1_sum_sq + x2_sum_sq\n",
      "/home/chenyu/Desktop/Bayesian-optimization-using-Gaussian-Process/modules/OnlineGP.py:464: RuntimeWarning: invalid value encountered in add\n",
      "  K = K + x1_sum_sq + x2_sum_sq\n"
     ]
    },
    {
     "name": "stdout",
     "output_type": "stream",
     "text": [
      "259200.7006807005\n",
      "Predicting defocus...\n",
      "saving ronchigram...\n"
     ]
    },
    {
     "name": "stderr",
     "output_type": "stream",
     "text": [
      "/home/chenyu/Desktop/Bayesian-optimization-using-Gaussian-Process/modules/OnlineGP.py:464: RuntimeWarning: invalid value encountered in add\n",
      "  K = K + x1_sum_sq + x2_sum_sq\n",
      "/home/chenyu/Desktop/Bayesian-optimization-using-Gaussian-Process/modules/OnlineGP.py:464: RuntimeWarning: invalid value encountered in add\n",
      "  K = K + x1_sum_sq + x2_sum_sq\n",
      "/home/chenyu/Desktop/Bayesian-optimization-using-Gaussian-Process/modules/OnlineGP.py:464: RuntimeWarning: invalid value encountered in add\n",
      "  K = K + x1_sum_sq + x2_sum_sq\n",
      "/home/chenyu/Desktop/Bayesian-optimization-using-Gaussian-Process/modules/OnlineGP.py:464: RuntimeWarning: invalid value encountered in add\n",
      "  K = K + x1_sum_sq + x2_sum_sq\n",
      "/home/chenyu/Desktop/Bayesian-optimization-using-Gaussian-Process/modules/OnlineGP.py:464: RuntimeWarning: invalid value encountered in add\n",
      "  K = K + x1_sum_sq + x2_sum_sq\n"
     ]
    },
    {
     "name": "stdout",
     "output_type": "stream",
     "text": [
      "262520.9588267711\n",
      "Predicting defocus...\n",
      "saving ronchigram...\n"
     ]
    },
    {
     "name": "stderr",
     "output_type": "stream",
     "text": [
      "/home/chenyu/Desktop/Bayesian-optimization-using-Gaussian-Process/modules/OnlineGP.py:464: RuntimeWarning: invalid value encountered in add\n",
      "  K = K + x1_sum_sq + x2_sum_sq\n",
      "/home/chenyu/Desktop/Bayesian-optimization-using-Gaussian-Process/modules/OnlineGP.py:464: RuntimeWarning: invalid value encountered in add\n",
      "  K = K + x1_sum_sq + x2_sum_sq\n",
      "/home/chenyu/Desktop/Bayesian-optimization-using-Gaussian-Process/modules/OnlineGP.py:464: RuntimeWarning: invalid value encountered in add\n",
      "  K = K + x1_sum_sq + x2_sum_sq\n",
      "/home/chenyu/Desktop/Bayesian-optimization-using-Gaussian-Process/modules/OnlineGP.py:464: RuntimeWarning: invalid value encountered in add\n",
      "  K = K + x1_sum_sq + x2_sum_sq\n",
      "/home/chenyu/Desktop/Bayesian-optimization-using-Gaussian-Process/modules/OnlineGP.py:464: RuntimeWarning: invalid value encountered in add\n",
      "  K = K + x1_sum_sq + x2_sum_sq\n"
     ]
    },
    {
     "name": "stdout",
     "output_type": "stream",
     "text": [
      "255559.60873702422\n",
      "Predicting defocus...\n",
      "saving ronchigram...\n"
     ]
    },
    {
     "name": "stderr",
     "output_type": "stream",
     "text": [
      "/home/chenyu/Desktop/Bayesian-optimization-using-Gaussian-Process/modules/OnlineGP.py:464: RuntimeWarning: invalid value encountered in add\n",
      "  K = K + x1_sum_sq + x2_sum_sq\n",
      "/home/chenyu/Desktop/Bayesian-optimization-using-Gaussian-Process/modules/OnlineGP.py:464: RuntimeWarning: invalid value encountered in add\n",
      "  K = K + x1_sum_sq + x2_sum_sq\n",
      "/home/chenyu/Desktop/Bayesian-optimization-using-Gaussian-Process/modules/OnlineGP.py:464: RuntimeWarning: invalid value encountered in add\n",
      "  K = K + x1_sum_sq + x2_sum_sq\n",
      "/home/chenyu/Desktop/Bayesian-optimization-using-Gaussian-Process/modules/OnlineGP.py:464: RuntimeWarning: invalid value encountered in add\n",
      "  K = K + x1_sum_sq + x2_sum_sq\n",
      "/home/chenyu/Desktop/Bayesian-optimization-using-Gaussian-Process/modules/OnlineGP.py:464: RuntimeWarning: invalid value encountered in add\n",
      "  K = K + x1_sum_sq + x2_sum_sq\n"
     ]
    },
    {
     "name": "stdout",
     "output_type": "stream",
     "text": [
      "248248.71697543975\n",
      "Predicting defocus...\n",
      "saving ronchigram...\n"
     ]
    },
    {
     "name": "stderr",
     "output_type": "stream",
     "text": [
      "/home/chenyu/Desktop/Bayesian-optimization-using-Gaussian-Process/modules/OnlineGP.py:464: RuntimeWarning: invalid value encountered in add\n",
      "  K = K + x1_sum_sq + x2_sum_sq\n",
      "/home/chenyu/Desktop/Bayesian-optimization-using-Gaussian-Process/modules/OnlineGP.py:464: RuntimeWarning: invalid value encountered in add\n",
      "  K = K + x1_sum_sq + x2_sum_sq\n",
      "/home/chenyu/Desktop/Bayesian-optimization-using-Gaussian-Process/modules/OnlineGP.py:464: RuntimeWarning: invalid value encountered in add\n",
      "  K = K + x1_sum_sq + x2_sum_sq\n",
      "/home/chenyu/Desktop/Bayesian-optimization-using-Gaussian-Process/modules/OnlineGP.py:464: RuntimeWarning: invalid value encountered in add\n",
      "  K = K + x1_sum_sq + x2_sum_sq\n",
      "/home/chenyu/Desktop/Bayesian-optimization-using-Gaussian-Process/modules/OnlineGP.py:464: RuntimeWarning: invalid value encountered in add\n",
      "  K = K + x1_sum_sq + x2_sum_sq\n"
     ]
    },
    {
     "name": "stdout",
     "output_type": "stream",
     "text": [
      "255825.14680295487\n",
      "Predicting defocus...\n",
      "saving ronchigram...\n"
     ]
    },
    {
     "name": "stderr",
     "output_type": "stream",
     "text": [
      "/home/chenyu/Desktop/Bayesian-optimization-using-Gaussian-Process/modules/OnlineGP.py:464: RuntimeWarning: invalid value encountered in add\n",
      "  K = K + x1_sum_sq + x2_sum_sq\n",
      "/home/chenyu/Desktop/Bayesian-optimization-using-Gaussian-Process/modules/OnlineGP.py:464: RuntimeWarning: invalid value encountered in add\n",
      "  K = K + x1_sum_sq + x2_sum_sq\n",
      "/home/chenyu/Desktop/Bayesian-optimization-using-Gaussian-Process/modules/OnlineGP.py:464: RuntimeWarning: invalid value encountered in add\n",
      "  K = K + x1_sum_sq + x2_sum_sq\n",
      "/home/chenyu/Desktop/Bayesian-optimization-using-Gaussian-Process/modules/OnlineGP.py:464: RuntimeWarning: invalid value encountered in add\n",
      "  K = K + x1_sum_sq + x2_sum_sq\n",
      "/home/chenyu/Desktop/Bayesian-optimization-using-Gaussian-Process/modules/OnlineGP.py:464: RuntimeWarning: invalid value encountered in add\n",
      "  K = K + x1_sum_sq + x2_sum_sq\n"
     ]
    },
    {
     "name": "stdout",
     "output_type": "stream",
     "text": [
      "255688.17446106017\n",
      "Predicting defocus...\n",
      "saving ronchigram...\n",
      "44 Finished.\n",
      "Model loaded\n",
      "Supposed to be grabbing initial machine state...\n",
      "247359.5836085083\n",
      "Predicting defocus...\n",
      "saving ronchigram...\n",
      "x_init [[0.0599306]]\n",
      "y_init [[0.11385638]]\n"
     ]
    },
    {
     "name": "stderr",
     "output_type": "stream",
     "text": [
      "/home/chenyu/Desktop/Bayesian-optimization-using-Gaussian-Process/modules/OnlineGP.py:464: RuntimeWarning: invalid value encountered in add\n",
      "  K = K + x1_sum_sq + x2_sum_sq\n"
     ]
    },
    {
     "name": "stdout",
     "output_type": "stream",
     "text": [
      "246255.56211727305\n",
      "Predicting defocus...\n",
      "saving ronchigram...\n"
     ]
    },
    {
     "name": "stderr",
     "output_type": "stream",
     "text": [
      "/home/chenyu/Desktop/Bayesian-optimization-using-Gaussian-Process/modules/OnlineGP.py:464: RuntimeWarning: invalid value encountered in add\n",
      "  K = K + x1_sum_sq + x2_sum_sq\n",
      "/home/chenyu/Desktop/Bayesian-optimization-using-Gaussian-Process/modules/OnlineGP.py:464: RuntimeWarning: invalid value encountered in add\n",
      "  K = K + x1_sum_sq + x2_sum_sq\n"
     ]
    },
    {
     "name": "stdout",
     "output_type": "stream",
     "text": [
      "251095.15429405053\n",
      "Predicting defocus...\n",
      "saving ronchigram...\n"
     ]
    },
    {
     "name": "stderr",
     "output_type": "stream",
     "text": [
      "/home/chenyu/Desktop/Bayesian-optimization-using-Gaussian-Process/modules/OnlineGP.py:464: RuntimeWarning: invalid value encountered in add\n",
      "  K = K + x1_sum_sq + x2_sum_sq\n",
      "/home/chenyu/Desktop/Bayesian-optimization-using-Gaussian-Process/modules/OnlineGP.py:464: RuntimeWarning: invalid value encountered in add\n",
      "  K = K + x1_sum_sq + x2_sum_sq\n",
      "/home/chenyu/Desktop/Bayesian-optimization-using-Gaussian-Process/modules/OnlineGP.py:464: RuntimeWarning: invalid value encountered in add\n",
      "  K = K + x1_sum_sq + x2_sum_sq\n"
     ]
    },
    {
     "name": "stdout",
     "output_type": "stream",
     "text": [
      "253065.5836085083\n",
      "Predicting defocus...\n",
      "saving ronchigram...\n"
     ]
    },
    {
     "name": "stderr",
     "output_type": "stream",
     "text": [
      "/home/chenyu/Desktop/Bayesian-optimization-using-Gaussian-Process/modules/OnlineGP.py:464: RuntimeWarning: invalid value encountered in add\n",
      "  K = K + x1_sum_sq + x2_sum_sq\n",
      "/home/chenyu/Desktop/Bayesian-optimization-using-Gaussian-Process/modules/OnlineGP.py:464: RuntimeWarning: invalid value encountered in add\n",
      "  K = K + x1_sum_sq + x2_sum_sq\n",
      "/home/chenyu/Desktop/Bayesian-optimization-using-Gaussian-Process/modules/OnlineGP.py:464: RuntimeWarning: invalid value encountered in add\n",
      "  K = K + x1_sum_sq + x2_sum_sq\n",
      "/home/chenyu/Desktop/Bayesian-optimization-using-Gaussian-Process/modules/OnlineGP.py:464: RuntimeWarning: invalid value encountered in add\n",
      "  K = K + x1_sum_sq + x2_sum_sq\n"
     ]
    },
    {
     "name": "stdout",
     "output_type": "stream",
     "text": [
      "256869.9440785888\n",
      "Predicting defocus...\n",
      "saving ronchigram...\n"
     ]
    },
    {
     "name": "stderr",
     "output_type": "stream",
     "text": [
      "/home/chenyu/Desktop/Bayesian-optimization-using-Gaussian-Process/modules/OnlineGP.py:464: RuntimeWarning: invalid value encountered in add\n",
      "  K = K + x1_sum_sq + x2_sum_sq\n",
      "/home/chenyu/Desktop/Bayesian-optimization-using-Gaussian-Process/modules/OnlineGP.py:464: RuntimeWarning: invalid value encountered in add\n",
      "  K = K + x1_sum_sq + x2_sum_sq\n",
      "/home/chenyu/Desktop/Bayesian-optimization-using-Gaussian-Process/modules/OnlineGP.py:464: RuntimeWarning: invalid value encountered in add\n",
      "  K = K + x1_sum_sq + x2_sum_sq\n",
      "/home/chenyu/Desktop/Bayesian-optimization-using-Gaussian-Process/modules/OnlineGP.py:464: RuntimeWarning: invalid value encountered in add\n",
      "  K = K + x1_sum_sq + x2_sum_sq\n"
     ]
    },
    {
     "name": "stdout",
     "output_type": "stream",
     "text": [
      "259374.13899385853\n",
      "Predicting defocus...\n",
      "saving ronchigram...\n"
     ]
    },
    {
     "name": "stderr",
     "output_type": "stream",
     "text": [
      "/home/chenyu/Desktop/Bayesian-optimization-using-Gaussian-Process/modules/OnlineGP.py:464: RuntimeWarning: invalid value encountered in add\n",
      "  K = K + x1_sum_sq + x2_sum_sq\n",
      "/home/chenyu/Desktop/Bayesian-optimization-using-Gaussian-Process/modules/OnlineGP.py:464: RuntimeWarning: invalid value encountered in add\n",
      "  K = K + x1_sum_sq + x2_sum_sq\n",
      "/home/chenyu/Desktop/Bayesian-optimization-using-Gaussian-Process/modules/OnlineGP.py:464: RuntimeWarning: invalid value encountered in add\n",
      "  K = K + x1_sum_sq + x2_sum_sq\n",
      "/home/chenyu/Desktop/Bayesian-optimization-using-Gaussian-Process/modules/OnlineGP.py:464: RuntimeWarning: invalid value encountered in add\n",
      "  K = K + x1_sum_sq + x2_sum_sq\n",
      "/home/chenyu/Desktop/Bayesian-optimization-using-Gaussian-Process/modules/OnlineGP.py:464: RuntimeWarning: invalid value encountered in add\n",
      "  K = K + x1_sum_sq + x2_sum_sq\n"
     ]
    },
    {
     "name": "stdout",
     "output_type": "stream",
     "text": [
      "261095.9170526557\n",
      "Predicting defocus...\n",
      "saving ronchigram...\n"
     ]
    },
    {
     "name": "stderr",
     "output_type": "stream",
     "text": [
      "/home/chenyu/Desktop/Bayesian-optimization-using-Gaussian-Process/modules/OnlineGP.py:464: RuntimeWarning: invalid value encountered in add\n",
      "  K = K + x1_sum_sq + x2_sum_sq\n",
      "/home/chenyu/Desktop/Bayesian-optimization-using-Gaussian-Process/modules/OnlineGP.py:464: RuntimeWarning: invalid value encountered in add\n",
      "  K = K + x1_sum_sq + x2_sum_sq\n",
      "/home/chenyu/Desktop/Bayesian-optimization-using-Gaussian-Process/modules/OnlineGP.py:464: RuntimeWarning: invalid value encountered in add\n",
      "  K = K + x1_sum_sq + x2_sum_sq\n",
      "/home/chenyu/Desktop/Bayesian-optimization-using-Gaussian-Process/modules/OnlineGP.py:464: RuntimeWarning: invalid value encountered in add\n",
      "  K = K + x1_sum_sq + x2_sum_sq\n",
      "/home/chenyu/Desktop/Bayesian-optimization-using-Gaussian-Process/modules/OnlineGP.py:464: RuntimeWarning: invalid value encountered in add\n",
      "  K = K + x1_sum_sq + x2_sum_sq\n"
     ]
    },
    {
     "name": "stdout",
     "output_type": "stream",
     "text": [
      "258480.82235994103\n",
      "Predicting defocus...\n",
      "saving ronchigram...\n"
     ]
    },
    {
     "name": "stderr",
     "output_type": "stream",
     "text": [
      "/home/chenyu/Desktop/Bayesian-optimization-using-Gaussian-Process/modules/OnlineGP.py:464: RuntimeWarning: invalid value encountered in add\n",
      "  K = K + x1_sum_sq + x2_sum_sq\n",
      "/home/chenyu/Desktop/Bayesian-optimization-using-Gaussian-Process/modules/OnlineGP.py:464: RuntimeWarning: invalid value encountered in add\n",
      "  K = K + x1_sum_sq + x2_sum_sq\n",
      "/home/chenyu/Desktop/Bayesian-optimization-using-Gaussian-Process/modules/OnlineGP.py:464: RuntimeWarning: invalid value encountered in add\n",
      "  K = K + x1_sum_sq + x2_sum_sq\n",
      "/home/chenyu/Desktop/Bayesian-optimization-using-Gaussian-Process/modules/OnlineGP.py:464: RuntimeWarning: invalid value encountered in add\n",
      "  K = K + x1_sum_sq + x2_sum_sq\n",
      "/home/chenyu/Desktop/Bayesian-optimization-using-Gaussian-Process/modules/OnlineGP.py:464: RuntimeWarning: invalid value encountered in add\n",
      "  K = K + x1_sum_sq + x2_sum_sq\n"
     ]
    },
    {
     "name": "stdout",
     "output_type": "stream",
     "text": [
      "259063.1053390861\n",
      "Predicting defocus...\n",
      "saving ronchigram...\n"
     ]
    },
    {
     "name": "stderr",
     "output_type": "stream",
     "text": [
      "/home/chenyu/Desktop/Bayesian-optimization-using-Gaussian-Process/modules/OnlineGP.py:464: RuntimeWarning: invalid value encountered in add\n",
      "  K = K + x1_sum_sq + x2_sum_sq\n",
      "/home/chenyu/Desktop/Bayesian-optimization-using-Gaussian-Process/modules/OnlineGP.py:464: RuntimeWarning: invalid value encountered in add\n",
      "  K = K + x1_sum_sq + x2_sum_sq\n",
      "/home/chenyu/Desktop/Bayesian-optimization-using-Gaussian-Process/modules/OnlineGP.py:464: RuntimeWarning: invalid value encountered in add\n",
      "  K = K + x1_sum_sq + x2_sum_sq\n",
      "/home/chenyu/Desktop/Bayesian-optimization-using-Gaussian-Process/modules/OnlineGP.py:464: RuntimeWarning: invalid value encountered in add\n",
      "  K = K + x1_sum_sq + x2_sum_sq\n",
      "/home/chenyu/Desktop/Bayesian-optimization-using-Gaussian-Process/modules/OnlineGP.py:464: RuntimeWarning: invalid value encountered in add\n",
      "  K = K + x1_sum_sq + x2_sum_sq\n"
     ]
    },
    {
     "name": "stdout",
     "output_type": "stream",
     "text": [
      "259049.52398749645\n",
      "Predicting defocus...\n",
      "saving ronchigram...\n"
     ]
    },
    {
     "name": "stderr",
     "output_type": "stream",
     "text": [
      "/home/chenyu/Desktop/Bayesian-optimization-using-Gaussian-Process/modules/OnlineGP.py:464: RuntimeWarning: invalid value encountered in add\n",
      "  K = K + x1_sum_sq + x2_sum_sq\n",
      "/home/chenyu/Desktop/Bayesian-optimization-using-Gaussian-Process/modules/OnlineGP.py:464: RuntimeWarning: invalid value encountered in add\n",
      "  K = K + x1_sum_sq + x2_sum_sq\n",
      "/home/chenyu/Desktop/Bayesian-optimization-using-Gaussian-Process/modules/OnlineGP.py:464: RuntimeWarning: invalid value encountered in add\n",
      "  K = K + x1_sum_sq + x2_sum_sq\n",
      "/home/chenyu/Desktop/Bayesian-optimization-using-Gaussian-Process/modules/OnlineGP.py:464: RuntimeWarning: invalid value encountered in add\n",
      "  K = K + x1_sum_sq + x2_sum_sq\n",
      "/home/chenyu/Desktop/Bayesian-optimization-using-Gaussian-Process/modules/OnlineGP.py:464: RuntimeWarning: invalid value encountered in add\n",
      "  K = K + x1_sum_sq + x2_sum_sq\n"
     ]
    },
    {
     "name": "stdout",
     "output_type": "stream",
     "text": [
      "259043.07111535224\n",
      "Predicting defocus...\n",
      "saving ronchigram...\n",
      "45 Finished.\n",
      "Model loaded\n",
      "Supposed to be grabbing initial machine state...\n",
      "249478.49052024275\n",
      "Predicting defocus...\n",
      "saving ronchigram...\n",
      "x_init [[0.41308175]]\n",
      "y_init [[0.18931204]]\n"
     ]
    },
    {
     "name": "stderr",
     "output_type": "stream",
     "text": [
      "/home/chenyu/Desktop/Bayesian-optimization-using-Gaussian-Process/modules/OnlineGP.py:464: RuntimeWarning: invalid value encountered in add\n",
      "  K = K + x1_sum_sq + x2_sum_sq\n"
     ]
    },
    {
     "name": "stdout",
     "output_type": "stream",
     "text": [
      "248374.46902900748\n",
      "Predicting defocus...\n",
      "saving ronchigram...\n"
     ]
    },
    {
     "name": "stderr",
     "output_type": "stream",
     "text": [
      "/home/chenyu/Desktop/Bayesian-optimization-using-Gaussian-Process/modules/OnlineGP.py:464: RuntimeWarning: invalid value encountered in add\n",
      "  K = K + x1_sum_sq + x2_sum_sq\n",
      "/home/chenyu/Desktop/Bayesian-optimization-using-Gaussian-Process/modules/OnlineGP.py:464: RuntimeWarning: invalid value encountered in add\n",
      "  K = K + x1_sum_sq + x2_sum_sq\n"
     ]
    },
    {
     "name": "stdout",
     "output_type": "stream",
     "text": [
      "252041.02611974982\n",
      "Predicting defocus...\n",
      "saving ronchigram...\n"
     ]
    },
    {
     "name": "stderr",
     "output_type": "stream",
     "text": [
      "/home/chenyu/Desktop/Bayesian-optimization-using-Gaussian-Process/modules/OnlineGP.py:464: RuntimeWarning: invalid value encountered in add\n",
      "  K = K + x1_sum_sq + x2_sum_sq\n",
      "/home/chenyu/Desktop/Bayesian-optimization-using-Gaussian-Process/modules/OnlineGP.py:464: RuntimeWarning: invalid value encountered in add\n",
      "  K = K + x1_sum_sq + x2_sum_sq\n",
      "/home/chenyu/Desktop/Bayesian-optimization-using-Gaussian-Process/modules/OnlineGP.py:464: RuntimeWarning: invalid value encountered in add\n",
      "  K = K + x1_sum_sq + x2_sum_sq\n"
     ]
    },
    {
     "name": "stdout",
     "output_type": "stream",
     "text": [
      "254666.55031817465\n",
      "Predicting defocus...\n",
      "saving ronchigram...\n"
     ]
    },
    {
     "name": "stderr",
     "output_type": "stream",
     "text": [
      "/home/chenyu/Desktop/Bayesian-optimization-using-Gaussian-Process/modules/OnlineGP.py:464: RuntimeWarning: invalid value encountered in add\n",
      "  K = K + x1_sum_sq + x2_sum_sq\n",
      "/home/chenyu/Desktop/Bayesian-optimization-using-Gaussian-Process/modules/OnlineGP.py:464: RuntimeWarning: invalid value encountered in add\n",
      "  K = K + x1_sum_sq + x2_sum_sq\n",
      "/home/chenyu/Desktop/Bayesian-optimization-using-Gaussian-Process/modules/OnlineGP.py:464: RuntimeWarning: invalid value encountered in add\n",
      "  K = K + x1_sum_sq + x2_sum_sq\n",
      "/home/chenyu/Desktop/Bayesian-optimization-using-Gaussian-Process/modules/OnlineGP.py:464: RuntimeWarning: invalid value encountered in add\n",
      "  K = K + x1_sum_sq + x2_sum_sq\n"
     ]
    },
    {
     "name": "stdout",
     "output_type": "stream",
     "text": [
      "256439.1032732311\n",
      "Predicting defocus...\n",
      "saving ronchigram...\n"
     ]
    },
    {
     "name": "stderr",
     "output_type": "stream",
     "text": [
      "/home/chenyu/Desktop/Bayesian-optimization-using-Gaussian-Process/modules/OnlineGP.py:464: RuntimeWarning: invalid value encountered in add\n",
      "  K = K + x1_sum_sq + x2_sum_sq\n",
      "/home/chenyu/Desktop/Bayesian-optimization-using-Gaussian-Process/modules/OnlineGP.py:464: RuntimeWarning: invalid value encountered in add\n",
      "  K = K + x1_sum_sq + x2_sum_sq\n",
      "/home/chenyu/Desktop/Bayesian-optimization-using-Gaussian-Process/modules/OnlineGP.py:464: RuntimeWarning: invalid value encountered in add\n",
      "  K = K + x1_sum_sq + x2_sum_sq\n",
      "/home/chenyu/Desktop/Bayesian-optimization-using-Gaussian-Process/modules/OnlineGP.py:464: RuntimeWarning: invalid value encountered in add\n",
      "  K = K + x1_sum_sq + x2_sum_sq\n",
      "/home/chenyu/Desktop/Bayesian-optimization-using-Gaussian-Process/modules/OnlineGP.py:464: RuntimeWarning: invalid value encountered in add\n",
      "  K = K + x1_sum_sq + x2_sum_sq\n"
     ]
    },
    {
     "name": "stdout",
     "output_type": "stream",
     "text": [
      "255474.85981871915\n",
      "Predicting defocus...\n",
      "saving ronchigram...\n"
     ]
    },
    {
     "name": "stderr",
     "output_type": "stream",
     "text": [
      "/home/chenyu/Desktop/Bayesian-optimization-using-Gaussian-Process/modules/OnlineGP.py:464: RuntimeWarning: invalid value encountered in add\n",
      "  K = K + x1_sum_sq + x2_sum_sq\n",
      "/home/chenyu/Desktop/Bayesian-optimization-using-Gaussian-Process/modules/OnlineGP.py:464: RuntimeWarning: invalid value encountered in add\n",
      "  K = K + x1_sum_sq + x2_sum_sq\n",
      "/home/chenyu/Desktop/Bayesian-optimization-using-Gaussian-Process/modules/OnlineGP.py:464: RuntimeWarning: invalid value encountered in add\n",
      "  K = K + x1_sum_sq + x2_sum_sq\n",
      "/home/chenyu/Desktop/Bayesian-optimization-using-Gaussian-Process/modules/OnlineGP.py:464: RuntimeWarning: invalid value encountered in add\n",
      "  K = K + x1_sum_sq + x2_sum_sq\n",
      "/home/chenyu/Desktop/Bayesian-optimization-using-Gaussian-Process/modules/OnlineGP.py:464: RuntimeWarning: invalid value encountered in add\n",
      "  K = K + x1_sum_sq + x2_sum_sq\n"
     ]
    },
    {
     "name": "stdout",
     "output_type": "stream",
     "text": [
      "255358.06005305715\n",
      "Predicting defocus...\n",
      "saving ronchigram...\n"
     ]
    },
    {
     "name": "stderr",
     "output_type": "stream",
     "text": [
      "/home/chenyu/Desktop/Bayesian-optimization-using-Gaussian-Process/modules/OnlineGP.py:464: RuntimeWarning: invalid value encountered in add\n",
      "  K = K + x1_sum_sq + x2_sum_sq\n",
      "/home/chenyu/Desktop/Bayesian-optimization-using-Gaussian-Process/modules/OnlineGP.py:464: RuntimeWarning: invalid value encountered in add\n",
      "  K = K + x1_sum_sq + x2_sum_sq\n",
      "/home/chenyu/Desktop/Bayesian-optimization-using-Gaussian-Process/modules/OnlineGP.py:464: RuntimeWarning: invalid value encountered in add\n",
      "  K = K + x1_sum_sq + x2_sum_sq\n",
      "/home/chenyu/Desktop/Bayesian-optimization-using-Gaussian-Process/modules/OnlineGP.py:464: RuntimeWarning: invalid value encountered in add\n",
      "  K = K + x1_sum_sq + x2_sum_sq\n",
      "/home/chenyu/Desktop/Bayesian-optimization-using-Gaussian-Process/modules/OnlineGP.py:464: RuntimeWarning: invalid value encountered in add\n",
      "  K = K + x1_sum_sq + x2_sum_sq\n"
     ]
    },
    {
     "name": "stdout",
     "output_type": "stream",
     "text": [
      "255328.68006620518\n",
      "Predicting defocus...\n",
      "saving ronchigram...\n"
     ]
    },
    {
     "name": "stderr",
     "output_type": "stream",
     "text": [
      "/home/chenyu/Desktop/Bayesian-optimization-using-Gaussian-Process/modules/OnlineGP.py:464: RuntimeWarning: invalid value encountered in add\n",
      "  K = K + x1_sum_sq + x2_sum_sq\n",
      "/home/chenyu/Desktop/Bayesian-optimization-using-Gaussian-Process/modules/OnlineGP.py:464: RuntimeWarning: invalid value encountered in add\n",
      "  K = K + x1_sum_sq + x2_sum_sq\n",
      "/home/chenyu/Desktop/Bayesian-optimization-using-Gaussian-Process/modules/OnlineGP.py:464: RuntimeWarning: invalid value encountered in add\n",
      "  K = K + x1_sum_sq + x2_sum_sq\n",
      "/home/chenyu/Desktop/Bayesian-optimization-using-Gaussian-Process/modules/OnlineGP.py:464: RuntimeWarning: invalid value encountered in add\n",
      "  K = K + x1_sum_sq + x2_sum_sq\n",
      "/home/chenyu/Desktop/Bayesian-optimization-using-Gaussian-Process/modules/OnlineGP.py:464: RuntimeWarning: invalid value encountered in add\n",
      "  K = K + x1_sum_sq + x2_sum_sq\n"
     ]
    },
    {
     "name": "stdout",
     "output_type": "stream",
     "text": [
      "255312.3370285425\n",
      "Predicting defocus...\n",
      "saving ronchigram...\n"
     ]
    },
    {
     "name": "stderr",
     "output_type": "stream",
     "text": [
      "/home/chenyu/Desktop/Bayesian-optimization-using-Gaussian-Process/modules/OnlineGP.py:464: RuntimeWarning: invalid value encountered in add\n",
      "  K = K + x1_sum_sq + x2_sum_sq\n",
      "/home/chenyu/Desktop/Bayesian-optimization-using-Gaussian-Process/modules/OnlineGP.py:464: RuntimeWarning: invalid value encountered in add\n",
      "  K = K + x1_sum_sq + x2_sum_sq\n",
      "/home/chenyu/Desktop/Bayesian-optimization-using-Gaussian-Process/modules/OnlineGP.py:464: RuntimeWarning: invalid value encountered in add\n",
      "  K = K + x1_sum_sq + x2_sum_sq\n",
      "/home/chenyu/Desktop/Bayesian-optimization-using-Gaussian-Process/modules/OnlineGP.py:464: RuntimeWarning: invalid value encountered in add\n",
      "  K = K + x1_sum_sq + x2_sum_sq\n",
      "/home/chenyu/Desktop/Bayesian-optimization-using-Gaussian-Process/modules/OnlineGP.py:464: RuntimeWarning: invalid value encountered in add\n",
      "  K = K + x1_sum_sq + x2_sum_sq\n"
     ]
    },
    {
     "name": "stdout",
     "output_type": "stream",
     "text": [
      "255309.06497891384\n",
      "Predicting defocus...\n",
      "saving ronchigram...\n"
     ]
    },
    {
     "name": "stderr",
     "output_type": "stream",
     "text": [
      "/home/chenyu/Desktop/Bayesian-optimization-using-Gaussian-Process/modules/OnlineGP.py:464: RuntimeWarning: invalid value encountered in add\n",
      "  K = K + x1_sum_sq + x2_sum_sq\n",
      "/home/chenyu/Desktop/Bayesian-optimization-using-Gaussian-Process/modules/OnlineGP.py:464: RuntimeWarning: invalid value encountered in add\n",
      "  K = K + x1_sum_sq + x2_sum_sq\n",
      "/home/chenyu/Desktop/Bayesian-optimization-using-Gaussian-Process/modules/OnlineGP.py:464: RuntimeWarning: invalid value encountered in add\n",
      "  K = K + x1_sum_sq + x2_sum_sq\n",
      "/home/chenyu/Desktop/Bayesian-optimization-using-Gaussian-Process/modules/OnlineGP.py:464: RuntimeWarning: invalid value encountered in add\n",
      "  K = K + x1_sum_sq + x2_sum_sq\n",
      "/home/chenyu/Desktop/Bayesian-optimization-using-Gaussian-Process/modules/OnlineGP.py:464: RuntimeWarning: invalid value encountered in add\n",
      "  K = K + x1_sum_sq + x2_sum_sq\n"
     ]
    },
    {
     "name": "stdout",
     "output_type": "stream",
     "text": [
      "255298.43147209944\n",
      "Predicting defocus...\n",
      "saving ronchigram...\n",
      "46 Finished.\n",
      "Model loaded\n",
      "Supposed to be grabbing initial machine state...\n",
      "252220.74874545168\n",
      "Predicting defocus...\n",
      "saving ronchigram...\n",
      "x_init [[0.87012479]]\n",
      "y_init [[0.26800758]]\n"
     ]
    },
    {
     "name": "stderr",
     "output_type": "stream",
     "text": [
      "/home/chenyu/Desktop/Bayesian-optimization-using-Gaussian-Process/modules/OnlineGP.py:464: RuntimeWarning: invalid value encountered in add\n",
      "  K = K + x1_sum_sq + x2_sum_sq\n"
     ]
    },
    {
     "name": "stdout",
     "output_type": "stream",
     "text": [
      "251116.7272542164\n",
      "Predicting defocus...\n",
      "saving ronchigram...\n"
     ]
    },
    {
     "name": "stderr",
     "output_type": "stream",
     "text": [
      "/home/chenyu/Desktop/Bayesian-optimization-using-Gaussian-Process/modules/OnlineGP.py:464: RuntimeWarning: invalid value encountered in add\n",
      "  K = K + x1_sum_sq + x2_sum_sq\n",
      "/home/chenyu/Desktop/Bayesian-optimization-using-Gaussian-Process/modules/OnlineGP.py:464: RuntimeWarning: invalid value encountered in add\n",
      "  K = K + x1_sum_sq + x2_sum_sq\n"
     ]
    },
    {
     "name": "stdout",
     "output_type": "stream",
     "text": [
      "254156.8729926069\n",
      "Predicting defocus...\n",
      "saving ronchigram...\n"
     ]
    },
    {
     "name": "stderr",
     "output_type": "stream",
     "text": [
      "/home/chenyu/Desktop/Bayesian-optimization-using-Gaussian-Process/modules/OnlineGP.py:464: RuntimeWarning: invalid value encountered in add\n",
      "  K = K + x1_sum_sq + x2_sum_sq\n",
      "/home/chenyu/Desktop/Bayesian-optimization-using-Gaussian-Process/modules/OnlineGP.py:464: RuntimeWarning: invalid value encountered in add\n",
      "  K = K + x1_sum_sq + x2_sum_sq\n",
      "/home/chenyu/Desktop/Bayesian-optimization-using-Gaussian-Process/modules/OnlineGP.py:464: RuntimeWarning: invalid value encountered in add\n",
      "  K = K + x1_sum_sq + x2_sum_sq\n"
     ]
    },
    {
     "name": "stdout",
     "output_type": "stream",
     "text": [
      "256847.83148284268\n",
      "Predicting defocus...\n",
      "saving ronchigram...\n"
     ]
    },
    {
     "name": "stderr",
     "output_type": "stream",
     "text": [
      "/home/chenyu/Desktop/Bayesian-optimization-using-Gaussian-Process/modules/OnlineGP.py:464: RuntimeWarning: invalid value encountered in add\n",
      "  K = K + x1_sum_sq + x2_sum_sq\n",
      "/home/chenyu/Desktop/Bayesian-optimization-using-Gaussian-Process/modules/OnlineGP.py:464: RuntimeWarning: invalid value encountered in add\n",
      "  K = K + x1_sum_sq + x2_sum_sq\n",
      "/home/chenyu/Desktop/Bayesian-optimization-using-Gaussian-Process/modules/OnlineGP.py:464: RuntimeWarning: invalid value encountered in add\n",
      "  K = K + x1_sum_sq + x2_sum_sq\n",
      "/home/chenyu/Desktop/Bayesian-optimization-using-Gaussian-Process/modules/OnlineGP.py:464: RuntimeWarning: invalid value encountered in add\n",
      "  K = K + x1_sum_sq + x2_sum_sq\n"
     ]
    },
    {
     "name": "stdout",
     "output_type": "stream",
     "text": [
      "258576.64442723914\n",
      "Predicting defocus...\n",
      "saving ronchigram...\n"
     ]
    },
    {
     "name": "stderr",
     "output_type": "stream",
     "text": [
      "/home/chenyu/Desktop/Bayesian-optimization-using-Gaussian-Process/modules/OnlineGP.py:464: RuntimeWarning: invalid value encountered in add\n",
      "  K = K + x1_sum_sq + x2_sum_sq\n",
      "/home/chenyu/Desktop/Bayesian-optimization-using-Gaussian-Process/modules/OnlineGP.py:464: RuntimeWarning: invalid value encountered in add\n",
      "  K = K + x1_sum_sq + x2_sum_sq\n",
      "/home/chenyu/Desktop/Bayesian-optimization-using-Gaussian-Process/modules/OnlineGP.py:464: RuntimeWarning: invalid value encountered in add\n",
      "  K = K + x1_sum_sq + x2_sum_sq\n",
      "/home/chenyu/Desktop/Bayesian-optimization-using-Gaussian-Process/modules/OnlineGP.py:464: RuntimeWarning: invalid value encountered in add\n",
      "  K = K + x1_sum_sq + x2_sum_sq\n"
     ]
    },
    {
     "name": "stdout",
     "output_type": "stream",
     "text": [
      "255904.5838773867\n",
      "Predicting defocus...\n",
      "saving ronchigram...\n"
     ]
    },
    {
     "name": "stderr",
     "output_type": "stream",
     "text": [
      "/home/chenyu/Desktop/Bayesian-optimization-using-Gaussian-Process/modules/OnlineGP.py:464: RuntimeWarning: invalid value encountered in add\n",
      "  K = K + x1_sum_sq + x2_sum_sq\n",
      "/home/chenyu/Desktop/Bayesian-optimization-using-Gaussian-Process/modules/OnlineGP.py:464: RuntimeWarning: invalid value encountered in add\n",
      "  K = K + x1_sum_sq + x2_sum_sq\n",
      "/home/chenyu/Desktop/Bayesian-optimization-using-Gaussian-Process/modules/OnlineGP.py:464: RuntimeWarning: invalid value encountered in add\n",
      "  K = K + x1_sum_sq + x2_sum_sq\n",
      "/home/chenyu/Desktop/Bayesian-optimization-using-Gaussian-Process/modules/OnlineGP.py:464: RuntimeWarning: invalid value encountered in add\n",
      "  K = K + x1_sum_sq + x2_sum_sq\n",
      "/home/chenyu/Desktop/Bayesian-optimization-using-Gaussian-Process/modules/OnlineGP.py:464: RuntimeWarning: invalid value encountered in add\n",
      "  K = K + x1_sum_sq + x2_sum_sq\n"
     ]
    },
    {
     "name": "stdout",
     "output_type": "stream",
     "text": [
      "256433.86584865567\n",
      "Predicting defocus...\n",
      "saving ronchigram...\n"
     ]
    },
    {
     "name": "stderr",
     "output_type": "stream",
     "text": [
      "/home/chenyu/Desktop/Bayesian-optimization-using-Gaussian-Process/modules/OnlineGP.py:464: RuntimeWarning: invalid value encountered in add\n",
      "  K = K + x1_sum_sq + x2_sum_sq\n",
      "/home/chenyu/Desktop/Bayesian-optimization-using-Gaussian-Process/modules/OnlineGP.py:464: RuntimeWarning: invalid value encountered in add\n",
      "  K = K + x1_sum_sq + x2_sum_sq\n",
      "/home/chenyu/Desktop/Bayesian-optimization-using-Gaussian-Process/modules/OnlineGP.py:464: RuntimeWarning: invalid value encountered in add\n",
      "  K = K + x1_sum_sq + x2_sum_sq\n",
      "/home/chenyu/Desktop/Bayesian-optimization-using-Gaussian-Process/modules/OnlineGP.py:464: RuntimeWarning: invalid value encountered in add\n",
      "  K = K + x1_sum_sq + x2_sum_sq\n",
      "/home/chenyu/Desktop/Bayesian-optimization-using-Gaussian-Process/modules/OnlineGP.py:464: RuntimeWarning: invalid value encountered in add\n",
      "  K = K + x1_sum_sq + x2_sum_sq\n"
     ]
    },
    {
     "name": "stdout",
     "output_type": "stream",
     "text": [
      "256426.17311858948\n",
      "Predicting defocus...\n",
      "saving ronchigram...\n"
     ]
    },
    {
     "name": "stderr",
     "output_type": "stream",
     "text": [
      "/home/chenyu/Desktop/Bayesian-optimization-using-Gaussian-Process/modules/OnlineGP.py:464: RuntimeWarning: invalid value encountered in add\n",
      "  K = K + x1_sum_sq + x2_sum_sq\n",
      "/home/chenyu/Desktop/Bayesian-optimization-using-Gaussian-Process/modules/OnlineGP.py:464: RuntimeWarning: invalid value encountered in add\n",
      "  K = K + x1_sum_sq + x2_sum_sq\n",
      "/home/chenyu/Desktop/Bayesian-optimization-using-Gaussian-Process/modules/OnlineGP.py:464: RuntimeWarning: invalid value encountered in add\n",
      "  K = K + x1_sum_sq + x2_sum_sq\n",
      "/home/chenyu/Desktop/Bayesian-optimization-using-Gaussian-Process/modules/OnlineGP.py:464: RuntimeWarning: invalid value encountered in add\n",
      "  K = K + x1_sum_sq + x2_sum_sq\n",
      "/home/chenyu/Desktop/Bayesian-optimization-using-Gaussian-Process/modules/OnlineGP.py:464: RuntimeWarning: invalid value encountered in add\n",
      "  K = K + x1_sum_sq + x2_sum_sq\n"
     ]
    },
    {
     "name": "stdout",
     "output_type": "stream",
     "text": [
      "256423.53189611592\n",
      "Predicting defocus...\n",
      "saving ronchigram...\n"
     ]
    },
    {
     "name": "stderr",
     "output_type": "stream",
     "text": [
      "/home/chenyu/Desktop/Bayesian-optimization-using-Gaussian-Process/modules/OnlineGP.py:464: RuntimeWarning: invalid value encountered in add\n",
      "  K = K + x1_sum_sq + x2_sum_sq\n",
      "/home/chenyu/Desktop/Bayesian-optimization-using-Gaussian-Process/modules/OnlineGP.py:464: RuntimeWarning: invalid value encountered in add\n",
      "  K = K + x1_sum_sq + x2_sum_sq\n",
      "/home/chenyu/Desktop/Bayesian-optimization-using-Gaussian-Process/modules/OnlineGP.py:464: RuntimeWarning: invalid value encountered in add\n",
      "  K = K + x1_sum_sq + x2_sum_sq\n",
      "/home/chenyu/Desktop/Bayesian-optimization-using-Gaussian-Process/modules/OnlineGP.py:464: RuntimeWarning: invalid value encountered in add\n",
      "  K = K + x1_sum_sq + x2_sum_sq\n",
      "/home/chenyu/Desktop/Bayesian-optimization-using-Gaussian-Process/modules/OnlineGP.py:464: RuntimeWarning: invalid value encountered in add\n",
      "  K = K + x1_sum_sq + x2_sum_sq\n"
     ]
    },
    {
     "name": "stdout",
     "output_type": "stream",
     "text": [
      "256422.38679908152\n",
      "Predicting defocus...\n",
      "saving ronchigram...\n"
     ]
    },
    {
     "name": "stderr",
     "output_type": "stream",
     "text": [
      "/home/chenyu/Desktop/Bayesian-optimization-using-Gaussian-Process/modules/OnlineGP.py:464: RuntimeWarning: invalid value encountered in add\n",
      "  K = K + x1_sum_sq + x2_sum_sq\n",
      "/home/chenyu/Desktop/Bayesian-optimization-using-Gaussian-Process/modules/OnlineGP.py:464: RuntimeWarning: invalid value encountered in add\n",
      "  K = K + x1_sum_sq + x2_sum_sq\n",
      "/home/chenyu/Desktop/Bayesian-optimization-using-Gaussian-Process/modules/OnlineGP.py:464: RuntimeWarning: invalid value encountered in add\n",
      "  K = K + x1_sum_sq + x2_sum_sq\n",
      "/home/chenyu/Desktop/Bayesian-optimization-using-Gaussian-Process/modules/OnlineGP.py:464: RuntimeWarning: invalid value encountered in add\n",
      "  K = K + x1_sum_sq + x2_sum_sq\n",
      "/home/chenyu/Desktop/Bayesian-optimization-using-Gaussian-Process/modules/OnlineGP.py:464: RuntimeWarning: invalid value encountered in add\n",
      "  K = K + x1_sum_sq + x2_sum_sq\n"
     ]
    },
    {
     "name": "stdout",
     "output_type": "stream",
     "text": [
      "256421.85196925778\n",
      "Predicting defocus...\n",
      "saving ronchigram...\n",
      "47 Finished.\n",
      "Model loaded\n",
      "Supposed to be grabbing initial machine state...\n",
      "249504.45011883508\n",
      "Predicting defocus...\n",
      "saving ronchigram...\n",
      "x_init [[0.41740835]]\n",
      "y_init [[0.12675565]]\n"
     ]
    },
    {
     "name": "stderr",
     "output_type": "stream",
     "text": [
      "/home/chenyu/Desktop/Bayesian-optimization-using-Gaussian-Process/modules/OnlineGP.py:464: RuntimeWarning: invalid value encountered in add\n",
      "  K = K + x1_sum_sq + x2_sum_sq\n"
     ]
    },
    {
     "name": "stdout",
     "output_type": "stream",
     "text": [
      "248400.42862759985\n",
      "Predicting defocus...\n",
      "saving ronchigram...\n"
     ]
    },
    {
     "name": "stderr",
     "output_type": "stream",
     "text": [
      "/home/chenyu/Desktop/Bayesian-optimization-using-Gaussian-Process/modules/OnlineGP.py:464: RuntimeWarning: invalid value encountered in add\n",
      "  K = K + x1_sum_sq + x2_sum_sq\n",
      "/home/chenyu/Desktop/Bayesian-optimization-using-Gaussian-Process/modules/OnlineGP.py:464: RuntimeWarning: invalid value encountered in add\n",
      "  K = K + x1_sum_sq + x2_sum_sq\n"
     ]
    },
    {
     "name": "stdout",
     "output_type": "stream",
     "text": [
      "255210.45011883508\n",
      "Predicting defocus...\n",
      "saving ronchigram...\n"
     ]
    },
    {
     "name": "stderr",
     "output_type": "stream",
     "text": [
      "/home/chenyu/Desktop/Bayesian-optimization-using-Gaussian-Process/modules/OnlineGP.py:464: RuntimeWarning: invalid value encountered in add\n",
      "  K = K + x1_sum_sq + x2_sum_sq\n",
      "/home/chenyu/Desktop/Bayesian-optimization-using-Gaussian-Process/modules/OnlineGP.py:464: RuntimeWarning: invalid value encountered in add\n",
      "  K = K + x1_sum_sq + x2_sum_sq\n",
      "/home/chenyu/Desktop/Bayesian-optimization-using-Gaussian-Process/modules/OnlineGP.py:464: RuntimeWarning: invalid value encountered in add\n",
      "  K = K + x1_sum_sq + x2_sum_sq\n"
     ]
    },
    {
     "name": "stdout",
     "output_type": "stream",
     "text": [
      "258568.74056155607\n",
      "Predicting defocus...\n",
      "saving ronchigram...\n"
     ]
    },
    {
     "name": "stderr",
     "output_type": "stream",
     "text": [
      "/home/chenyu/Desktop/Bayesian-optimization-using-Gaussian-Process/modules/OnlineGP.py:464: RuntimeWarning: invalid value encountered in add\n",
      "  K = K + x1_sum_sq + x2_sum_sq\n",
      "/home/chenyu/Desktop/Bayesian-optimization-using-Gaussian-Process/modules/OnlineGP.py:464: RuntimeWarning: invalid value encountered in add\n",
      "  K = K + x1_sum_sq + x2_sum_sq\n",
      "/home/chenyu/Desktop/Bayesian-optimization-using-Gaussian-Process/modules/OnlineGP.py:464: RuntimeWarning: invalid value encountered in add\n",
      "  K = K + x1_sum_sq + x2_sum_sq\n",
      "/home/chenyu/Desktop/Bayesian-optimization-using-Gaussian-Process/modules/OnlineGP.py:464: RuntimeWarning: invalid value encountered in add\n",
      "  K = K + x1_sum_sq + x2_sum_sq\n"
     ]
    },
    {
     "name": "stdout",
     "output_type": "stream",
     "text": [
      "260788.57898237184\n",
      "Predicting defocus...\n",
      "saving ronchigram...\n"
     ]
    },
    {
     "name": "stderr",
     "output_type": "stream",
     "text": [
      "/home/chenyu/Desktop/Bayesian-optimization-using-Gaussian-Process/modules/OnlineGP.py:464: RuntimeWarning: invalid value encountered in add\n",
      "  K = K + x1_sum_sq + x2_sum_sq\n",
      "/home/chenyu/Desktop/Bayesian-optimization-using-Gaussian-Process/modules/OnlineGP.py:464: RuntimeWarning: invalid value encountered in add\n",
      "  K = K + x1_sum_sq + x2_sum_sq\n",
      "/home/chenyu/Desktop/Bayesian-optimization-using-Gaussian-Process/modules/OnlineGP.py:464: RuntimeWarning: invalid value encountered in add\n",
      "  K = K + x1_sum_sq + x2_sum_sq\n",
      "/home/chenyu/Desktop/Bayesian-optimization-using-Gaussian-Process/modules/OnlineGP.py:464: RuntimeWarning: invalid value encountered in add\n",
      "  K = K + x1_sum_sq + x2_sum_sq\n",
      "/home/chenyu/Desktop/Bayesian-optimization-using-Gaussian-Process/modules/OnlineGP.py:464: RuntimeWarning: invalid value encountered in add\n",
      "  K = K + x1_sum_sq + x2_sum_sq\n"
     ]
    },
    {
     "name": "stdout",
     "output_type": "stream",
     "text": [
      "262947.1259873442\n",
      "Predicting defocus...\n",
      "saving ronchigram...\n"
     ]
    },
    {
     "name": "stderr",
     "output_type": "stream",
     "text": [
      "/home/chenyu/Desktop/Bayesian-optimization-using-Gaussian-Process/modules/OnlineGP.py:464: RuntimeWarning: invalid value encountered in add\n",
      "  K = K + x1_sum_sq + x2_sum_sq\n",
      "/home/chenyu/Desktop/Bayesian-optimization-using-Gaussian-Process/modules/OnlineGP.py:464: RuntimeWarning: invalid value encountered in add\n",
      "  K = K + x1_sum_sq + x2_sum_sq\n",
      "/home/chenyu/Desktop/Bayesian-optimization-using-Gaussian-Process/modules/OnlineGP.py:464: RuntimeWarning: invalid value encountered in add\n",
      "  K = K + x1_sum_sq + x2_sum_sq\n",
      "/home/chenyu/Desktop/Bayesian-optimization-using-Gaussian-Process/modules/OnlineGP.py:464: RuntimeWarning: invalid value encountered in add\n",
      "  K = K + x1_sum_sq + x2_sum_sq\n",
      "/home/chenyu/Desktop/Bayesian-optimization-using-Gaussian-Process/modules/OnlineGP.py:464: RuntimeWarning: invalid value encountered in add\n",
      "  K = K + x1_sum_sq + x2_sum_sq\n"
     ]
    },
    {
     "name": "stdout",
     "output_type": "stream",
     "text": [
      "259833.24474062023\n",
      "Predicting defocus...\n",
      "saving ronchigram...\n"
     ]
    },
    {
     "name": "stderr",
     "output_type": "stream",
     "text": [
      "/home/chenyu/Desktop/Bayesian-optimization-using-Gaussian-Process/modules/OnlineGP.py:464: RuntimeWarning: invalid value encountered in add\n",
      "  K = K + x1_sum_sq + x2_sum_sq\n",
      "/home/chenyu/Desktop/Bayesian-optimization-using-Gaussian-Process/modules/OnlineGP.py:464: RuntimeWarning: invalid value encountered in add\n",
      "  K = K + x1_sum_sq + x2_sum_sq\n",
      "/home/chenyu/Desktop/Bayesian-optimization-using-Gaussian-Process/modules/OnlineGP.py:464: RuntimeWarning: invalid value encountered in add\n",
      "  K = K + x1_sum_sq + x2_sum_sq\n",
      "/home/chenyu/Desktop/Bayesian-optimization-using-Gaussian-Process/modules/OnlineGP.py:464: RuntimeWarning: invalid value encountered in add\n",
      "  K = K + x1_sum_sq + x2_sum_sq\n",
      "/home/chenyu/Desktop/Bayesian-optimization-using-Gaussian-Process/modules/OnlineGP.py:464: RuntimeWarning: invalid value encountered in add\n",
      "  K = K + x1_sum_sq + x2_sum_sq\n"
     ]
    },
    {
     "name": "stdout",
     "output_type": "stream",
     "text": [
      "250608.47161007035\n",
      "Predicting defocus...\n",
      "saving ronchigram...\n"
     ]
    },
    {
     "name": "stderr",
     "output_type": "stream",
     "text": [
      "/home/chenyu/Desktop/Bayesian-optimization-using-Gaussian-Process/modules/OnlineGP.py:464: RuntimeWarning: invalid value encountered in add\n",
      "  K = K + x1_sum_sq + x2_sum_sq\n",
      "/home/chenyu/Desktop/Bayesian-optimization-using-Gaussian-Process/modules/OnlineGP.py:464: RuntimeWarning: invalid value encountered in add\n",
      "  K = K + x1_sum_sq + x2_sum_sq\n",
      "/home/chenyu/Desktop/Bayesian-optimization-using-Gaussian-Process/modules/OnlineGP.py:464: RuntimeWarning: invalid value encountered in add\n",
      "  K = K + x1_sum_sq + x2_sum_sq\n",
      "/home/chenyu/Desktop/Bayesian-optimization-using-Gaussian-Process/modules/OnlineGP.py:464: RuntimeWarning: invalid value encountered in add\n",
      "  K = K + x1_sum_sq + x2_sum_sq\n",
      "/home/chenyu/Desktop/Bayesian-optimization-using-Gaussian-Process/modules/OnlineGP.py:464: RuntimeWarning: invalid value encountered in add\n",
      "  K = K + x1_sum_sq + x2_sum_sq\n"
     ]
    },
    {
     "name": "stdout",
     "output_type": "stream",
     "text": [
      "260500.44992819725\n",
      "Predicting defocus...\n",
      "saving ronchigram...\n"
     ]
    },
    {
     "name": "stderr",
     "output_type": "stream",
     "text": [
      "/home/chenyu/Desktop/Bayesian-optimization-using-Gaussian-Process/modules/OnlineGP.py:464: RuntimeWarning: invalid value encountered in add\n",
      "  K = K + x1_sum_sq + x2_sum_sq\n",
      "/home/chenyu/Desktop/Bayesian-optimization-using-Gaussian-Process/modules/OnlineGP.py:464: RuntimeWarning: invalid value encountered in add\n",
      "  K = K + x1_sum_sq + x2_sum_sq\n",
      "/home/chenyu/Desktop/Bayesian-optimization-using-Gaussian-Process/modules/OnlineGP.py:464: RuntimeWarning: invalid value encountered in add\n",
      "  K = K + x1_sum_sq + x2_sum_sq\n",
      "/home/chenyu/Desktop/Bayesian-optimization-using-Gaussian-Process/modules/OnlineGP.py:464: RuntimeWarning: invalid value encountered in add\n",
      "  K = K + x1_sum_sq + x2_sum_sq\n",
      "/home/chenyu/Desktop/Bayesian-optimization-using-Gaussian-Process/modules/OnlineGP.py:464: RuntimeWarning: invalid value encountered in add\n",
      "  K = K + x1_sum_sq + x2_sum_sq\n"
     ]
    },
    {
     "name": "stdout",
     "output_type": "stream",
     "text": [
      "260304.99280303024\n",
      "Predicting defocus...\n",
      "saving ronchigram...\n"
     ]
    },
    {
     "name": "stderr",
     "output_type": "stream",
     "text": [
      "/home/chenyu/Desktop/Bayesian-optimization-using-Gaussian-Process/modules/OnlineGP.py:464: RuntimeWarning: invalid value encountered in add\n",
      "  K = K + x1_sum_sq + x2_sum_sq\n",
      "/home/chenyu/Desktop/Bayesian-optimization-using-Gaussian-Process/modules/OnlineGP.py:464: RuntimeWarning: invalid value encountered in add\n",
      "  K = K + x1_sum_sq + x2_sum_sq\n",
      "/home/chenyu/Desktop/Bayesian-optimization-using-Gaussian-Process/modules/OnlineGP.py:464: RuntimeWarning: invalid value encountered in add\n",
      "  K = K + x1_sum_sq + x2_sum_sq\n",
      "/home/chenyu/Desktop/Bayesian-optimization-using-Gaussian-Process/modules/OnlineGP.py:464: RuntimeWarning: invalid value encountered in add\n",
      "  K = K + x1_sum_sq + x2_sum_sq\n",
      "/home/chenyu/Desktop/Bayesian-optimization-using-Gaussian-Process/modules/OnlineGP.py:464: RuntimeWarning: invalid value encountered in add\n",
      "  K = K + x1_sum_sq + x2_sum_sq\n"
     ]
    },
    {
     "name": "stdout",
     "output_type": "stream",
     "text": [
      "260991.90232637097\n",
      "Predicting defocus...\n",
      "saving ronchigram...\n",
      "48 Finished.\n",
      "Model loaded\n",
      "Supposed to be grabbing initial machine state...\n",
      "248060.57698468765\n",
      "Predicting defocus...\n",
      "saving ronchigram...\n",
      "x_init [[0.17676283]]\n",
      "y_init [[0.09488541]]\n"
     ]
    },
    {
     "name": "stderr",
     "output_type": "stream",
     "text": [
      "/home/chenyu/Desktop/Bayesian-optimization-using-Gaussian-Process/modules/OnlineGP.py:464: RuntimeWarning: invalid value encountered in add\n",
      "  K = K + x1_sum_sq + x2_sum_sq\n"
     ]
    },
    {
     "name": "stdout",
     "output_type": "stream",
     "text": [
      "246956.55549345238\n",
      "Predicting defocus...\n",
      "saving ronchigram...\n"
     ]
    },
    {
     "name": "stderr",
     "output_type": "stream",
     "text": [
      "/home/chenyu/Desktop/Bayesian-optimization-using-Gaussian-Process/modules/OnlineGP.py:464: RuntimeWarning: invalid value encountered in add\n",
      "  K = K + x1_sum_sq + x2_sum_sq\n",
      "/home/chenyu/Desktop/Bayesian-optimization-using-Gaussian-Process/modules/OnlineGP.py:464: RuntimeWarning: invalid value encountered in add\n",
      "  K = K + x1_sum_sq + x2_sum_sq\n"
     ]
    },
    {
     "name": "stdout",
     "output_type": "stream",
     "text": [
      "242979.64964882046\n",
      "Predicting defocus...\n",
      "saving ronchigram...\n"
     ]
    },
    {
     "name": "stderr",
     "output_type": "stream",
     "text": [
      "/home/chenyu/Desktop/Bayesian-optimization-using-Gaussian-Process/modules/OnlineGP.py:464: RuntimeWarning: invalid value encountered in add\n",
      "  K = K + x1_sum_sq + x2_sum_sq\n",
      "/home/chenyu/Desktop/Bayesian-optimization-using-Gaussian-Process/modules/OnlineGP.py:464: RuntimeWarning: invalid value encountered in add\n",
      "  K = K + x1_sum_sq + x2_sum_sq\n",
      "/home/chenyu/Desktop/Bayesian-optimization-using-Gaussian-Process/modules/OnlineGP.py:464: RuntimeWarning: invalid value encountered in add\n",
      "  K = K + x1_sum_sq + x2_sum_sq\n"
     ]
    },
    {
     "name": "stdout",
     "output_type": "stream",
     "text": [
      "250985.18235629352\n",
      "Predicting defocus...\n",
      "saving ronchigram...\n"
     ]
    },
    {
     "name": "stderr",
     "output_type": "stream",
     "text": [
      "/home/chenyu/Desktop/Bayesian-optimization-using-Gaussian-Process/modules/OnlineGP.py:464: RuntimeWarning: invalid value encountered in add\n",
      "  K = K + x1_sum_sq + x2_sum_sq\n",
      "/home/chenyu/Desktop/Bayesian-optimization-using-Gaussian-Process/modules/OnlineGP.py:464: RuntimeWarning: invalid value encountered in add\n",
      "  K = K + x1_sum_sq + x2_sum_sq\n",
      "/home/chenyu/Desktop/Bayesian-optimization-using-Gaussian-Process/modules/OnlineGP.py:464: RuntimeWarning: invalid value encountered in add\n",
      "  K = K + x1_sum_sq + x2_sum_sq\n"
     ]
    },
    {
     "name": "stdout",
     "output_type": "stream",
     "text": [
      "254911.1095057766\n",
      "Predicting defocus...\n",
      "saving ronchigram...\n"
     ]
    },
    {
     "name": "stderr",
     "output_type": "stream",
     "text": [
      "/home/chenyu/Desktop/Bayesian-optimization-using-Gaussian-Process/modules/OnlineGP.py:464: RuntimeWarning: invalid value encountered in add\n",
      "  K = K + x1_sum_sq + x2_sum_sq\n",
      "/home/chenyu/Desktop/Bayesian-optimization-using-Gaussian-Process/modules/OnlineGP.py:464: RuntimeWarning: invalid value encountered in add\n",
      "  K = K + x1_sum_sq + x2_sum_sq\n",
      "/home/chenyu/Desktop/Bayesian-optimization-using-Gaussian-Process/modules/OnlineGP.py:464: RuntimeWarning: invalid value encountered in add\n",
      "  K = K + x1_sum_sq + x2_sum_sq\n",
      "/home/chenyu/Desktop/Bayesian-optimization-using-Gaussian-Process/modules/OnlineGP.py:464: RuntimeWarning: invalid value encountered in add\n",
      "  K = K + x1_sum_sq + x2_sum_sq\n"
     ]
    },
    {
     "name": "stdout",
     "output_type": "stream",
     "text": [
      "256993.82718912693\n",
      "Predicting defocus...\n",
      "saving ronchigram...\n"
     ]
    },
    {
     "name": "stderr",
     "output_type": "stream",
     "text": [
      "/home/chenyu/Desktop/Bayesian-optimization-using-Gaussian-Process/modules/OnlineGP.py:464: RuntimeWarning: invalid value encountered in add\n",
      "  K = K + x1_sum_sq + x2_sum_sq\n",
      "/home/chenyu/Desktop/Bayesian-optimization-using-Gaussian-Process/modules/OnlineGP.py:464: RuntimeWarning: invalid value encountered in add\n",
      "  K = K + x1_sum_sq + x2_sum_sq\n",
      "/home/chenyu/Desktop/Bayesian-optimization-using-Gaussian-Process/modules/OnlineGP.py:464: RuntimeWarning: invalid value encountered in add\n",
      "  K = K + x1_sum_sq + x2_sum_sq\n",
      "/home/chenyu/Desktop/Bayesian-optimization-using-Gaussian-Process/modules/OnlineGP.py:464: RuntimeWarning: invalid value encountered in add\n",
      "  K = K + x1_sum_sq + x2_sum_sq\n",
      "/home/chenyu/Desktop/Bayesian-optimization-using-Gaussian-Process/modules/OnlineGP.py:464: RuntimeWarning: invalid value encountered in add\n",
      "  K = K + x1_sum_sq + x2_sum_sq\n"
     ]
    },
    {
     "name": "stdout",
     "output_type": "stream",
     "text": [
      "258793.98854289696\n",
      "Predicting defocus...\n",
      "saving ronchigram...\n"
     ]
    },
    {
     "name": "stderr",
     "output_type": "stream",
     "text": [
      "/home/chenyu/Desktop/Bayesian-optimization-using-Gaussian-Process/modules/OnlineGP.py:464: RuntimeWarning: invalid value encountered in add\n",
      "  K = K + x1_sum_sq + x2_sum_sq\n",
      "/home/chenyu/Desktop/Bayesian-optimization-using-Gaussian-Process/modules/OnlineGP.py:464: RuntimeWarning: invalid value encountered in add\n",
      "  K = K + x1_sum_sq + x2_sum_sq\n",
      "/home/chenyu/Desktop/Bayesian-optimization-using-Gaussian-Process/modules/OnlineGP.py:464: RuntimeWarning: invalid value encountered in add\n",
      "  K = K + x1_sum_sq + x2_sum_sq\n",
      "/home/chenyu/Desktop/Bayesian-optimization-using-Gaussian-Process/modules/OnlineGP.py:464: RuntimeWarning: invalid value encountered in add\n",
      "  K = K + x1_sum_sq + x2_sum_sq\n",
      "/home/chenyu/Desktop/Bayesian-optimization-using-Gaussian-Process/modules/OnlineGP.py:464: RuntimeWarning: invalid value encountered in add\n",
      "  K = K + x1_sum_sq + x2_sum_sq\n"
     ]
    },
    {
     "name": "stdout",
     "output_type": "stream",
     "text": [
      "256197.85482846122\n",
      "Predicting defocus...\n",
      "saving ronchigram...\n"
     ]
    },
    {
     "name": "stderr",
     "output_type": "stream",
     "text": [
      "/home/chenyu/Desktop/Bayesian-optimization-using-Gaussian-Process/modules/OnlineGP.py:464: RuntimeWarning: invalid value encountered in add\n",
      "  K = K + x1_sum_sq + x2_sum_sq\n",
      "/home/chenyu/Desktop/Bayesian-optimization-using-Gaussian-Process/modules/OnlineGP.py:464: RuntimeWarning: invalid value encountered in add\n",
      "  K = K + x1_sum_sq + x2_sum_sq\n",
      "/home/chenyu/Desktop/Bayesian-optimization-using-Gaussian-Process/modules/OnlineGP.py:464: RuntimeWarning: invalid value encountered in add\n",
      "  K = K + x1_sum_sq + x2_sum_sq\n",
      "/home/chenyu/Desktop/Bayesian-optimization-using-Gaussian-Process/modules/OnlineGP.py:464: RuntimeWarning: invalid value encountered in add\n",
      "  K = K + x1_sum_sq + x2_sum_sq\n",
      "/home/chenyu/Desktop/Bayesian-optimization-using-Gaussian-Process/modules/OnlineGP.py:464: RuntimeWarning: invalid value encountered in add\n",
      "  K = K + x1_sum_sq + x2_sum_sq\n"
     ]
    },
    {
     "name": "stdout",
     "output_type": "stream",
     "text": [
      "256654.72005486346\n",
      "Predicting defocus...\n",
      "saving ronchigram...\n"
     ]
    },
    {
     "name": "stderr",
     "output_type": "stream",
     "text": [
      "/home/chenyu/Desktop/Bayesian-optimization-using-Gaussian-Process/modules/OnlineGP.py:464: RuntimeWarning: invalid value encountered in add\n",
      "  K = K + x1_sum_sq + x2_sum_sq\n",
      "/home/chenyu/Desktop/Bayesian-optimization-using-Gaussian-Process/modules/OnlineGP.py:464: RuntimeWarning: invalid value encountered in add\n",
      "  K = K + x1_sum_sq + x2_sum_sq\n",
      "/home/chenyu/Desktop/Bayesian-optimization-using-Gaussian-Process/modules/OnlineGP.py:464: RuntimeWarning: invalid value encountered in add\n",
      "  K = K + x1_sum_sq + x2_sum_sq\n",
      "/home/chenyu/Desktop/Bayesian-optimization-using-Gaussian-Process/modules/OnlineGP.py:464: RuntimeWarning: invalid value encountered in add\n",
      "  K = K + x1_sum_sq + x2_sum_sq\n",
      "/home/chenyu/Desktop/Bayesian-optimization-using-Gaussian-Process/modules/OnlineGP.py:464: RuntimeWarning: invalid value encountered in add\n",
      "  K = K + x1_sum_sq + x2_sum_sq\n"
     ]
    },
    {
     "name": "stdout",
     "output_type": "stream",
     "text": [
      "256651.2832397108\n",
      "Predicting defocus...\n",
      "saving ronchigram...\n"
     ]
    },
    {
     "name": "stderr",
     "output_type": "stream",
     "text": [
      "/home/chenyu/Desktop/Bayesian-optimization-using-Gaussian-Process/modules/OnlineGP.py:464: RuntimeWarning: invalid value encountered in add\n",
      "  K = K + x1_sum_sq + x2_sum_sq\n",
      "/home/chenyu/Desktop/Bayesian-optimization-using-Gaussian-Process/modules/OnlineGP.py:464: RuntimeWarning: invalid value encountered in add\n",
      "  K = K + x1_sum_sq + x2_sum_sq\n",
      "/home/chenyu/Desktop/Bayesian-optimization-using-Gaussian-Process/modules/OnlineGP.py:464: RuntimeWarning: invalid value encountered in add\n",
      "  K = K + x1_sum_sq + x2_sum_sq\n",
      "/home/chenyu/Desktop/Bayesian-optimization-using-Gaussian-Process/modules/OnlineGP.py:464: RuntimeWarning: invalid value encountered in add\n",
      "  K = K + x1_sum_sq + x2_sum_sq\n",
      "/home/chenyu/Desktop/Bayesian-optimization-using-Gaussian-Process/modules/OnlineGP.py:464: RuntimeWarning: invalid value encountered in add\n",
      "  K = K + x1_sum_sq + x2_sum_sq\n"
     ]
    },
    {
     "name": "stdout",
     "output_type": "stream",
     "text": [
      "256649.92552259564\n",
      "Predicting defocus...\n",
      "saving ronchigram...\n",
      "49 Finished.\n"
     ]
    }
   ],
   "source": [
    "# test over different starting points\n",
    "itest = 50\n",
    "\n",
    "x_low = np.asarray([1000, -20, 387000, -655000, -3.7515e6, 119000, 640000])\n",
    "x_high = np.asarray([2200, 20, 391000, -635000, -3.7495e6, 120300, 651000])\n",
    "\n",
    "# Obj_state_list = []\n",
    "\n",
    "for istart in range(len(Obj_state_list),itest):\n",
    "    \n",
    "    rs = np.random.RandomState()\n",
    "    start_point = [x_low[i] + (rs.rand()*(x_high[i]-x_low[i])) for i in range(7)]\n",
    "    lens = [(start_point - x_low)/(x_high - x_low)]\n",
    "    start_point = [[np.random.RandomState().rand()]]  \n",
    "    \n",
    "    mi_module = importlib.import_module('machine_interfaces.machine_interface_Defocus')\n",
    "    mi = mi_module.machine_interface(dev_ids = dev_ids, start_point = start_point, lens = lens)\n",
    "    \n",
    "    gp_ls = np.array(np.ones(ndim)) * [0.317] \n",
    "    gp_amp = 0.256\n",
    "    gp_noise = 0.000253\n",
    "    gp_precisionmat =  np.array(np.diag(1/(gp_ls**2)))\n",
    "    ndim = len(dev_ids)\n",
    "    hyperparams = {'precisionMatrix': gp_precisionmat, 'amplitude_covar': gp_amp, 'noise_variance': gp_noise} \n",
    "    gp = OGP(ndim, hyperparams)\n",
    "    \n",
    "    opt = BayesOpt(gp, mi, acq_func=\"UCB\", start_dev_vals = mi.x, dev_ids = dev_ids)\n",
    "    opt.ucb_params = np.array([2, None])\n",
    "    \n",
    "    Obj_state_s=[]  # initialize empty Obj_state_s for each start point\n",
    "    Niter = 10  # run 10 iterations for each case\n",
    "    \n",
    "    for i in range(Niter):\n",
    "        Obj_state_s.append(opt.best_seen()[1])\n",
    "        opt.OptIter()\n",
    "        \n",
    "    Obj_state_list.append(Obj_state_s)\n",
    "    \n",
    "    print(str(istart)+' Finished.')"
   ]
  },
  {
   "cell_type": "code",
   "execution_count": 27,
   "metadata": {},
   "outputs": [],
   "source": [
    "np.save('DefocusGP_linescansx33.npy', Obj_state_list)"
   ]
  },
  {
   "cell_type": "code",
   "execution_count": 28,
   "metadata": {},
   "outputs": [
    {
     "name": "stdout",
     "output_type": "stream",
     "text": [
      "[array([[0.09488541]]), array([[0.11440057]]), array([[0.11440057]]), array([[0.13265043]]), array([[0.67652422]]), array([[0.97958827]]), array([[0.97958827]]), array([[0.97958827]]), array([[0.98789643]]), array([[0.98839103]])]\n"
     ]
    },
    {
     "ename": "NameError",
     "evalue": "name 'emit_list' is not defined",
     "output_type": "error",
     "traceback": [
      "\u001b[0;31m---------------------------------------------------------------------------\u001b[0m",
      "\u001b[0;31mNameError\u001b[0m                                 Traceback (most recent call last)",
      "\u001b[0;32m<ipython-input-28-8baba9df252b>\u001b[0m in \u001b[0;36m<module>\u001b[0;34m\u001b[0m\n\u001b[1;32m      1\u001b[0m \u001b[0;31m# Plot the emittance change for each step\u001b[0m\u001b[0;34m\u001b[0m\u001b[0;34m\u001b[0m\u001b[0;34m\u001b[0m\u001b[0m\n\u001b[1;32m      2\u001b[0m \u001b[0mprint\u001b[0m\u001b[0;34m(\u001b[0m\u001b[0mObj_state_s\u001b[0m\u001b[0;34m)\u001b[0m\u001b[0;34m\u001b[0m\u001b[0;34m\u001b[0m\u001b[0m\n\u001b[0;32m----> 3\u001b[0;31m \u001b[0mprint\u001b[0m\u001b[0;34m(\u001b[0m\u001b[0mnp\u001b[0m\u001b[0;34m.\u001b[0m\u001b[0mamax\u001b[0m\u001b[0;34m(\u001b[0m\u001b[0memit_list\u001b[0m\u001b[0;34m)\u001b[0m\u001b[0;34m)\u001b[0m\u001b[0;34m\u001b[0m\u001b[0;34m\u001b[0m\u001b[0m\n\u001b[0m\u001b[1;32m      4\u001b[0m \u001b[0mplt\u001b[0m\u001b[0;34m.\u001b[0m\u001b[0mplot\u001b[0m\u001b[0;34m(\u001b[0m\u001b[0mObj_state_s\u001b[0m\u001b[0;34m)\u001b[0m\u001b[0;34m\u001b[0m\u001b[0;34m\u001b[0m\u001b[0m\n\u001b[1;32m      5\u001b[0m \u001b[0mplt\u001b[0m\u001b[0;34m.\u001b[0m\u001b[0maxhline\u001b[0m\u001b[0;34m(\u001b[0m\u001b[0my\u001b[0m\u001b[0;34m=\u001b[0m\u001b[0mnp\u001b[0m\u001b[0;34m.\u001b[0m\u001b[0mamax\u001b[0m\u001b[0;34m(\u001b[0m\u001b[0memit_list\u001b[0m\u001b[0;34m)\u001b[0m\u001b[0;34m,\u001b[0m\u001b[0mc\u001b[0m\u001b[0;34m=\u001b[0m\u001b[0;34m'r'\u001b[0m\u001b[0;34m)\u001b[0m\u001b[0;34m\u001b[0m\u001b[0;34m\u001b[0m\u001b[0m\n",
      "\u001b[0;31mNameError\u001b[0m: name 'emit_list' is not defined"
     ]
    }
   ],
   "source": [
    "# Plot the emittance change for each step\n",
    "print(Obj_state_s)\n",
    "print(np.amax(emit_list))\n",
    "plt.plot(Obj_state_s)\n",
    "plt.axhline(y=np.amax(emit_list),c='r')"
   ]
  },
  {
   "cell_type": "code",
   "execution_count": 29,
   "metadata": {},
   "outputs": [
    {
     "name": "stdout",
     "output_type": "stream",
     "text": [
      "(50, 10)\n"
     ]
    }
   ],
   "source": [
    "linescans = np.load('DefocusGP_linescansx33.npy')\n",
    "linescans = np.squeeze(linescans)\n",
    "print(linescans.shape)"
   ]
  },
  {
   "cell_type": "code",
   "execution_count": 30,
   "metadata": {},
   "outputs": [
    {
     "data": {
      "text/plain": [
       "Text(0, 0.5, 'Defocus (nm)')"
      ]
     },
     "execution_count": 30,
     "metadata": {},
     "output_type": "execute_result"
    },
    {
     "data": {
      "image/png": "[encoded data removed]",
      "text/plain": [
       "<Figure size 432x288 with 1 Axes>"
      ]
     },
     "metadata": {
      "needs_background": "light"
     },
     "output_type": "display_data"
    }
   ],
   "source": [
    "fig = plt.figure(figsize=[6,4])\n",
    "\n",
    "\n",
    "for i in range(linescans.shape[0]):\n",
    "    plt.plot((1-linescans[i,:]) * 119.987, c='C0')\n",
    "\n",
    "plt.xticks(fontsize=16)\n",
    "plt.yticks(fontsize=16)\n",
    "plt.xlabel('Iteration',fontsize=20)\n",
    "plt.ylabel('Defocus (nm)',fontsize=20,rotation=90)"
   ]
  },
  {
   "cell_type": "code",
   "execution_count": 31,
   "metadata": {},
   "outputs": [
    {
     "data": {
      "text/plain": [
       "array([-0.41261136,  5.568832  , 16.84495094,  2.25369675,  4.84726229,\n",
       "        1.77356786,  4.2221375 ,  4.91385612,  1.44429846, 13.71386659,\n",
       "        4.73557022, 13.18906789, 27.57151618,  4.41712727,  1.25305622,\n",
       "        3.47488797,  4.24218797,  6.72983092, 18.17287604,  2.01842456,\n",
       "        1.1499959 ,  6.44370956,  1.44475148,  3.63600378,  3.34670725,\n",
       "       -0.22302387,  2.07349865,  2.63450369, 46.66214114,  7.57389055,\n",
       "        1.43770094,  0.84194784,  6.10506729, 35.57405329, 34.95753388,\n",
       "        6.65333367,  2.53948421,  0.46754197, 52.96045496,  3.46836555,\n",
       "        1.57470674,  2.75769448,  2.79040115,  0.53103773, 35.83737835,\n",
       "        2.365733  ,  3.73764513,  4.54113069, 25.33597982,  1.39292564])"
      ]
     },
     "execution_count": 31,
     "metadata": {},
     "output_type": "execute_result"
    }
   ],
   "source": [
    "(1-linescans[:,-1]) * 119.987"
   ]
  },
  {
   "cell_type": "markdown",
   "metadata": {},
   "source": [
    "## Peform linescans\n",
    "This is currently a linescan with varying S2 lens current and other lenses fixed.\n",
    "Would be better to run multiple random tests with other lens varying too."
   ]
  },
  {
   "cell_type": "code",
   "execution_count": 17,
   "metadata": {
    "collapsed": true
   },
   "outputs": [
    {
     "name": "stdout",
     "output_type": "stream",
     "text": [
      "247000.0\n",
      "Predicting defocus...\n",
      "saving ronchigram...\n",
      "247000.0012\n",
      "Predicting defocus...\n",
      "saving ronchigram...\n",
      "247000.0024\n",
      "Predicting defocus...\n",
      "saving ronchigram...\n",
      "247000.0036\n",
      "Predicting defocus...\n",
      "saving ronchigram...\n",
      "247000.0048\n",
      "Predicting defocus...\n",
      "saving ronchigram...\n",
      "247000.006\n",
      "Predicting defocus...\n",
      "saving ronchigram...\n",
      "247000.0072\n",
      "Predicting defocus...\n",
      "saving ronchigram...\n",
      "247000.0084\n",
      "Predicting defocus...\n",
      "saving ronchigram...\n",
      "247000.0096\n",
      "Predicting defocus...\n",
      "saving ronchigram...\n",
      "247000.0108\n",
      "Predicting defocus...\n",
      "saving ronchigram...\n",
      "247000.012\n",
      "Predicting defocus...\n",
      "saving ronchigram...\n",
      "247000.0132\n",
      "Predicting defocus...\n",
      "saving ronchigram...\n",
      "247000.0144\n",
      "Predicting defocus...\n",
      "saving ronchigram...\n",
      "247000.0156\n",
      "Predicting defocus...\n",
      "saving ronchigram...\n",
      "247000.0168\n",
      "Predicting defocus...\n",
      "saving ronchigram...\n",
      "247000.018\n",
      "Predicting defocus...\n",
      "saving ronchigram...\n",
      "247000.0192\n",
      "Predicting defocus...\n",
      "saving ronchigram...\n",
      "247000.0204\n",
      "Predicting defocus...\n",
      "saving ronchigram...\n",
      "247000.0216\n",
      "Predicting defocus...\n",
      "saving ronchigram...\n",
      "247000.0228\n",
      "Predicting defocus...\n",
      "saving ronchigram...\n",
      "247000.024\n",
      "Predicting defocus...\n",
      "saving ronchigram...\n",
      "247000.0252\n",
      "Predicting defocus...\n",
      "saving ronchigram...\n",
      "247000.0264\n",
      "Predicting defocus...\n",
      "saving ronchigram...\n",
      "247000.0276\n",
      "Predicting defocus...\n",
      "saving ronchigram...\n",
      "247000.0288\n",
      "Predicting defocus...\n",
      "saving ronchigram...\n",
      "247000.03\n",
      "Predicting defocus...\n",
      "saving ronchigram...\n",
      "247000.0312\n",
      "Predicting defocus...\n",
      "saving ronchigram...\n",
      "247000.0324\n",
      "Predicting defocus...\n",
      "saving ronchigram...\n",
      "247000.0336\n",
      "Predicting defocus...\n",
      "saving ronchigram...\n",
      "247000.0348\n",
      "Predicting defocus...\n",
      "saving ronchigram...\n",
      "247000.036\n",
      "Predicting defocus...\n",
      "saving ronchigram...\n",
      "247000.0372\n",
      "Predicting defocus...\n",
      "saving ronchigram...\n",
      "247000.0384\n",
      "Predicting defocus...\n",
      "saving ronchigram...\n",
      "247000.0396\n",
      "Predicting defocus...\n",
      "saving ronchigram...\n",
      "247000.0408\n",
      "Predicting defocus...\n",
      "saving ronchigram...\n",
      "247000.042\n",
      "Predicting defocus...\n",
      "saving ronchigram...\n",
      "247000.0432\n",
      "Predicting defocus...\n",
      "saving ronchigram...\n",
      "247000.0444\n",
      "Predicting defocus...\n",
      "saving ronchigram...\n",
      "247000.0456\n",
      "Predicting defocus...\n",
      "saving ronchigram...\n",
      "247000.0468\n",
      "Predicting defocus...\n",
      "saving ronchigram...\n",
      "247000.048\n",
      "Predicting defocus...\n",
      "saving ronchigram...\n",
      "247000.0492\n",
      "Predicting defocus...\n",
      "saving ronchigram...\n",
      "247000.0504\n",
      "Predicting defocus...\n",
      "saving ronchigram...\n",
      "247000.0516\n",
      "Predicting defocus...\n",
      "saving ronchigram...\n",
      "247000.0528\n",
      "Predicting defocus...\n",
      "saving ronchigram...\n",
      "247000.054\n",
      "Predicting defocus...\n",
      "saving ronchigram...\n",
      "247000.0552\n",
      "Predicting defocus...\n",
      "saving ronchigram...\n",
      "247000.0564\n",
      "Predicting defocus...\n",
      "saving ronchigram...\n",
      "247000.0576\n",
      "Predicting defocus...\n",
      "saving ronchigram...\n",
      "247000.0588\n",
      "Predicting defocus...\n",
      "saving ronchigram...\n",
      "247000.06\n",
      "Predicting defocus...\n",
      "saving ronchigram...\n",
      "247000.0612\n",
      "Predicting defocus...\n",
      "saving ronchigram...\n",
      "247000.0624\n",
      "Predicting defocus...\n",
      "saving ronchigram...\n",
      "247000.0636\n",
      "Predicting defocus...\n",
      "saving ronchigram...\n",
      "247000.0648\n",
      "Predicting defocus...\n",
      "saving ronchigram...\n",
      "247000.066\n",
      "Predicting defocus...\n",
      "saving ronchigram...\n",
      "247000.0672\n",
      "Predicting defocus...\n",
      "saving ronchigram...\n",
      "247000.0684\n",
      "Predicting defocus...\n",
      "saving ronchigram...\n",
      "247000.0696\n",
      "Predicting defocus...\n",
      "saving ronchigram...\n",
      "247000.0708\n",
      "Predicting defocus...\n",
      "saving ronchigram...\n",
      "247000.072\n",
      "Predicting defocus...\n",
      "saving ronchigram...\n",
      "247000.0732\n",
      "Predicting defocus...\n",
      "saving ronchigram...\n",
      "247000.0744\n",
      "Predicting defocus...\n",
      "saving ronchigram...\n",
      "247000.0756\n",
      "Predicting defocus...\n",
      "saving ronchigram...\n",
      "247000.0768\n",
      "Predicting defocus...\n",
      "saving ronchigram...\n",
      "247000.078\n",
      "Predicting defocus...\n",
      "saving ronchigram...\n",
      "247000.0792\n",
      "Predicting defocus...\n",
      "saving ronchigram...\n",
      "247000.0804\n",
      "Predicting defocus...\n",
      "saving ronchigram...\n",
      "247000.0816\n",
      "Predicting defocus...\n",
      "saving ronchigram...\n",
      "247000.0828\n",
      "Predicting defocus...\n",
      "saving ronchigram...\n",
      "247000.084\n",
      "Predicting defocus...\n",
      "saving ronchigram...\n",
      "247000.0852\n",
      "Predicting defocus...\n",
      "saving ronchigram...\n",
      "247000.0864\n",
      "Predicting defocus...\n",
      "saving ronchigram...\n",
      "247000.0876\n",
      "Predicting defocus...\n",
      "saving ronchigram...\n",
      "247000.0888\n",
      "Predicting defocus...\n",
      "saving ronchigram...\n",
      "247000.09\n",
      "Predicting defocus...\n",
      "saving ronchigram...\n",
      "247000.0912\n",
      "Predicting defocus...\n",
      "saving ronchigram...\n",
      "247000.0924\n",
      "Predicting defocus...\n",
      "saving ronchigram...\n",
      "247000.0936\n",
      "Predicting defocus...\n",
      "saving ronchigram...\n",
      "247000.0948\n",
      "Predicting defocus...\n",
      "saving ronchigram...\n",
      "247000.096\n",
      "Predicting defocus...\n",
      "saving ronchigram...\n",
      "247000.0972\n",
      "Predicting defocus...\n",
      "saving ronchigram...\n",
      "247000.0984\n",
      "Predicting defocus...\n",
      "saving ronchigram...\n",
      "247000.0996\n",
      "Predicting defocus...\n",
      "saving ronchigram...\n",
      "247000.1008\n",
      "Predicting defocus...\n",
      "saving ronchigram...\n",
      "247000.102\n",
      "Predicting defocus...\n",
      "saving ronchigram...\n",
      "247000.1032\n",
      "Predicting defocus...\n",
      "saving ronchigram...\n",
      "247000.1044\n",
      "Predicting defocus...\n",
      "saving ronchigram...\n",
      "247000.1056\n",
      "Predicting defocus...\n",
      "saving ronchigram...\n",
      "247000.1068\n",
      "Predicting defocus...\n",
      "saving ronchigram...\n",
      "247000.108\n",
      "Predicting defocus...\n",
      "saving ronchigram...\n",
      "247000.1092\n",
      "Predicting defocus...\n",
      "saving ronchigram...\n",
      "247000.1104\n",
      "Predicting defocus...\n",
      "saving ronchigram...\n",
      "247000.1116\n",
      "Predicting defocus...\n",
      "saving ronchigram...\n",
      "247000.1128\n",
      "Predicting defocus...\n",
      "saving ronchigram...\n",
      "247000.114\n",
      "Predicting defocus...\n",
      "saving ronchigram...\n",
      "247000.1152\n",
      "Predicting defocus...\n",
      "saving ronchigram...\n",
      "247000.1164\n",
      "Predicting defocus...\n",
      "saving ronchigram...\n",
      "247000.1176\n",
      "Predicting defocus...\n",
      "saving ronchigram...\n",
      "247000.1188\n",
      "Predicting defocus...\n",
      "saving ronchigram...\n"
     ]
    }
   ],
   "source": [
    "S2_list = []\n",
    "Defocus_list = []\n",
    "\n",
    "for i in range(100):\n",
    "    mi.setX([[i/50]])\n",
    "    temp = mi.getState()\n",
    "    S2_list.append(i/50)\n",
    "    Defocus_list.append(temp[1][0][0])"
   ]
  },
  {
   "cell_type": "code",
   "execution_count": 18,
   "metadata": {},
   "outputs": [
    {
     "data": {
      "text/plain": [
       "[<matplotlib.lines.Line2D at 0x7fde38347b00>]"
      ]
     },
     "execution_count": 18,
     "metadata": {},
     "output_type": "execute_result"
    },
    {
     "data": {
      "image/png": "[encoded data removed]",
      "text/plain": [
       "<Figure size 432x288 with 1 Axes>"
      ]
     },
     "metadata": {
      "needs_background": "light"
     },
     "output_type": "display_data"
    }
   ],
   "source": [
    "plt.plot(S2_list, Defocus_list)"
   ]
  },
  {
   "cell_type": "code",
   "execution_count": 19,
   "metadata": {},
   "outputs": [],
   "source": [
    "np.save('Defocus_linescan.npy', Defocus_list)\n",
    "np.save('S2_linescan.npy', S2_list)"
   ]
  },
  {
   "cell_type": "code",
   "execution_count": null,
   "metadata": {},
   "outputs": [],
   "source": []
  }
 ],
 "metadata": {
  "kernelspec": {
   "display_name": "Python 3",
   "language": "python",
   "name": "python3"
  },
  "language_info": {
   "codemirror_mode": {
    "name": "ipython",
    "version": 3
   },
   "file_extension": ".py",
   "mimetype": "text/x-python",
   "name": "python",
   "nbconvert_exporter": "python",
   "pygments_lexer": "ipython3",
   "version": "3.7.3"
  }
 },
 "nbformat": 4,
 "nbformat_minor": 4
}
