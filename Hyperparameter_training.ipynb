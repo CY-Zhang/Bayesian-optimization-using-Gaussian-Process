{
 "cells": [
  {
   "cell_type": "markdown",
   "metadata": {},
   "source": [
    "# Hyperparameters training for Gaussian Process kernels\n",
    "\n",
    "This code compares the kernel's hyperparameters  trained using 3 codes:\n",
    "* SKlearn\n",
    "* GPy\n",
    "* TFGP - **tfgp_trainer** was written for SLAC National Lab, and uses Tensorflow.   "
   ]
  },
  {
   "cell_type": "code",
   "execution_count": 1,
   "metadata": {},
   "outputs": [],
   "source": [
    "import tensorflow as tf\n",
    "import matplotlib.pyplot as plt\n",
    "import pandas as pd\n",
    "import time\n",
    "import warnings\n",
    "import numpy as np\n",
    "warnings.filterwarnings(\"ignore\")"
   ]
  },
  {
   "cell_type": "markdown",
   "metadata": {},
   "source": [
    "# Load data"
   ]
  },
  {
   "cell_type": "markdown",
   "metadata": {},
   "source": [
    "For this example we load exprimental data from SPEAR3 storage ring at SLAC National Lab.\n",
    "https://www-ssrl.slac.stanford.edu/spear3/\n",
    "\n",
    "* X: Input include 13 controls (quadropole current in [mA]).\n",
    "* Y: Objective includes the beam loss rate [mA/min].\n"
   ]
  },
  {
   "cell_type": "code",
   "execution_count": 10,
   "metadata": {},
   "outputs": [
    {
     "name": "stdout",
     "output_type": "stream",
     "text": [
      "Y.shape (120,) \n",
      "X.shape (120, 13)\n"
     ]
    }
   ],
   "source": [
    "df = pd.read_excel('Data/spear_data.xlsx')\n",
    "X=df.iloc[:,0:13] \n",
    "Y=df['objective']\n",
    "print('Y.shape',Y.shape,'\\nX.shape',X.shape)"
   ]
  },
  {
   "cell_type": "code",
   "execution_count": 13,
   "metadata": {},
   "outputs": [
    {
     "data": {
      "text/plain": [
       "[<matplotlib.lines.Line2D at 0x7fb9a030e940>]"
      ]
     },
     "execution_count": 13,
     "metadata": {},
     "output_type": "execute_result"
    },
    {
     "data": {
      "image/png": "[encoded data removed]",
      "text/plain": [
       "<Figure size 432x288 with 1 Axes>"
      ]
     },
     "metadata": {
      "needs_background": "light"
     },
     "output_type": "display_data"
    }
   ],
   "source": [
    "np.amax(x)\n",
    "plt.plot(y[100:200])"
   ]
  },
  {
   "cell_type": "code",
   "execution_count": 3,
   "metadata": {},
   "outputs": [
    {
     "data": {
      "text/plain": [
       "[<matplotlib.lines.Line2D at 0x7ff5917f5550>]"
      ]
     },
     "execution_count": 3,
     "metadata": {},
     "output_type": "execute_result"
    },
    {
     "data": {
      "image/png": "[encoded data removed]",
      "text/plain": [
       "<Figure size 432x288 with 1 Axes>"
      ]
     },
     "metadata": {
      "needs_background": "light"
     },
     "output_type": "display_data"
    }
   ],
   "source": [
    "plt.plot(x[:,4])"
   ]
  },
  {
   "cell_type": "code",
   "execution_count": 2,
   "metadata": {},
   "outputs": [
    {
     "name": "stdout",
     "output_type": "stream",
     "text": [
      "(600, 6)\n",
      "(600,)\n",
      "Y.shape (600,) \n",
      "X.shape (600, 6)\n"
     ]
    }
   ],
   "source": [
    "# combine the data from linescans and the data from a test GP run\n",
    "\n",
    "x = np.load('Results/Linescans/VGG16_30mrademit+defocus_30mrad_test12_attempt5/OBJ_x.npy')\n",
    "# x = np.concatenate((x, np.load('Obj_x_GPrun.npy')),axis=0)\n",
    "# x = x[0:200, 0:2]\n",
    "print(x.shape)\n",
    "X = pd.DataFrame(x)\n",
    "\n",
    "y = np.load('Results/Linescans/VGG16_30mrademit+defocus_30mrad_test12_attempt5/OBJ_y.npy')\n",
    "# y = y[0:200]\n",
    "# y = np.concatenate((y, np.load('Obj_y_GPrun.npy')),axis=0)\n",
    "print(y.shape)\n",
    "Y = pd.DataFrame(y).squeeze()\n",
    "\n",
    "print('Y.shape',Y.shape,'\\nX.shape',X.shape)"
   ]
  },
  {
   "cell_type": "code",
   "execution_count": 12,
   "metadata": {},
   "outputs": [
    {
     "name": "stdout",
     "output_type": "stream",
     "text": [
      "Y.shape (100,) \n",
      "X.shape (100, 1)\n"
     ]
    }
   ],
   "source": [
    "x = np.load('S2_linescan.npy')\n",
    "X = pd.DataFrame(x)\n",
    "\n",
    "y = np.load('Defocus_linescan.npy')\n",
    "Y = pd.DataFrame(y)\n",
    "Y = pd.DataFrame(y).squeeze()\n",
    "\n",
    "print('Y.shape',Y.shape,'\\nX.shape',X.shape)"
   ]
  },
  {
   "cell_type": "markdown",
   "metadata": {},
   "source": [
    "# Training using TFGP trainer"
   ]
  },
  {
   "cell_type": "code",
   "execution_count": 4,
   "metadata": {},
   "outputs": [
    {
     "data": {
      "text/html": [
       "<div>\n",
       "<style scoped>\n",
       "    .dataframe tbody tr th:only-of-type {\n",
       "        vertical-align: middle;\n",
       "    }\n",
       "\n",
       "    .dataframe tbody tr th {\n",
       "        vertical-align: top;\n",
       "    }\n",
       "\n",
       "    .dataframe thead th {\n",
       "        text-align: right;\n",
       "    }\n",
       "</style>\n",
       "<table border=\"1\" class=\"dataframe\">\n",
       "  <thead>\n",
       "    <tr style=\"text-align: right;\">\n",
       "      <th></th>\n",
       "      <th>0</th>\n",
       "      <th>1</th>\n",
       "      <th>2</th>\n",
       "      <th>3</th>\n",
       "      <th>4</th>\n",
       "      <th>5</th>\n",
       "    </tr>\n",
       "  </thead>\n",
       "  <tbody>\n",
       "    <tr>\n",
       "      <th>0</th>\n",
       "      <td>0.000000</td>\n",
       "      <td>0.505875</td>\n",
       "      <td>0.5</td>\n",
       "      <td>0.494400</td>\n",
       "      <td>0.716538</td>\n",
       "      <td>0.790129</td>\n",
       "    </tr>\n",
       "    <tr>\n",
       "      <th>1</th>\n",
       "      <td>0.010101</td>\n",
       "      <td>0.505875</td>\n",
       "      <td>0.5</td>\n",
       "      <td>0.494400</td>\n",
       "      <td>0.716538</td>\n",
       "      <td>0.790129</td>\n",
       "    </tr>\n",
       "    <tr>\n",
       "      <th>2</th>\n",
       "      <td>0.020202</td>\n",
       "      <td>0.505875</td>\n",
       "      <td>0.5</td>\n",
       "      <td>0.494400</td>\n",
       "      <td>0.716538</td>\n",
       "      <td>0.790129</td>\n",
       "    </tr>\n",
       "    <tr>\n",
       "      <th>3</th>\n",
       "      <td>0.030303</td>\n",
       "      <td>0.505875</td>\n",
       "      <td>0.5</td>\n",
       "      <td>0.494400</td>\n",
       "      <td>0.716538</td>\n",
       "      <td>0.790129</td>\n",
       "    </tr>\n",
       "    <tr>\n",
       "      <th>4</th>\n",
       "      <td>0.040404</td>\n",
       "      <td>0.505875</td>\n",
       "      <td>0.5</td>\n",
       "      <td>0.494400</td>\n",
       "      <td>0.716538</td>\n",
       "      <td>0.790129</td>\n",
       "    </tr>\n",
       "    <tr>\n",
       "      <th>...</th>\n",
       "      <td>...</td>\n",
       "      <td>...</td>\n",
       "      <td>...</td>\n",
       "      <td>...</td>\n",
       "      <td>...</td>\n",
       "      <td>...</td>\n",
       "    </tr>\n",
       "    <tr>\n",
       "      <th>595</th>\n",
       "      <td>0.276787</td>\n",
       "      <td>0.505875</td>\n",
       "      <td>0.5</td>\n",
       "      <td>0.959596</td>\n",
       "      <td>0.716538</td>\n",
       "      <td>0.790129</td>\n",
       "    </tr>\n",
       "    <tr>\n",
       "      <th>596</th>\n",
       "      <td>0.276787</td>\n",
       "      <td>0.505875</td>\n",
       "      <td>0.5</td>\n",
       "      <td>0.969697</td>\n",
       "      <td>0.716538</td>\n",
       "      <td>0.790129</td>\n",
       "    </tr>\n",
       "    <tr>\n",
       "      <th>597</th>\n",
       "      <td>0.276787</td>\n",
       "      <td>0.505875</td>\n",
       "      <td>0.5</td>\n",
       "      <td>0.979798</td>\n",
       "      <td>0.716538</td>\n",
       "      <td>0.790129</td>\n",
       "    </tr>\n",
       "    <tr>\n",
       "      <th>598</th>\n",
       "      <td>0.276787</td>\n",
       "      <td>0.505875</td>\n",
       "      <td>0.5</td>\n",
       "      <td>0.989899</td>\n",
       "      <td>0.716538</td>\n",
       "      <td>0.790129</td>\n",
       "    </tr>\n",
       "    <tr>\n",
       "      <th>599</th>\n",
       "      <td>0.276787</td>\n",
       "      <td>0.505875</td>\n",
       "      <td>0.5</td>\n",
       "      <td>1.000000</td>\n",
       "      <td>0.716538</td>\n",
       "      <td>0.790129</td>\n",
       "    </tr>\n",
       "  </tbody>\n",
       "</table>\n",
       "<p>600 rows × 6 columns</p>\n",
       "</div>"
      ],
      "text/plain": [
       "            0         1    2         3         4         5\n",
       "0    0.000000  0.505875  0.5  0.494400  0.716538  0.790129\n",
       "1    0.010101  0.505875  0.5  0.494400  0.716538  0.790129\n",
       "2    0.020202  0.505875  0.5  0.494400  0.716538  0.790129\n",
       "3    0.030303  0.505875  0.5  0.494400  0.716538  0.790129\n",
       "4    0.040404  0.505875  0.5  0.494400  0.716538  0.790129\n",
       "..        ...       ...  ...       ...       ...       ...\n",
       "595  0.276787  0.505875  0.5  0.959596  0.716538  0.790129\n",
       "596  0.276787  0.505875  0.5  0.969697  0.716538  0.790129\n",
       "597  0.276787  0.505875  0.5  0.979798  0.716538  0.790129\n",
       "598  0.276787  0.505875  0.5  0.989899  0.716538  0.790129\n",
       "599  0.276787  0.505875  0.5  1.000000  0.716538  0.790129\n",
       "\n",
       "[600 rows x 6 columns]"
      ]
     },
     "execution_count": 4,
     "metadata": {},
     "output_type": "execute_result"
    }
   ],
   "source": [
    "X"
   ]
  },
  {
   "cell_type": "code",
   "execution_count": 5,
   "metadata": {},
   "outputs": [],
   "source": [
    "from Modules.tfgp_trainer import tfgp_trainer\n",
    "tf.compat.v1.disable_eager_execution()"
   ]
  },
  {
   "cell_type": "code",
   "execution_count": 6,
   "metadata": {
    "scrolled": false
   },
   "outputs": [
    {
     "name": "stdout",
     "output_type": "stream",
     "text": [
      "WARNING:tensorflow:From /home/chenyu/anaconda3/lib/python3.7/site-packages/tensorflow/python/ops/resource_variable_ops.py:1666: calling BaseResourceVariable.__init__ (from tensorflow.python.ops.resource_variable_ops) with constraint is deprecated and will be removed in a future version.\n",
      "Instructions for updating:\n",
      "If using Keras pass *_constraint arguments to layers.\n"
     ]
    },
    {
     "name": "stderr",
     "output_type": "stream",
     "text": [
      "100% (2000 of 2000) |####################| Elapsed Time: 0:01:25 Time:  0:01:25\n"
     ]
    },
    {
     "name": "stdout",
     "output_type": "stream",
     "text": [
      "took  86.34655475616455  seconds\n"
     ]
    }
   ],
   "source": [
    "Niter = 2000\n",
    "\n",
    "t0 = time.time()\n",
    "tfgp = tfgp_trainer(X, Y,verbose=0)\n",
    "\n",
    "tfgp.train(lr=0.005, \n",
    "           niter=Niter,\n",
    "           optimizer=[tf.compat.v1.train.AdamOptimizer, tf.optimizers.SGD, tf.optimizers.RMSprop][0],\n",
    "           gradient_clipping=0,\n",
    "           kernel=['rbf','matern32','matern52'][0],\n",
    "           correlations = False,\n",
    "           offset = False,\n",
    "           monitor_period=None,\n",
    "           monitor_gradient=None) \n",
    "\n",
    "tfgp_t = time.time()-t0\n",
    "print ('took ',tfgp_t ,' seconds')"
   ]
  },
  {
   "cell_type": "markdown",
   "metadata": {},
   "source": [
    "We can then plot results to see behaviour during the optimization and convergance."
   ]
  },
  {
   "cell_type": "code",
   "execution_count": 7,
   "metadata": {},
   "outputs": [
    {
     "data": {
      "image/png": "[encoded data removed]",
      "text/plain": [
       "<Figure size 1440x576 with 5 Axes>"
      ]
     },
     "metadata": {
      "needs_background": "light"
     },
     "output_type": "display_data"
    },
    {
     "name": "stdout",
     "output_type": "stream",
     "text": [
      "logLiklihod 1668.9519421153261 \n",
      " amp 0.2928136351136734 \n",
      " noise 5.398933927872703e-05 \n",
      " ls [0.2801918  0.34187636 0.45879202 0.34458577 0.23702228 0.1854476 ]\n"
     ]
    }
   ],
   "source": [
    "from Modules.utils import GP_plot_results\n",
    "tfgp_results = GP_plot_results(tfgp,Y)"
   ]
  },
  {
   "cell_type": "markdown",
   "metadata": {},
   "source": [
    "#  Training using SKlearn"
   ]
  },
  {
   "cell_type": "code",
   "execution_count": 8,
   "metadata": {},
   "outputs": [
    {
     "name": "stdout",
     "output_type": "stream",
     "text": [
      "********* \n",
      " rbf\n",
      "took  15.434944868087769  seconds\n",
      "Inital kernel: 3.16**2 * RBF(length_scale=[1, 1, 1, 1, 1, 1]) + WhiteKernel(noise_level=0.01)\n",
      "Learned kernel: 0.541**2 * RBF(length_scale=[0.277, 0.337, 0.456, 0.344, 0.234, 0.185]) + WhiteKernel(noise_level=0.000135)\n",
      "Log-marginal-likelihood: 1671.255\n"
     ]
    }
   ],
   "source": [
    "from Modules.sk_trainer import sk_trainer\n",
    "sk=sk_trainer()\n",
    "sk.sk_train(X, Y, kernels=['rbf'], offset=False, verboseQ=True, saveQ=False)"
   ]
  },
  {
   "cell_type": "markdown",
   "metadata": {},
   "source": [
    "#  Training using to GPy"
   ]
  },
  {
   "cell_type": "code",
   "execution_count": 9,
   "metadata": {},
   "outputs": [
    {
     "name": "stdout",
     "output_type": "stream",
     "text": [
      "********* \n",
      " rbf\n",
      "Optimization restart 1/5, f = -1671.2552987978077\n",
      "Optimization restart 2/5, f = -1671.2552987837557\n",
      "Optimization restart 3/5, f = -1671.2552987730871\n",
      "Optimization restart 4/5, f = -1666.216002658554\n",
      "Optimization restart 5/5, f = -1671.2552977822274\n",
      "took  8.209022283554077  seconds\n",
      "Log-marginal-likelihood: 1671.255\n"
     ]
    }
   ],
   "source": [
    "from Modules.gpy_trainer import gpy_trainer\n",
    "gpy=gpy_trainer()\n",
    "gpy.gpy_train(X, Y[:,None], kernels= ['rbf'], max_iters=5000, offset=False, verboseQ=True, saveQ=False)"
   ]
  },
  {
   "cell_type": "markdown",
   "metadata": {},
   "source": [
    "# Comparison of hyperparameters from all codes"
   ]
  },
  {
   "cell_type": "code",
   "execution_count": 10,
   "metadata": {},
   "outputs": [
    {
     "data": {
      "text/html": [
       "<div>\n",
       "<style scoped>\n",
       "    .dataframe tbody tr th:only-of-type {\n",
       "        vertical-align: middle;\n",
       "    }\n",
       "\n",
       "    .dataframe tbody tr th {\n",
       "        vertical-align: top;\n",
       "    }\n",
       "\n",
       "    .dataframe thead th {\n",
       "        text-align: right;\n",
       "    }\n",
       "</style>\n",
       "<table border=\"1\" class=\"dataframe\">\n",
       "  <thead>\n",
       "    <tr style=\"text-align: right;\">\n",
       "      <th></th>\n",
       "      <th>Param</th>\n",
       "      <th>tfgp</th>\n",
       "      <th>SK</th>\n",
       "      <th>GPy</th>\n",
       "    </tr>\n",
       "  </thead>\n",
       "  <tbody>\n",
       "    <tr>\n",
       "      <th>0</th>\n",
       "      <td>time</td>\n",
       "      <td>86.346555</td>\n",
       "      <td>15.434945</td>\n",
       "      <td>8.209022</td>\n",
       "    </tr>\n",
       "    <tr>\n",
       "      <th>1</th>\n",
       "      <td>negative log likelihood</td>\n",
       "      <td>-1668.951942</td>\n",
       "      <td>1671.255299</td>\n",
       "      <td>1671.255299</td>\n",
       "    </tr>\n",
       "    <tr>\n",
       "      <th>2</th>\n",
       "      <td>amplitude</td>\n",
       "      <td>0.292814</td>\n",
       "      <td>0.292918</td>\n",
       "      <td>0.292910</td>\n",
       "    </tr>\n",
       "    <tr>\n",
       "      <th>3</th>\n",
       "      <td>noise</td>\n",
       "      <td>0.000054</td>\n",
       "      <td>0.000135</td>\n",
       "      <td>0.000067</td>\n",
       "    </tr>\n",
       "    <tr>\n",
       "      <th>4</th>\n",
       "      <td>offset</td>\n",
       "      <td>NaN</td>\n",
       "      <td>NaN</td>\n",
       "      <td>NaN</td>\n",
       "    </tr>\n",
       "  </tbody>\n",
       "</table>\n",
       "</div>"
      ],
      "text/plain": [
       "                     Param         tfgp           SK          GPy\n",
       "0                     time    86.346555    15.434945     8.209022\n",
       "1  negative log likelihood -1668.951942  1671.255299  1671.255299\n",
       "2                amplitude     0.292814     0.292918     0.292910\n",
       "3                    noise     0.000054     0.000135     0.000067\n",
       "4                   offset          NaN          NaN          NaN"
      ]
     },
     "execution_count": 10,
     "metadata": {},
     "output_type": "execute_result"
    }
   ],
   "source": [
    "# collect the results into a pandas dataframe to display\n",
    "pd.DataFrame({\"Param\": ['time','negative log likelihood', 'amplitude', 'noise', 'offset'],\n",
    "              \"tfgp\": [tfgp_t, tfgp_results['ll'], tfgp_results['amp_param'], tfgp_results['noise_param_variance'] , tfgp_results['offset_param']],\n",
    "              \"SK\": [sk.sk_t, sk.results['ll'], sk.results['amp_param'], sk.results['noise_param_variance'] , sk.results['offset_param']],\n",
    "              \"GPy\": [gpy.gpy_t, gpy.results['ll'], gpy.results['amp_param'], gpy.results['noise_param_variance'] , gpy.results['offset_param']],\n",
    "             })\n"
   ]
  },
  {
   "cell_type": "code",
   "execution_count": 11,
   "metadata": {},
   "outputs": [
    {
     "name": "stdout",
     "output_type": "stream",
     "text": [
      "Lengthscales Comparison\n"
     ]
    },
    {
     "data": {
      "text/html": [
       "<div>\n",
       "<style scoped>\n",
       "    .dataframe tbody tr th:only-of-type {\n",
       "        vertical-align: middle;\n",
       "    }\n",
       "\n",
       "    .dataframe tbody tr th {\n",
       "        vertical-align: top;\n",
       "    }\n",
       "\n",
       "    .dataframe thead th {\n",
       "        text-align: right;\n",
       "    }\n",
       "</style>\n",
       "<table border=\"1\" class=\"dataframe\">\n",
       "  <thead>\n",
       "    <tr style=\"text-align: right;\">\n",
       "      <th></th>\n",
       "      <th></th>\n",
       "      <th>tfgp</th>\n",
       "      <th>SK</th>\n",
       "      <th>GPy</th>\n",
       "    </tr>\n",
       "  </thead>\n",
       "  <tbody>\n",
       "    <tr>\n",
       "      <th>0</th>\n",
       "      <td>0</td>\n",
       "      <td>0.280192</td>\n",
       "      <td>0.276946</td>\n",
       "      <td>0.276944</td>\n",
       "    </tr>\n",
       "    <tr>\n",
       "      <th>1</th>\n",
       "      <td>1</td>\n",
       "      <td>0.341876</td>\n",
       "      <td>0.336612</td>\n",
       "      <td>0.336611</td>\n",
       "    </tr>\n",
       "    <tr>\n",
       "      <th>2</th>\n",
       "      <td>2</td>\n",
       "      <td>0.458792</td>\n",
       "      <td>0.456032</td>\n",
       "      <td>0.456033</td>\n",
       "    </tr>\n",
       "    <tr>\n",
       "      <th>3</th>\n",
       "      <td>3</td>\n",
       "      <td>0.344586</td>\n",
       "      <td>0.344018</td>\n",
       "      <td>0.344017</td>\n",
       "    </tr>\n",
       "    <tr>\n",
       "      <th>4</th>\n",
       "      <td>4</td>\n",
       "      <td>0.237022</td>\n",
       "      <td>0.233698</td>\n",
       "      <td>0.233696</td>\n",
       "    </tr>\n",
       "    <tr>\n",
       "      <th>5</th>\n",
       "      <td>5</td>\n",
       "      <td>0.185448</td>\n",
       "      <td>0.185148</td>\n",
       "      <td>0.185146</td>\n",
       "    </tr>\n",
       "  </tbody>\n",
       "</table>\n",
       "</div>"
      ],
      "text/plain": [
       "          tfgp        SK       GPy\n",
       "0  0  0.280192  0.276946  0.276944\n",
       "1  1  0.341876  0.336612  0.336611\n",
       "2  2  0.458792  0.456032  0.456033\n",
       "3  3  0.344586  0.344018  0.344017\n",
       "4  4  0.237022  0.233698  0.233696\n",
       "5  5  0.185448  0.185148  0.185146"
      ]
     },
     "execution_count": 11,
     "metadata": {},
     "output_type": "execute_result"
    }
   ],
   "source": [
    "print('Lengthscales Comparison')\n",
    "pd.DataFrame({\"\": X.keys(),\n",
    "#               \"Param\":['HP','HP diff','S6','S7','OBJ','S3','S4'],\n",
    "              \"tfgp\": tfgp_results['length_scale_param'],\n",
    "              \"SK\": sk.results['length_scale_param'] ,\n",
    "              \"GPy\": gpy.results['length_scale_param']\n",
    "             })"
   ]
  },
  {
   "cell_type": "code",
   "execution_count": null,
   "metadata": {},
   "outputs": [],
   "source": [
    "df.to_csv('out.csv', index=False)"
   ]
  },
  {
   "cell_type": "code",
   "execution_count": null,
   "metadata": {},
   "outputs": [],
   "source": []
  }
 ],
 "metadata": {
  "kernelspec": {
   "display_name": "Python 3",
   "language": "python",
   "name": "python3"
  },
  "language_info": {
   "codemirror_mode": {
    "name": "ipython",
    "version": 3
   },
   "file_extension": ".py",
   "mimetype": "text/x-python",
   "name": "python",
   "nbconvert_exporter": "python",
   "pygments_lexer": "ipython3",
   "version": "3.7.3"
  }
 },
 "nbformat": 4,
 "nbformat_minor": 4
}
