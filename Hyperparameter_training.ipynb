{
 "cells": [
  {
   "cell_type": "markdown",
   "metadata": {},
   "source": [
    "# Hyperparameters training for Gaussian Process kernels\n",
    "\n",
    "This code compares the kernel's hyperparameters  trained using 3 codes:\n",
    "* SKlearn\n",
    "* GPy\n",
    "* TFGP - **tfgp_trainer** was written for SLAC National Lab, and uses Tensorflow.   "
   ]
  },
  {
   "cell_type": "code",
   "execution_count": 2,
   "metadata": {},
   "outputs": [],
   "source": [
    "import tensorflow as tf\n",
    "import matplotlib.pyplot as plt\n",
    "import pandas as pd\n",
    "import time\n",
    "import warnings\n",
    "import numpy as np\n",
    "warnings.filterwarnings(\"ignore\")"
   ]
  },
  {
   "cell_type": "markdown",
   "metadata": {},
   "source": [
    "# Load data"
   ]
  },
  {
   "cell_type": "markdown",
   "metadata": {},
   "source": [
    "For this example we load exprimental data from SPEAR3 storage ring at SLAC National Lab.\n",
    "https://www-ssrl.slac.stanford.edu/spear3/\n",
    "\n",
    "* X: Input include 13 controls (quadropole current in [mA]).\n",
    "* Y: Objective includes the beam loss rate [mA/min].\n"
   ]
  },
  {
   "cell_type": "code",
   "execution_count": 10,
   "metadata": {},
   "outputs": [
    {
     "name": "stdout",
     "output_type": "stream",
     "text": [
      "Y.shape (120,) \n",
      "X.shape (120, 13)\n"
     ]
    }
   ],
   "source": [
    "df = pd.read_excel('Data/spear_data.xlsx')\n",
    "X=df.iloc[:,0:13] \n",
    "Y=df['objective']\n",
    "print('Y.shape',Y.shape,'\\nX.shape',X.shape)"
   ]
  },
  {
   "cell_type": "code",
   "execution_count": 43,
   "metadata": {},
   "outputs": [
    {
     "data": {
      "text/plain": [
       "[<matplotlib.lines.Line2D at 0x7f6654482d30>]"
      ]
     },
     "execution_count": 43,
     "metadata": {},
     "output_type": "execute_result"
    },
    {
     "data": {
      "image/png": "[encoded data removed]",
      "text/plain": [
       "<Figure size 432x288 with 1 Axes>"
      ]
     },
     "metadata": {
      "needs_background": "light"
     },
     "output_type": "display_data"
    }
   ],
   "source": [
    "np.amax(x)\n",
    "plt.plot(y)"
   ]
  },
  {
   "cell_type": "code",
   "execution_count": 14,
   "metadata": {},
   "outputs": [
    {
     "name": "stdout",
     "output_type": "stream",
     "text": [
      "(600, 6)\n",
      "(600,)\n",
      "Y.shape (600,) \n",
      "X.shape (600, 6)\n"
     ]
    }
   ],
   "source": [
    "# combine the data from linescans and the data from a test GP run\n",
    "\n",
    "x = np.load('OBJ_x.npy')\n",
    "# x = np.concatenate((x, np.load('Obj_x_GPrun.npy')),axis=0)\n",
    "# x = x[0:200, 0:2]\n",
    "print(x.shape)\n",
    "X = pd.DataFrame(x)\n",
    "\n",
    "y = np.load('OBJ_y.npy')\n",
    "# y = y[0:200]\n",
    "# y = np.concatenate((y, np.load('Obj_y_GPrun.npy')),axis=0)\n",
    "print(y.shape)\n",
    "Y = pd.DataFrame(y).squeeze()\n",
    "\n",
    "print('Y.shape',Y.shape,'\\nX.shape',X.shape)"
   ]
  },
  {
   "cell_type": "code",
   "execution_count": 13,
   "metadata": {},
   "outputs": [
    {
     "name": "stdout",
     "output_type": "stream",
     "text": [
      "Y.shape (100,) \n",
      "X.shape (100, 1)\n"
     ]
    }
   ],
   "source": [
    "x = np.load('S2_linescan.npy')\n",
    "X = pd.DataFrame(x)\n",
    "\n",
    "y = np.load('Defocus_linescan.npy')\n",
    "Y = pd.DataFrame(y)\n",
    "Y = pd.DataFrame(y).squeeze()\n",
    "\n",
    "print('Y.shape',Y.shape,'\\nX.shape',X.shape)"
   ]
  },
  {
   "cell_type": "markdown",
   "metadata": {},
   "source": [
    "# Training using TFGP trainer"
   ]
  },
  {
   "cell_type": "code",
   "execution_count": 15,
   "metadata": {},
   "outputs": [
    {
     "data": {
      "text/html": [
       "<div>\n",
       "<style scoped>\n",
       "    .dataframe tbody tr th:only-of-type {\n",
       "        vertical-align: middle;\n",
       "    }\n",
       "\n",
       "    .dataframe tbody tr th {\n",
       "        vertical-align: top;\n",
       "    }\n",
       "\n",
       "    .dataframe thead th {\n",
       "        text-align: right;\n",
       "    }\n",
       "</style>\n",
       "<table border=\"1\" class=\"dataframe\">\n",
       "  <thead>\n",
       "    <tr style=\"text-align: right;\">\n",
       "      <th></th>\n",
       "      <th>0</th>\n",
       "      <th>1</th>\n",
       "      <th>2</th>\n",
       "      <th>3</th>\n",
       "      <th>4</th>\n",
       "      <th>5</th>\n",
       "    </tr>\n",
       "  </thead>\n",
       "  <tbody>\n",
       "    <tr>\n",
       "      <th>0</th>\n",
       "      <td>0.000000</td>\n",
       "      <td>0.505875</td>\n",
       "      <td>0.5</td>\n",
       "      <td>0.236000</td>\n",
       "      <td>0.716538</td>\n",
       "      <td>0.790129</td>\n",
       "    </tr>\n",
       "    <tr>\n",
       "      <th>1</th>\n",
       "      <td>0.010101</td>\n",
       "      <td>0.505875</td>\n",
       "      <td>0.5</td>\n",
       "      <td>0.236000</td>\n",
       "      <td>0.716538</td>\n",
       "      <td>0.790129</td>\n",
       "    </tr>\n",
       "    <tr>\n",
       "      <th>2</th>\n",
       "      <td>0.020202</td>\n",
       "      <td>0.505875</td>\n",
       "      <td>0.5</td>\n",
       "      <td>0.236000</td>\n",
       "      <td>0.716538</td>\n",
       "      <td>0.790129</td>\n",
       "    </tr>\n",
       "    <tr>\n",
       "      <th>3</th>\n",
       "      <td>0.030303</td>\n",
       "      <td>0.505875</td>\n",
       "      <td>0.5</td>\n",
       "      <td>0.236000</td>\n",
       "      <td>0.716538</td>\n",
       "      <td>0.790129</td>\n",
       "    </tr>\n",
       "    <tr>\n",
       "      <th>4</th>\n",
       "      <td>0.040404</td>\n",
       "      <td>0.505875</td>\n",
       "      <td>0.5</td>\n",
       "      <td>0.236000</td>\n",
       "      <td>0.716538</td>\n",
       "      <td>0.790129</td>\n",
       "    </tr>\n",
       "    <tr>\n",
       "      <th>...</th>\n",
       "      <td>...</td>\n",
       "      <td>...</td>\n",
       "      <td>...</td>\n",
       "      <td>...</td>\n",
       "      <td>...</td>\n",
       "      <td>...</td>\n",
       "    </tr>\n",
       "    <tr>\n",
       "      <th>595</th>\n",
       "      <td>0.276787</td>\n",
       "      <td>0.505875</td>\n",
       "      <td>0.5</td>\n",
       "      <td>0.959596</td>\n",
       "      <td>0.716538</td>\n",
       "      <td>0.790129</td>\n",
       "    </tr>\n",
       "    <tr>\n",
       "      <th>596</th>\n",
       "      <td>0.276787</td>\n",
       "      <td>0.505875</td>\n",
       "      <td>0.5</td>\n",
       "      <td>0.969697</td>\n",
       "      <td>0.716538</td>\n",
       "      <td>0.790129</td>\n",
       "    </tr>\n",
       "    <tr>\n",
       "      <th>597</th>\n",
       "      <td>0.276787</td>\n",
       "      <td>0.505875</td>\n",
       "      <td>0.5</td>\n",
       "      <td>0.979798</td>\n",
       "      <td>0.716538</td>\n",
       "      <td>0.790129</td>\n",
       "    </tr>\n",
       "    <tr>\n",
       "      <th>598</th>\n",
       "      <td>0.276787</td>\n",
       "      <td>0.505875</td>\n",
       "      <td>0.5</td>\n",
       "      <td>0.989899</td>\n",
       "      <td>0.716538</td>\n",
       "      <td>0.790129</td>\n",
       "    </tr>\n",
       "    <tr>\n",
       "      <th>599</th>\n",
       "      <td>0.276787</td>\n",
       "      <td>0.505875</td>\n",
       "      <td>0.5</td>\n",
       "      <td>1.000000</td>\n",
       "      <td>0.716538</td>\n",
       "      <td>0.790129</td>\n",
       "    </tr>\n",
       "  </tbody>\n",
       "</table>\n",
       "<p>600 rows × 6 columns</p>\n",
       "</div>"
      ],
      "text/plain": [
       "            0         1    2         3         4         5\n",
       "0    0.000000  0.505875  0.5  0.236000  0.716538  0.790129\n",
       "1    0.010101  0.505875  0.5  0.236000  0.716538  0.790129\n",
       "2    0.020202  0.505875  0.5  0.236000  0.716538  0.790129\n",
       "3    0.030303  0.505875  0.5  0.236000  0.716538  0.790129\n",
       "4    0.040404  0.505875  0.5  0.236000  0.716538  0.790129\n",
       "..        ...       ...  ...       ...       ...       ...\n",
       "595  0.276787  0.505875  0.5  0.959596  0.716538  0.790129\n",
       "596  0.276787  0.505875  0.5  0.969697  0.716538  0.790129\n",
       "597  0.276787  0.505875  0.5  0.979798  0.716538  0.790129\n",
       "598  0.276787  0.505875  0.5  0.989899  0.716538  0.790129\n",
       "599  0.276787  0.505875  0.5  1.000000  0.716538  0.790129\n",
       "\n",
       "[600 rows x 6 columns]"
      ]
     },
     "execution_count": 15,
     "metadata": {},
     "output_type": "execute_result"
    }
   ],
   "source": [
    "X"
   ]
  },
  {
   "cell_type": "code",
   "execution_count": 16,
   "metadata": {},
   "outputs": [],
   "source": [
    "from Modules.tfgp_trainer import tfgp_trainer\n",
    "tf.compat.v1.disable_eager_execution()"
   ]
  },
  {
   "cell_type": "code",
   "execution_count": 17,
   "metadata": {
    "scrolled": false
   },
   "outputs": [
    {
     "name": "stderr",
     "output_type": "stream",
     "text": [
      "100% (2000 of 2000) |####################| Elapsed Time: 0:01:19 Time:  0:01:19\n"
     ]
    },
    {
     "name": "stdout",
     "output_type": "stream",
     "text": [
      "took  80.12329053878784  seconds\n"
     ]
    }
   ],
   "source": [
    "Niter = 2000\n",
    "\n",
    "t0 = time.time()\n",
    "tfgp = tfgp_trainer(X, Y,verbose=0)\n",
    "\n",
    "tfgp.train(lr=0.005, \n",
    "           niter=Niter,\n",
    "           optimizer=[tf.compat.v1.train.AdamOptimizer, tf.optimizers.SGD, tf.optimizers.RMSprop][0],\n",
    "           gradient_clipping=0,\n",
    "           kernel=['rbf','matern32','matern52'][0],\n",
    "           correlations = False,\n",
    "           offset = False,\n",
    "           monitor_period=None,\n",
    "           monitor_gradient=None) \n",
    "\n",
    "tfgp_t = time.time()-t0\n",
    "print ('took ',tfgp_t ,' seconds')"
   ]
  },
  {
   "cell_type": "markdown",
   "metadata": {},
   "source": [
    "We can then plot results to see behaviour during the optimization and convergance."
   ]
  },
  {
   "cell_type": "code",
   "execution_count": 18,
   "metadata": {},
   "outputs": [
    {
     "data": {
      "image/png": "[encoded data removed]",
      "text/plain": [
       "<Figure size 1440x576 with 5 Axes>"
      ]
     },
     "metadata": {
      "needs_background": "light"
     },
     "output_type": "display_data"
    },
    {
     "name": "stdout",
     "output_type": "stream",
     "text": [
      "logLiklihod 1306.7369495832675 \n",
      " amp 0.18702807815833686 \n",
      " noise 0.0004139426719668087 \n",
      " ls [0.4213512  1.11157576 0.25935817 4.82635887 0.14760722 0.12465907]\n"
     ]
    }
   ],
   "source": [
    "from Modules.utils import GP_plot_results\n",
    "tfgp_results = GP_plot_results(tfgp,Y)"
   ]
  },
  {
   "cell_type": "markdown",
   "metadata": {},
   "source": [
    "#  Training using SKlearn"
   ]
  },
  {
   "cell_type": "code",
   "execution_count": 19,
   "metadata": {},
   "outputs": [
    {
     "name": "stdout",
     "output_type": "stream",
     "text": [
      "********* \n",
      " rbf\n",
      "took  13.784071922302246  seconds\n",
      "Inital kernel: 3.16**2 * RBF(length_scale=[1, 1, 1, 1, 1, 1]) + WhiteKernel(noise_level=0.01)\n",
      "Learned kernel: 0.432**2 * RBF(length_scale=[0.421, 1.11, 0.259, 4.83, 0.148, 0.125]) + WhiteKernel(noise_level=0.000514)\n",
      "Log-marginal-likelihood: 1306.737\n"
     ]
    }
   ],
   "source": [
    "from Modules.sk_trainer import sk_trainer\n",
    "sk=sk_trainer()\n",
    "sk.sk_train(X, Y, kernels=['rbf'], offset=False, verboseQ=True, saveQ=False)"
   ]
  },
  {
   "cell_type": "markdown",
   "metadata": {},
   "source": [
    "#  Training using to GPy"
   ]
  },
  {
   "cell_type": "code",
   "execution_count": 20,
   "metadata": {},
   "outputs": [
    {
     "name": "stdout",
     "output_type": "stream",
     "text": [
      "********* \n",
      " rbf\n",
      "Optimization restart 1/5, f = -1306.7369412765906\n",
      "Optimization restart 2/5, f = -1306.736941258331\n",
      "Optimization restart 3/5, f = -1306.7369412508176\n",
      "Optimization restart 4/5, f = -1303.0187578869122\n",
      "Optimization restart 5/5, f = -1306.7369410394629\n",
      "took  10.776237487792969  seconds\n",
      "Log-marginal-likelihood: 1306.737\n"
     ]
    }
   ],
   "source": [
    "from Modules.gpy_trainer import gpy_trainer\n",
    "gpy=gpy_trainer()\n",
    "gpy.gpy_train(X, Y[:,None], kernels= ['rbf'], max_iters=5000, offset=False, verboseQ=True, saveQ=False)"
   ]
  },
  {
   "cell_type": "markdown",
   "metadata": {},
   "source": [
    "# Comparison of hyperparameters from all codes"
   ]
  },
  {
   "cell_type": "code",
   "execution_count": 21,
   "metadata": {},
   "outputs": [
    {
     "data": {
      "text/html": [
       "<div>\n",
       "<style scoped>\n",
       "    .dataframe tbody tr th:only-of-type {\n",
       "        vertical-align: middle;\n",
       "    }\n",
       "\n",
       "    .dataframe tbody tr th {\n",
       "        vertical-align: top;\n",
       "    }\n",
       "\n",
       "    .dataframe thead th {\n",
       "        text-align: right;\n",
       "    }\n",
       "</style>\n",
       "<table border=\"1\" class=\"dataframe\">\n",
       "  <thead>\n",
       "    <tr style=\"text-align: right;\">\n",
       "      <th></th>\n",
       "      <th>Param</th>\n",
       "      <th>tfgp</th>\n",
       "      <th>SK</th>\n",
       "      <th>GPy</th>\n",
       "    </tr>\n",
       "  </thead>\n",
       "  <tbody>\n",
       "    <tr>\n",
       "      <th>0</th>\n",
       "      <td>time</td>\n",
       "      <td>80.123291</td>\n",
       "      <td>13.784072</td>\n",
       "      <td>10.776237</td>\n",
       "    </tr>\n",
       "    <tr>\n",
       "      <th>1</th>\n",
       "      <td>negative log likelihood</td>\n",
       "      <td>-1306.736950</td>\n",
       "      <td>1306.736941</td>\n",
       "      <td>1306.736941</td>\n",
       "    </tr>\n",
       "    <tr>\n",
       "      <th>2</th>\n",
       "      <td>amplitude</td>\n",
       "      <td>0.187028</td>\n",
       "      <td>0.187034</td>\n",
       "      <td>0.187029</td>\n",
       "    </tr>\n",
       "    <tr>\n",
       "      <th>3</th>\n",
       "      <td>noise</td>\n",
       "      <td>0.000414</td>\n",
       "      <td>0.000514</td>\n",
       "      <td>0.000257</td>\n",
       "    </tr>\n",
       "    <tr>\n",
       "      <th>4</th>\n",
       "      <td>offset</td>\n",
       "      <td>NaN</td>\n",
       "      <td>NaN</td>\n",
       "      <td>NaN</td>\n",
       "    </tr>\n",
       "  </tbody>\n",
       "</table>\n",
       "</div>"
      ],
      "text/plain": [
       "                     Param         tfgp           SK          GPy\n",
       "0                     time    80.123291    13.784072    10.776237\n",
       "1  negative log likelihood -1306.736950  1306.736941  1306.736941\n",
       "2                amplitude     0.187028     0.187034     0.187029\n",
       "3                    noise     0.000414     0.000514     0.000257\n",
       "4                   offset          NaN          NaN          NaN"
      ]
     },
     "execution_count": 21,
     "metadata": {},
     "output_type": "execute_result"
    }
   ],
   "source": [
    "# collect the results into a pandas dataframe to display\n",
    "pd.DataFrame({\"Param\": ['time','negative log likelihood', 'amplitude', 'noise', 'offset'],\n",
    "              \"tfgp\": [tfgp_t, tfgp_results['ll'], tfgp_results['amp_param'], tfgp_results['noise_param_variance'] , tfgp_results['offset_param']],\n",
    "              \"SK\": [sk.sk_t, sk.results['ll'], sk.results['amp_param'], sk.results['noise_param_variance'] , sk.results['offset_param']],\n",
    "              \"GPy\": [gpy.gpy_t, gpy.results['ll'], gpy.results['amp_param'], gpy.results['noise_param_variance'] , gpy.results['offset_param']],\n",
    "             })\n"
   ]
  },
  {
   "cell_type": "code",
   "execution_count": 22,
   "metadata": {},
   "outputs": [
    {
     "name": "stdout",
     "output_type": "stream",
     "text": [
      "Lengthscales Comparison\n"
     ]
    },
    {
     "data": {
      "text/html": [
       "<div>\n",
       "<style scoped>\n",
       "    .dataframe tbody tr th:only-of-type {\n",
       "        vertical-align: middle;\n",
       "    }\n",
       "\n",
       "    .dataframe tbody tr th {\n",
       "        vertical-align: top;\n",
       "    }\n",
       "\n",
       "    .dataframe thead th {\n",
       "        text-align: right;\n",
       "    }\n",
       "</style>\n",
       "<table border=\"1\" class=\"dataframe\">\n",
       "  <thead>\n",
       "    <tr style=\"text-align: right;\">\n",
       "      <th></th>\n",
       "      <th></th>\n",
       "      <th>tfgp</th>\n",
       "      <th>SK</th>\n",
       "      <th>GPy</th>\n",
       "    </tr>\n",
       "  </thead>\n",
       "  <tbody>\n",
       "    <tr>\n",
       "      <th>0</th>\n",
       "      <td>0</td>\n",
       "      <td>0.421351</td>\n",
       "      <td>0.421351</td>\n",
       "      <td>0.421345</td>\n",
       "    </tr>\n",
       "    <tr>\n",
       "      <th>1</th>\n",
       "      <td>1</td>\n",
       "      <td>1.111576</td>\n",
       "      <td>1.111659</td>\n",
       "      <td>1.111598</td>\n",
       "    </tr>\n",
       "    <tr>\n",
       "      <th>2</th>\n",
       "      <td>2</td>\n",
       "      <td>0.259358</td>\n",
       "      <td>0.259351</td>\n",
       "      <td>0.259357</td>\n",
       "    </tr>\n",
       "    <tr>\n",
       "      <th>3</th>\n",
       "      <td>3</td>\n",
       "      <td>4.826359</td>\n",
       "      <td>4.826178</td>\n",
       "      <td>4.826414</td>\n",
       "    </tr>\n",
       "    <tr>\n",
       "      <th>4</th>\n",
       "      <td>4</td>\n",
       "      <td>0.147607</td>\n",
       "      <td>0.147604</td>\n",
       "      <td>0.147604</td>\n",
       "    </tr>\n",
       "    <tr>\n",
       "      <th>5</th>\n",
       "      <td>5</td>\n",
       "      <td>0.124659</td>\n",
       "      <td>0.124656</td>\n",
       "      <td>0.124657</td>\n",
       "    </tr>\n",
       "  </tbody>\n",
       "</table>\n",
       "</div>"
      ],
      "text/plain": [
       "          tfgp        SK       GPy\n",
       "0  0  0.421351  0.421351  0.421345\n",
       "1  1  1.111576  1.111659  1.111598\n",
       "2  2  0.259358  0.259351  0.259357\n",
       "3  3  4.826359  4.826178  4.826414\n",
       "4  4  0.147607  0.147604  0.147604\n",
       "5  5  0.124659  0.124656  0.124657"
      ]
     },
     "execution_count": 22,
     "metadata": {},
     "output_type": "execute_result"
    }
   ],
   "source": [
    "print('Lengthscales Comparison')\n",
    "pd.DataFrame({\"\": X.keys(),\n",
    "#               \"Param\":['HP','HP diff','S6','S7','OBJ','S3','S4'],\n",
    "              \"tfgp\": tfgp_results['length_scale_param'],\n",
    "              \"SK\": sk.results['length_scale_param'] ,\n",
    "              \"GPy\": gpy.results['length_scale_param']\n",
    "             })"
   ]
  },
  {
   "cell_type": "code",
   "execution_count": null,
   "metadata": {},
   "outputs": [],
   "source": [
    "df.to_csv('out.csv', index=False)"
   ]
  },
  {
   "cell_type": "code",
   "execution_count": null,
   "metadata": {},
   "outputs": [],
   "source": []
  }
 ],
 "metadata": {
  "kernelspec": {
   "display_name": "Python 3",
   "language": "python",
   "name": "python3"
  },
  "language_info": {
   "codemirror_mode": {
    "name": "ipython",
    "version": 3
   },
   "file_extension": ".py",
   "mimetype": "text/x-python",
   "name": "python",
   "nbconvert_exporter": "python",
   "pygments_lexer": "ipython3",
   "version": "3.7.3"
  }
 },
 "nbformat": 4,
 "nbformat_minor": 4
}
